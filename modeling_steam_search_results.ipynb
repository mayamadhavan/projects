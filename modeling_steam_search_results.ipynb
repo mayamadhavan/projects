{
 "cells": [
  {
   "attachments": {},
   "cell_type": "markdown",
   "metadata": {},
   "source": [
    "# Layout:\n",
    "\n",
    "1.\tImport Packages/Libraries\n",
    "2.\tRead Dataset From Scrape\n",
    "3.\tClean Data and add Dummy Variables\n",
    "    + Remove Duplicate Values\n",
    "    + Set Column Value Types from Object to Regression-Friendly Values\n",
    "    + Turn Categorical Data into 0//1 Variables\n",
    "    + Drop Movies/Anime\n",
    "4.\tSplit Data into Train and Test Sets\n",
    "    + Split Dependent and Independent Variables\n",
    "    + Make Train/Test Datasets and Turn Training into a DataFrame\n",
    "    + Remove Outliers from Training Set\n",
    "    + Further Split Train Set into 10 Folds\n",
    "5.\tExploratory Data Analysis (EDA) on Train Data\n",
    "    + Pairplots of All Variables\n",
    "    + Correlations\n",
    "6.\tBase OLS Model on Original Train Data\n",
    "    + OLS Fit and Summary\n",
    "    + K-Fold Validation\n",
    "    + Plot Prediction vs Actual\n",
    "7.\tDiagnostic Plots on Base Model\n",
    "    + Residuals vs Fitted\n",
    "    + Normal Q-Q\n",
    "    + Scale-Location\n",
    "    + Residuals vs Leverage\n",
    "8.\tRescale Data As Needed\n",
    "    + Log and Plot Dependent\n",
    "    + Attempt Boxcox Transformations and Plot- Ignore Results\n",
    "9.\tEDA on Scaled Data\n",
    "10.\tRegression on Logged Values\n",
    "    + Drop Multicollinear Elements\n",
    "    + Run OLS Fit and Summary\n",
    "    + Run K-Fold CV\n",
    "    + **Plot Prediction vs Actual**\n",
    "11.\tDiagnostic Plots on Updated Train Data\n",
    "    + Residuals vs Fitted\n",
    "    + Normal Q-Q\n",
    "    + Scale-Location\n",
    "    + Residuals vs Leverage\n",
    "12.\t**Polynomial Features**\n",
    "13.\tCompare Linear and More Complicated Models’ R2 Scores\n",
    "    + Make Function to Compare with Previously Made K-Folds\n",
    "    + Run Comparison on Train Data\n",
    "    + Run on Modified Data\n",
    "14.\tCheck Inputs of Best Model on Entire Train Data to Maximize R2 and Minimize Overfitting\n",
    "15.\tRun “Best” Model on Entire Testing Data (Holdout Set)\n",
    "16.\tPlot Final Results"
   ]
  },
  {
   "cell_type": "markdown",
   "metadata": {},
   "source": [
    "# Mass Importation"
   ]
  },
  {
   "cell_type": "code",
   "execution_count": null,
   "metadata": {
    "scrolled": true
   },
   "outputs": [],
   "source": [
    "import pandas as pd\n",
    "import numpy as np\n",
    "import dateutil.parser\n",
    "from datetime import date\n",
    "import re\n",
    "\n",
    "from bs4 import BeautifulSoup\n",
    "import requests\n",
    "from selenium import webdriver\n",
    "from selenium.webdriver.common.keys import Keys\n",
    "import time\n",
    "import os\n",
    "\n",
    "import seaborn as sns\n",
    "import matplotlib.pyplot as plt\n",
    "\n",
    "import statsmodels.api as sm\n",
    "import statsmodels.formula.api as smf\n",
    "import patsy\n",
    "from sklearn.linear_model import LinearRegression\n",
    "from sklearn.linear_model import Lasso\n",
    "from sklearn.cross_validation import cross_val_score\n",
    "from sklearn.cross_validation import train_test_split, KFold\n",
    "from sklearn.metrics import mean_squared_error\n",
    "from sklearn import preprocessing\n",
    "from scipy import stats\n",
    "from sklearn import linear_model,ensemble, tree, model_selection, datasets\n",
    "from sklearn.preprocessing import PolynomialFeatures\n",
    "from sklearn.pipeline import make_pipeline\n",
    "\n",
    "import diagnostic_plots\n",
    "\n",
    "import pickle\n",
    "import time"
   ]
  },
  {
   "cell_type": "markdown",
   "metadata": {},
   "source": [
    "# Read Dataset from Scrape"
   ]
  },
  {
   "cell_type": "code",
   "execution_count": null,
   "metadata": {
    "scrolled": true
   },
   "outputs": [],
   "source": [
    "df=pd.read_csv('steam3.csv')\n",
    "del(df['Unnamed: 0'])\n",
    "df.set_index('title', inplace=True)\n",
    "df.head()"
   ]
  },
  {
   "cell_type": "markdown",
   "metadata": {},
   "source": [
    "# Clean Data and Add Dummy Variables"
   ]
  },
  {
   "cell_type": "markdown",
   "metadata": {},
   "source": [
    "## Remove Duplicates"
   ]
  },
  {
   "cell_type": "code",
   "execution_count": null,
   "metadata": {
    "scrolled": true
   },
   "outputs": [],
   "source": [
    "no_dup_df = df[~df.index.duplicated(keep='first')]"
   ]
  },
  {
   "cell_type": "markdown",
   "metadata": {},
   "source": [
    "## Set Column Value Types"
   ]
  },
  {
   "cell_type": "code",
   "execution_count": null,
   "metadata": {
    "scrolled": true
   },
   "outputs": [],
   "source": [
    "no_dup_df['system'] = no_dup_df.system.astype(int)\n",
    "no_dup_df['reviews'] = no_dup_df.reviews.astype(int)\n",
    "no_dup_df['release_date'] = no_dup_df.release_date.astype(int)\n",
    "no_dup_df['discount'] = no_dup_df.discount.astype(int)\n",
    "no_dup_df['price'] = no_dup_df.price.astype(float)\n",
    "no_dup_df['systems'] = no_dup_df.systems.astype(list)"
   ]
  },
  {
   "cell_type": "markdown",
   "metadata": {},
   "source": [
    "## Windows, Mac, Linux -> Dummy Variables"
   ]
  },
  {
   "cell_type": "code",
   "execution_count": null,
   "metadata": {
    "scrolled": true
   },
   "outputs": [],
   "source": [
    "windows=[1 if 'win' in item else 0 for item in no_dup_df.systems]\n",
    "mac=[1 if 'mac' in item else 0 for item in no_dup_df.systems]\n",
    "linux=[1 if 'linux' in item else 0 for item in no_dup_df.systems]"
   ]
  },
  {
   "cell_type": "code",
   "execution_count": null,
   "metadata": {
    "scrolled": true
   },
   "outputs": [],
   "source": [
    "no_dup_df['windows']=windows\n",
    "no_dup_df['mac']=mac\n",
    "no_dup_df['linux']=linux"
   ]
  },
  {
   "cell_type": "code",
   "execution_count": null,
   "metadata": {
    "scrolled": true
   },
   "outputs": [],
   "source": [
    "no_dup_df['windows'] = no_dup_df.windows.astype(int)\n",
    "no_dup_df['mac'] = no_dup_df.mac.astype(int)\n",
    "no_dup_df['linux'] = no_dup_df.linux.astype(int)\n",
    "#no_dup_df.info()"
   ]
  },
  {
   "cell_type": "markdown",
   "metadata": {},
   "source": [
    "## Drop Streaming Videos"
   ]
  },
  {
   "cell_type": "code",
   "execution_count": null,
   "metadata": {
    "scrolled": true
   },
   "outputs": [],
   "source": [
    "movies=[]\n",
    "for i in range(len(no_dup_df['systems'])):\n",
    "    element=(no_dup_df['systems'][i])\n",
    "    if 'win' not in element and 'mac' not in element and 'linux' not in element:\n",
    "        movies.append(1)\n",
    "    else:\n",
    "        movies.append(0)\n",
    "no_dup_df['movies']=movies\n",
    "no_dup_df = no_dup_df[no_dup_df.movies != 1]\n",
    "del(no_dup_df['movies'])"
   ]
  },
  {
   "cell_type": "markdown",
   "metadata": {},
   "source": [
    "# Split Data into Train/Test"
   ]
  },
  {
   "cell_type": "markdown",
   "metadata": {},
   "source": [
    "## Split Dependent and Independent Variables From Original Dataset"
   ]
  },
  {
   "cell_type": "code",
   "execution_count": null,
   "metadata": {
    "scrolled": true
   },
   "outputs": [],
   "source": [
    "y = no_dup_df['reviews']\n",
    "X = no_dup_df.drop(['reviews','link','systems'], axis = 1)"
   ]
  },
  {
   "cell_type": "markdown",
   "metadata": {},
   "source": [
    "## Make Train/Test Sets and Put in DataFrame"
   ]
  },
  {
   "cell_type": "code",
   "execution_count": null,
   "metadata": {
    "scrolled": true
   },
   "outputs": [],
   "source": [
    "X_t, X_test, y_t, y_test = train_test_split(X, y, test_size=0.3)\n",
    "tdf=X_t.join(y_t)"
   ]
  },
  {
   "cell_type": "markdown",
   "metadata": {},
   "source": [
    "## Remove Outliers from Training Set"
   ]
  },
  {
   "cell_type": "code",
   "execution_count": null,
   "metadata": {
    "scrolled": true
   },
   "outputs": [],
   "source": [
    "traindf=tdf[tdf.reviews < 100000]\n",
    "y_train = traindf['reviews']\n",
    "X_train = traindf.drop(['reviews'], axis = 1)"
   ]
  },
  {
   "cell_type": "markdown",
   "metadata": {},
   "source": [
    "## 10-fold Cross Validation Split"
   ]
  },
  {
   "cell_type": "code",
   "execution_count": null,
   "metadata": {},
   "outputs": [],
   "source": [
    "kf=KFold(n=len(X_train), n_folds=10, shuffle=True, random_state=20)"
   ]
  },
  {
   "cell_type": "markdown",
   "metadata": {},
   "source": [
    "# Exploratory Data Analysis on Train Data"
   ]
  },
  {
   "cell_type": "markdown",
   "metadata": {},
   "source": [
    "## Pairplot"
   ]
  },
  {
   "cell_type": "code",
   "execution_count": null,
   "metadata": {
    "scrolled": true
   },
   "outputs": [],
   "source": [
    "sns.pairplot(traindf, size = 1.2, aspect=1.5)"
   ]
  },
  {
   "cell_type": "markdown",
   "metadata": {},
   "source": [
    "## Correlation Matrix"
   ]
  },
  {
   "cell_type": "code",
   "execution_count": null,
   "metadata": {
    "scrolled": true
   },
   "outputs": [],
   "source": [
    "traindf.corr()\n",
    "#sns.heatmap(no_dup_df.corr(), cmap=\"seismic\")"
   ]
  },
  {
   "cell_type": "markdown",
   "metadata": {},
   "source": [
    "# Base Model"
   ]
  },
  {
   "cell_type": "markdown",
   "metadata": {},
   "source": [
    "## OLS Fit and Summary"
   ]
  },
  {
   "cell_type": "code",
   "execution_count": null,
   "metadata": {
    "scrolled": true
   },
   "outputs": [],
   "source": [
    "model = sm.OLS(y_train, sm.add_constant(X_train))\n",
    "fit = model.fit()\n",
    "fit.summary()"
   ]
  },
  {
   "cell_type": "markdown",
   "metadata": {},
   "source": [
    "## K-Fold Validation; Return Average Score Across Folds"
   ]
  },
  {
   "cell_type": "code",
   "execution_count": null,
   "metadata": {},
   "outputs": [],
   "source": [
    "all_scores_lr_train = []\n",
    "all_scores_lr_test = []\n",
    "\n",
    "for train, test in kf:\n",
    "    Xt_train = X.iloc[train]\n",
    "    yt_train=y.iloc[train]\n",
    "    X_val = X.iloc[test]\n",
    "    y_val = y.iloc[test]\n",
    "    \n",
    "    lr=LinearRegression()\n",
    "    lr.fit(Xt_train, yt_train)\n",
    "    all_scores_lr_train.append(lr.score(Xt_train,yt_train))\n",
    "    all_scores_lr_test.append(lr.score(X_val,y_val))\n",
    "    \n",
    "    lr.fit(X_val,y_val)\n",
    "\n",
    "np.mean(all_scores_lr_train), np.mean(all_scores_lr_test)"
   ]
  },
  {
   "cell_type": "markdown",
   "metadata": {},
   "source": [
    "## Plot Predicted vs Actual"
   ]
  },
  {
   "cell_type": "code",
   "execution_count": 144,
   "metadata": {},
   "outputs": [
    {
     "data": {
      "image/png": "[encoded data removed]",
      "text/plain": [
       "<Figure size 432x288 with 1 Axes>"
      ]
     },
     "metadata": {},
     "output_type": "display_data"
    }
   ],
   "source": [
    "predict = fit.predict(X_train)\n",
    "plt.scatter(predict,y_train,alpha=.1)\n",
    "plt.xlabel('Predictions')\n",
    "plt.ylabel('Actual')\n",
    "plt.plot(np.linspace(0,17500,1000),np.linspace(0,80000,1000));\n",
    "plt.title('Actual vs Predicted');"
   ]
  },
  {
   "cell_type": "markdown",
   "metadata": {},
   "source": [
    "# Diagnostic Plots on Base Model"
   ]
  },
  {
   "cell_type": "code",
   "execution_count": null,
   "metadata": {
    "scrolled": true
   },
   "outputs": [],
   "source": [
    "y_traindf=pd.DataFrame(y_train)\n",
    "X_traindf=pd.DataFrame(X_train)\n",
    "diagnostic_plots.diagnostic_plots(X_traindf, y_traindf, fit)"
   ]
  },
  {
   "cell_type": "markdown",
   "metadata": {},
   "source": [
    "# Rescale/Normalize Data"
   ]
  },
  {
   "cell_type": "markdown",
   "metadata": {},
   "source": [
    "## Log Dependent Data"
   ]
  },
  {
   "cell_type": "code",
   "execution_count": null,
   "metadata": {
    "scrolled": true
   },
   "outputs": [],
   "source": [
    "traindf['log_reviews'] = np.log(traindf.reviews + 1)\n",
    "plt.hist(traindf['log_reviews'])"
   ]
  },
  {
   "cell_type": "markdown",
   "metadata": {},
   "source": [
    "## Boxcox- makes no difference, stick to log"
   ]
  },
  {
   "cell_type": "code",
   "execution_count": null,
   "metadata": {
    "scrolled": false
   },
   "outputs": [],
   "source": [
    "yt, _ = stats.boxcox(traindf['reviews']+1)"
   ]
  },
  {
   "cell_type": "code",
   "execution_count": null,
   "metadata": {
    "scrolled": true
   },
   "outputs": [],
   "source": [
    "plt.hist(yt)"
   ]
  },
  {
   "cell_type": "markdown",
   "metadata": {},
   "source": [
    "# EDA on Scaled Data, Log Reviews as Dependent"
   ]
  },
  {
   "cell_type": "code",
   "execution_count": null,
   "metadata": {
    "scrolled": true
   },
   "outputs": [],
   "source": [
    "sns.pairplot(traindf[traindf.release_date > 30])"
   ]
  },
  {
   "cell_type": "code",
   "execution_count": null,
   "metadata": {
    "scrolled": true
   },
   "outputs": [],
   "source": [
    "traindf.corr()"
   ]
  },
  {
   "cell_type": "markdown",
   "metadata": {},
   "source": [
    "# Regression on Log Values"
   ]
  },
  {
   "attachments": {},
   "cell_type": "markdown",
   "metadata": {},
   "source": [
    "## Drop Highly Multicollinear Elements\n",
    "+ Those with no reviews\n",
    "+ That don't run on windows"
   ]
  },
  {
   "cell_type": "code",
   "execution_count": null,
   "metadata": {},
   "outputs": [],
   "source": [
    "mask = (traindf.reviews > 0) | (traindf.windows == 1)"
   ]
  },
  {
   "cell_type": "markdown",
   "metadata": {},
   "source": [
    "## OLS Model"
   ]
  },
  {
   "cell_type": "code",
   "execution_count": null,
   "metadata": {
    "scrolled": true
   },
   "outputs": [],
   "source": [
    "traindf2 = traindf[mask]\n",
    "y2_train = traindf2['log_reviews']\n",
    "X2_train = traindf2.drop(['log_reviews','reviews', 'system', 'windows'], axis = 1)\n",
    "\n",
    "model2 = sm.OLS(y2_train, sm.add_constant(X2_train))\n",
    "fit2 = model2.fit()\n",
    "fit2.summary()"
   ]
  },
  {
   "cell_type": "markdown",
   "metadata": {},
   "source": [
    "## K-Fold CV"
   ]
  },
  {
   "cell_type": "code",
   "execution_count": null,
   "metadata": {},
   "outputs": [],
   "source": [
    "all_scores_lr_train2 = []\n",
    "all_scores_lr_test2 = []\n",
    "\n",
    "for train, test in kf:\n",
    "    Xt_train2 = X2.iloc[train]\n",
    "    yt_train2 = y2.iloc[train]\n",
    "    X_val2 = X2.iloc[test]\n",
    "    y_val2 = y2.iloc[test]\n",
    "    \n",
    "    lr=LinearRegression()\n",
    "    lr.fit(Xt_train2, yt_train2)\n",
    "    all_scores_lr_train2.append(lr.score(Xt_train2, yt_train2))\n",
    "    all_scores_lr_test2.append(lr.score(X_val2,y_val2))\n",
    "    \n",
    "    lr.fit(X_val2,y_val2)\n",
    "\n",
    "np.mean(all_scores_lr_train2), np.mean(all_scores_lr_test2)"
   ]
  },
  {
   "cell_type": "markdown",
   "metadata": {},
   "source": [
    "## Plot Predicted vs Actual"
   ]
  },
  {
   "cell_type": "code",
   "execution_count": 145,
   "metadata": {},
   "outputs": [
    {
     "data": {
      "text/plain": [
       "Text(0.5,1,'Actual vs Predicted')"
      ]
     },
     "execution_count": 145,
     "metadata": {},
     "output_type": "execute_result"
    },
    {
     "data": {
      "image/png": "[encoded data removed]",
      "text/plain": [
       "<Figure size 432x288 with 1 Axes>"
      ]
     },
     "metadata": {},
     "output_type": "display_data"
    }
   ],
   "source": [
    "predict2 = fit2.predict(sm.add_constant(X2_train))\n",
    "plt.scatter(predict2,y2_train,alpha=.1)\n",
    "plt.plot(np.linspace(0,15,100),np.linspace(0,15,100))\n",
    "plt.title('Actual vs Predicted')"
   ]
  },
  {
   "cell_type": "markdown",
   "metadata": {},
   "source": [
    "# Diagnostic Plot on Logged/Dropped Values"
   ]
  },
  {
   "cell_type": "code",
   "execution_count": null,
   "metadata": {
    "scrolled": false
   },
   "outputs": [],
   "source": [
    "y_traindf2=pd.DataFrame(y2_train)\n",
    "X_traindf2=pd.DataFrame(X2_train)\n",
    "diagnostic_plots.diagnostic_plots(X_traindf2, y_traindf2, fit2)"
   ]
  },
  {
   "cell_type": "markdown",
   "metadata": {},
   "source": [
    "# Polynomial Features"
   ]
  },
  {
   "cell_type": "code",
   "execution_count": null,
   "metadata": {},
   "outputs": [],
   "source": [
    "# x_plot = np.linspace(0, 1, 100)\n",
    "# fig, ax_rows = plt.subplots(5, 2, figsize=(15, 20))\n",
    "\n",
    "# def plot_approximation(est, ax, label=None):\n",
    "#     \"\"\"Plot the approximation of ``est`` on axis ``ax``. \"\"\"\n",
    "#     ax.plot(x_plot, f(x_plot), label='ground truth', color='green')\n",
    "#     ax.scatter(X, y, s=100)\n",
    "#     ax.plot(x_plot, est.predict(x_plot[:, np.newaxis]), color='red', label=label)\n",
    "#     ax.set_ylim((-2, 2))\n",
    "#     ax.set_xlim((0, 1))\n",
    "#     ax.set_ylabel('y')\n",
    "#     ax.set_xlabel('x')\n",
    "#     ax.legend(loc='upper right',frameon=True)\n",
    "\n",
    "# for degree in range(10):\n",
    "#     est = make_pipeline(PolynomialFeatures(degree), LinearRegression())\n",
    "#     est.fit(X2, y2)\n",
    "#     ax_row_left, ax_row_right = ax_rows[degree//2]\n",
    "#     if degree%2 == 0:\n",
    "#         ax = ax_row_left\n",
    "#     else:\n",
    "#         ax = ax_row_right\n",
    "#     plot_approximation(est, ax, label='degree=%d' % degree)\n",
    "X2"
   ]
  },
  {
   "cell_type": "code",
   "execution_count": null,
   "metadata": {},
   "outputs": [],
   "source": []
  },
  {
   "cell_type": "code",
   "execution_count": null,
   "metadata": {},
   "outputs": [],
   "source": []
  },
  {
   "cell_type": "code",
   "execution_count": null,
   "metadata": {},
   "outputs": [],
   "source": []
  },
  {
   "cell_type": "markdown",
   "metadata": {},
   "source": [
    "# Compare Different Models"
   ]
  },
  {
   "cell_type": "markdown",
   "metadata": {},
   "source": [
    "## Function to Compare Each Model's Mean R2 Within Folds"
   ]
  },
  {
   "cell_type": "code",
   "execution_count": null,
   "metadata": {
    "scrolled": true
   },
   "outputs": [],
   "source": [
    "def get_scores(X, y, folds = 10, alpha = 0.5): \n",
    "\n",
    "    models = {}\n",
    "    parameters = {}\n",
    "    \n",
    "    models['linear_model'] = linear_model.LinearRegression()\n",
    "    models['ridge_model'] = linear_model.Ridge()\n",
    "    models['lasso_model'] = linear_model.Lasso(alpha=alpha)\n",
    "    models['robust_regression'] = linear_model.SGDRegressor(loss='huber',max_iter=2000)\n",
    "    models['eps_insensitive'] = linear_model.SGDRegressor(loss='epsilon_insensitive',max_iter=2000)\n",
    "    models['cart'] = tree.DecisionTreeRegressor(max_depth=7)\n",
    "    models['extratrees'] = tree.ExtraTreeRegressor(max_depth=7)\n",
    "    models['randomForest'] = ensemble.RandomForestRegressor()\n",
    "    models['adaboostedTrees'] = ensemble.AdaBoostRegressor()\n",
    "    models['gradboostedTrees'] = ensemble.GradientBoostingRegressor()\n",
    "    \n",
    "    \n",
    "    overall_scores_train=[]\n",
    "    overall_scores_test=[]\n",
    "    for name,model in models.items():\n",
    "        scores_train=[]\n",
    "        scores_test=[]\n",
    "        for train, test in kf:\n",
    "            Xt_train = X.iloc[train]\n",
    "            yt_train=y.iloc[train]\n",
    "            X_val = X.iloc[test]\n",
    "            y_val = y.iloc[test]\n",
    "\n",
    "            model.fit(Xt_train, yt_train)\n",
    "            \n",
    "            scores_train.append(model.score(Xt_train,yt_train))\n",
    "            scores_test.append(model.score(X_val,y_val))\n",
    "            lr.fit(X_val,y_val)\n",
    "\n",
    "        overall_scores_train.append(np.mean(scores_train))\n",
    "        overall_scores_test.append(np.mean(scores_test))\n",
    "    \n",
    "    scores_df = pd.DataFrame({'Model': list(models.keys()),\n",
    "                             'Train Scores': overall_scores_train, 'Test Scores': overall_scores_test})\n",
    "\n",
    "    return scores_df"
   ]
  },
  {
   "cell_type": "markdown",
   "metadata": {},
   "source": [
    "### Compare with Unlogged Data"
   ]
  },
  {
   "cell_type": "code",
   "execution_count": null,
   "metadata": {
    "scrolled": true
   },
   "outputs": [],
   "source": [
    "get_scores(X_train,y_train, folds = 10, alpha = 0.5)"
   ]
  },
  {
   "cell_type": "markdown",
   "metadata": {},
   "source": [
    "### Compare with Logged/Modified Data"
   ]
  },
  {
   "cell_type": "code",
   "execution_count": null,
   "metadata": {
    "scrolled": true
   },
   "outputs": [],
   "source": [
    "get_scores(X2_train, y2_train, folds = 10, alpha = 0.5)"
   ]
  },
  {
   "cell_type": "markdown",
   "metadata": {},
   "source": [
    "## Result: Gradient Boosted Trees is \"Best\" Model"
   ]
  },
  {
   "cell_type": "markdown",
   "metadata": {},
   "source": [
    "# Play with Model to Determine \"Best\" Input Values and Run on Entire Training Data\n",
    "Best Input in Terms of Mean Score on Test Data Folds"
   ]
  },
  {
   "cell_type": "code",
   "execution_count": null,
   "metadata": {},
   "outputs": [],
   "source": [
    "gb = ensemble.GradientBoostingRegressor(alpha=0.9, n_estimators=200, min_samples_split=2, max_depth=3)\n",
    "cross_val_score(gb, X2_train, y2_train, cv = 10, n_jobs=1, scoring=\"r2\").mean()"
   ]
  },
  {
   "cell_type": "markdown",
   "metadata": {},
   "source": [
    "# Run Gradient Boosted Trees on Holdout Set- Get Scores"
   ]
  },
  {
   "cell_type": "code",
   "execution_count": null,
   "metadata": {
    "scrolled": true
   },
   "outputs": [],
   "source": [
    "testdf=X_test.join(y_test)\n",
    "testdf['log_reviews'] = np.log(testdf.reviews + 1)\n",
    "\n",
    "y2_test = testdf['log_reviews']\n",
    "X2_test = testdf.drop(['log_reviews','reviews', 'system', 'windows'], axis = 1)\n",
    "\n",
    "cross_val_score(gb, X2_test, y2_test, n_jobs=1, scoring=\"r2\").mean()"
   ]
  },
  {
   "cell_type": "markdown",
   "metadata": {},
   "source": [
    "# Plot Final Results"
   ]
  },
  {
   "cell_type": "code",
   "execution_count": null,
   "metadata": {},
   "outputs": [],
   "source": [
    "gb.fit(X2_train,y2_train)\n",
    "predictions = gb.predict(X2_test)\n",
    "plt.scatter(predictions,y2_test,alpha=.1)\n",
    "plt.xlabel('Predictions')\n",
    "plt.ylabel('Actual')\n",
    "plt.plot(np.linspace(0,15,1000),np.linspace(0,15,1000));\n",
    "plt.title('Actual vs Predicted');"
   ]
  },
  {
   "cell_type": "code",
   "execution_count": null,
   "metadata": {},
   "outputs": [],
   "source": []
  }
 ],
 "metadata": {
  "kernelspec": {
   "display_name": "Python 3",
   "language": "python",
   "name": "python3"
  },
  "language_info": {
   "codemirror_mode": {
    "name": "ipython",
    "version": 3
   },
   "file_extension": ".py",
   "mimetype": "text/x-python",
   "name": "python",
   "nbconvert_exporter": "python",
   "pygments_lexer": "ipython3",
   "version": "3.6.5"
  }
 },
 "nbformat": 4,
 "nbformat_minor": 2
}
