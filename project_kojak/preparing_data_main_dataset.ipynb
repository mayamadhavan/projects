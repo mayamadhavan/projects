{
 "cells": [
  {
   "cell_type": "code",
   "execution_count": 1,
   "metadata": {},
   "outputs": [],
   "source": [
    "import pandas as pd"
   ]
  },
  {
   "cell_type": "markdown",
   "metadata": {},
   "source": [
    "# Read in Main DataFrame"
   ]
  },
  {
   "cell_type": "code",
   "execution_count": 2,
   "metadata": {},
   "outputs": [
    {
     "name": "stderr",
     "output_type": "stream",
     "text": [
      "/Users/mayamadhavan/anaconda3/lib/python3.6/site-packages/IPython/core/interactiveshell.py:2785: DtypeWarning: Columns (6,9,1725,1726,1727,1728,1729,1743,1815,1816,1817,1818,1823,1824) have mixed types. Specify dtype option on import or set low_memory=False.\n",
      "  interactivity=interactivity, compiler=compiler, result=result)\n"
     ]
    }
   ],
   "source": [
    "df=pd.read_csv('Data/MERGED2015_16_PP.csv')"
   ]
  },
  {
   "cell_type": "code",
   "execution_count": 3,
   "metadata": {},
   "outputs": [
    {
     "data": {
      "text/html": [
       "<div>\n",
       "<style scoped>\n",
       "    .dataframe tbody tr th:only-of-type {\n",
       "        vertical-align: middle;\n",
       "    }\n",
       "\n",
       "    .dataframe tbody tr th {\n",
       "        vertical-align: top;\n",
       "    }\n",
       "\n",
       "    .dataframe thead th {\n",
       "        text-align: right;\n",
       "    }\n",
       "</style>\n",
       "<table border=\"1\" class=\"dataframe\">\n",
       "  <thead>\n",
       "    <tr style=\"text-align: right;\">\n",
       "      <th></th>\n",
       "      <th>UNITID</th>\n",
       "      <th>OPEID</th>\n",
       "      <th>OPEID6</th>\n",
       "      <th>INSTNM</th>\n",
       "      <th>CITY</th>\n",
       "      <th>STABBR</th>\n",
       "      <th>ZIP</th>\n",
       "      <th>ACCREDAGENCY</th>\n",
       "      <th>INSTURL</th>\n",
       "      <th>NPCURL</th>\n",
       "      <th>...</th>\n",
       "      <th>RET_FT4_POOLED_SUPP</th>\n",
       "      <th>RET_FTL4_POOLED_SUPP</th>\n",
       "      <th>RET_PT4_POOLED_SUPP</th>\n",
       "      <th>RET_PTL4_POOLED_SUPP</th>\n",
       "      <th>TRANS_4_POOLED</th>\n",
       "      <th>TRANS_L4_POOLED</th>\n",
       "      <th>DTRANS_4_POOLED</th>\n",
       "      <th>DTRANS_L4_POOLED</th>\n",
       "      <th>TRANS_4_POOLED_SUPP</th>\n",
       "      <th>TRANS_L4_POOLED_SUPP</th>\n",
       "    </tr>\n",
       "  </thead>\n",
       "  <tbody>\n",
       "    <tr>\n",
       "      <th>0</th>\n",
       "      <td>100654</td>\n",
       "      <td>100200</td>\n",
       "      <td>1002</td>\n",
       "      <td>Alabama A &amp; M University</td>\n",
       "      <td>Normal</td>\n",
       "      <td>AL</td>\n",
       "      <td>35762</td>\n",
       "      <td>Southern Association of Colleges and Schools C...</td>\n",
       "      <td>www.aamu.edu/</td>\n",
       "      <td>www2.aamu.edu/scripts/netpricecalc/npcalc.htm</td>\n",
       "      <td>...</td>\n",
       "      <td>0.61638362831858</td>\n",
       "      <td>NaN</td>\n",
       "      <td>0.41664791666666</td>\n",
       "      <td>NaN</td>\n",
       "      <td>0.200384</td>\n",
       "      <td>NaN</td>\n",
       "      <td>2086.0</td>\n",
       "      <td>NaN</td>\n",
       "      <td>0.20038350910834</td>\n",
       "      <td>NaN</td>\n",
       "    </tr>\n",
       "    <tr>\n",
       "      <th>1</th>\n",
       "      <td>100663</td>\n",
       "      <td>105200</td>\n",
       "      <td>1052</td>\n",
       "      <td>University of Alabama at Birmingham</td>\n",
       "      <td>Birmingham</td>\n",
       "      <td>AL</td>\n",
       "      <td>35294-0110</td>\n",
       "      <td>Southern Association of Colleges and Schools C...</td>\n",
       "      <td>www.uab.edu</td>\n",
       "      <td>uab.studentaidcalculator.com/survey.aspx</td>\n",
       "      <td>...</td>\n",
       "      <td>0.80765744125326</td>\n",
       "      <td>NaN</td>\n",
       "      <td>0.58823529411764</td>\n",
       "      <td>NaN</td>\n",
       "      <td>0.241619</td>\n",
       "      <td>NaN</td>\n",
       "      <td>2740.0</td>\n",
       "      <td>NaN</td>\n",
       "      <td>0.24161927007299</td>\n",
       "      <td>NaN</td>\n",
       "    </tr>\n",
       "    <tr>\n",
       "      <th>2</th>\n",
       "      <td>100690</td>\n",
       "      <td>2503400</td>\n",
       "      <td>25034</td>\n",
       "      <td>Amridge University</td>\n",
       "      <td>Montgomery</td>\n",
       "      <td>AL</td>\n",
       "      <td>36117-3553</td>\n",
       "      <td>Southern Association of Colleges and Schools C...</td>\n",
       "      <td>www.amridgeuniversity.edu</td>\n",
       "      <td>www2.amridgeuniversity.edu:9091/</td>\n",
       "      <td>...</td>\n",
       "      <td>PrivacySuppressed</td>\n",
       "      <td>NaN</td>\n",
       "      <td>PrivacySuppressed</td>\n",
       "      <td>NaN</td>\n",
       "      <td>0.111111</td>\n",
       "      <td>NaN</td>\n",
       "      <td>18.0</td>\n",
       "      <td>NaN</td>\n",
       "      <td>PrivacySuppressed</td>\n",
       "      <td>NaN</td>\n",
       "    </tr>\n",
       "    <tr>\n",
       "      <th>3</th>\n",
       "      <td>100706</td>\n",
       "      <td>105500</td>\n",
       "      <td>1055</td>\n",
       "      <td>University of Alabama in Huntsville</td>\n",
       "      <td>Huntsville</td>\n",
       "      <td>AL</td>\n",
       "      <td>35899</td>\n",
       "      <td>Southern Association of Colleges and Schools C...</td>\n",
       "      <td>www.uah.edu</td>\n",
       "      <td>finaid.uah.edu/</td>\n",
       "      <td>...</td>\n",
       "      <td>0.78698579881656</td>\n",
       "      <td>NaN</td>\n",
       "      <td>0.50876842105263</td>\n",
       "      <td>NaN</td>\n",
       "      <td>0.332677</td>\n",
       "      <td>NaN</td>\n",
       "      <td>1539.0</td>\n",
       "      <td>NaN</td>\n",
       "      <td>0.33267738791423</td>\n",
       "      <td>NaN</td>\n",
       "    </tr>\n",
       "    <tr>\n",
       "      <th>4</th>\n",
       "      <td>100724</td>\n",
       "      <td>100500</td>\n",
       "      <td>1005</td>\n",
       "      <td>Alabama State University</td>\n",
       "      <td>Montgomery</td>\n",
       "      <td>AL</td>\n",
       "      <td>36104-0271</td>\n",
       "      <td>Southern Association of Colleges and Schools C...</td>\n",
       "      <td>www.alasu.edu</td>\n",
       "      <td>www.alasu.edu/cost-aid/forms/calculator/index....</td>\n",
       "      <td>...</td>\n",
       "      <td>0.58470804331013</td>\n",
       "      <td>NaN</td>\n",
       "      <td>0.43181818181818</td>\n",
       "      <td>NaN</td>\n",
       "      <td>0.000000</td>\n",
       "      <td>NaN</td>\n",
       "      <td>2539.0</td>\n",
       "      <td>NaN</td>\n",
       "      <td>0</td>\n",
       "      <td>NaN</td>\n",
       "    </tr>\n",
       "  </tbody>\n",
       "</table>\n",
       "<p>5 rows × 1825 columns</p>\n",
       "</div>"
      ],
      "text/plain": [
       "   UNITID    OPEID  OPEID6                               INSTNM        CITY  \\\n",
       "0  100654   100200    1002             Alabama A & M University      Normal   \n",
       "1  100663   105200    1052  University of Alabama at Birmingham  Birmingham   \n",
       "2  100690  2503400   25034                   Amridge University  Montgomery   \n",
       "3  100706   105500    1055  University of Alabama in Huntsville  Huntsville   \n",
       "4  100724   100500    1005             Alabama State University  Montgomery   \n",
       "\n",
       "  STABBR         ZIP                                       ACCREDAGENCY  \\\n",
       "0     AL       35762  Southern Association of Colleges and Schools C...   \n",
       "1     AL  35294-0110  Southern Association of Colleges and Schools C...   \n",
       "2     AL  36117-3553  Southern Association of Colleges and Schools C...   \n",
       "3     AL       35899  Southern Association of Colleges and Schools C...   \n",
       "4     AL  36104-0271  Southern Association of Colleges and Schools C...   \n",
       "\n",
       "                     INSTURL  \\\n",
       "0              www.aamu.edu/   \n",
       "1                www.uab.edu   \n",
       "2  www.amridgeuniversity.edu   \n",
       "3                www.uah.edu   \n",
       "4              www.alasu.edu   \n",
       "\n",
       "                                              NPCURL          ...           \\\n",
       "0      www2.aamu.edu/scripts/netpricecalc/npcalc.htm          ...            \n",
       "1           uab.studentaidcalculator.com/survey.aspx          ...            \n",
       "2                   www2.amridgeuniversity.edu:9091/          ...            \n",
       "3                                    finaid.uah.edu/          ...            \n",
       "4  www.alasu.edu/cost-aid/forms/calculator/index....          ...            \n",
       "\n",
       "   RET_FT4_POOLED_SUPP  RET_FTL4_POOLED_SUPP  RET_PT4_POOLED_SUPP  \\\n",
       "0     0.61638362831858                   NaN     0.41664791666666   \n",
       "1     0.80765744125326                   NaN     0.58823529411764   \n",
       "2    PrivacySuppressed                   NaN    PrivacySuppressed   \n",
       "3     0.78698579881656                   NaN     0.50876842105263   \n",
       "4     0.58470804331013                   NaN     0.43181818181818   \n",
       "\n",
       "   RET_PTL4_POOLED_SUPP  TRANS_4_POOLED  TRANS_L4_POOLED  DTRANS_4_POOLED  \\\n",
       "0                   NaN        0.200384              NaN           2086.0   \n",
       "1                   NaN        0.241619              NaN           2740.0   \n",
       "2                   NaN        0.111111              NaN             18.0   \n",
       "3                   NaN        0.332677              NaN           1539.0   \n",
       "4                   NaN        0.000000              NaN           2539.0   \n",
       "\n",
       "   DTRANS_L4_POOLED  TRANS_4_POOLED_SUPP  TRANS_L4_POOLED_SUPP  \n",
       "0               NaN     0.20038350910834                   NaN  \n",
       "1               NaN     0.24161927007299                   NaN  \n",
       "2               NaN    PrivacySuppressed                   NaN  \n",
       "3               NaN     0.33267738791423                   NaN  \n",
       "4               NaN                    0                   NaN  \n",
       "\n",
       "[5 rows x 1825 columns]"
      ]
     },
     "execution_count": 3,
     "metadata": {},
     "output_type": "execute_result"
    }
   ],
   "source": [
    "df.head()"
   ]
  },
  {
   "cell_type": "markdown",
   "metadata": {},
   "source": [
    "# Rename Columns Using Data Dictionary"
   ]
  },
  {
   "cell_type": "code",
   "execution_count": 4,
   "metadata": {},
   "outputs": [
    {
     "data": {
      "text/plain": [
       "['README',\n",
       " 'ChangeLog',\n",
       " 'glossary',\n",
       " 'data_dictionary',\n",
       " 'cohort_map',\n",
       " 'most_recent_cohort_map']"
      ]
     },
     "execution_count": 4,
     "metadata": {},
     "output_type": "execute_result"
    }
   ],
   "source": [
    "name_dict=pd.ExcelFile('Data/CollegeScorecardDataDictionary.xlsx')\n",
    "name_dict.sheet_names"
   ]
  },
  {
   "cell_type": "code",
   "execution_count": 5,
   "metadata": {},
   "outputs": [
    {
     "data": {
      "text/html": [
       "<div>\n",
       "<style scoped>\n",
       "    .dataframe tbody tr th:only-of-type {\n",
       "        vertical-align: middle;\n",
       "    }\n",
       "\n",
       "    .dataframe tbody tr th {\n",
       "        vertical-align: top;\n",
       "    }\n",
       "\n",
       "    .dataframe thead th {\n",
       "        text-align: right;\n",
       "    }\n",
       "</style>\n",
       "<table border=\"1\" class=\"dataframe\">\n",
       "  <thead>\n",
       "    <tr style=\"text-align: right;\">\n",
       "      <th></th>\n",
       "      <th>NAME OF DATA ELEMENT</th>\n",
       "      <th>dev-category</th>\n",
       "      <th>developer-friendly name</th>\n",
       "      <th>API data type</th>\n",
       "      <th>VARIABLE NAME</th>\n",
       "      <th>VALUE</th>\n",
       "      <th>LABEL</th>\n",
       "      <th>SOURCE</th>\n",
       "      <th>NOTES</th>\n",
       "    </tr>\n",
       "  </thead>\n",
       "  <tbody>\n",
       "    <tr>\n",
       "      <th>0</th>\n",
       "      <td>Unit ID for institution</td>\n",
       "      <td>root</td>\n",
       "      <td>id</td>\n",
       "      <td>integer</td>\n",
       "      <td>UNITID</td>\n",
       "      <td>NaN</td>\n",
       "      <td>NaN</td>\n",
       "      <td>IPEDS</td>\n",
       "      <td>Shown/used on consumer website.</td>\n",
       "    </tr>\n",
       "    <tr>\n",
       "      <th>1</th>\n",
       "      <td>8-digit OPE ID for institution</td>\n",
       "      <td>root</td>\n",
       "      <td>ope8_id</td>\n",
       "      <td>integer</td>\n",
       "      <td>OPEID</td>\n",
       "      <td>NaN</td>\n",
       "      <td>NaN</td>\n",
       "      <td>IPEDS</td>\n",
       "      <td>Shown/used on consumer website.</td>\n",
       "    </tr>\n",
       "    <tr>\n",
       "      <th>2</th>\n",
       "      <td>6-digit OPE ID for institution</td>\n",
       "      <td>root</td>\n",
       "      <td>ope6_id</td>\n",
       "      <td>integer</td>\n",
       "      <td>OPEID6</td>\n",
       "      <td>NaN</td>\n",
       "      <td>NaN</td>\n",
       "      <td>IPEDS</td>\n",
       "      <td>Shown/used on consumer website.</td>\n",
       "    </tr>\n",
       "    <tr>\n",
       "      <th>3</th>\n",
       "      <td>Institution name</td>\n",
       "      <td>school</td>\n",
       "      <td>name</td>\n",
       "      <td>autocomplete</td>\n",
       "      <td>INSTNM</td>\n",
       "      <td>NaN</td>\n",
       "      <td>NaN</td>\n",
       "      <td>IPEDS</td>\n",
       "      <td>Shown/used on consumer website.</td>\n",
       "    </tr>\n",
       "    <tr>\n",
       "      <th>4</th>\n",
       "      <td>City</td>\n",
       "      <td>school</td>\n",
       "      <td>city</td>\n",
       "      <td>autocomplete</td>\n",
       "      <td>CITY</td>\n",
       "      <td>NaN</td>\n",
       "      <td>NaN</td>\n",
       "      <td>IPEDS</td>\n",
       "      <td>Shown/used on consumer website.</td>\n",
       "    </tr>\n",
       "  </tbody>\n",
       "</table>\n",
       "</div>"
      ],
      "text/plain": [
       "             NAME OF DATA ELEMENT dev-category developer-friendly name  \\\n",
       "0         Unit ID for institution         root                      id   \n",
       "1  8-digit OPE ID for institution         root                 ope8_id   \n",
       "2  6-digit OPE ID for institution         root                 ope6_id   \n",
       "3                Institution name       school                    name   \n",
       "4                            City       school                    city   \n",
       "\n",
       "  API data type VARIABLE NAME  VALUE LABEL SOURCE  \\\n",
       "0       integer        UNITID    NaN   NaN  IPEDS   \n",
       "1       integer         OPEID    NaN   NaN  IPEDS   \n",
       "2       integer        OPEID6    NaN   NaN  IPEDS   \n",
       "3  autocomplete        INSTNM    NaN   NaN  IPEDS   \n",
       "4  autocomplete          CITY    NaN   NaN  IPEDS   \n",
       "\n",
       "                             NOTES  \n",
       "0  Shown/used on consumer website.  \n",
       "1  Shown/used on consumer website.  \n",
       "2  Shown/used on consumer website.  \n",
       "3  Shown/used on consumer website.  \n",
       "4  Shown/used on consumer website.  "
      ]
     },
     "execution_count": 5,
     "metadata": {},
     "output_type": "execute_result"
    }
   ],
   "source": [
    "name_dict = name_dict.parse(\"data_dictionary\")\n",
    "name_dict.head()"
   ]
  },
  {
   "cell_type": "code",
   "execution_count": 6,
   "metadata": {},
   "outputs": [
    {
     "name": "stdout",
     "output_type": "stream",
     "text": [
      "1812\n",
      "1825\n"
     ]
    }
   ],
   "source": [
    "count=0\n",
    "for value in name_dict['VARIABLE NAME']:\n",
    "    if value in df.columns:\n",
    "        count+=1\n",
    "print(count)\n",
    "print(len(df.columns))"
   ]
  },
  {
   "cell_type": "code",
   "execution_count": 7,
   "metadata": {},
   "outputs": [],
   "source": [
    "col_name_mapping={}\n",
    "for index in range(len(name_dict)) :\n",
    "    friendly_name=name_dict['developer-friendly name'][index]\n",
    "    long_name=name_dict['VARIABLE NAME'][index]\n",
    "    col_name_mapping[long_name]=friendly_name"
   ]
  },
  {
   "cell_type": "code",
   "execution_count": 8,
   "metadata": {},
   "outputs": [
    {
     "data": {
      "text/html": [
       "<div>\n",
       "<style scoped>\n",
       "    .dataframe tbody tr th:only-of-type {\n",
       "        vertical-align: middle;\n",
       "    }\n",
       "\n",
       "    .dataframe tbody tr th {\n",
       "        vertical-align: top;\n",
       "    }\n",
       "\n",
       "    .dataframe thead th {\n",
       "        text-align: right;\n",
       "    }\n",
       "</style>\n",
       "<table border=\"1\" class=\"dataframe\">\n",
       "  <thead>\n",
       "    <tr style=\"text-align: right;\">\n",
       "      <th></th>\n",
       "      <th>id</th>\n",
       "      <th>ope8_id</th>\n",
       "      <th>ope6_id</th>\n",
       "      <th>name</th>\n",
       "      <th>city</th>\n",
       "      <th>state</th>\n",
       "      <th>zip</th>\n",
       "      <th>accreditor</th>\n",
       "      <th>school_url</th>\n",
       "      <th>price_calculator_url</th>\n",
       "      <th>...</th>\n",
       "      <th>retention_rate_suppressed.four_year.full_time_pooled</th>\n",
       "      <th>retention_rate_suppressed.lt_four_year.full_time_pooled</th>\n",
       "      <th>retention_rate_suppressed.four_year.part_time_pooled</th>\n",
       "      <th>retention_rate_suppressed.lt_four_year.part_time_pooled</th>\n",
       "      <th>transfer_rate.4yr.full_time_pooled</th>\n",
       "      <th>transfer_rate.less_than_4yr.full_time_pooled</th>\n",
       "      <th>transfer_rate.cohort_4yr.full_time_pooled</th>\n",
       "      <th>transfer_rate.cohort_less_than_4yr.full_time_pooled</th>\n",
       "      <th>transfer_rate_suppressed.4yr.full_time_pooled</th>\n",
       "      <th>transfer_rate_suppressed.less_than_4yr.full_time_pooled</th>\n",
       "    </tr>\n",
       "  </thead>\n",
       "  <tbody>\n",
       "    <tr>\n",
       "      <th>0</th>\n",
       "      <td>100654</td>\n",
       "      <td>100200</td>\n",
       "      <td>1002</td>\n",
       "      <td>Alabama A &amp; M University</td>\n",
       "      <td>Normal</td>\n",
       "      <td>AL</td>\n",
       "      <td>35762</td>\n",
       "      <td>Southern Association of Colleges and Schools C...</td>\n",
       "      <td>www.aamu.edu/</td>\n",
       "      <td>www2.aamu.edu/scripts/netpricecalc/npcalc.htm</td>\n",
       "      <td>...</td>\n",
       "      <td>0.61638362831858</td>\n",
       "      <td>NaN</td>\n",
       "      <td>0.41664791666666</td>\n",
       "      <td>NaN</td>\n",
       "      <td>0.200384</td>\n",
       "      <td>NaN</td>\n",
       "      <td>2086.0</td>\n",
       "      <td>NaN</td>\n",
       "      <td>0.20038350910834</td>\n",
       "      <td>NaN</td>\n",
       "    </tr>\n",
       "    <tr>\n",
       "      <th>1</th>\n",
       "      <td>100663</td>\n",
       "      <td>105200</td>\n",
       "      <td>1052</td>\n",
       "      <td>University of Alabama at Birmingham</td>\n",
       "      <td>Birmingham</td>\n",
       "      <td>AL</td>\n",
       "      <td>35294-0110</td>\n",
       "      <td>Southern Association of Colleges and Schools C...</td>\n",
       "      <td>www.uab.edu</td>\n",
       "      <td>uab.studentaidcalculator.com/survey.aspx</td>\n",
       "      <td>...</td>\n",
       "      <td>0.80765744125326</td>\n",
       "      <td>NaN</td>\n",
       "      <td>0.58823529411764</td>\n",
       "      <td>NaN</td>\n",
       "      <td>0.241619</td>\n",
       "      <td>NaN</td>\n",
       "      <td>2740.0</td>\n",
       "      <td>NaN</td>\n",
       "      <td>0.24161927007299</td>\n",
       "      <td>NaN</td>\n",
       "    </tr>\n",
       "    <tr>\n",
       "      <th>2</th>\n",
       "      <td>100690</td>\n",
       "      <td>2503400</td>\n",
       "      <td>25034</td>\n",
       "      <td>Amridge University</td>\n",
       "      <td>Montgomery</td>\n",
       "      <td>AL</td>\n",
       "      <td>36117-3553</td>\n",
       "      <td>Southern Association of Colleges and Schools C...</td>\n",
       "      <td>www.amridgeuniversity.edu</td>\n",
       "      <td>www2.amridgeuniversity.edu:9091/</td>\n",
       "      <td>...</td>\n",
       "      <td>PrivacySuppressed</td>\n",
       "      <td>NaN</td>\n",
       "      <td>PrivacySuppressed</td>\n",
       "      <td>NaN</td>\n",
       "      <td>0.111111</td>\n",
       "      <td>NaN</td>\n",
       "      <td>18.0</td>\n",
       "      <td>NaN</td>\n",
       "      <td>PrivacySuppressed</td>\n",
       "      <td>NaN</td>\n",
       "    </tr>\n",
       "    <tr>\n",
       "      <th>3</th>\n",
       "      <td>100706</td>\n",
       "      <td>105500</td>\n",
       "      <td>1055</td>\n",
       "      <td>University of Alabama in Huntsville</td>\n",
       "      <td>Huntsville</td>\n",
       "      <td>AL</td>\n",
       "      <td>35899</td>\n",
       "      <td>Southern Association of Colleges and Schools C...</td>\n",
       "      <td>www.uah.edu</td>\n",
       "      <td>finaid.uah.edu/</td>\n",
       "      <td>...</td>\n",
       "      <td>0.78698579881656</td>\n",
       "      <td>NaN</td>\n",
       "      <td>0.50876842105263</td>\n",
       "      <td>NaN</td>\n",
       "      <td>0.332677</td>\n",
       "      <td>NaN</td>\n",
       "      <td>1539.0</td>\n",
       "      <td>NaN</td>\n",
       "      <td>0.33267738791423</td>\n",
       "      <td>NaN</td>\n",
       "    </tr>\n",
       "    <tr>\n",
       "      <th>4</th>\n",
       "      <td>100724</td>\n",
       "      <td>100500</td>\n",
       "      <td>1005</td>\n",
       "      <td>Alabama State University</td>\n",
       "      <td>Montgomery</td>\n",
       "      <td>AL</td>\n",
       "      <td>36104-0271</td>\n",
       "      <td>Southern Association of Colleges and Schools C...</td>\n",
       "      <td>www.alasu.edu</td>\n",
       "      <td>www.alasu.edu/cost-aid/forms/calculator/index....</td>\n",
       "      <td>...</td>\n",
       "      <td>0.58470804331013</td>\n",
       "      <td>NaN</td>\n",
       "      <td>0.43181818181818</td>\n",
       "      <td>NaN</td>\n",
       "      <td>0.000000</td>\n",
       "      <td>NaN</td>\n",
       "      <td>2539.0</td>\n",
       "      <td>NaN</td>\n",
       "      <td>0</td>\n",
       "      <td>NaN</td>\n",
       "    </tr>\n",
       "  </tbody>\n",
       "</table>\n",
       "<p>5 rows × 1825 columns</p>\n",
       "</div>"
      ],
      "text/plain": [
       "       id  ope8_id  ope6_id                                 name        city  \\\n",
       "0  100654   100200     1002             Alabama A & M University      Normal   \n",
       "1  100663   105200     1052  University of Alabama at Birmingham  Birmingham   \n",
       "2  100690  2503400    25034                   Amridge University  Montgomery   \n",
       "3  100706   105500     1055  University of Alabama in Huntsville  Huntsville   \n",
       "4  100724   100500     1005             Alabama State University  Montgomery   \n",
       "\n",
       "  state         zip                                         accreditor  \\\n",
       "0    AL       35762  Southern Association of Colleges and Schools C...   \n",
       "1    AL  35294-0110  Southern Association of Colleges and Schools C...   \n",
       "2    AL  36117-3553  Southern Association of Colleges and Schools C...   \n",
       "3    AL       35899  Southern Association of Colleges and Schools C...   \n",
       "4    AL  36104-0271  Southern Association of Colleges and Schools C...   \n",
       "\n",
       "                  school_url  \\\n",
       "0              www.aamu.edu/   \n",
       "1                www.uab.edu   \n",
       "2  www.amridgeuniversity.edu   \n",
       "3                www.uah.edu   \n",
       "4              www.alasu.edu   \n",
       "\n",
       "                                price_calculator_url  \\\n",
       "0      www2.aamu.edu/scripts/netpricecalc/npcalc.htm   \n",
       "1           uab.studentaidcalculator.com/survey.aspx   \n",
       "2                   www2.amridgeuniversity.edu:9091/   \n",
       "3                                    finaid.uah.edu/   \n",
       "4  www.alasu.edu/cost-aid/forms/calculator/index....   \n",
       "\n",
       "                            ...                             \\\n",
       "0                           ...                              \n",
       "1                           ...                              \n",
       "2                           ...                              \n",
       "3                           ...                              \n",
       "4                           ...                              \n",
       "\n",
       "   retention_rate_suppressed.four_year.full_time_pooled  \\\n",
       "0                                   0.61638362831858      \n",
       "1                                   0.80765744125326      \n",
       "2                                  PrivacySuppressed      \n",
       "3                                   0.78698579881656      \n",
       "4                                   0.58470804331013      \n",
       "\n",
       "   retention_rate_suppressed.lt_four_year.full_time_pooled  \\\n",
       "0                                                NaN         \n",
       "1                                                NaN         \n",
       "2                                                NaN         \n",
       "3                                                NaN         \n",
       "4                                                NaN         \n",
       "\n",
       "   retention_rate_suppressed.four_year.part_time_pooled  \\\n",
       "0                                   0.41664791666666      \n",
       "1                                   0.58823529411764      \n",
       "2                                  PrivacySuppressed      \n",
       "3                                   0.50876842105263      \n",
       "4                                   0.43181818181818      \n",
       "\n",
       "   retention_rate_suppressed.lt_four_year.part_time_pooled  \\\n",
       "0                                                NaN         \n",
       "1                                                NaN         \n",
       "2                                                NaN         \n",
       "3                                                NaN         \n",
       "4                                                NaN         \n",
       "\n",
       "   transfer_rate.4yr.full_time_pooled  \\\n",
       "0                            0.200384   \n",
       "1                            0.241619   \n",
       "2                            0.111111   \n",
       "3                            0.332677   \n",
       "4                            0.000000   \n",
       "\n",
       "   transfer_rate.less_than_4yr.full_time_pooled  \\\n",
       "0                                           NaN   \n",
       "1                                           NaN   \n",
       "2                                           NaN   \n",
       "3                                           NaN   \n",
       "4                                           NaN   \n",
       "\n",
       "   transfer_rate.cohort_4yr.full_time_pooled  \\\n",
       "0                                     2086.0   \n",
       "1                                     2740.0   \n",
       "2                                       18.0   \n",
       "3                                     1539.0   \n",
       "4                                     2539.0   \n",
       "\n",
       "   transfer_rate.cohort_less_than_4yr.full_time_pooled  \\\n",
       "0                                                NaN     \n",
       "1                                                NaN     \n",
       "2                                                NaN     \n",
       "3                                                NaN     \n",
       "4                                                NaN     \n",
       "\n",
       "   transfer_rate_suppressed.4yr.full_time_pooled  \\\n",
       "0                               0.20038350910834   \n",
       "1                               0.24161927007299   \n",
       "2                              PrivacySuppressed   \n",
       "3                               0.33267738791423   \n",
       "4                                              0   \n",
       "\n",
       "   transfer_rate_suppressed.less_than_4yr.full_time_pooled  \n",
       "0                                                NaN        \n",
       "1                                                NaN        \n",
       "2                                                NaN        \n",
       "3                                                NaN        \n",
       "4                                                NaN        \n",
       "\n",
       "[5 rows x 1825 columns]"
      ]
     },
     "execution_count": 8,
     "metadata": {},
     "output_type": "execute_result"
    }
   ],
   "source": [
    "df=df.rename(columns=col_name_mapping)\n",
    "df.head()"
   ]
  },
  {
   "cell_type": "markdown",
   "metadata": {},
   "source": [
    "# Remove Columns With All NA's"
   ]
  },
  {
   "cell_type": "code",
   "execution_count": 9,
   "metadata": {},
   "outputs": [
    {
     "data": {
      "text/plain": [
       "1825"
      ]
     },
     "execution_count": 9,
     "metadata": {},
     "output_type": "execute_result"
    }
   ],
   "source": [
    "len(df.columns)"
   ]
  },
  {
   "cell_type": "code",
   "execution_count": 10,
   "metadata": {},
   "outputs": [],
   "source": [
    "df_no_na=df.dropna(axis=1, how='all')"
   ]
  },
  {
   "cell_type": "code",
   "execution_count": 11,
   "metadata": {},
   "outputs": [
    {
     "data": {
      "text/plain": [
       "651"
      ]
     },
     "execution_count": 11,
     "metadata": {},
     "output_type": "execute_result"
    }
   ],
   "source": [
    "len(df_no_na.columns)"
   ]
  },
  {
   "cell_type": "markdown",
   "metadata": {},
   "source": [
    "# For Reference"
   ]
  },
  {
   "cell_type": "code",
   "execution_count": 12,
   "metadata": {
    "scrolled": true
   },
   "outputs": [
    {
     "name": "stdout",
     "output_type": "stream",
     "text": [
      "['id', 'ope8_id', 'ope6_id', 'name', 'city', 'state', 'zip', 'accreditor', 'school_url', 'price_calculator_url', 'degrees_awarded.predominant_recoded', 'under_investigation', 'main_campus', 'branches', 'degrees_awarded.predominant', 'degrees_awarded.highest', 'ownership', 'state_fips', 'region_id', 'locale', 'degree_urbanization', 'location.lat', 'location.lon', 'carnegie_basic', 'carnegie_undergrad', 'carnegie_size_setting', 'minority_serving.historically_black', 'minority_serving.predominantly_black', 'minority_serving.annh', 'minority_serving.tribal', 'minority_serving.aanipi', 'minority_serving.hispanic', 'minority_serving.nant', 'men_only', 'women_only', 'religious_affiliation', 'admission_rate.overall', 'admission_rate.by_ope_id', 'sat_scores.25th_percentile.critical_reading', 'sat_scores.75th_percentile.critical_reading', 'sat_scores.25th_percentile.math', 'sat_scores.75th_percentile.math', 'sat_scores.25th_percentile.writing', 'sat_scores.75th_percentile.writing', 'sat_scores.midpoint.critical_reading', 'sat_scores.midpoint.math', 'sat_scores.midpoint.writing', 'act_scores.25th_percentile.cumulative', 'act_scores.75th_percentile.cumulative', 'act_scores.25th_percentile.english', 'act_scores.75th_percentile.english', 'act_scores.25th_percentile.math', 'act_scores.75th_percentile.math', 'act_scores.25th_percentile.writing', 'act_scores.75th_percentile.writing', 'act_scores.midpoint.cumulative', 'act_scores.midpoint.english', 'act_scores.midpoint.math', 'act_scores.midpoint.writing', 'sat_scores.average.overall', 'sat_scores.average.by_ope_id', 'program_percentage.agriculture', 'program_percentage.resources', 'program_percentage.architecture', 'program_percentage.ethnic_cultural_gender', 'program_percentage.communication', 'program_percentage.communications_technology', 'program_percentage.computer', 'program_percentage.personal_culinary', 'program_percentage.education', 'program_percentage.engineering', 'program_percentage.engineering_technology', 'program_percentage.language', 'program_percentage.family_consumer_science', 'program_percentage.legal', 'program_percentage.english', 'program_percentage.humanities', 'program_percentage.library', 'program_percentage.biological', 'program_percentage.mathematics', 'program_percentage.military', 'program_percentage.multidiscipline', 'program_percentage.parks_recreation_fitness', 'program_percentage.philosophy_religious', 'program_percentage.theology_religious_vocation', 'program_percentage.physical_science', 'program_percentage.science_technology', 'program_percentage.psychology', 'program_percentage.security_law_enforcement', 'program_percentage.public_administration_social_service', 'program_percentage.social_science', 'program_percentage.construction', 'program_percentage.mechanic_repair_technology', 'program_percentage.precision_production', 'program_percentage.transportation', 'program_percentage.visual_performing', 'program_percentage.health', 'program_percentage.business_marketing', 'program_percentage.history', 'program.certificate_lt_1_yr.agriculture', 'program.certificate_lt_2_yr.agriculture', 'program.assoc.agriculture', 'program.certificate_lt_4_yr.agriculture', 'program.bachelors.agriculture', 'program.certificate_lt_1_yr.resources', 'program.certificate_lt_2_yr.resources', 'program.assoc.resources', 'program.certificate_lt_4_yr.resources', 'program.bachelors.resources', 'program.certificate_lt_1_yr.architecture', 'program.certificate_lt_2_yr.architecture', 'program.assoc.architecture', 'program.certificate_lt_4_yr.architecture', 'program.bachelors.architecture', 'program.certificate_lt_1_yr.ethnic_cultural_gender', 'program.certificate_lt_2_yr.ethnic_cultural_gender', 'program.assoc.ethnic_cultural_gender', 'program.certificate_lt_4_yr.ethnic_cultural_gender', 'program.bachelors.ethnic_cultural_gender', 'program.certificate_lt_1_yr.communication', 'program.certificate_lt_2_yr.communication', 'program.assoc.communication', 'program.certificate_lt_4_yr.communication', 'program.bachelors.communication', 'program.certificate_lt_1_yr.communications_technology', 'program.certificate_lt_2_yr.communications_technology', 'program.assoc.communications_technology', 'program.certificate_lt_4_yr.communications_technology', 'program.bachelors.communications_technology', 'program.certificate_lt_1_yr.computer', 'program.certificate_lt_2_yr.computer', 'program.assoc.computer', 'program.certificate_lt_4_yr.computer', 'program.bachelors.computer', 'program.certificate_lt_1_yr.personal_culinary', 'program.certificate_lt_2_yr.personal_culinary', 'program.assoc.personal_culinary', 'program.certificate_lt_4_yr.personal_culinary', 'program.bachelors.personal_culinary', 'program.certificate_lt_1_yr.education', 'program.certificate_lt_2_yr.education', 'program.assoc.education', 'program.certificate_lt_4_yr.education', 'program.bachelors.education', 'program.certificate_lt_1_yr.engineering', 'program.certificate_lt_2_yr.engineering', 'program.assoc.engineering', 'program.certificate_lt_4_yr.engineering', 'program.bachelors.engineering', 'program.certificate_lt_1_yr.engineering_technology', 'program.certificate_lt_2_yr.engineering_technology', 'program.assoc.engineering_technology', 'program.certificate_lt_4_yr.engineering_technology', 'program.bachelors.engineering_technology', 'program.certificate_lt_1_yr.language', 'program.certificate_lt_2_yr.language', 'program.assoc.language', 'program.certificate_lt_4_yr.language', 'program.bachelors.language', 'program.certificate_lt_1_yr.family_consumer_science', 'program.certificate_lt_2_yr.family_consumer_science', 'program.assoc.family_consumer_science', 'program.certificate_lt_4_yr.family_consumer_science', 'program.bachelors.family_consumer_science', 'program.certificate_lt_1_yr.legal', 'program.certificate_lt_2_yr.legal', 'program.assoc.legal', 'program.certificate_lt_4_yr.legal', 'program.bachelors.legal', 'program.certificate_lt_1_yr.english', 'program.certificate_lt_2_yr.english', 'program.assoc.english', 'program.certificate_lt_4_yr.english', 'program.bachelors.english', 'program.certificate_lt_1_yr.humanities', 'program.certificate_lt_2_yr.humanities', 'program.assoc.humanities', 'program.certificate_lt_4_yr.humanities', 'program.bachelors.humanities', 'program.certificate_lt_1_yr.library', 'program.certificate_lt_2_yr.library', 'program.assoc.library', 'program.certificate_lt_4_yr.library', 'program.bachelors.library', 'program.certificate_lt_1_yr.biological', 'program.certificate_lt_2_yr.biological', 'program.assoc.biological', 'program.certificate_lt_4_yr.biological', 'program.bachelors.biological', 'program.certificate_lt_1_yr.mathematics', 'program.certificate_lt_2_yr.mathematics', 'program.assoc.mathematics', 'program.certificate_lt_4_yr.mathematics', 'program.bachelors.mathematics', 'program.certificate_lt_1_yr.military', 'program.certificate_lt_2_yr.military', 'program.assoc.military', 'program.certificate_lt_4_yr.military', 'program.bachelors.military', 'program.certificate_lt_1_yr.multidiscipline', 'program.certificate_lt_2_yr.multidiscipline', 'program.assoc.multidiscipline', 'program.certificate_lt_4_yr.multidiscipline', 'program.bachelors.multidiscipline', 'program.certificate_lt_1_yr.parks_recreation_fitness', 'program.certificate_lt_2_yr.parks_recreation_fitness', 'program.assoc.parks_recreation_fitness', 'program.certificate_lt_4_yr.parks_recreation_fitness', 'program.bachelors.parks_recreation_fitness', 'program.certificate_lt_1_yr.philosophy_religious', 'program.certificate_lt_2_yr.philosophy_religious', 'program.assoc.philosophy_religious', 'program.certificate_lt_4_yr.philosophy_religious', 'program.bachelors.philosophy_religious', 'program.certificate_lt_1_yr.theology_religious_vocation', 'program.certificate_lt_2_yr.theology_religious_vocation', 'program.assoc.theology_religious_vocation', 'program.certificate_lt_4_yr.theology_religious_vocation', 'program.bachelors.theology_religious_vocation', 'program.certificate_lt_1_yr.physical_science', 'program.certificate_lt_2_yr.physical_science', 'program.assoc.physical_science', 'program.certificate_lt_4_yr.physical_science', 'program.bachelors.physical_science', 'program.certificate_lt_1_yr.science_technology', 'program.certificate_lt_2_yr.science_technology', 'program.assoc.science_technology', 'program.certificate_lt_4_yr.science_technology', 'program.bachelors.science_technology', 'program.certificate_lt_1_yr.psychology', 'program.certificate_lt_2_yr.psychology', 'program.assoc.psychology', 'program.certificate_lt_4_yr.psychology', 'program.bachelors.psychology', 'program.certificate_lt_1_yr.security_law_enforcement', 'program.certificate_lt_2_yr.security_law_enforcement', 'program.assoc.security_law_enforcement', 'program.certificate_lt_4_yr.security_law_enforcement', 'program.bachelors.security_law_enforcement', 'program.certificate_lt_1_yr.public_administration_social_service', 'program.certificate_lt_2_yr.public_administration_social_service', 'program.assoc.public_administration_social_service', 'program.certificate_lt_4_yr.public_administration_social_service', 'program.bachelors.public_administration_social_service', 'program.certificate_lt_1_yr.social_science', 'program.certificate_lt_2_yr.social_science', 'program.assoc.social_science', 'program.certificate_lt_4_yr.social_science', 'program.bachelors.social_science', 'program.certificate_lt_1_yr.construction', 'program.certificate_lt_2_yr.construction', 'program.assoc.construction', 'program.certificate_lt_4_yr.construction', 'program.bachelors.construction', 'program.certificate_lt_1_yr.mechanic_repair_technology', 'program.certificate_lt_2_yr.mechanic_repair_technology', 'program.assoc.mechanic_repair_technology', 'program.certificate_lt_4_yr.mechanic_repair_technology', 'program.bachelors.mechanic_repair_technology', 'program.certificate_lt_1_yr.precision_production', 'program.certificate_lt_2_yr.precision_production', 'program.assoc.precision_production', 'program.certificate_lt_4_yr.precision_production', 'program.bachelors.precision_production', 'program.certificate_lt_1_yr.transportation', 'program.certificate_lt_2_yr.transportation', 'program.assoc.transportation', 'program.certificate_lt_4_yr.transportation', 'program.bachelors.transportation', 'program.certificate_lt_1_yr.visual_performing', 'program.certificate_lt_2_yr.visual_performing', 'program.assoc.visual_performing', 'program.certificate_lt_4_yr.visual_performing', 'program.bachelors.visual_performing', 'program.certificate_lt_1_yr.health', 'program.certificate_lt_2_yr.health', 'program.assoc.health', 'program.certificate_lt_4_yr.health', 'program.bachelors.health', 'program.certificate_lt_1_yr.business_marketing', 'program.certificate_lt_2_yr.business_marketing', 'program.assoc.business_marketing', 'program.certificate_lt_4_yr.business_marketing', 'program.bachelors.business_marketing', 'program.certificate_lt_1_yr.history', 'program.certificate_lt_2_yr.history', 'program.assoc.history', 'program.certificate_lt_4_yr.history', 'program.bachelors.history', 'online_only', 'size', 'enrollment.all', 'demographics.race_ethnicity.white', 'demographics.race_ethnicity.black', 'demographics.race_ethnicity.hispanic', 'demographics.race_ethnicity.asian', 'demographics.race_ethnicity.aian', 'demographics.race_ethnicity.nhpi', 'demographics.race_ethnicity.two_or_more', 'demographics.race_ethnicity.non_resident_alien', 'demographics.race_ethnicity.unknown', 'demographics.race_ethnicity.white_non_hispanic', 'demographics.race_ethnicity.black_non_hispanic', 'demographics.race_ethnicity.asian_pacific_islander', 'demographics.race_ethnicity.aian_prior_2009', 'demographics.race_ethnicity.hispanic_prior_2009', 'demographics.non_resident_aliens_2000', 'demographics.race_ethnicity.unknown_2000', 'demographics.race_ethnicity.white_2000', 'demographics.race_ethnicity.black_2000', 'demographics.race_ethnicity.api_2000', 'demographics.race_ethnicity.aian_2000', 'demographics.race_ethnicity.hispanic_2000', 'part_time_share', 'part_time_share_2000', 'operating', 'avg_net_price.public', 'avg_net_price.private', 'avg_net_price.program_year', 'avg_net_price.other_academic_year', 'net_price.public.by_income_level.0-30000', 'net_price.public.by_income_level.30001-48000', 'net_price.public.by_income_level.48001-75000', 'net_price.public.by_income_level.75001-110000', 'net_price.public.by_income_level.110001-plus', 'net_price.private.by_income_level.0-30000', 'net_price.private.by_income_level.30001-48000', 'net_price.private.by_income_level.48001-75000', 'net_price.private.by_income_level.75001-110000', 'net_price.private.by_income_level.110001-plus', 'net_price.program_reporter.by_income_level.0-30000', 'net_price.program_reporter.by_income_level.30001-48000', 'net_price.program_reporter.by_income_level.48001-75000', 'net_price.program_reporter.by_income_level.75001-110000', 'net_price.program_reporter.by_income_level.110001-plus', 'net_price.other_acad_calendar.by_income_level.0-30000', 'net_price.other_acad_calendar.by_income_level.30001-48000', 'net_price.other_acad_calendar.by_income_level.48001-75000', 'net_price.other_acad_calendar.by_income_level.75001-110000', 'net_price.other_acad_calendar.by_income_level.110001-plus', 'net_price.public.by_income_level.0-48000', 'net_price.private.by_income_level.0-48000', 'net_price.program_reporter.by_income_level.0-48000', 'net_price.other_acad_calendar.by_income_level.0-48000', 'net_price.public.by_income_level.30001-75000', 'net_price.private.by_income_level.30001-75000', 'net_price.public.by_income_level.75000-plus', 'net_price.private.by_income_level.75000-plus', 'net_price.program_reporter.by_income_level.30001-75000', 'net_price.other_acad_calendar.by_income_level.30001-75000', 'net_price.program_reporter.by_income_level.75000-plus', 'net_price.other_acad_calendar.by_income_level.75000-plus', 'title_iv.public.all', 'title_iv.private.all', 'title_iv.program_year', 'title_iv.academic_year', 'title_iv.public.by_income_level.0-30000', 'title_iv.public.by_income_level.30001-48000', 'title_iv.public.by_income_level.48001-75000', 'title_iv.public.by_income_level.75001-110000', 'title_iv.public.by_income_level.110001-plus', 'title_iv.private.by_income_level.0-30000', 'title_iv.private.by_income_level.30001-48000', 'title_iv.private.by_income_level.48001-75000', 'title_iv.private.by_income_level.75001-110000', 'title_iv.private.by_income_level.110001-plus', 'title_iv.program_reporter.by_income_level.0-30000', 'title_iv.program_reporter.by_income_level.30001-48000', 'title_iv.program_reporter.by_income_level.48001-75000', 'title_iv.program_reporter.by_income_level.75001-110000', 'title_iv.program_reporter.by_income_level.110001-plus', 'title_iv.other_acad_calendar.by_income_level.0-30000', 'title_iv.other_acad_calendar.by_income_level.30001-48000', 'title_iv.other_acad_calendar.by_income_level.48001-75000', 'title_iv.other_acad_calendar.by_income_level.75001-110000', 'title_iv.other_acad_calendar.by_income_level.110001-plus', 'attendance.academic_year', 'attendance.program_year', 'tuition.in_state', 'tuition.out_of_state', 'tuition.program_year', 'tuition_revenue_per_fte', 'instructional_expenditure_per_fte', 'faculty_salary', 'ft_faculty_rate', 'pell_grant_rate', 'completion_rate_4yr_150nt', 'completion_rate_less_than_4yr_150nt', 'completion_rate_4yr_150nt_pooled', 'completion_rate_less_than_4yr_150nt_pooled', 'pooled_yrs_used', 'share_first.time_full.time', 'completion_cohort_4yr_150nt', 'completion_cohort_less_than_4yr_150nt', 'completion_cohort_4yr_150nt_pooled', 'completion_cohort_less_than_4yr_150nt_pooled', 'completion_rate_4yr_150_white', 'completion_rate_4yr_150_black', 'completion_rate_4yr_150_hispanic', 'completion_rate_4yr_150_asian', 'completion_rate_4yr_150_aian', 'completion_rate_4yr_150_nhpi', 'completion_rate_4yr_150_2ormore', 'completion_rate_4yr_150_nonresident.alien', 'completion_rate_4yr_150_race.unknown', 'completion_rate_4yr_150_white_pre2010', 'completion_rate_4yr_150_black_pre2010', 'completion_rate_4yr_150_api_pre2010', 'completion_rate_4yr_150_aian_pre2010', 'completion_rate_4yr_150_hispanic_pre2010', 'completion_rate_l4yr_150_white', 'completion_rate_l4yr_150_black', 'completion_rate_l4yr_150_hispanic', 'completion_rate_l4yr_150_asian', 'completion_rate_l4yr_150_aian', 'completion_rate_l4yr_150_nhpi', 'completion_rate_l4yr_150_2ormore', 'completion_rate_l4yr_150_nonresident.alien', 'completion_rate_l4yr_150_race.unknown', 'completion_rate_l4yr_150_white_pre2010', 'completion_rate_l4yr_150_black_pre2010', 'completion_rate_l4yr_150_api_pre2010', 'completion_rate_l4yr_150_aian_pre2010', 'completion_rate_l4yr_150_hispanic_pre2010', 'C200_4', 'C200_L4', 'D200_4', 'D200_L4', 'retention_rate.four_year.full_time', 'retention_rate.lt_four_year.full_time', 'retention_rate.four_year.part_time', 'retention_rate.lt_four_year.part_time', 'C200_4_POOLED', 'C200_L4_POOLED', 'POOLYRS200', 'D200_4_POOLED', 'D200_L4_POOLED', 'federal_loan_rate', 'share_25_older', '2_yr_default_rate', '3_yr_default_rate', 'title_iv.died_by.2yrs', 'title_iv.completed_by.2yrs', 'title_iv.transf_completed_4yr_by.2yrs', 'title_iv.transf_completed_2yr_by.2yrs', 'title_iv.withdrawn_by.2yrs', 'title_iv.transf_withdrawn_4yr_by.2yrs', 'title_iv.transf_withdrawn_2yr_by.2yrs', 'title_iv.still_enrolled_by.2yrs', 'title_iv.transf_still_enrolled_4yr_by.2yrs', 'title_iv.transf_still_enrolled_2yr_by.2yrs', 'title_iv.unknown_by.2yrs', 'title_iv.transf_unknown_4yr_by.2yrs', 'title_iv.transf_unknown_2yr_by.2yrs', 'title_iv.low_inc.died_by.2yrs', 'title_iv.low_inc.completed_by.2yrs', 'title_iv.low_inc.transf_completed_4yr_by.2yrs', 'title_iv.low_inc.transf_completed_2yr_by.2yrs', 'title_iv.low_inc.withdrawn_by.2yrs', 'title_iv.low_inc.transf_withdrawn_4yr_by.2yrs', 'title_iv.low_inc.transf_withdrawn_2yr_by.2yrs', 'title_iv.low_inc.still_enrolled_by.2yrs', 'title_iv.low_inc.transf_still_enrolled_4yr_by.2yrs', 'title_iv.low_inc.transf_still_enrolled_2yr_by.2yrs', 'title_iv.low_inc.unknown_by.2yrs', 'title_iv.low_inc.transf_unknown_4yr_by.2yrs', 'title_iv.low_inc.transf_unknown_2yr_by.2yrs', 'title_iv.mid_inc.died_by.2yrs', 'title_iv.mid_inc.completed_by.2yrs', 'title_iv.mid_inc.transf_completed_4yr_by.2yrs', 'title_iv.mid_inc.transf_completed_2yr_by.2yrs', 'title_iv.mid_inc.withdrawn_by.2yrs', 'title_iv.mid_inc.transf_withdrawn_4yr_by.2yrs', 'title_iv.mid_inc.transf_withdrawn_2yr_by.2yrs', 'title_iv.mid_inc.still_enrolled_by.2yrs', 'title_iv.mid_inc.transf_still_enrolled_4yr_by.2yrs', 'title_iv.mid_inc.transf_still_enrolled_2yr_by.2yrs', 'title_iv.mid_inc.unknown_by.2yrs', 'title_iv.mid_inc.transf_unknown_4yr_by.2yrs', 'title_iv.mid_inc.transf_unknown_2yr_by.2yrs', 'title_iv.high_inc.died_by.2yrs', 'title_iv.high_inc.completed_by.2yrs', 'title_iv.high_inc.transf_completed_4yr_by.2yrs', 'title_iv.high_inc.transf_completed_2yr_by.2yrs', 'title_iv.high_inc.withdrawn_by.2yrs', 'title_iv.high_inc.transf_withdrawn_4yr_by.2yrs', 'title_iv.high_inc.transf_withdrawn_2yr_by.2yrs', 'title_iv.high_inc.still_enrolled_by.2yrs', 'title_iv.high_inc.transf_still_enrolled_4yr_by.2yrs', 'title_iv.high_inc.transf_still_enrolled_2yr_by.2yrs', 'title_iv.high_inc.unknown_by.2yrs', 'title_iv.high_inc.transf_unknown_4yr_by.2yrs', 'title_iv.high_inc.transf_unknown_2yr_by.2yrs', 'title_iv.depend.died_by.2yrs', 'title_iv.depend.completed_by.2yrs', 'title_iv.depend.transf_completed_4yr_by.2yrs', 'title_iv.depend.transf_completed_2yr_by.2yrs', 'title_iv.depend.withdrawn_by.2yrs', 'title_iv.depend.transf_withdrawn_4yr_by.2yrs', 'title_iv.depend.transf_withdrawn_2yr_by.2yrs', 'title_iv.depend.still_enrolled_by.2yrs', 'title_iv.depend.transf_still_enrolled_4yr_by.2yrs', 'title_iv.depend.transf_still_enrolled_2yr_by.2yrs', 'title_iv.depend.unknown_by.2yrs', 'title_iv.depend.transf_unknown_4yr_by.2yrs', 'title_iv.depend.transf_unknown_2yr_by.2yrs', 'title_iv.independ.died_by.2yrs', 'title_iv.independ.completed_by.2yrs', 'title_iv.independ.transf_completed_4yr_by.2yrs', 'title_iv.independ.transf_completed_2yr_by.2yrs', 'title_iv.independ.withdrawn_by.2yrs', 'title_iv.independ.transf_withdrawn_4yr_by.2yrs', 'title_iv.independ.transf_withdrawn_2yr_by.2yrs', 'title_iv.independ.still_enrolled_by.2yrs', 'title_iv.independ.transf_still_enrolled_4yr_by.2yrs', 'title_iv.independ.transf_still_enrolled_2yr_by.2yrs', 'title_iv.independ.unknown_by.2yrs', 'title_iv.independ.transf_unknown_4yr_by.2yrs', 'title_iv.independ.transf_unknown_2yr_by.2yrs', 'title_iv.female.died_by.2yrs', 'title_iv.female.completed_by.2yrs', 'title_iv.female.transf_completed_4yr_by.2yrs', 'title_iv.female.transf_completed_2yr_by.2yrs', 'title_iv.female.withdrawn_by.2yrs', 'title_iv.female.transf_withdrawn_4yr_by.2yrs', 'title_iv.female.transf_withdrawn_2yr_by.2yrs', 'title_iv.female.still_enrolled_by.2yrs', 'title_iv.female.transf_still_enrolled_4yr_by.2yrs', 'title_iv.female.transf_still_enrolled_2yr_by.2yrs', 'title_iv.female.unknown_by.2yrs', 'title_iv.female.transf_unknown_4yr_by.2yrs', 'title_iv.female.transf_unknown_2yr_by.2yrs', 'title_iv.male.died_by.2yrs', 'title_iv.male.completed_by.2yrs', 'title_iv.male.transf_completed_4yr_by.2yrs', 'title_iv.male.transf_completed_2yr_by.2yrs', 'title_iv.male.withdrawn_by.2yrs', 'title_iv.male.transf_withdrawn_4yr_by.2yrs', 'title_iv.male.transf_withdrawn_2yr_by.2yrs', 'title_iv.male.still_enrolled_by.2yrs', 'title_iv.male.transf_still_enrolled_4yr_by.2yrs', 'title_iv.male.transf_still_enrolled_2yr_by.2yrs', 'title_iv.male.unknown_by.2yrs', 'title_iv.male.transf_unknown_4yr_by.2yrs', 'title_iv.male.transf_unknown_2yr_by.2yrs', 'title_iv.pell_recip.died_by.2yrs', 'title_iv.pell_recip.completed_by.2yrs', 'title_iv.pell_recip.transf_completed_4yr_by.2yrs', 'title_iv.pell_recip.transf_completed_2yr_by.2yrs', 'title_iv.pell_recip.withdrawn_by.2yrs', 'title_iv.pell_recip.transf_withdrawn_4yr_by.2yrs', 'title_iv.pell_recip.transf_withdrawn_2yr_by.2yrs', 'title_iv.pell_recip.still_enrolled_by.2yrs', 'title_iv.pell_recip.transf_still_enrolled_4yr_by.2yrs', 'title_iv.pell_recip.transf_still_enrolled_2yr_by.2yrs', 'title_iv.pell_recip.unknown_by.2yrs', 'title_iv.pell_recip.transf_unknown_4yr_by.2yrs', 'title_iv.pell_recip.transf_unknown_2yr_by.2yrs', 'title_iv.no_pell.died_by.2yrs', 'title_iv.no_pell.completed_by.2yrs', 'title_iv.no_pell.transf_completed_4yr_by.2yrs', 'title_iv.no_pell.transf_completed_2yr_by.2yrs', 'title_iv.no_pell.withdrawn_by.2yrs', 'title_iv.no_pell.transf_withdrawn_4yr_by.2yrs', 'title_iv.no_pell.transf_withdrawn_2yr_by.2yrs', 'title_iv.no_pell.still_enrolled_by.2yrs', 'title_iv.no_pell.transf_still_enrolled_4yr_by.2yrs', 'title_iv.no_pell.transf_still_enrolled_2yr_by.2yrs', 'title_iv.no_pell.unknown_by.2yrs', 'title_iv.no_pell.transf_unknown_4yr_by.2yrs', 'title_iv.no_pell.transf_unknown_2yr_by.2yrs', 'title_iv.loan_recip.died_by.2yrs', 'title_iv.loan_recip.completed_by.2yrs', 'title_iv.loan_recip.transf_completed_4yr_by.2yrs', 'title_iv.loan_recip.transf_completed_2yr_by.2yrs', 'title_iv.loan_recip.withdrawn_by.2yrs', 'title_iv.loan_recip.transf_withdrawn_4yr_by.2yrs', 'title_iv.loan_recip.transf_withdrawn_2yr_by.2yrs', 'title_iv.loan_recip.still_enrolled_by.2yrs', 'title_iv.loan_recip.transf_still_enrolled_4yr_by.2yrs', 'title_iv.loan_recip.transf_still_enrolled_2yr_by.2yrs', 'title_iv.loan_recip.unknown_by.2yrs', 'title_iv.loan_recip.transf_unknown_4yr_by.2yrs', 'title_iv.loan_recip.transf_unknown_2yr_by.2yrs', 'title_iv.no_loan.died_by.2yrs', 'title_iv.no_loan.completed_by.2yrs', 'title_iv.no_loan.transf_completed_4yr_by.2yrs', 'title_iv.no_loan.transf_completed_2yr_by.2yrs', 'title_iv.no_loan.withdrawn_by.2yrs', 'title_iv.no_loan.transf_withdrawn_4yr_by.2yrs', 'title_iv.no_loan.transf_withdrawn_2yr_by.2yrs', 'title_iv.no_loan.still_enrolled_by.2yrs', 'title_iv.no_loan.transf_still_enrolled_4yr_by.2yrs', 'title_iv.no_loan.transf_still_enrolled_2yr_by.2yrs', 'title_iv.no_loan.unknown_by.2yrs', 'title_iv.no_loan.transf_unknown_4yr_by.2yrs', 'title_iv.no_loan.transf_unknown_2yr_by.2yrs', 'title_iv.first_gen.died_by.2yrs', 'title_iv.first_gen.completed_by.2yrs', 'title_iv.first_gen.transf_completed_4yr_by.2yrs', 'title_iv.first_gen.transf_completed_2yr_by.2yrs', 'title_iv.first_gen.withdrawn_by.2yrs', 'title_iv.first_gen.transf_withdrawn_4yr_by.2yrs', 'title_iv.first_gen.transf_withdrawn_2yr_by.2yrs', 'title_iv.first_gen.still_enrolled_by.2yrs', 'title_iv.first_gen.transf_still_enrolled_4yr_by.2yrs', 'title_iv.first_gen.transf_still_enrolled_2yr_by.2yrs', 'title_iv.first_gen.unknown_by.2yrs', 'title_iv.first_gen.transf_unknown_4yr_by.2yrs', 'title_iv.first_gen.transf_unknown_2yr_by.2yrs', 'title_iv.not_first_gen.died_by.2yrs', 'title_iv.not_first_gen.completed_by.2yrs', 'title_iv.not_first_gen.transf_completed_4yr_by.2yrs', 'title_iv.not_first_gen.transf_completed_2yr_by.2yrs', 'title_iv.not_first_gen.withdrawn_by.2yrs', 'title_iv.not_first_gen.transf_withdrawn_4yr_by.2yrs', 'title_iv.not_first_gen.transf_withdrawn_2yr_by.2yrs', 'title_iv.not_first_gen.still_enrolled_by.2yrs', 'title_iv.not_first_gen.transf_still_enrolled_4yr_by.2yrs', 'title_iv.not_first_gen.transf_still_enrolled_2yr_by.2yrs', 'title_iv.not_first_gen.unknown_by.2yrs', 'title_iv.not_first_gen.transf_unknown_4yr_by.2yrs', 'title_iv.not_first_gen.transf_unknown_2yr_by.2yrs', 'title_iv.died_by.3yrs', 'title_iv.completed_by.3yrs', 'title_iv.transf_completed_4yr_by.3yrs', 'title_iv.transf_completed_2yr_by.3yrs', 'title_iv.withdrawn_by.3yrs', 'title_iv.transf_withdrawn_4yr_by.3yrs', 'title_iv.transf_withdrawn_2yr_by.3yrs', 'title_iv.still_enrolled_by.3yrs', 'title_iv.transf_still_enrolled_4yr_by.3yrs', 'title_iv.transf_still_enrolled_2yr_by.3yrs', 'title_iv.unknown_by.3yrs', 'title_iv.transf_unknown_4yr_by.3yrs', 'title_iv.transf_unknown_2yr_by.3yrs', 'title_iv.low_inc.died_by.3yrs', 'title_iv.low_inc.completed_by.3yrs', 'title_iv.low_inc.transf_completed_4yr_by.3yrs', 'title_iv.low_inc.transf_completed_2yr_by.3yrs', 'title_iv.low_inc.withdrawn_by.3yrs', 'title_iv.low_inc.transf_withdrawn_4yr_by.3yrs', 'title_iv.low_inc.transf_withdrawn_2yr_by.3yrs', 'title_iv.low_inc.still_enrolled_by.3yrs', 'title_iv.low_inc.transf_still_enrolled_4yr_by.3yrs', 'title_iv.low_inc.transf_still_enrolled_2yr_by.3yrs', 'title_iv.low_inc.unknown_by.3yrs', 'title_iv.low_inc.transf_unknown_4yr_by.3yrs', 'title_iv.low_inc.transf_unknown_2yr_by.3yrs', 'title_iv.mid_inc.died_by.3yrs', 'title_iv.mid_inc.completed_by.3yrs', 'title_iv.mid_inc.transf_completed_4yr_by.3yrs', 'title_iv.mid_inc.transf_completed_2yr_by.3yrs', 'title_iv.mid_inc.withdrawn_by.3yrs', 'title_iv.mid_inc.transf_withdrawn_4yr_by.3yrs', 'title_iv.mid_inc.transf_withdrawn_2yr_by.3yrs', 'title_iv.mid_inc.still_enrolled_by.3yrs', 'title_iv.mid_inc.transf_still_enrolled_4yr_by.3yrs', 'title_iv.mid_inc.transf_still_enrolled_2yr_by.3yrs', 'title_iv.mid_inc.unknown_by.3yrs', 'title_iv.mid_inc.transf_unknown_4yr_by.3yrs', 'title_iv.mid_inc.transf_unknown_2yr_by.3yrs', 'title_iv.high_inc.died_by.3yrs', 'title_iv.high_inc.completed_by.3yrs', 'title_iv.high_inc.transf_completed_4yr_by.3yrs', 'title_iv.high_inc.transf_completed_2yr_by.3yrs', 'title_iv.high_inc.withdrawn_by.3yrs', 'title_iv.high_inc.transf_withdrawn_4yr_by.3yrs', 'title_iv.high_inc.transf_withdrawn_2yr_by.3yrs', 'title_iv.high_inc.still_enrolled_by.3yrs', 'title_iv.high_inc.transf_still_enrolled_4yr_by.3yrs', 'title_iv.high_inc.transf_still_enrolled_2yr_by.3yrs', 'title_iv.high_inc.unknown_by.3yrs', 'title_iv.high_inc.transf_unknown_4yr_by.3yrs', 'title_iv.high_inc.transf_unknown_2yr_by.3yrs', 'title_iv.depend.died_by.3yrs', 'title_iv.depend.completed_by.3yrs', 'title_iv.depend.transf_completed_4yr_by.3yrs', 'title_iv.depend.transf_completed_2yr_by.3yrs', 'title_iv.depend.withdrawn_by.3yrs', 'title_iv.depend.transf_withdrawn_4yr_by.3yrs', 'title_iv.depend.transf_withdrawn_2yr_by.3yrs', 'title_iv.depend.still_enrolled_by.3yrs', 'title_iv.depend.transf_still_enrolled_4yr_by.3yrs', 'title_iv.depend.transf_still_enrolled_2yr_by.3yrs', 'title_iv.depend.unknown_by.3yrs', 'title_iv.depend.transf_unknown_4yr_by.3yrs', 'title_iv.depend.transf_unknown_2yr_by.3yrs', 'title_iv.independ.died_by.3yrs', 'title_iv.independ.completed_by.3yrs', 'title_iv.independ.transf_completed_4yr_by.3yrs', 'title_iv.independ.transf_completed_2yr_by.3yrs', 'title_iv.independ.withdrawn_by.3yrs', 'title_iv.independ.transf_withdrawn_4yr_by.3yrs', 'title_iv.independ.transf_withdrawn_2yr_by.3yrs', 'title_iv.independ.still_enrolled_by.3yrs', 'title_iv.independ.transf_still_enrolled_4yr_by.3yrs', 'title_iv.independ.transf_still_enrolled_2yr_by.3yrs', 'title_iv.independ.unknown_by.3yrs', 'title_iv.independ.transf_unknown_4yr_by.3yrs', 'title_iv.independ.transf_unknown_2yr_by.3yrs', 'title_iv.female.died_by.3yrs', 'title_iv.female.completed_by.3yrs', 'title_iv.female.transf_completed_4yr_by.3yrs', 'title_iv.female.transf_completed_2yr_by.3yrs', 'title_iv.female.withdrawn_by.3yrs', 'title_iv.female.transf_withdrawn_4yr_by.3yrs', 'title_iv.female.transf_withdrawn_2yr_by.3yrs', 'title_iv.female.still_enrolled_by.3yrs', 'title_iv.female.transf_still_enrolled_4yr_by.3yrs', 'title_iv.female.transf_still_enrolled_2yr_by.3yrs', 'title_iv.female.unknown_by.3yrs', 'title_iv.female.transf_unknown_4yr_by.3yrs', 'title_iv.female.transf_unknown_2yr_by.3yrs', 'title_iv.male.died_by.3yrs', 'title_iv.male.completed_by.3yrs', 'title_iv.male.transf_completed_4yr_by.3yrs', 'title_iv.male.transf_completed_2yr_by.3yrs', 'title_iv.male.withdrawn_by.3yrs', 'title_iv.male.transf_withdrawn_4yr_by.3yrs', 'title_iv.male.transf_withdrawn_2yr_by.3yrs', 'title_iv.male.still_enrolled_by.3yrs', 'title_iv.male.transf_still_enrolled_4yr_by.3yrs', 'title_iv.male.transf_still_enrolled_2yr_by.3yrs', 'title_iv.male.unknown_by.3yrs', 'title_iv.male.transf_unknown_4yr_by.3yrs', 'title_iv.male.transf_unknown_2yr_by.3yrs', 'title_iv.pell_recip.died_by.3yrs', 'title_iv.pell_recip.completed_by.3yrs', 'title_iv.pell_recip.transf_completed_4yr_by.3yrs', 'title_iv.pell_recip.transf_completed_2yr_by.3yrs', 'title_iv.pell_recip.withdrawn_by.3yrs', 'title_iv.pell_recip.transf_withdrawn_4yr_by.3yrs', 'title_iv.pell_recip.transf_withdrawn_2yr_by.3yrs', 'title_iv.pell_recip.still_enrolled_by.3yrs', 'title_iv.pell_recip.transf_still_enrolled_4yr_by.3yrs', 'title_iv.pell_recip.transf_still_enrolled_2yr_by.3yrs', 'title_iv.pell_recip.unknown_by.3yrs', 'title_iv.pell_recip.transf_unknown_4yr_by.3yrs', 'title_iv.pell_recip.transf_unknown_2yr_by.3yrs', 'title_iv.no_pell.died_by.3yrs', 'title_iv.no_pell.completed_by.3yrs', 'title_iv.no_pell.transf_completed_4yr_by.3yrs', 'title_iv.no_pell.transf_completed_2yr_by.3yrs', 'title_iv.no_pell.withdrawn_by.3yrs', 'title_iv.no_pell.transf_withdrawn_4yr_by.3yrs', 'title_iv.no_pell.transf_withdrawn_2yr_by.3yrs', 'title_iv.no_pell.still_enrolled_by.3yrs', 'title_iv.no_pell.transf_still_enrolled_4yr_by.3yrs', 'title_iv.no_pell.transf_still_enrolled_2yr_by.3yrs', 'title_iv.no_pell.unknown_by.3yrs', 'title_iv.no_pell.transf_unknown_4yr_by.3yrs', 'title_iv.no_pell.transf_unknown_2yr_by.3yrs', 'title_iv.loan_recip.died_by.3yrs', 'title_iv.loan_recip.completed_by.3yrs', 'title_iv.loan_recip.transf_completed_4yr_by.3yrs', 'title_iv.loan_recip.transf_completed_2yr_by.3yrs', 'title_iv.loan_recip.withdrawn_by.3yrs', 'title_iv.loan_recip.transf_withdrawn_4yr_by.3yrs', 'title_iv.loan_recip.transf_withdrawn_2yr_by.3yrs', 'title_iv.loan_recip.still_enrolled_by.3yrs', 'title_iv.loan_recip.transf_still_enrolled_4yr_by.3yrs', 'title_iv.loan_recip.transf_still_enrolled_2yr_by.3yrs', 'title_iv.loan_recip.unknown_by.3yrs', 'title_iv.loan_recip.transf_unknown_4yr_by.3yrs', 'title_iv.loan_recip.transf_unknown_2yr_by.3yrs', 'title_iv.no_loan.died_by.3yrs', 'title_iv.no_loan.completed_by.3yrs', 'title_iv.no_loan.transf_completed_4yr_by.3yrs', 'title_iv.no_loan.transf_completed_2yr_by.3yrs', 'title_iv.no_loan.withdrawn_by.3yrs', 'title_iv.no_loan.transf_withdrawn_4yr_by.3yrs', 'title_iv.no_loan.transf_withdrawn_2yr_by.3yrs', 'title_iv.no_loan.still_enrolled_by.3yrs', 'title_iv.no_loan.transf_still_enrolled_4yr_by.3yrs', 'title_iv.no_loan.transf_still_enrolled_2yr_by.3yrs', 'title_iv.no_loan.unknown_by.3yrs', 'title_iv.no_loan.transf_unknown_4yr_by.3yrs', 'title_iv.no_loan.transf_unknown_2yr_by.3yrs', 'title_iv.first_gen.died_by.3yrs', 'title_iv.first_gen.completed_by.3yrs', 'title_iv.first_gen.transf_completed_4yr_by.3yrs', 'title_iv.first_gen.transf_completed_2yr_by.3yrs', 'title_iv.first_gen.withdrawn_by.3yrs', 'title_iv.first_gen.transf_withdrawn_4yr_by.3yrs', 'title_iv.first_gen.transf_withdrawn_2yr_by.3yrs', 'title_iv.first_gen.still_enrolled_by.3yrs', 'title_iv.first_gen.transf_still_enrolled_4yr_by.3yrs', 'title_iv.first_gen.transf_still_enrolled_2yr_by.3yrs', 'title_iv.first_gen.unknown_by.3yrs', 'title_iv.first_gen.transf_unknown_4yr_by.3yrs', 'title_iv.first_gen.transf_unknown_2yr_by.3yrs', 'title_iv.not_first_gen.died_by.3yrs', 'title_iv.not_first_gen.completed_by.3yrs', 'title_iv.not_first_gen.transf_completed_4yr_by.3yrs', 'title_iv.not_first_gen.transf_completed_2yr_by.3yrs', 'title_iv.not_first_gen.withdrawn_by.3yrs', 'title_iv.not_first_gen.transf_withdrawn_4yr_by.3yrs', 'title_iv.not_first_gen.transf_withdrawn_2yr_by.3yrs', 'title_iv.not_first_gen.still_enrolled_by.3yrs', 'title_iv.not_first_gen.transf_still_enrolled_4yr_by.3yrs', 'title_iv.not_first_gen.transf_still_enrolled_2yr_by.3yrs', 'title_iv.not_first_gen.unknown_by.3yrs', 'title_iv.not_first_gen.transf_unknown_4yr_by.3yrs', 'title_iv.not_first_gen.transf_unknown_2yr_by.3yrs', 'title_iv.died_by.4yrs', 'title_iv.completed_by.4yrs', 'title_iv.transf_completed_4yr_by.4yrs', 'title_iv.transf_completed_2yr_by.4yrs', 'title_iv.withdrawn_by.4yrs', 'title_iv.transf_withdrawn_4yr_by.4yrs', 'title_iv.transf_withdrawn_2yr_by.4yrs', 'title_iv.still_enrolled_by.4yrs', 'title_iv.transf_still_enrolled_4yr_by.4yrs', 'title_iv.transf_still_enrolled_2yr_by.4yrs', 'title_iv.unknown_by.4yrs', 'title_iv.transf_unknown_4yr_by.4yrs', 'title_iv.transf_unknown_2yr_by.4yrs', 'title_iv.low_inc.died_by.4yrs', 'title_iv.low_inc.completed_by.4yrs', 'title_iv.low_inc.transf_completed_4yr_by.4yrs', 'title_iv.low_inc.transf_completed_2yr_by.4yrs', 'title_iv.low_inc.withdrawn_by.4yrs', 'title_iv.low_inc.transf_withdrawn_4yr_by.4yrs', 'title_iv.low_inc.transf_withdrawn_2yr_by.4yrs', 'title_iv.low_inc.still_enrolled_by.4yrs', 'title_iv.low_inc.transf_still_enrolled_4yr_by.4yrs', 'title_iv.low_inc.transf_still_enrolled_2yr_by.4yrs', 'title_iv.low_inc.unknown_by.4yrs', 'title_iv.low_inc.transf_unknown_4yr_by.4yrs', 'title_iv.low_inc.transf_unknown_2yr_by.4yrs', 'title_iv.mid_inc.died_by.4yrs', 'title_iv.mid_inc.completed_by.4yrs', 'title_iv.mid_inc.transf_completed_4yr_by.4yrs', 'title_iv.mid_inc.transf_completed_2yr_by.4yrs', 'title_iv.mid_inc.withdrawn_by.4yrs', 'title_iv.mid_inc.transf_withdrawn_4yr_by.4yrs', 'title_iv.mid_inc.transf_withdrawn_2yr_by.4yrs', 'title_iv.mid_inc.still_enrolled_by.4yrs', 'title_iv.mid_inc.transf_still_enrolled_4yr_by.4yrs', 'title_iv.mid_inc.transf_still_enrolled_2yr_by.4yrs', 'title_iv.mid_inc.unknown_by.4yrs', 'title_iv.mid_inc.transf_unknown_4yr_by.4yrs', 'title_iv.mid_inc.transf_unknown_2yr_by.4yrs', 'title_iv.high_inc.died_by.4yrs', 'title_iv.high_inc.completed_by.4yrs', 'title_iv.high_inc.transf_completed_4yr_by.4yrs', 'title_iv.high_inc.transf_completed_2yr_by.4yrs', 'title_iv.high_inc.withdrawn_by.4yrs', 'title_iv.high_inc.transf_withdrawn_4yr_by.4yrs', 'title_iv.high_inc.transf_withdrawn_2yr_by.4yrs', 'title_iv.high_inc.still_enrolled_by.4yrs', 'title_iv.high_inc.transf_still_enrolled_4yr_by.4yrs', 'title_iv.high_inc.transf_still_enrolled_2yr_by.4yrs', 'title_iv.high_inc.unknown_by.4yrs', 'title_iv.high_inc.transf_unknown_4yr_by.4yrs', 'title_iv.high_inc.transf_unknown_2yr_by.4yrs', 'title_iv.depend.died_by.4yrs', 'title_iv.depend.completed_by.4yrs', 'title_iv.depend.transf_completed_4yr_by.4yrs', 'title_iv.depend.transf_completed_2yr_by.4yrs', 'title_iv.depend.withdrawn_by.4yrs', 'title_iv.depend.transf_withdrawn_4yr_by.4yrs', 'title_iv.depend.transf_withdrawn_2yr_by.4yrs', 'title_iv.depend.still_enrolled_by.4yrs', 'title_iv.depend.transf_still_enrolled_4yr_by.4yrs', 'title_iv.depend.transf_still_enrolled_2yr_by.4yrs', 'title_iv.depend.unknown_by.4yrs', 'title_iv.depend.transf_unknown_4yr_by.4yrs', 'title_iv.depend.transf_unknown_2yr_by.4yrs', 'title_iv.independ.died_by.4yrs', 'title_iv.independ.completed_by.4yrs', 'title_iv.independ.transf_completed_4yr_by.4yrs', 'title_iv.independ.transf_completed_2yr_by.4yrs', 'title_iv.independ.withdrawn_by.4yrs', 'title_iv.independ.transf_withdrawn_4yr_by.4yrs', 'title_iv.independ.transf_withdrawn_2yr_by.4yrs', 'title_iv.independ.still_enrolled_by.4yrs', 'title_iv.independ.transf_still_enrolled_4yr_by.4yrs', 'title_iv.independ.transf_still_enrolled_2yr_by.4yrs', 'title_iv.independ.unknown_by.4yrs', 'title_iv.independ.transf_unknown_4yr_by.4yrs', 'title_iv.independ.transf_unknown_2yr_by.4yrs', 'title_iv.female.died_by.4yrs', 'title_iv.female.completed_by.4yrs', 'title_iv.female.transf_completed_4yr_by.4yrs', 'title_iv.female.transf_completed_2yr_by.4yrs', 'title_iv.female.withdrawn_by.4yrs', 'title_iv.female.transf_withdrawn_4yr_by.4yrs', 'title_iv.female.transf_withdrawn_2yr_by.4yrs', 'title_iv.female.still_enrolled_by.4yrs', 'title_iv.female.transf_still_enrolled_4yr_by.4yrs', 'title_iv.female.transf_still_enrolled_2yr_by.4yrs', 'title_iv.female.unknown_by.4yrs', 'title_iv.female.transf_unknown_4yr_by.4yrs', 'title_iv.female.transf_unknown_2yr_by.4yrs', 'title_iv.male.died_by.4yrs', 'title_iv.male.completed_by.4yrs', 'title_iv.male.transf_completed_4yr_by.4yrs', 'title_iv.male.transf_completed_2yr_by.4yrs', 'title_iv.male.withdrawn_by.4yrs', 'title_iv.male.transf_withdrawn_4yr_by.4yrs', 'title_iv.male.transf_withdrawn_2yr_by.4yrs', 'title_iv.male.still_enrolled_by.4yrs', 'title_iv.male.transf_still_enrolled_4yr_by.4yrs', 'title_iv.male.transf_still_enrolled_2yr_by.4yrs', 'title_iv.male.unknown_by.4yrs', 'title_iv.male.transf_unknown_4yr_by.4yrs', 'title_iv.male.transf_unknown_2yr_by.4yrs', 'title_iv.pell_recip.died_by.4yrs', 'title_iv.pell_recip.completed_by.4yrs', 'title_iv.pell_recip.transf_completed_4yr_by.4yrs', 'title_iv.pell_recip.transf_completed_2yr_by.4yrs', 'title_iv.pell_recip.withdrawn_by.4yrs', 'title_iv.pell_recip.transf_withdrawn_4yr_by.4yrs', 'title_iv.pell_recip.transf_withdrawn_2yr_by.4yrs', 'title_iv.pell_recip.still_enrolled_by.4yrs', 'title_iv.pell_recip.transf_still_enrolled_4yr_by.4yrs', 'title_iv.pell_recip.transf_still_enrolled_2yr_by.4yrs', 'title_iv.pell_recip.unknown_by.4yrs', 'title_iv.pell_recip.transf_unknown_4yr_by.4yrs', 'title_iv.pell_recip.transf_unknown_2yr_by.4yrs', 'title_iv.no_pell.died_by.4yrs', 'title_iv.no_pell.completed_by.4yrs', 'title_iv.no_pell.transf_completed_4yr_by.4yrs', 'title_iv.no_pell.transf_completed_2yr_by.4yrs', 'title_iv.no_pell.withdrawn_by.4yrs', 'title_iv.no_pell.transf_withdrawn_4yr_by.4yrs', 'title_iv.no_pell.transf_withdrawn_2yr_by.4yrs', 'title_iv.no_pell.still_enrolled_by.4yrs', 'title_iv.no_pell.transf_still_enrolled_4yr_by.4yrs', 'title_iv.no_pell.transf_still_enrolled_2yr_by.4yrs', 'title_iv.no_pell.unknown_by.4yrs', 'title_iv.no_pell.transf_unknown_4yr_by.4yrs', 'title_iv.no_pell.transf_unknown_2yr_by.4yrs', 'title_iv.loan_recip.died_by.4yrs', 'title_iv.loan_recip.completed_by.4yrs', 'title_iv.loan_recip.transf_completed_4yr_by.4yrs', 'title_iv.loan_recip.transf_completed_2yr_by.4yrs', 'title_iv.loan_recip.withdrawn_by.4yrs', 'title_iv.loan_recip.transf_withdrawn_4yr_by.4yrs', 'title_iv.loan_recip.transf_withdrawn_2yr_by.4yrs', 'title_iv.loan_recip.still_enrolled_by.4yrs', 'title_iv.loan_recip.transf_still_enrolled_4yr_by.4yrs', 'title_iv.loan_recip.transf_still_enrolled_2yr_by.4yrs', 'title_iv.loan_recip.unknown_by.4yrs', 'title_iv.loan_recip.transf_unknown_4yr_by.4yrs', 'title_iv.loan_recip.transf_unknown_2yr_by.4yrs', 'title_iv.no_loan.died_by.4yrs', 'title_iv.no_loan.completed_by.4yrs', 'title_iv.no_loan.transf_completed_4yr_by.4yrs', 'title_iv.no_loan.transf_completed_2yr_by.4yrs', 'title_iv.no_loan.withdrawn_by.4yrs', 'title_iv.no_loan.transf_withdrawn_4yr_by.4yrs', 'title_iv.no_loan.transf_withdrawn_2yr_by.4yrs', 'title_iv.no_loan.still_enrolled_by.4yrs', 'title_iv.no_loan.transf_still_enrolled_4yr_by.4yrs', 'title_iv.no_loan.transf_still_enrolled_2yr_by.4yrs', 'title_iv.no_loan.unknown_by.4yrs', 'title_iv.no_loan.transf_unknown_4yr_by.4yrs', 'title_iv.no_loan.transf_unknown_2yr_by.4yrs', 'title_iv.first_gen.died_by.4yrs', 'title_iv.first_gen.completed_by.4yrs', 'title_iv.first_gen.transf_completed_4yr_by.4yrs', 'title_iv.first_gen.transf_completed_2yr_by.4yrs', 'title_iv.first_gen.withdrawn_by.4yrs', 'title_iv.first_gen.transf_withdrawn_4yr_by.4yrs', 'title_iv.first_gen.transf_withdrawn_2yr_by.4yrs', 'title_iv.first_gen.still_enrolled_by.4yrs', 'title_iv.first_gen.transf_still_enrolled_4yr_by.4yrs', 'title_iv.first_gen.transf_still_enrolled_2yr_by.4yrs', 'title_iv.first_gen.unknown_by.4yrs', 'title_iv.first_gen.transf_unknown_4yr_by.4yrs', 'title_iv.first_gen.transf_unknown_2yr_by.4yrs', 'title_iv.not_first_gen.died_by.4yrs', 'title_iv.not_first_gen.completed_by.4yrs', 'title_iv.not_first_gen.transf_completed_4yr_by.4yrs', 'title_iv.not_first_gen.transf_completed_2yr_by.4yrs', 'title_iv.not_first_gen.withdrawn_by.4yrs', 'title_iv.not_first_gen.transf_withdrawn_4yr_by.4yrs', 'title_iv.not_first_gen.transf_withdrawn_2yr_by.4yrs', 'title_iv.not_first_gen.still_enrolled_by.4yrs', 'title_iv.not_first_gen.transf_still_enrolled_4yr_by.4yrs', 'title_iv.not_first_gen.transf_still_enrolled_2yr_by.4yrs', 'title_iv.not_first_gen.unknown_by.4yrs', 'title_iv.not_first_gen.transf_unknown_4yr_by.4yrs', 'title_iv.not_first_gen.transf_unknown_2yr_by.4yrs', 'title_iv.died_by.6yrs', 'title_iv.completed_by.6yrs', 'title_iv.transf_completed_4yr_by.6yrs', 'title_iv.transf_completed_2yr_by.6yrs', 'title_iv.withdrawn_by.6yrs', 'title_iv.transf_withdrawn_4yr_by.6yrs', 'title_iv.transf_withdrawn_2yr_by.6yrs', 'title_iv.still_enrolled_by.6yrs', 'title_iv.transf_still_enrolled_4yr_by.6yrs', 'title_iv.transf_still_enrolled_2yr_by.6yrs', 'title_iv.unknown_by.6yrs', 'title_iv.transf_unknown_4yr_by.6yrs', 'title_iv.transf_unknown_2yr_by.6yrs', 'title_iv.low_inc.died_by.6yrs', 'title_iv.low_inc.completed_by.6yrs', 'title_iv.low_inc.transf_completed_4yr_by.6yrs', 'title_iv.low_inc.transf_completed_2yr_by.6yrs', 'title_iv.low_inc.withdrawn_by.6yrs', 'title_iv.low_inc.transf_withdrawn_4yr_by.6yrs', 'title_iv.low_inc.transf_withdrawn_2yr_by.6yrs', 'title_iv.low_inc.still_enrolled_by.6yrs', 'title_iv.low_inc.transf_still_enrolled_4yr_by.6yrs', 'title_iv.low_inc.transf_still_enrolled_2yr_by.6yrs', 'title_iv.low_inc.unknown_by.6yrs', 'title_iv.low_inc.transf_unknown_4yr_by.6yrs', 'title_iv.low_inc.transf_unknown_2yr_by.6yrs', 'title_iv.mid_inc.died_by.6yrs', 'title_iv.mid_inc.completed_by.6yrs', 'title_iv.mid_inc.transf_completed_4yr_by.6yrs', 'title_iv.mid_inc.transf_completed_2yr_by.6yrs', 'title_iv.mid_inc.withdrawn_by.6yrs', 'title_iv.mid_inc.transf_withdrawn_4yr_by.6yrs', 'title_iv.mid_inc.transf_withdrawn_2yr_by.6yrs', 'title_iv.mid_inc.still_enrolled_by.6yrs', 'title_iv.mid_inc.transf_still_enrolled_4yr_by.6yrs', 'title_iv.mid_inc.transf_still_enrolled_2yr_by.6yrs', 'title_iv.mid_inc.unknown_by.6yrs', 'title_iv.mid_inc.transf_unknown_4yr_by.6yrs', 'title_iv.mid_inc.transf_unknown_2yr_by.6yrs', 'title_iv.high_inc.died_by.6yrs', 'title_iv.high_inc.completed_by.6yrs', 'title_iv.high_inc.transf_completed_4yr_by.6yrs', 'title_iv.high_inc.transf_completed_2yr_by.6yrs', 'title_iv.high_inc.withdrawn_by.6yrs', 'title_iv.high_inc.transf_withdrawn_4yr_by.6yrs', 'title_iv.high_inc.transf_withdrawn_2yr_by.6yrs', 'title_iv.high_inc.still_enrolled_by.6yrs', 'title_iv.high_inc.transf_still_enrolled_4yr_by.6yrs', 'title_iv.high_inc.transf_still_enrolled_2yr_by.6yrs', 'title_iv.high_inc.unknown_by.6yrs', 'title_iv.high_inc.transf_unknown_4yr_by.6yrs', 'title_iv.high_inc.transf_unknown_2yr_by.6yrs', 'title_iv.depend.died_by.6yrs', 'title_iv.depend.completed_by.6yrs', 'title_iv.depend.transf_completed_4yr_by.6yrs', 'title_iv.depend.transf_completed_2yr_by.6yrs', 'title_iv.depend.withdrawn_by.6yrs', 'title_iv.depend.transf_withdrawn_4yr_by.6yrs', 'title_iv.depend.transf_withdrawn_2yr_by.6yrs', 'title_iv.depend.still_enrolled_by.6yrs', 'title_iv.depend.transf_still_enrolled_4yr_by.6yrs', 'title_iv.depend.transf_still_enrolled_2yr_by.6yrs', 'title_iv.depend.unknown_by.6yrs', 'title_iv.depend.transf_unknown_4yr_by.6yrs', 'title_iv.depend.transf_unknown_2yr_by.6yrs', 'title_iv.independ.died_by.6yrs', 'title_iv.independ.completed_by.6yrs', 'title_iv.independ.transf_completed_4yr_by.6yrs', 'title_iv.independ.transf_completed_2yr_by.6yrs', 'title_iv.independ.withdrawn_by.6yrs', 'title_iv.independ.transf_withdrawn_4yr_by.6yrs', 'title_iv.independ.transf_withdrawn_2yr_by.6yrs', 'title_iv.independ.still_enrolled_by.6yrs', 'title_iv.independ.transf_still_enrolled_4yr_by.6yrs', 'title_iv.independ.transf_still_enrolled_2yr_by.6yrs', 'title_iv.independ.unknown_by.6yrs', 'title_iv.independ.transf_unknown_4yr_by.6yrs', 'title_iv.independ.transf_unknown_2yr_by.6yrs', 'title_iv.female.died_by.6yrs', 'title_iv.female.completed_by.6yrs', 'title_iv.female.transf_completed_4yr_by.6yrs', 'title_iv.female.transf_completed_2yr_by.6yrs', 'title_iv.female.withdrawn_by.6yrs', 'title_iv.female.transf_withdrawn_4yr_by.6yrs', 'title_iv.female.transf_withdrawn_2yr_by.6yrs', 'title_iv.female.still_enrolled_by.6yrs', 'title_iv.female.transf_still_enrolled_4yr_by.6yrs', 'title_iv.female.transf_still_enrolled_2yr_by.6yrs', 'title_iv.female.unknown_by.6yrs', 'title_iv.female.transf_unknown_4yr_by.6yrs', 'title_iv.female.transf_unknown_2yr_by.6yrs', 'title_iv.male.died_by.6yrs', 'title_iv.male.completed_by.6yrs', 'title_iv.male.transf_completed_4yr_by.6yrs', 'title_iv.male.transf_completed_2yr_by.6yrs', 'title_iv.male.withdrawn_by.6yrs', 'title_iv.male.transf_withdrawn_4yr_by.6yrs', 'title_iv.male.transf_withdrawn_2yr_by.6yrs', 'title_iv.male.still_enrolled_by.6yrs', 'title_iv.male.transf_still_enrolled_4yr_by.6yrs', 'title_iv.male.transf_still_enrolled_2yr_by.6yrs', 'title_iv.male.unknown_by.6yrs', 'title_iv.male.transf_unknown_4yr_by.6yrs', 'title_iv.male.transf_unknown_2yr_by.6yrs', 'title_iv.pell_recip.died_by.6yrs', 'title_iv.pell_recip.completed_by.6yrs', 'title_iv.pell_recip.transf_completed_4yr_by.6yrs', 'title_iv.pell_recip.transf_completed_2yr_by.6yrs', 'title_iv.pell_recip.withdrawn_by.6yrs', 'title_iv.pell_recip.transf_withdrawn_4yr_by.6yrs', 'title_iv.pell_recip.transf_withdrawn_2yr_by.6yrs', 'title_iv.pell_recip.still_enrolled_by.6yrs', 'title_iv.pell_recip.transf_still_enrolled_4yr_by.6yrs', 'title_iv.pell_recip.transf_still_enrolled_2yr_by.6yrs', 'title_iv.pell_recip.unknown_by.6yrs', 'title_iv.pell_recip.transf_unknown_4yr_by.6yrs', 'title_iv.pell_recip.transf_unknown_2yr_by.6yrs', 'title_iv.no_pell.died_by.6yrs', 'title_iv.no_pell.completed_by.6yrs', 'title_iv.no_pell.transf_completed_4yr_by.6yrs', 'title_iv.no_pell.transf_completed_2yr_by.6yrs', 'title_iv.no_pell.withdrawn_by.6yrs', 'title_iv.no_pell.transf_withdrawn_4yr_by.6yrs', 'title_iv.no_pell.transf_withdrawn_2yr_by.6yrs', 'title_iv.no_pell.still_enrolled_by.6yrs', 'title_iv.no_pell.transf_still_enrolled_4yr_by.6yrs', 'title_iv.no_pell.transf_still_enrolled_2yr_by.6yrs', 'title_iv.no_pell.unknown_by.6yrs', 'title_iv.no_pell.transf_unknown_4yr_by.6yrs', 'title_iv.no_pell.transf_unknown_2yr_by.6yrs', 'title_iv.loan_recip.died_by.6yrs', 'title_iv.loan_recip.completed_by.6yrs', 'title_iv.loan_recip.transf_completed_4yr_by.6yrs', 'title_iv.loan_recip.transf_completed_2yr_by.6yrs', 'title_iv.loan_recip.withdrawn_by.6yrs', 'title_iv.loan_recip.transf_withdrawn_4yr_by.6yrs', 'title_iv.loan_recip.transf_withdrawn_2yr_by.6yrs', 'title_iv.loan_recip.still_enrolled_by.6yrs', 'title_iv.loan_recip.transf_still_enrolled_4yr_by.6yrs', 'title_iv.loan_recip.transf_still_enrolled_2yr_by.6yrs', 'title_iv.loan_recip.unknown_by.6yrs', 'title_iv.loan_recip.transf_unknown_4yr_by.6yrs', 'title_iv.loan_recip.transf_unknown_2yr_by.6yrs', 'title_iv.no_loan.died_by.6yrs', 'title_iv.no_loan.completed_by.6yrs', 'title_iv.no_loan.transf_completed_4yr_by.6yrs', 'title_iv.no_loan.transf_completed_2yr_by.6yrs', 'title_iv.no_loan.withdrawn_by.6yrs', 'title_iv.no_loan.transf_withdrawn_4yr_by.6yrs', 'title_iv.no_loan.transf_withdrawn_2yr_by.6yrs', 'title_iv.no_loan.still_enrolled_by.6yrs', 'title_iv.no_loan.transf_still_enrolled_4yr_by.6yrs', 'title_iv.no_loan.transf_still_enrolled_2yr_by.6yrs', 'title_iv.no_loan.unknown_by.6yrs', 'title_iv.no_loan.transf_unknown_4yr_by.6yrs', 'title_iv.no_loan.transf_unknown_2yr_by.6yrs', 'title_iv.first_gen.died_by.6yrs', 'title_iv.first_gen.completed_by.6yrs', 'title_iv.first_gen.transf_completed_4yr_by.6yrs', 'title_iv.first_gen.transf_completed_2yr_by.6yrs', 'title_iv.first_gen.withdrawn_by.6yrs', 'title_iv.first_gen.transf_withdrawn_4yr_by.6yrs', 'title_iv.first_gen.transf_withdrawn_2yr_by.6yrs', 'title_iv.first_gen.still_enrolled_by.6yrs', 'title_iv.first_gen.transf_still_enrolled_4yr_by.6yrs', 'title_iv.first_gen.transf_still_enrolled_2yr_by.6yrs', 'title_iv.first_gen.unknown_by.6yrs', 'title_iv.first_gen.transf_unknown_4yr_by.6yrs', 'title_iv.first_gen.transf_unknown_2yr_by.6yrs', 'title_iv.not_first_gen.died_by.6yrs', 'title_iv.not_first_gen.completed_by.6yrs', 'title_iv.not_first_gen.transf_completed_4yr_by.6yrs', 'title_iv.not_first_gen.transf_completed_2yr_by.6yrs', 'title_iv.not_first_gen.withdrawn_by.6yrs', 'title_iv.not_first_gen.transf_withdrawn_4yr_by.6yrs', 'title_iv.not_first_gen.transf_withdrawn_2yr_by.6yrs', 'title_iv.not_first_gen.still_enrolled_by.6yrs', 'title_iv.not_first_gen.transf_still_enrolled_4yr_by.6yrs', 'title_iv.not_first_gen.transf_still_enrolled_2yr_by.6yrs', 'title_iv.not_first_gen.unknown_by.6yrs', 'title_iv.not_first_gen.transf_unknown_4yr_by.6yrs', 'title_iv.not_first_gen.transf_unknown_2yr_by.6yrs', 'title_iv.died_by.8yrs', 'title_iv.completed_by.8yrs', 'title_iv.transf_completed_4yr_by.8yrs', 'title_iv.transf_completed_2yr_by.8yrs', 'title_iv.withdrawn_by.8yrs', 'title_iv.transf_withdrawn_4yr_by.8yrs', 'title_iv.transf_withdrawn_2yr_by.8yrs', 'title_iv.still_enrolled_by.8yrs', 'title_iv.transf_still_enrolled_4yr_by.8yrs', 'title_iv.transf_still_enrolled_2yr_by.8yrs', 'title_iv.unknown_by.8yrs', 'title_iv.transf_unknown_4yr_by.8yrs', 'title_iv.transf_unknown_2yr_by.8yrs', 'title_iv.low_inc.died_by.8yrs', 'title_iv.low_inc.completed_by.8yrs', 'title_iv.low_inc.transf_completed_4yr_by.8yrs', 'title_iv.low_inc.transf_completed_2yr_by.8yrs', 'title_iv.low_inc.withdrawn_by.8yrs', 'title_iv.low_inc.transf_withdrawn_4yr_by.8yrs', 'title_iv.low_inc.transf_withdrawn_2yr_by.8yrs', 'title_iv.low_inc.still_enrolled_by.8yrs', 'title_iv.low_inc.transf_still_enrolled_4yr_by.8yrs', 'title_iv.low_inc.transf_still_enrolled_2yr_by.8yrs', 'title_iv.low_inc.unknown_by.8yrs', 'title_iv.low_inc.transf_unknown_4yr_by.8yrs', 'title_iv.low_inc.transf_unknown_2yr_by.8yrs', 'title_iv.mid_inc.died_by.8yrs', 'title_iv.mid_inc.completed_by.8yrs', 'title_iv.mid_inc.transf_completed_4yr_by.8yrs', 'title_iv.mid_inc.transf_completed_2yr_by.8yrs', 'title_iv.mid_inc.withdrawn_by.8yrs', 'title_iv.mid_inc.transf_withdrawn_4yr_by.8yrs', 'title_iv.mid_inc.transf_withdrawn_2yr_by.8yrs', 'title_iv.mid_inc.still_enrolled_by.8yrs', 'title_iv.mid_inc.transf_still_enrolled_4yr_by.8yrs', 'title_iv.mid_inc.transf_still_enrolled_2yr_by.8yrs', 'title_iv.mid_inc.unknown_by.8yrs', 'title_iv.mid_inc.transf_unknown_4yr_by.8yrs', 'title_iv.mid_inc.transf_unknown_2yr_by.8yrs', 'title_iv.high_inc.died_by.8yrs', 'title_iv.high_inc.completed_by.8yrs', 'title_iv.high_inc.transf_completed_4yr_by.8yrs', 'title_iv.high_inc.transf_completed_2yr_by.8yrs', 'title_iv.high_inc.withdrawn_by.8yrs', 'title_iv.high_inc.transf_withdrawn_4yr_by.8yrs', 'title_iv.high_inc.transf_withdrawn_2yr_by.8yrs', 'title_iv.high_inc.still_enrolled_by.8yrs', 'title_iv.high_inc.transf_still_enrolled_4yr_by.8yrs', 'title_iv.high_inc.transf_still_enrolled_2yr_by.8yrs', 'title_iv.high_inc.unknown_by.8yrs', 'title_iv.high_inc.transf_unknown_4yr_by.8yrs', 'title_iv.high_inc.transf_unknown_2yr_by.8yrs', 'title_iv.depend.died_by.8yrs', 'title_iv.depend.completed_by.8yrs', 'title_iv.depend.transf_completed_4yr_by.8yrs', 'title_iv.depend.transf_completed_2yr_by.8yrs', 'title_iv.depend.withdrawn_by.8yrs', 'title_iv.depend.transf_withdrawn_4yr_by.8yrs', 'title_iv.depend.transf_withdrawn_2yr_by.8yrs', 'title_iv.depend.still_enrolled_by.8yrs', 'title_iv.depend.transf_still_enrolled_4yr_by.8yrs', 'title_iv.depend.transf_still_enrolled_2yr_by.8yrs', 'title_iv.depend.unknown_by.8yrs', 'title_iv.depend.transf_unknown_4yr_by.8yrs', 'title_iv.depend.transf_unknown_2yr_by.8yrs', 'title_iv.independ.died_by.8yrs', 'title_iv.independ.completed_by.8yrs', 'title_iv.independ.transf_completed_4yr_by.8yrs', 'title_iv.independ.transf_completed_2yr_by.8yrs', 'title_iv.independ.withdrawn_by.8yrs', 'title_iv.independ.transf_withdrawn_4yr_by.8yrs', 'title_iv.independ.transf_withdrawn_2yr_by.8yrs', 'title_iv.independ.still_enrolled_by.8yrs', 'title_iv.independ.transf_still_enrolled_4yr_by.8yrs', 'title_iv.independ.transf_still_enrolled_2yr_by.8yrs', 'title_iv.independ.unknown_by.8yrs', 'title_iv.independ.transf_unknown_4yr_by.8yrs', 'title_iv.independ.transf_unknown_2yr_by.8yrs', 'title_iv.female.died_by.8yrs', 'title_iv.female.completed_by.8yrs', 'title_iv.female.transf_completed_4yr_by.8yrs', 'title_iv.female.transf_completed_2yr_by.8yrs', 'title_iv.female.withdrawn_by.8yrs', 'title_iv.female.transf_withdrawn_4yr_by.8yrs', 'title_iv.female.transf_withdrawn_2yr_by.8yrs', 'title_iv.female.still_enrolled_by.8yrs', 'title_iv.female.transf_still_enrolled_4yr_by.8yrs', 'title_iv.female.transf_still_enrolled_2yr_by.8yrs', 'title_iv.female.unknown_by.8yrs', 'title_iv.female.transf_unknown_4yr_by.8yrs', 'title_iv.female.transf_unknown_2yr_by.8yrs', 'title_iv.male.died_by.8yrs', 'title_iv.male.completed_by.8yrs', 'title_iv.male.transf_completed_4yr_by.8yrs', 'title_iv.male.transf_completed_2yr_by.8yrs', 'title_iv.male.withdrawn_by.8yrs', 'title_iv.male.transf_withdrawn_4yr_by.8yrs', 'title_iv.male.transf_withdrawn_2yr_by.8yrs', 'title_iv.male.still_enrolled_by.8yrs', 'title_iv.male.transf_still_enrolled_4yr_by.8yrs', 'title_iv.male.transf_still_enrolled_2yr_by.8yrs', 'title_iv.male.unknown_by.8yrs', 'title_iv.male.transf_unknown_4yr_by.8yrs', 'title_iv.male.transf_unknown_2yr_by.8yrs', 'title_iv.pell_recip.died_by.8yrs', 'title_iv.pell_recip.completed_by.8yrs', 'title_iv.pell_recip.transf_completed_4yr_by.8yrs', 'title_iv.pell_recip.transf_completed_2yr_by.8yrs', 'title_iv.pell_recip.withdrawn_by.8yrs', 'title_iv.pell_recip.transf_withdrawn_4yr_by.8yrs', 'title_iv.pell_recip.transf_withdrawn_2yr_by.8yrs', 'title_iv.pell_recip.still_enrolled_by.8yrs', 'title_iv.pell_recip.transf_still_enrolled_4yr_by.8yrs', 'title_iv.pell_recip.transf_still_enrolled_2yr_by.8yrs', 'title_iv.pell_recip.unknown_by.8yrs', 'title_iv.pell_recip.transf_unknown_4yr_by.8yrs', 'title_iv.pell_recip.transf_unknown_2yr_by.8yrs', 'title_iv.no_pell.died_by.8yrs', 'title_iv.no_pell.completed_by.8yrs', 'title_iv.no_pell.transf_completed_4yr_by.8yrs', 'title_iv.no_pell.transf_completed_2yr_by.8yrs', 'title_iv.no_pell.withdrawn_by.8yrs', 'title_iv.no_pell.transf_withdrawn_4yr_by.8yrs', 'title_iv.no_pell.transf_withdrawn_2yr_by.8yrs', 'title_iv.no_pell.still_enrolled_by.8yrs', 'title_iv.no_pell.transf_still_enrolled_4yr_by.8yrs', 'title_iv.no_pell.transf_still_enrolled_2yr_by.8yrs', 'title_iv.no_pell.unknown_by.8yrs', 'title_iv.no_pell.transf_unknown_4yr_by.8yrs', 'title_iv.no_pell.transf_unknown_2yr_by.8yrs', 'title_iv.loan_recip.died_by.8yrs', 'title_iv.loan_recip.completed_by.8yrs', 'title_iv.loan_recip.transf_completed_4yr_by.8yrs', 'title_iv.loan_recip.transf_completed_2yr_by.8yrs', 'title_iv.loan_recip.withdrawn_by.8yrs', 'title_iv.loan_recip.transf_withdrawn_4yr_by.8yrs', 'title_iv.loan_recip.transf_withdrawn_2yr_by.8yrs', 'title_iv.loan_recip.still_enrolled_by.8yrs', 'title_iv.loan_recip.transf_still_enrolled_4yr_by.8yrs', 'title_iv.loan_recip.transf_still_enrolled_2yr_by.8yrs', 'title_iv.loan_recip.unknown_by.8yrs', 'title_iv.loan_recip.transf_unknown_4yr_by.8yrs', 'title_iv.loan_recip.transf_unknown_2yr_by.8yrs', 'title_iv.no_loan.died_by.8yrs', 'title_iv.no_loan.completed_by.8yrs', 'title_iv.no_loan.transf_completed_4yr_by.8yrs', 'title_iv.no_loan.transf_completed_2yr_by.8yrs', 'title_iv.no_loan.withdrawn_by.8yrs', 'title_iv.no_loan.transf_withdrawn_4yr_by.8yrs', 'title_iv.no_loan.transf_withdrawn_2yr_by.8yrs', 'title_iv.no_loan.still_enrolled_by.8yrs', 'title_iv.no_loan.transf_still_enrolled_4yr_by.8yrs', 'title_iv.no_loan.transf_still_enrolled_2yr_by.8yrs', 'title_iv.no_loan.unknown_by.8yrs', 'title_iv.no_loan.transf_unknown_4yr_by.8yrs', 'title_iv.no_loan.transf_unknown_2yr_by.8yrs', 'title_iv.first_gen.died_by.8yrs', 'title_iv.first_gen.completed_by.8yrs', 'title_iv.first_gen.transf_completed_4yr_by.8yrs', 'title_iv.first_gen.transf_completed_2yr_by.8yrs', 'title_iv.first_gen.withdrawn_by.8yrs', 'title_iv.first_gen.transf_withdrawn_4yr_by.8yrs', 'title_iv.first_gen.transf_withdrawn_2yr_by.8yrs', 'title_iv.first_gen.still_enrolled_by.8yrs', 'title_iv.first_gen.transf_still_enrolled_4yr_by.8yrs', 'title_iv.first_gen.transf_still_enrolled_2yr_by.8yrs', 'title_iv.first_gen.unknown_by.8yrs', 'title_iv.first_gen.transf_unknown_4yr_by.8yrs', 'title_iv.first_gen.transf_unknown_2yr_by.8yrs', 'title_iv.not_first_gen.died_by.8yrs', 'title_iv.not_first_gen.completed_by.8yrs', 'title_iv.not_first_gen.transf_completed_4yr_by.8yrs', 'title_iv.not_first_gen.transf_completed_2yr_by.8yrs', 'title_iv.not_first_gen.withdrawn_by.8yrs', 'title_iv.not_first_gen.transf_withdrawn_4yr_by.8yrs', 'title_iv.not_first_gen.transf_withdrawn_2yr_by.8yrs', 'title_iv.not_first_gen.still_enrolled_by.8yrs', 'title_iv.not_first_gen.transf_still_enrolled_4yr_by.8yrs', 'title_iv.not_first_gen.transf_still_enrolled_2yr_by.8yrs', 'title_iv.not_first_gen.unknown_by.8yrs', 'title_iv.not_first_gen.transf_unknown_4yr_by.8yrs', 'title_iv.not_first_gen.transf_unknown_2yr_by.8yrs', 'repayment_cohort.1_year_declining_balance', '1_yr_repayment.completers_rate', '1_yr_repayment.noncompleters_rate', '1_yr_repayment.income.0_30000', '1_yr_repayment.income.30000_75000', '1_yr_repayment.income.greater_than_75000', '1_yr_repayment.dependent_students_rate', '1_yr_repayment.independent_students_rate', '1_yr_repayment.pell_grant_rate', '1_yr_repayment.no_pell_grant_rate', '1_yr_repayment.female_students_rate', '1_yr_repayment.male_students_rate', '1_yr_repayment.first_generation_students_rate', '1_yr_repayment.non_first_generation_students_rate', 'repayment_cohort.3_year_declining_balance', '3_yr_repayment.completers_rate', '3_yr_repayment.noncompleters_rate', '3_yr_repayment.income.0_30000', '3_yr_repayment.income.30000_75000', '3_yr_repayment.income.greater_than_75000', '3_yr_repayment.dependent_students_rate', '3_yr_repayment.independent_students_rate', '3_yr_repayment.pell_grant_rate', '3_yr_repayment.no_pell_grant_rate', '3_yr_repayment.female_students_rate', '3_yr_repayment.male_students_rate', '3_yr_repayment.first_generation_students_rate', '3_yr_repayment.non_first_generation_students_rate', 'repayment_cohort.5_year_declining_balance', '5_yr_repayment.completers_rate', '5_yr_repayment.noncompleters_rate', '5_yr_repayment.income.0_30000', '5_yr_repayment.income.30000_75000', '5_yr_repayment.income.greater_than_75000', '5_yr_repayment.dependent_students_rate', '5_yr_repayment.independent_students_rate', '5_yr_repayment.pell_grant_rate', '5_yr_repayment.no_pell_grant_rate', '5_yr_repayment.female_students_rate', '5_yr_repayment.male_students_rate', '5_yr_repayment.first_generation_students_rate', '5_yr_repayment.non_first_generation_students_rate', 'repayment_cohort.7_year_declining_balance', '7_yr_repayment.completers_rate', '7_yr_repayment.noncompleters_rate', '7_yr_repayment.income.0_30000', '7_yr_repayment.income.30000_75000', '7_yr_repayment.income.greater_than_75000', '7_yr_repayment.dependent_students_rate', '7_yr_repayment.independent_students_rate', '7_yr_repayment.pell_grant_rate', '7_yr_repayment.no_pell_grant_rate', '7_yr_repayment.female_students_rate', '7_yr_repayment.male_students_rate', '7_yr_repayment.first_generation_students_rate', '7_yr_repayment.non_first_generation_students_rate', 'share_lowincome.0_30000', 'share_independent_students', 'share_dependent_lowincome.0_300000', 'share_independent_lowincome.0_30000', 'share_firstgeneration', 'share_middleincome.30001_48000', 'share_middleincome.48001_75000', 'share_highincome.75001_110000', 'share_highincome.110001plus', 'share_dependent_middleincome.300001_48000', 'share_dependent_middleincome.48001_75000', 'share_dependent_highincome.75001_110000', 'share_dependent_highincome.110001plus', 'share_independent_middleincome.30001_48000', 'share_independent_middleincome.48001_75000', 'share_independent_highincome.75001_110000', 'share_independent_highincome.110001plus', 'share_firstgeneration_parents.middleschool', 'share_firstgeneration_parents.highschool', 'share_firstgeneration_parents.somecollege', 'fafsa_sent.2_college_allyrs', 'fafsa_sent.3_college_allyrs', 'fafsa_sent.4_college_allyrs', 'fafsa_sent.5plus_college_allyrs', 'avg_dependent_income.2014dollars', 'avg_independent_income.2014dollars', '2_yr_completion.overall', '2_yr_completion.low_income', '2_yr_completion.middle_income', '2_yr_completion.high_income', '2_yr_completion.dependent_students', '2_yr_completion.independent_students', '2_yr_completion.female_students', '2_yr_completion.male_students', '2_yr_completion.pell_grant', '2_yr_completion.no_pell_grant', '2_yr_completion.loan_students', '2_yr_completion.no_loan_students', '2_yr_completion.first_generation_students', '2_yr_completion.no_first_generation_students', '3_yr_completion.overall', '3_yr_completion.low_income', '3_yr_completion.middle_income', '3_yr_completion.high_income', '3_yr_completion.dependent_students', '3_yr_completion.independent_students', '3_yr_completion.female_students', '3_yr_completion.male_students', '3_yr_completion.pell_grant', '3_yr_completion.no_pell_grant', '3_yr_completion.loan_students', '3_yr_completion.no_loan_students', '3_yr_completion.first_generation_students', '3_yr_completion.no_first_generation_students', '4_yr_completion.overall', '4_yr_completion.low_income', '4_yr_completion.middle_income', '4_yr_completion.high_income', '4_yr_completion.dependent_students', '4_yr_completion.independent_students', '4_yr_completion.female_students', '4_yr_completion.male_students', '4_yr_completion.pell_grant', '4_yr_completion.no_pell_grant', '4_yr_completion.loan_students', '4_yr_completion.no_loan_students', '4_yr_completion.first_generation_students', '4_yr_completion.no_first_generation_students', '6_yr_completion.overall', '6_yr_completion.low_income', '6_yr_completion.middle_income', '6_yr_completion.high_income', '6_yr_completion.dependent_students', '6_yr_completion.independent_students', '6_yr_completion.female_students', '6_yr_completion.male_students', '6_yr_completion.pell_grant', '6_yr_completion.no_pell_grant', '6_yr_completion.loan_students', '6_yr_completion.no_loan_students', '6_yr_completion.first_generation_students', '6_yr_completion.no_first_generation_students', '8_yr_completion.overall', '8_yr_completion.low_income', '8_yr_completion.middle_income', '8_yr_completion.high_income', '8_yr_completion.dependent_students', '8_yr_completion.independent_students', '8_yr_completion.female_students', '8_yr_completion.male_students', '8_yr_completion.pell_grant', '8_yr_completion.no_pell_grant', '8_yr_completion.loan_students', '8_yr_completion.no_loan_students', '8_yr_completion.first_generation_students', '8_yr_completion.no_first_generation_students', 'loan_principal', 'median_debt.completers.overall', 'median_debt.noncompleters', 'median_debt.income.0_30000', 'median_debt.income.30001_75000', 'median_debt.income.greater_than_75000', 'median_debt.dependent_students', 'median_debt.independent_students', 'median_debt.pell_grant', 'median_debt.no_pell_grant', 'median_debt.female_students', 'median_debt.male_students', 'median_debt.first_generation_students', 'median_debt.non_first_generation_students', 'median_debt.number.overall', 'median_debt.number.completers', 'median_debt.number.noncompleters', 'median_debt.number.income.0_30000', 'median_debt.number.income.30001_75000', 'median_debt.number.income.greater_than_75000', 'median_debt.number.dependent_students', 'median_debt.number.independent_students', 'median_debt.number.pell_grant', 'median_debt.number.no_pell_grant', 'median_debt.number.female_students', 'median_debt.number.male_students', 'median_debt.number.first_generation_students', 'median_debt.number.non_first_generation_students', 'median_debt.completers.monthly_payments', 'cumulative_debt.number', 'cumulative_debt.90th_percentile', 'cumulative_debt.75th_percentile', 'cumulative_debt.25th_percentile', 'cumulative_debt.10th_percentile', 'family_income.overall', 'family_income.dependent_students', 'family_income.independent_students', 'valid_dependency_status', 'parents_education_level', 'FAFSA_applications', 'repayment_date.median', 'separation_date.median', 'repayment_date.number', 'separation_date.number', '1_yr_repayment.overall', '1_yr_repayment.completers', '1_yr_repayment.noncompleters', '1_yr_repayment.low_income', '1_yr_repayment.middle_income', '1_yr_repayment.high_income', '1_yr_repayment.dependent_students', '1_yr_repayment.independent_students', '1_yr_repayment.pell_grant', '1_yr_repayment.no_pell_grant', '1_yr_repayment.female_students', '1_yr_repayment.male_students', '1_yr_repayment.first_generation_students', '1_yr_repayment.non_first_generation_students', '3_yr_repayment.overall', '3_yr_repayment.completers', '3_yr_repayment.noncompleters', '3_yr_repayment.low_income', '3_yr_repayment.middle_income', '3_yr_repayment.high_income', '3_yr_repayment.dependent_students', '3_yr_repayment.independent_students', '3_yr_repayment.pell_grant', '3_yr_repayment.no_pell_grant', '3_yr_repayment.female_students', '3_yr_repayment.male_students', '3_yr_repayment.first_generation_students', '3_yr_repayment.non_first_generation_students', '5_yr_repayment.overall', '5_yr_repayment.completers', '5_yr_repayment.noncompleters', '5_yr_repayment.low_income', '5_yr_repayment.middle_income', '5_yr_repayment.high_income', '5_yr_repayment.dependent_students', '5_yr_repayment.independent_students', '5_yr_repayment.pell_grant', '5_yr_repayment.no_pell_grant', '5_yr_repayment.female_students', '5_yr_repayment.male_students', '5_yr_repayment.first_generation_students', '5_yr_repayment.non_first_generation_students', '7_yr_repayment.overall', '7_yr_repayment.completers', '7_yr_repayment.noncompleters', '7_yr_repayment.low_income', '7_yr_repayment.middle_income', '7_yr_repayment.high_income', '7_yr_repayment.dependent_students', '7_yr_repayment.independent_students', '7_yr_repayment.pell_grant', '7_yr_repayment.no_pell_grant', '7_yr_repayment.female_students', '7_yr_repayment.male_students', '7_yr_repayment.first_generation_students', '7_yr_repayment.non_first_generation_students', 'student_count', 'students_with_any_loan', 'students_with_pell_grant', 'demographics.age_entry', 'demographics.age_entry_squared', 'demographics.over_23_at_entry', 'demographics.female_share', 'demographics.married', 'demographics.dependent', 'demographics.veteran', 'demographics.first_generation', 'demographics.avg_family_income', 'demographics.median_family_income', 'demographics.avg_family_income_independents', 'demographics.avg_family_income_log', 'demographics.avg_family_income_independents_log', 'demographics.share_white.home_ZIP', 'demographics.share_black.home_ZIP', 'demographics.share_asian.home_ZIP', 'demographics.share_hispanic.home_ZIP', 'demographics.share_bachelors_degree_age25.home_ZIP', 'demographics.share_professional_degree_age25.home_ZIP', 'demographics.share_born_US.home_ZIP', 'demographics.median_hh_income', 'demographics.poverty_rate', 'demographics.unemployment', 'demographics.median_hh_income_log', 'fafsa_sent.overall', 'fafsa_sent.1_college', 'fafsa_sent.2_colleges', 'fafsa_sent.3_college', 'fafsa_sent.4_colleges', 'fafsa_sent.5_or_more_colleges', '10_yrs_after_entry.not_working_not_enrolled.overall', '10_yrs_after_entry.working_not_enrolled.overall', '10_yrs_after_entry.working_not_enrolled.mean_earnings', '10_yrs_after_entry.median', '10_yrs_after_entry.working_not_enrolled.earnings_percentile.10', '10_yrs_after_entry.working_not_enrolled.earnings_percentile.25', '10_yrs_after_entry.working_not_enrolled.earnings_percentile.75', '10_yrs_after_entry.working_not_enrolled.earnings_percentile.90', '10_yrs_after_entry.working_not_enrolled.std_dev', '10_yrs_after_entry.working_not_enrolled.income.lowest_tercile', '10_yrs_after_entry.working_not_enrolled.income.middle_tercile', '10_yrs_after_entry.working_not_enrolled.income.highest_tercile', '10_yrs_after_entry.working_not_enrolled.dependent_students_lowest_tercile', '10_yrs_after_entry.working_not_enrolled.dependent_students', '10_yrs_after_entry.independent_students', '10_yrs_after_entry.female_students', '10_yrs_after_entry.male_students', '10_yrs_after_entry.percent_greater_than_25000', '10_yrs_after_entry.mean_earnings.lowest_tercile', '10_yrs_after_entry.mean_earnings.middle_tercile', '10_yrs_after_entry.mean_earnings.highest_tercile', '10_yrs_after_entry.mean_earnings.dependent_students_lowest_tercile', '10_yrs_after_entry.mean_earnings.dependent_students', '10_yrs_after_entry.mean_earnings.independent_students', '10_yrs_after_entry.mean_earnings.female_students', '10_yrs_after_entry.mean_earnings.male_students', '6_yrs_after_entry.not_working_not_enrolled.overall', '6_yrs_after_entry.working_not_enrolled.overall', '6_yrs_after_entry.working_not_enrolled.mean_earnings', '6_yrs_after_entry.median', '6_yrs_after_entry.working_not_enrolled.earnings_percentile.10', '6_yrs_after_entry.working_not_enrolled.earnings_percentile.25', '6_yrs_after_entry.working_not_enrolled.earnings_percentile.75', '6_yrs_after_entry.working_not_enrolled.earnings_percentile.90', '6_yrs_after_entry.working_not_enrolled.std_dev', '6_yrs_after_entry.working_not_enrolled.income.lowest_tercile', '6_yrs_after_entry.working_not_enrolled.income.middle_tercile', '6_yrs_after_entry.working_not_enrolled.income.highest_tercile', '6_yrs_after_entry.working_not_enrolled.dependent_students_lowest_tercile', '6_yrs_after_entry.working_not_enrolled.dependent_students', '6_yrs_after_entry.independent_students', '6_yrs_after_entry.female_students', '6_yrs_after_entry.male_students', '6_yrs_after_entry.percent_greater_than_25000', '6_yrs_after_entry.mean_earnings.lowest_tercile', '6_yrs_after_entry.mean_earnings.middle_tercile', '6_yrs_after_entry.mean_earnings.highest_tercile', '6_yrs_after_entry.mean_earnings.dependent_students_lowest_tercile', '6_yrs_after_entry.mean_earnings.dependent_students', '6_yrs_after_entry.mean_earnings.independent_students', '6_yrs_after_entry.mean_earnings.female_students', '6_yrs_after_entry.mean_earnings.male_students', '7_yrs_after_entry.not_working_not_enrolled', '7_yrs_after_entry.working_not_enrolled', '7_yrs_after_entry.mean_earnings', '7_yrs_after_entry.std_dev', '7_yrs_after_entry.percent_greater_than_25000', '8_yrs_after_entry.not_working_not_enrolled', '8_yrs_after_entry.working_not_enrolled', '8_yrs_after_entry.mean_earnings', '8_yrs_after_entry.median_earnings', '8_yrs_after_entry.10th_percentile_earnings', '8_yrs_after_entry.25th_percentile_earnings', '8_yrs_after_entry.75th_percentile_earnings', '8_yrs_after_entry.90th_percentile_earnings', '8_yrs_after_entry.std_deviation', '8_yrs_after_entry.percent_greater_than_25000', '9_yrs_after_entry.not_working_not_enrolled', '9_yrs_after_entry.working_not_enrolled', '9_yrs_after_entry.mean_earnings', '9_yrs_after_entry.std_deviation', '9_yrs_after_entry.percent_greater_than_25000', 'median_debt_suppressed.overall', 'median_debt_suppressed.completers.overall', 'median_debt_suppressed.completers.monthly_payments', '3_yr_repayment_suppressed.overall', '3_yr_repayment_suppressed.income.low_income', '3_yr_repayment_suppressed.income.middle_income', '3_yr_repayment_suppressed.income.high_income', '3_yr_repayment_suppressed.completers', '3_yr_repayment_suppressed.non_completers', '3_yr_repayment_suppressed.dependent_students', '3_yr_repayment_suppressed.independent_students', '3_yr_repayment_suppressed.pell_grant', '3_yr_repayment_suppressed.no_pell_grant', '3_yr_repayment_suppressed.female_students', '3_yr_repayment_suppressed.male_students', '3_yr_repayment_suppressed.first_generation_students', '3_yr_repayment_suppressed.non_first_generation_students', 'rate_suppressed.lt_four_year_150percent', 'rate_suppressed.four_year', 'rate_suppressed.lt_four_year', 'rate_suppressed.four_year_200percent', 'alias', 'completion_rate_4yr_100nt', 'completion_cohort_4yr_100nt', 'completion_rate_less_than_4yr_100nt', 'completion_cohort_less_than_4yr_100nt', 'transfer_rate.4yr.full_time', 'transfer_rate.cohort_4yr.full_time', 'transfer_rate.less_than_4yr.full_time', 'transfer_rate.cohort_less_than_4yr.full_time', 'institutional_characteristics.level', 'demographics.men', 'demographics.women', '3_yr_default_rate_denom', '2_yr_default_rate_denom', 'title_iv.approval_date', 'completion_cohort_4yr_150_white', 'completion_cohort_4yr_150_black', 'completion_cohort_4yr_150_hispanic', 'completion_cohort_4yr_150_asian', 'completion_cohort_4yr_150_aian', 'completion_cohort_4yr_150_nhpi', 'completion_cohort_4yr_150_2ormore', 'completion_cohort_4yr_150_nonresident.alien', 'completion_cohort_4yr_150_race.unknown', 'completion_cohort_4yr_150_white_pre2010', 'completion_cohort_4yr_150_black_pre2010', 'completion_cohort_4yr_150_api_pre2010', 'D150_4_AIANOLD', 'D150_4_HISPOLD', 'completion_cohort_less_than_4yr_150_white', 'completion_cohort_less_than_4yr_150_black', 'completion_cohort_less_than_4yr_150_hispanic', 'completion_cohort_less_than_4yr_150_asian', 'completion_cohort_less_than_4yr_150_aian', 'completion_cohort_less_than_4yr_150_nhpi', 'completion_cohort_less_than_4yr_150_2ormore', 'completion_cohort_less_than_4yr_150_nonresident.alien', 'completion_cohort_less_than_4yr_150_race.unknown', 'completion_cohort_less_than_4yr_150_white_pre2010', 'completion_cohort_less_than_4yr_150_black_pre2010', 'completion_cohort_less_than_4yr_150_api_pre2010', 'D150_L4_AIANOLD', 'D150_L4_HISPOLD', 'undergrads_with_pell_grant_or_federal_student_loan', 'open_admissions_policy', 'undergrads_non_degree_seeking', 'grad_students', 'accreditor_code', 'outcome_cohort.full_time.first_time.6yr', 'outcome_percentage.full_time.first_time.6yr.award', 'outcome_cohort.full_time.first_time.8yr', 'outcome_percentage.full_time.first_time.8yr.award', 'outcome_percentage.full_time.first_time.8yr.still_enrolled', 'outcome_percentage.full_time.first_time.8yr.transfer', 'outcome_percentage.full_time.first_time.8yr.unknown', 'outcome_cohort.part_time.first_time.6yr', 'outcome_percentage.part_time.first_time.6yr.award', 'outcome_cohort.part_time.first_time.8yr', 'outcome_percentage.part_time.first_time.8yr.award', 'outcome_percentage.part_time.first_time.8yr.still_enrolled', 'outcome_percentage.part_time.first_time.8yr.transfer', 'outcome_percentage.part_time.first_time.8yr.unknown', 'outcome_cohort.full_time.not_first_time.6yr', 'outcome_percentage.full_time.not_first_time.6yr.award', 'outcome_cohort.full_time.not_first_time.8yr', 'outcome_percentage.full_time.not_first_time.8yr.award', 'outcome_percentage.full_time.not_first_time.8yr.still_enrolled', 'outcome_percentage.full_time.not_first_time.8yr.transfer', 'outcome_percentage.full_time.not_first_time.8yr.unknown', 'outcome_cohort.part_time.not_first_time.6yr', 'outcome_percentage.part_time.not_first_time.6yr.award', 'outcome_cohort.part_time.not_first_time.8yr', 'outcome_percentage.part_time.not_first_time.8yr.award', 'outcome_percentage.part_time.not_first_time.8yr.still_enrolled', 'outcome_percentage.part_time.not_first_time.8yr.transfer', 'outcome_percentage.part_time.not_first_time.8yr.unknown', 'retention_rate.four_year.full_time_pooled', 'retention_rate.lt_four_year.full_time_pooled', 'retention_rate.four_year.part_time_pooled', 'retention_rate.lt_four_year.part_time_pooled', 'retention_rate.cohort.four_year.full_time_pooled', 'retention_rate.cohort.lt_four_year.full_time_pooled', 'retention_rate.cohort.four_year.part_time_pooled', 'retention_rate.cohort.lt_four_year.part_time_pooled', 'retention_rate.pooled_yrs_used.full_time', 'retention_rate.pooled_yrs_used.part_time', 'retention_rate_suppressed.four_year.full_time_pooled', 'retention_rate_suppressed.lt_four_year.full_time_pooled', 'retention_rate_suppressed.four_year.part_time_pooled', 'retention_rate_suppressed.lt_four_year.part_time_pooled', 'transfer_rate.4yr.full_time_pooled', 'transfer_rate.less_than_4yr.full_time_pooled', 'transfer_rate.cohort_4yr.full_time_pooled', 'transfer_rate.cohort_less_than_4yr.full_time_pooled', 'transfer_rate_suppressed.4yr.full_time_pooled', 'transfer_rate_suppressed.less_than_4yr.full_time_pooled']\n"
     ]
    }
   ],
   "source": [
    "print(list(df.columns))"
   ]
  },
  {
   "cell_type": "code",
   "execution_count": 13,
   "metadata": {},
   "outputs": [
    {
     "data": {
      "text/plain": [
       "[1692]"
      ]
     },
     "execution_count": 13,
     "metadata": {},
     "output_type": "execute_result"
    }
   ],
   "source": [
    "df.index[df['name'] == 'Wellesley College'].tolist()"
   ]
  },
  {
   "cell_type": "code",
   "execution_count": 14,
   "metadata": {},
   "outputs": [
    {
     "data": {
      "text/plain": [
       "0.2985"
      ]
     },
     "execution_count": 14,
     "metadata": {},
     "output_type": "execute_result"
    }
   ],
   "source": [
    "df.iloc[1692].loc['admission_rate.overall']"
   ]
  },
  {
   "cell_type": "code",
   "execution_count": 15,
   "metadata": {},
   "outputs": [
    {
     "data": {
      "text/plain": [
       "[2254]"
      ]
     },
     "execution_count": 15,
     "metadata": {},
     "output_type": "execute_result"
    }
   ],
   "source": [
    "df.index[df['name'] == 'New Mexico Military Institute'].tolist()"
   ]
  },
  {
   "cell_type": "code",
   "execution_count": 16,
   "metadata": {},
   "outputs": [
    {
     "data": {
      "text/plain": [
       "0.4036"
      ]
     },
     "execution_count": 16,
     "metadata": {},
     "output_type": "execute_result"
    }
   ],
   "source": [
    "df.iloc[2254].loc['admission_rate.overall']"
   ]
  },
  {
   "cell_type": "code",
   "execution_count": null,
   "metadata": {},
   "outputs": [],
   "source": []
  }
 ],
 "metadata": {
  "kernelspec": {
   "display_name": "Python 3",
   "language": "python",
   "name": "python3"
  },
  "language_info": {
   "codemirror_mode": {
    "name": "ipython",
    "version": 3
   },
   "file_extension": ".py",
   "mimetype": "text/x-python",
   "name": "python",
   "nbconvert_exporter": "python",
   "pygments_lexer": "ipython3",
   "version": "3.6.5"
  }
 },
 "nbformat": 4,
 "nbformat_minor": 2
}
