{
 "cells": [
  {
   "cell_type": "code",
   "execution_count": 1,
   "metadata": {},
   "outputs": [],
   "source": [
    "import pandas as pd\n",
    "import numpy as np"
   ]
  },
  {
   "cell_type": "markdown",
   "metadata": {},
   "source": [
    "# Read Table"
   ]
  },
  {
   "cell_type": "code",
   "execution_count": 2,
   "metadata": {
    "scrolled": true
   },
   "outputs": [
    {
     "name": "stderr",
     "output_type": "stream",
     "text": [
      "/Users/mayamadhavan/anaconda3/lib/python3.6/site-packages/IPython/core/interactiveshell.py:2785: DtypeWarning: Columns (668) have mixed types. Specify dtype option on import or set low_memory=False.\n",
      "  interactivity=interactivity, compiler=compiler, result=result)\n"
     ]
    },
    {
     "data": {
      "text/html": [
       "<div>\n",
       "<style scoped>\n",
       "    .dataframe tbody tr th:only-of-type {\n",
       "        vertical-align: middle;\n",
       "    }\n",
       "\n",
       "    .dataframe tbody tr th {\n",
       "        vertical-align: top;\n",
       "    }\n",
       "\n",
       "    .dataframe thead th {\n",
       "        text-align: right;\n",
       "    }\n",
       "</style>\n",
       "<table border=\"1\" class=\"dataframe\">\n",
       "  <thead>\n",
       "    <tr style=\"text-align: right;\">\n",
       "      <th></th>\n",
       "      <th>index</th>\n",
       "      <th>id</th>\n",
       "      <th>ope8_id</th>\n",
       "      <th>ope6_id</th>\n",
       "      <th>name</th>\n",
       "      <th>city</th>\n",
       "      <th>state</th>\n",
       "      <th>zip</th>\n",
       "      <th>accreditor</th>\n",
       "      <th>school_url</th>\n",
       "      <th>...</th>\n",
       "      <th>In-state</th>\n",
       "      <th>Undergrad Enrollment</th>\n",
       "      <th>univ.1</th>\n",
       "      <th>index.4</th>\n",
       "      <th>City</th>\n",
       "      <th>Conference</th>\n",
       "      <th>Nickname</th>\n",
       "      <th>State</th>\n",
       "      <th>division</th>\n",
       "      <th>ncaa_rated</th>\n",
       "    </tr>\n",
       "  </thead>\n",
       "  <tbody>\n",
       "    <tr>\n",
       "      <th>0</th>\n",
       "      <td>0</td>\n",
       "      <td>100654</td>\n",
       "      <td>100200</td>\n",
       "      <td>1002</td>\n",
       "      <td>Alabama A &amp; M University</td>\n",
       "      <td>Normal</td>\n",
       "      <td>AL</td>\n",
       "      <td>35762</td>\n",
       "      <td>Southern Association of Colleges and Schools C...</td>\n",
       "      <td>www.aamu.edu/</td>\n",
       "      <td>...</td>\n",
       "      <td>NaN</td>\n",
       "      <td>NaN</td>\n",
       "      <td>NaN</td>\n",
       "      <td>NaN</td>\n",
       "      <td>NaN</td>\n",
       "      <td>NaN</td>\n",
       "      <td>NaN</td>\n",
       "      <td>NaN</td>\n",
       "      <td>NaN</td>\n",
       "      <td>NaN</td>\n",
       "    </tr>\n",
       "    <tr>\n",
       "      <th>1</th>\n",
       "      <td>1</td>\n",
       "      <td>100663</td>\n",
       "      <td>105200</td>\n",
       "      <td>1052</td>\n",
       "      <td>University of Alabama at Birmingham</td>\n",
       "      <td>Birmingham</td>\n",
       "      <td>AL</td>\n",
       "      <td>35294-0110</td>\n",
       "      <td>Southern Association of Colleges and Schools C...</td>\n",
       "      <td>www.uab.edu</td>\n",
       "      <td>...</td>\n",
       "      <td>NaN</td>\n",
       "      <td>NaN</td>\n",
       "      <td>NaN</td>\n",
       "      <td>758.0</td>\n",
       "      <td>Birmingham</td>\n",
       "      <td>Conference USA</td>\n",
       "      <td>Blazers</td>\n",
       "      <td>Alabama</td>\n",
       "      <td>D1</td>\n",
       "      <td>ncaa</td>\n",
       "    </tr>\n",
       "    <tr>\n",
       "      <th>2</th>\n",
       "      <td>3</td>\n",
       "      <td>100706</td>\n",
       "      <td>105500</td>\n",
       "      <td>1055</td>\n",
       "      <td>University of Alabama in Huntsville</td>\n",
       "      <td>Huntsville</td>\n",
       "      <td>AL</td>\n",
       "      <td>35899</td>\n",
       "      <td>Southern Association of Colleges and Schools C...</td>\n",
       "      <td>www.uah.edu</td>\n",
       "      <td>...</td>\n",
       "      <td>NaN</td>\n",
       "      <td>NaN</td>\n",
       "      <td>NaN</td>\n",
       "      <td>3.0</td>\n",
       "      <td>Huntsville</td>\n",
       "      <td>Gulf South Conference</td>\n",
       "      <td>Chargers</td>\n",
       "      <td>Alabama</td>\n",
       "      <td>D2</td>\n",
       "      <td>ncaa</td>\n",
       "    </tr>\n",
       "    <tr>\n",
       "      <th>3</th>\n",
       "      <td>4</td>\n",
       "      <td>100724</td>\n",
       "      <td>100500</td>\n",
       "      <td>1005</td>\n",
       "      <td>Alabama State University</td>\n",
       "      <td>Montgomery</td>\n",
       "      <td>AL</td>\n",
       "      <td>36104-0271</td>\n",
       "      <td>Southern Association of Colleges and Schools C...</td>\n",
       "      <td>www.alasu.edu</td>\n",
       "      <td>...</td>\n",
       "      <td>NaN</td>\n",
       "      <td>NaN</td>\n",
       "      <td>NaN</td>\n",
       "      <td>759.0</td>\n",
       "      <td>Montgomery</td>\n",
       "      <td>Southwestern Athletic Conference</td>\n",
       "      <td>Hornets and Lady Hornets</td>\n",
       "      <td>Alabama</td>\n",
       "      <td>D1</td>\n",
       "      <td>ncaa</td>\n",
       "    </tr>\n",
       "    <tr>\n",
       "      <th>4</th>\n",
       "      <td>5</td>\n",
       "      <td>100751</td>\n",
       "      <td>105100</td>\n",
       "      <td>1051</td>\n",
       "      <td>The University of Alabama</td>\n",
       "      <td>Tuscaloosa</td>\n",
       "      <td>AL</td>\n",
       "      <td>35487-0166</td>\n",
       "      <td>Southern Association of Colleges and Schools C...</td>\n",
       "      <td>www.ua.edu/</td>\n",
       "      <td>...</td>\n",
       "      <td>NaN</td>\n",
       "      <td>NaN</td>\n",
       "      <td>NaN</td>\n",
       "      <td>NaN</td>\n",
       "      <td>NaN</td>\n",
       "      <td>NaN</td>\n",
       "      <td>NaN</td>\n",
       "      <td>NaN</td>\n",
       "      <td>NaN</td>\n",
       "      <td>NaN</td>\n",
       "    </tr>\n",
       "  </tbody>\n",
       "</table>\n",
       "<p>5 rows × 684 columns</p>\n",
       "</div>"
      ],
      "text/plain": [
       "   index      id  ope8_id  ope6_id                                 name  \\\n",
       "0      0  100654   100200     1002             Alabama A & M University   \n",
       "1      1  100663   105200     1052  University of Alabama at Birmingham   \n",
       "2      3  100706   105500     1055  University of Alabama in Huntsville   \n",
       "3      4  100724   100500     1005             Alabama State University   \n",
       "4      5  100751   105100     1051            The University of Alabama   \n",
       "\n",
       "         city state         zip  \\\n",
       "0      Normal    AL       35762   \n",
       "1  Birmingham    AL  35294-0110   \n",
       "2  Huntsville    AL       35899   \n",
       "3  Montgomery    AL  36104-0271   \n",
       "4  Tuscaloosa    AL  35487-0166   \n",
       "\n",
       "                                          accreditor     school_url  \\\n",
       "0  Southern Association of Colleges and Schools C...  www.aamu.edu/   \n",
       "1  Southern Association of Colleges and Schools C...    www.uab.edu   \n",
       "2  Southern Association of Colleges and Schools C...    www.uah.edu   \n",
       "3  Southern Association of Colleges and Schools C...  www.alasu.edu   \n",
       "4  Southern Association of Colleges and Schools C...    www.ua.edu/   \n",
       "\n",
       "      ...     In-state  Undergrad Enrollment  univ.1  index.4        City  \\\n",
       "0     ...          NaN                   NaN     NaN      NaN         NaN   \n",
       "1     ...          NaN                   NaN     NaN    758.0  Birmingham   \n",
       "2     ...          NaN                   NaN     NaN      3.0  Huntsville   \n",
       "3     ...          NaN                   NaN     NaN    759.0  Montgomery   \n",
       "4     ...          NaN                   NaN     NaN      NaN         NaN   \n",
       "\n",
       "                         Conference                  Nickname    State  \\\n",
       "0                               NaN                       NaN      NaN   \n",
       "1                    Conference USA                   Blazers  Alabama   \n",
       "2             Gulf South Conference                  Chargers  Alabama   \n",
       "3  Southwestern Athletic Conference  Hornets and Lady Hornets  Alabama   \n",
       "4                               NaN                       NaN      NaN   \n",
       "\n",
       "   division  ncaa_rated  \n",
       "0       NaN         NaN  \n",
       "1        D1        ncaa  \n",
       "2        D2        ncaa  \n",
       "3        D1        ncaa  \n",
       "4       NaN         NaN  \n",
       "\n",
       "[5 rows x 684 columns]"
      ]
     },
     "execution_count": 2,
     "metadata": {},
     "output_type": "execute_result"
    }
   ],
   "source": [
    "main_df=pd.read_csv('final_df_unclean.csv')\n",
    "main_df=main_df.drop('Unnamed: 0', 1)\n",
    "main_df=main_df.drop(['name.1', 'name.2', 'name.3', 'name.4'], 1)\n",
    "main_df.head()"
   ]
  },
  {
   "cell_type": "code",
   "execution_count": 3,
   "metadata": {},
   "outputs": [
    {
     "data": {
      "text/plain": [
       "1680"
      ]
     },
     "execution_count": 3,
     "metadata": {},
     "output_type": "execute_result"
    }
   ],
   "source": [
    "len(main_df)"
   ]
  },
  {
   "cell_type": "markdown",
   "metadata": {},
   "source": [
    "# Drop Rows= Move to SQL"
   ]
  },
  {
   "cell_type": "markdown",
   "metadata": {},
   "source": [
    "## Dropping Associates Degrees and School with Open Admissions Policy\n",
    "1. Community Colleges\n",
    "2. Schools that offer Associates Degrees\n",
    "3. Technical Schools"
   ]
  },
  {
   "cell_type": "code",
   "execution_count": 4,
   "metadata": {
    "scrolled": true
   },
   "outputs": [],
   "source": [
    "main_df=main_df[main_df['carnegie_basic']>=15]"
   ]
  },
  {
   "cell_type": "code",
   "execution_count": 5,
   "metadata": {},
   "outputs": [],
   "source": [
    "main_df=main_df[main_df['carnegie_basic']<=23]"
   ]
  },
  {
   "cell_type": "code",
   "execution_count": 6,
   "metadata": {},
   "outputs": [],
   "source": [
    "main_df=main_df[main_df['open_admissions_policy']!=1]"
   ]
  },
  {
   "cell_type": "code",
   "execution_count": 7,
   "metadata": {},
   "outputs": [],
   "source": [
    "main_df=main_df[main_df['open_admissions_policy']!=3]"
   ]
  },
  {
   "cell_type": "code",
   "execution_count": 8,
   "metadata": {},
   "outputs": [
    {
     "data": {
      "text/plain": [
       "1443"
      ]
     },
     "execution_count": 8,
     "metadata": {},
     "output_type": "execute_result"
    }
   ],
   "source": [
    "len(main_df)"
   ]
  },
  {
   "cell_type": "markdown",
   "metadata": {},
   "source": [
    "# Clean Columns of Interest Imputing with Overall Data"
   ]
  },
  {
   "cell_type": "markdown",
   "metadata": {},
   "source": [
    "## Functions for Imputing"
   ]
  },
  {
   "cell_type": "code",
   "execution_count": 9,
   "metadata": {},
   "outputs": [],
   "source": [
    "def impute(df, series, col_name, merge_cols):\n",
    "    merged_frame = pd.merge(df, series, how='left', \n",
    "                             left_on=merge_cols, \n",
    "                             right_on=merge_cols)\n",
    "    merged_frame[col_name+'_x'].fillna(merged_frame[col_name+'_y'],inplace=True)\n",
    "    merged_frame.rename(columns={col_name+'_x':col_name}, inplace=True)\n",
    "    merged_frame.drop([col_name+'_y'], axis=1, inplace=True)\n",
    "    return merged_frame\n",
    "\n",
    "def mode(a):\n",
    "    u, c = np.unique(a, return_counts=True)\n",
    "    return u[c.argmax()]"
   ]
  },
  {
   "cell_type": "markdown",
   "metadata": {},
   "source": [
    "## Get Columns of Interest"
   ]
  },
  {
   "cell_type": "code",
   "execution_count": 11,
   "metadata": {},
   "outputs": [],
   "source": [
    "def drop_columns(df=main_df):\n",
    "    \n",
    "    names=[]\n",
    "    for column in list(main_df.columns):\n",
    "        if 'net_price' in column or 'act_scores.midpoint' in column or 'sat_scores.average' in column or 'program_precentage' in column  or 'name' in column  or 'minority_serving.historically_black' in column or 'location' in column or 'demographics' in column:\n",
    "            names.append(column)\n",
    "\n",
    "            \n",
    "    names.remove('avg_net_price.public')\n",
    "    names.remove('avg_net_price.private')\n",
    "    names.remove('demographics.age_entry')\n",
    "    names.remove('demographics.female_share')\n",
    "    names.remove('demographics.married')\n",
    "    names.remove('demographics.dependent')\n",
    "    names.remove('demographics.veteran')\n",
    "    names.remove('demographics.first_generation')\n",
    "    names.remove('demographics.avg_family_income')\n",
    "    names.remove('demographics.median_family_income')\n",
    "    names.remove('demographics.avg_family_income_independents')\n",
    "    names.remove('demographics.race_ethnicity.hispanic')\n",
    "    names.remove('demographics.race_ethnicity.asian')\n",
    "    names.remove('demographics.race_ethnicity.aian')\n",
    "    names.remove('demographics.race_ethnicity.nhpi')\n",
    "    names.remove('demographics.race_ethnicity.two_or_more')\n",
    "    names.remove('demographics.race_ethnicity.non_resident_alien')\n",
    "    names.remove('demographics.race_ethnicity.unknown')\n",
    "    names.remove('demographics.race_ethnicity.black')\n",
    "    names.remove('act_scores.midpoint.english')\n",
    "    names.remove('act_scores.midpoint.math')\n",
    "    names.remove('act_scores.midpoint.writing')\n",
    "    names.remove('sat_scores.average.by_ope_id')\n",
    "    names.remove('demographics.men')\n",
    "    names.remove('net_price.public.by_income_level.0-48000')\n",
    "    names.remove('net_price.public.by_income_level.30001-75000')\n",
    "    names.remove('net_price.public.by_income_level.75000-plus')\n",
    "    names.remove('net_price.private.by_income_level.0-48000')\n",
    "    names.remove('net_price.private.by_income_level.30001-75000')\n",
    "    names.remove('net_price.private.by_income_level.75000-plus')\n",
    "    \n",
    "    if 'net_price_above_110001' in names:\n",
    "        names.remove('net_price.public.by_income_level.0-30000')\n",
    "        names.remove('net_price.public.by_income_level.30001-48000')\n",
    "        names.remove('net_price.public.by_income_level.48001-75000')\n",
    "        names.remove('net_price.public.by_income_level.75001-110000')\n",
    "        names.remove('net_price.public.by_income_level.110001-plus')\n",
    "    \n",
    "    \n",
    "    names.append('locale')\n",
    "    names.append('admission_rate.overall')\n",
    "    names.append('size')\n",
    "    names.append('early_pay')\n",
    "    names.append('ownership')\n",
    "    names.append('school_info')\n",
    "    names.append('percent_stem')\n",
    "    names.append('rank_lac')\n",
    "    names.append('Rank')\n",
    "    names.append('Description')\n",
    "    names.append('division')\n",
    "    names.append('name')\n",
    "    \n",
    "    reduced_main_df=main_df[names]\n",
    "    reduced_main_df=reduced_main_df.drop('Nickname', 1)\n",
    "    column_names = reduced_main_df.columns.values\n",
    "    column_names[-1] = 'drop'\n",
    "    reduced_main_df.columns = column_names\n",
    "    reduced_main_df=reduced_main_df.drop('drop', 1)\n",
    "    \n",
    "    return reduced_main_df"
   ]
  },
  {
   "cell_type": "markdown",
   "metadata": {},
   "source": [
    "## Checking Number of Nulls In Columns of Interest\n",
    "Using column dropping schema in next cells"
   ]
  },
  {
   "cell_type": "code",
   "execution_count": 12,
   "metadata": {},
   "outputs": [],
   "source": [
    "reduced_main_df=drop_columns()"
   ]
  },
  {
   "cell_type": "code",
   "execution_count": 13,
   "metadata": {},
   "outputs": [
    {
     "data": {
      "text/plain": [
       "name                                                 0\n",
       "location.lat                                         0\n",
       "location.lon                                         0\n",
       "minority_serving.historically_black                  0\n",
       "act_scores.midpoint.cumulative                     338\n",
       "sat_scores.average.overall                         302\n",
       "demographics.race_ethnicity.white                   10\n",
       "net_price.public.by_income_level.0-30000           923\n",
       "net_price.public.by_income_level.30001-48000       924\n",
       "net_price.public.by_income_level.48001-75000       924\n",
       "net_price.public.by_income_level.75001-110000      928\n",
       "net_price.public.by_income_level.110001-plus       941\n",
       "net_price.private.by_income_level.0-30000          554\n",
       "net_price.private.by_income_level.30001-48000      559\n",
       "net_price.private.by_income_level.48001-75000      559\n",
       "net_price.private.by_income_level.75001-110000     577\n",
       "net_price.private.by_income_level.110001-plus      592\n",
       "demographics.women                                  10\n",
       "locale                                               0\n",
       "admission_rate.overall                              33\n",
       "size                                                10\n",
       "early_pay                                          170\n",
       "ownership                                            0\n",
       "school_info                                        170\n",
       "percent_stem                                       170\n",
       "rank_lac                                          1288\n",
       "Rank                                              1302\n",
       "Description                                       1302\n",
       "division                                           656\n",
       "dtype: int64"
      ]
     },
     "execution_count": 13,
     "metadata": {},
     "output_type": "execute_result"
    }
   ],
   "source": [
    "reduced_main_df.isnull().sum()"
   ]
  },
  {
   "cell_type": "markdown",
   "metadata": {},
   "source": [
    "## Dropping Grad Schools"
   ]
  },
  {
   "cell_type": "code",
   "execution_count": 14,
   "metadata": {},
   "outputs": [],
   "source": [
    "main_df=main_df[main_df['demographics.women'].notnull()]"
   ]
  },
  {
   "cell_type": "markdown",
   "metadata": {},
   "source": [
    "## Rank and Rank LAC- Set Unranked to 0"
   ]
  },
  {
   "cell_type": "code",
   "execution_count": 15,
   "metadata": {},
   "outputs": [
    {
     "name": "stderr",
     "output_type": "stream",
     "text": [
      "/Users/mayamadhavan/anaconda3/lib/python3.6/site-packages/pandas/core/generic.py:5430: SettingWithCopyWarning: \n",
      "A value is trying to be set on a copy of a slice from a DataFrame\n",
      "\n",
      "See the caveats in the documentation: http://pandas.pydata.org/pandas-docs/stable/indexing.html#indexing-view-versus-copy\n",
      "  self._update_inplace(new_data)\n"
     ]
    }
   ],
   "source": [
    "main_df.rank_lac.fillna(0, inplace=True)\n",
    "main_df.Rank.fillna(0, inplace=True)"
   ]
  },
  {
   "cell_type": "markdown",
   "metadata": {},
   "source": [
    "## Division- Set Non-NCAA to \"Not NCAA\""
   ]
  },
  {
   "cell_type": "code",
   "execution_count": 16,
   "metadata": {},
   "outputs": [
    {
     "name": "stderr",
     "output_type": "stream",
     "text": [
      "/Users/mayamadhavan/anaconda3/lib/python3.6/site-packages/pandas/core/generic.py:5430: SettingWithCopyWarning: \n",
      "A value is trying to be set on a copy of a slice from a DataFrame\n",
      "\n",
      "See the caveats in the documentation: http://pandas.pydata.org/pandas-docs/stable/indexing.html#indexing-view-versus-copy\n",
      "  self._update_inplace(new_data)\n"
     ]
    }
   ],
   "source": [
    "main_df.division.fillna('non_ncaa', inplace=True)"
   ]
  },
  {
   "cell_type": "markdown",
   "metadata": {},
   "source": [
    "## Admission Rate"
   ]
  },
  {
   "cell_type": "code",
   "execution_count": 17,
   "metadata": {},
   "outputs": [],
   "source": [
    "admission = main_df[~main_df['admission_rate.overall'].isnull()].groupby(['Rank','rank_lac']\n",
    "                                                                                 )['admission_rate.overall'].apply(mode).reset_index()"
   ]
  },
  {
   "cell_type": "code",
   "execution_count": 18,
   "metadata": {},
   "outputs": [],
   "source": [
    "main_df = impute(main_df, admission, 'admission_rate.overall', ['Rank','rank_lac'])"
   ]
  },
  {
   "cell_type": "markdown",
   "metadata": {},
   "source": [
    "## SAT Scores"
   ]
  },
  {
   "cell_type": "code",
   "execution_count": 19,
   "metadata": {},
   "outputs": [],
   "source": [
    "sat = main_df[~main_df['sat_scores.average.overall'].isnull()].groupby(['admission_rate.overall'])['sat_scores.average.overall'].apply(mode\n",
    "                                                                                                                      ).reset_index()"
   ]
  },
  {
   "cell_type": "code",
   "execution_count": 20,
   "metadata": {},
   "outputs": [],
   "source": [
    "main_df = impute(main_df, sat, 'sat_scores.average.overall', ['admission_rate.overall'])"
   ]
  },
  {
   "cell_type": "markdown",
   "metadata": {},
   "source": [
    "## ACT Score"
   ]
  },
  {
   "cell_type": "code",
   "execution_count": 21,
   "metadata": {},
   "outputs": [],
   "source": [
    "act = main_df[~main_df['act_scores.midpoint.cumulative'].isnull()].groupby(['sat_scores.average.overall',\n",
    "                                                                            'admission_rate.overall']\n",
    "                                                                                 )['act_scores.midpoint.cumulative'].apply(mode).reset_index()"
   ]
  },
  {
   "cell_type": "code",
   "execution_count": 22,
   "metadata": {},
   "outputs": [],
   "source": [
    "main_df = impute(main_df, act, 'act_scores.midpoint.cumulative', ['sat_scores.average.overall',\n",
    "                                                                                   'admission_rate.overall'])"
   ]
  },
  {
   "cell_type": "markdown",
   "metadata": {},
   "source": [
    "## Size"
   ]
  },
  {
   "cell_type": "code",
   "execution_count": 23,
   "metadata": {},
   "outputs": [],
   "source": [
    "size = main_df[~main_df['size'].isnull()].groupby(['carnegie_size_setting']\n",
    "                                                  )['size'].apply(mode).reset_index()"
   ]
  },
  {
   "cell_type": "code",
   "execution_count": 24,
   "metadata": {},
   "outputs": [],
   "source": [
    "main_df = impute(main_df, size, 'size', ['carnegie_size_setting'])"
   ]
  },
  {
   "cell_type": "markdown",
   "metadata": {},
   "source": [
    "## Percent Stem"
   ]
  },
  {
   "cell_type": "code",
   "execution_count": 25,
   "metadata": {},
   "outputs": [],
   "source": [
    "stem = main_df[~main_df['percent_stem'].isnull()].groupby(['program_percentage.humanities',\n",
    "                                                           'program_percentage.social_science']\n",
    "                                                  )['percent_stem'].apply(mode).reset_index()"
   ]
  },
  {
   "cell_type": "code",
   "execution_count": 26,
   "metadata": {},
   "outputs": [],
   "source": [
    "main_df = impute(main_df, stem, 'percent_stem', ['program_percentage.humanities',\n",
    "                                                 'program_percentage.social_science'])"
   ]
  },
  {
   "cell_type": "code",
   "execution_count": 27,
   "metadata": {},
   "outputs": [],
   "source": [
    "stem = main_df[~main_df['percent_stem'].isnull()].groupby(['program_percentage.science_technology']\n",
    "                                                  )['percent_stem'].apply(mode).reset_index()"
   ]
  },
  {
   "cell_type": "code",
   "execution_count": 28,
   "metadata": {},
   "outputs": [],
   "source": [
    "main_df = impute(main_df, stem, 'percent_stem', ['program_percentage.science_technology'])"
   ]
  },
  {
   "cell_type": "markdown",
   "metadata": {},
   "source": [
    "## Early Pay"
   ]
  },
  {
   "cell_type": "code",
   "execution_count": 29,
   "metadata": {},
   "outputs": [],
   "source": [
    "pay = main_df[~main_df['early_pay'].isnull()].groupby(['percent_stem']\n",
    "                                                  )['early_pay'].apply(mode).reset_index()"
   ]
  },
  {
   "cell_type": "code",
   "execution_count": 30,
   "metadata": {},
   "outputs": [],
   "source": [
    "main_df = impute(main_df, pay, 'early_pay', ['percent_stem'])"
   ]
  },
  {
   "cell_type": "markdown",
   "metadata": {},
   "source": [
    "## Description"
   ]
  },
  {
   "cell_type": "code",
   "execution_count": 31,
   "metadata": {},
   "outputs": [],
   "source": [
    "main_df.Description.fillna(main_df.school_info, inplace=True)"
   ]
  },
  {
   "cell_type": "markdown",
   "metadata": {},
   "source": [
    "## Net Price"
   ]
  },
  {
   "cell_type": "code",
   "execution_count": 32,
   "metadata": {},
   "outputs": [],
   "source": [
    "main_df['net_price.private.by_income_level.0-30000'].fillna('net_price.public.by_income_level.0-30000', inplace=True)\n",
    "main_df['net_price.private.by_income_level.30001-48000'].fillna('net_price.public.by_income_level.30001-48000', inplace=True)\n",
    "main_df['net_price.private.by_income_level.48001-75000'].fillna('net_price.public.by_income_level.48001-75000', inplace=True)\n",
    "main_df['net_price.private.by_income_level.75001-110000'].fillna('net_price.public.by_income_level.75001-110000', inplace=True)\n",
    "main_df['net_price.private.by_income_level.110001-plus'].fillna('net_price.public.by_income_level.110001-plus', inplace=True)"
   ]
  },
  {
   "cell_type": "code",
   "execution_count": 33,
   "metadata": {},
   "outputs": [],
   "source": [
    "main_df=main_df.rename(columns={'net_price.private.by_income_level.0-30000':'net_price_less_30000', \n",
    "                       'net_price.private.by_income_level.30001-48000':'net_price_30001_48000',\n",
    "                       'net_price.private.by_income_level.48001-75000':'net_price_48001_75000',\n",
    "                       'net_price.private.by_income_level.75001-110000':'net_price_75001_110000',\n",
    "                       'net_price.private.by_income_level.110001-plus':'net_price_above_110001'})"
   ]
  },
  {
   "cell_type": "markdown",
   "metadata": {},
   "source": [
    "# Final Drop + Null Checking\n",
    "\n",
    "Chose to do this in pandas as opposed to SQL in case I'd want to return and add a column."
   ]
  },
  {
   "cell_type": "code",
   "execution_count": 34,
   "metadata": {
    "scrolled": false
   },
   "outputs": [
    {
     "data": {
      "text/plain": [
       "name                                     0\n",
       "location.lat                             0\n",
       "location.lon                             0\n",
       "minority_serving.historically_black      0\n",
       "act_scores.midpoint.cumulative         256\n",
       "sat_scores.average.overall             219\n",
       "demographics.race_ethnicity.white        0\n",
       "net_price_less_30000                     0\n",
       "net_price_30001_48000                    0\n",
       "net_price_48001_75000                    0\n",
       "net_price_75001_110000                   0\n",
       "net_price_above_110001                   0\n",
       "demographics.women                       0\n",
       "locale                                   0\n",
       "admission_rate.overall                   0\n",
       "size                                     0\n",
       "early_pay                                1\n",
       "ownership                                0\n",
       "school_info                            161\n",
       "percent_stem                             1\n",
       "rank_lac                                 0\n",
       "Rank                                     0\n",
       "Description                            161\n",
       "division                                 0\n",
       "dtype: int64"
      ]
     },
     "execution_count": 34,
     "metadata": {},
     "output_type": "execute_result"
    }
   ],
   "source": [
    "reduced_main_df=drop_columns()\n",
    "reduced_main_df.isnull().sum()"
   ]
  },
  {
   "cell_type": "code",
   "execution_count": 37,
   "metadata": {},
   "outputs": [
    {
     "data": {
      "text/plain": [
       "name                                    0\n",
       "location.lat                            0\n",
       "location.lon                            0\n",
       "minority_serving.historically_black     0\n",
       "act_scores.midpoint.cumulative          0\n",
       "sat_scores.average.overall              0\n",
       "demographics.race_ethnicity.white       0\n",
       "net_price_less_30000                    0\n",
       "net_price_30001_48000                   0\n",
       "net_price_48001_75000                   0\n",
       "net_price_75001_110000                  0\n",
       "net_price_above_110001                  0\n",
       "demographics.women                      0\n",
       "locale                                  0\n",
       "admission_rate.overall                  0\n",
       "size                                    0\n",
       "early_pay                               0\n",
       "ownership                               0\n",
       "school_info                            97\n",
       "percent_stem                            0\n",
       "rank_lac                                0\n",
       "Rank                                    0\n",
       "Description                            97\n",
       "division                                0\n",
       "dtype: int64"
      ]
     },
     "execution_count": 37,
     "metadata": {},
     "output_type": "execute_result"
    }
   ],
   "source": [
    "reduced_main_df[reduced_main_df['act_scores.midpoint.cumulative'].notnull()].isnull().sum()"
   ]
  },
  {
   "cell_type": "code",
   "execution_count": 38,
   "metadata": {},
   "outputs": [],
   "source": [
    "reduced_main_df=reduced_main_df[reduced_main_df['act_scores.midpoint.cumulative'].notnull()]"
   ]
  },
  {
   "cell_type": "code",
   "execution_count": 39,
   "metadata": {},
   "outputs": [
    {
     "data": {
      "text/plain": [
       "1177"
      ]
     },
     "execution_count": 39,
     "metadata": {},
     "output_type": "execute_result"
    }
   ],
   "source": [
    "len(reduced_main_df)"
   ]
  },
  {
   "cell_type": "markdown",
   "metadata": {},
   "source": [
    "# All Good= Read into Final CSV"
   ]
  },
  {
   "cell_type": "code",
   "execution_count": 41,
   "metadata": {},
   "outputs": [
    {
     "data": {
      "text/plain": [
       "name                                    0\n",
       "location.lat                            0\n",
       "location.lon                            0\n",
       "minority_serving.historically_black     0\n",
       "act_scores.midpoint.cumulative          0\n",
       "sat_scores.average.overall              0\n",
       "demographics.race_ethnicity.white       0\n",
       "net_price_less_30000                    0\n",
       "net_price_30001_48000                   0\n",
       "net_price_48001_75000                   0\n",
       "net_price_75001_110000                  0\n",
       "net_price_above_110001                  0\n",
       "demographics.women                      0\n",
       "locale                                  0\n",
       "admission_rate.overall                  0\n",
       "size                                    0\n",
       "early_pay                               0\n",
       "ownership                               0\n",
       "school_info                            97\n",
       "percent_stem                            0\n",
       "rank_lac                                0\n",
       "Rank                                    0\n",
       "Description                            97\n",
       "division                                0\n",
       "dtype: int64"
      ]
     },
     "execution_count": 41,
     "metadata": {},
     "output_type": "execute_result"
    }
   ],
   "source": [
    "reduced_main_df.isnull().sum()"
   ]
  },
  {
   "cell_type": "code",
   "execution_count": 42,
   "metadata": {},
   "outputs": [],
   "source": [
    "reduced_main_df.to_csv('final_df.csv')"
   ]
  },
  {
   "cell_type": "code",
   "execution_count": null,
   "metadata": {},
   "outputs": [],
   "source": []
  }
 ],
 "metadata": {
  "kernelspec": {
   "display_name": "Python 3",
   "language": "python",
   "name": "python3"
  },
  "language_info": {
   "codemirror_mode": {
    "name": "ipython",
    "version": 3
   },
   "file_extension": ".py",
   "mimetype": "text/x-python",
   "name": "python",
   "nbconvert_exporter": "python",
   "pygments_lexer": "ipython3",
   "version": "3.6.5"
  }
 },
 "nbformat": 4,
 "nbformat_minor": 2
}
