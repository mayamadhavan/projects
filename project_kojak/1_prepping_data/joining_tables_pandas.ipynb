{
 "cells": [
  {
   "cell_type": "code",
   "execution_count": null,
   "metadata": {},
   "outputs": [],
   "source": [
    "import pandas as pd"
   ]
  },
  {
   "cell_type": "markdown",
   "metadata": {},
   "source": [
    "# Read All Tables"
   ]
  },
  {
   "cell_type": "code",
   "execution_count": null,
   "metadata": {},
   "outputs": [],
   "source": [
    "df=pd.read_csv('seperate_datasets/main_dataset.csv')\n",
    "income_df=pd.read_csv('seperate_datasets/income.csv')\n",
    "lac_ranks=pd.read_csv('seperate_datasets/lac_ranking.csv')\n",
    "univ_ranks=pd.read_csv('seperate_datasets/univ_rankings.csv')\n",
    "ncaa=pd.read_csv('seperate_datasets/ncaa.csv')"
   ]
  },
  {
   "cell_type": "code",
   "execution_count": null,
   "metadata": {},
   "outputs": [],
   "source": [
    "df=df.drop('Unnamed: 0', 1)\n",
    "income_df=income_df.drop('Unnamed: 0', 1)\n",
    "lac_ranks=lac_ranks.drop('Unnamed: 0', 1)\n",
    "lac_ranks=lac_ranks.drop('lac', 1)\n",
    "lac_ranks=lac_ranks.rename(columns={'rank':'rank_lac'})\n",
    "univ_ranks=univ_ranks.drop('Unnamed: 0', 1)\n",
    "ncaa=ncaa.drop('Unnamed: 0', 1)"
   ]
  },
  {
   "cell_type": "markdown",
   "metadata": {},
   "source": [
    "# Drop Rows= Move to SQL"
   ]
  },
  {
   "cell_type": "markdown",
   "metadata": {},
   "source": [
    "## Dropping Associates Degrees and School with Open Admissions Policy\n",
    "1. Community Colleges\n",
    "2. Schools that offer Associates Degrees\n",
    "3. Technical Schools"
   ]
  },
  {
   "cell_type": "code",
   "execution_count": null,
   "metadata": {
    "scrolled": true
   },
   "outputs": [],
   "source": [
    "main_df=main_df[main_df['carnegie_basic']>=15]"
   ]
  },
  {
   "cell_type": "code",
   "execution_count": null,
   "metadata": {},
   "outputs": [],
   "source": [
    "main_df=main_df[main_df['carnegie_basic']<=23]"
   ]
  },
  {
   "cell_type": "code",
   "execution_count": null,
   "metadata": {},
   "outputs": [],
   "source": [
    "main_df=main_df[main_df['open_admissions_policy']!=1]"
   ]
  },
  {
   "cell_type": "code",
   "execution_count": null,
   "metadata": {},
   "outputs": [],
   "source": [
    "main_df=main_df[main_df['open_admissions_policy']!=3]"
   ]
  },
  {
   "cell_type": "code",
   "execution_count": null,
   "metadata": {},
   "outputs": [],
   "source": [
    "len(main_df)"
   ]
  },
  {
   "cell_type": "markdown",
   "metadata": {},
   "source": [
    "# Clean Columns of Interest Imputing with Overall Data\n",
    "\n",
    "+ ACT Scores\n",
    "+ SAT Scores\n",
    "+ HBCU\n",
    "+ Diversity\n",
    "+ Net Price\n",
    "+ Gender Ratio\n",
    "+ Location\n",
    "+ Locale\n",
    "+ Name\n",
    "+ Acceptance Rate\n",
    "+ Median Salary Post-Grad\n",
    "+ LAC Rank\n",
    "+ Univ Rank\n",
    "+ Enrollment\n",
    "+ NCAA Ranking\n",
    "+ Type\n",
    "+ Univ Description\n",
    "+ Size"
   ]
  },
  {
   "cell_type": "markdown",
   "metadata": {},
   "source": [
    "## Checking Number of Nulls In Columns of Interest\n",
    "Using column dropping schema in next cells"
   ]
  },
  {
   "cell_type": "code",
   "execution_count": null,
   "metadata": {},
   "outputs": [],
   "source": [
    "reduced_main_df.isnull().sum()"
   ]
  },
  {
   "cell_type": "code",
   "execution_count": null,
   "metadata": {},
   "outputs": [],
   "source": [
    "reduced_main_df=reduced_main_df[reduced_main_df['demographics.women'].notnull()]"
   ]
  },
  {
   "cell_type": "code",
   "execution_count": null,
   "metadata": {},
   "outputs": [],
   "source": [
    "reduced_main_df.isnull().sum()"
   ]
  },
  {
   "cell_type": "markdown",
   "metadata": {},
   "source": [
    "## Cleaning Net Price- Public"
   ]
  },
  {
   "cell_type": "code",
   "execution_count": null,
   "metadata": {},
   "outputs": [],
   "source": []
  },
  {
   "cell_type": "code",
   "execution_count": null,
   "metadata": {},
   "outputs": [],
   "source": []
  },
  {
   "cell_type": "markdown",
   "metadata": {},
   "source": [
    "## Cleaning Net Price- Private"
   ]
  },
  {
   "cell_type": "code",
   "execution_count": null,
   "metadata": {},
   "outputs": [],
   "source": []
  },
  {
   "cell_type": "code",
   "execution_count": null,
   "metadata": {},
   "outputs": [],
   "source": []
  },
  {
   "cell_type": "code",
   "execution_count": null,
   "metadata": {},
   "outputs": [],
   "source": []
  },
  {
   "cell_type": "markdown",
   "metadata": {},
   "source": [
    "## Cleaning SAT Score"
   ]
  },
  {
   "cell_type": "markdown",
   "metadata": {},
   "source": [
    "### Math"
   ]
  },
  {
   "cell_type": "code",
   "execution_count": null,
   "metadata": {},
   "outputs": [],
   "source": []
  },
  {
   "cell_type": "code",
   "execution_count": null,
   "metadata": {},
   "outputs": [],
   "source": []
  },
  {
   "cell_type": "markdown",
   "metadata": {},
   "source": [
    "### Critical Reading"
   ]
  },
  {
   "cell_type": "code",
   "execution_count": null,
   "metadata": {},
   "outputs": [],
   "source": []
  },
  {
   "cell_type": "code",
   "execution_count": null,
   "metadata": {},
   "outputs": [],
   "source": []
  },
  {
   "cell_type": "markdown",
   "metadata": {},
   "source": [
    "### Writing"
   ]
  },
  {
   "cell_type": "code",
   "execution_count": null,
   "metadata": {},
   "outputs": [],
   "source": []
  },
  {
   "cell_type": "code",
   "execution_count": null,
   "metadata": {},
   "outputs": [],
   "source": []
  },
  {
   "cell_type": "markdown",
   "metadata": {},
   "source": [
    "### Cleaning ACT Score"
   ]
  },
  {
   "cell_type": "code",
   "execution_count": null,
   "metadata": {},
   "outputs": [],
   "source": []
  },
  {
   "cell_type": "code",
   "execution_count": null,
   "metadata": {},
   "outputs": [],
   "source": []
  },
  {
   "cell_type": "code",
   "execution_count": null,
   "metadata": {},
   "outputs": [],
   "source": []
  },
  {
   "cell_type": "markdown",
   "metadata": {},
   "source": [
    "### Admssion Rate"
   ]
  },
  {
   "cell_type": "code",
   "execution_count": null,
   "metadata": {},
   "outputs": [],
   "source": []
  },
  {
   "cell_type": "code",
   "execution_count": null,
   "metadata": {},
   "outputs": [],
   "source": []
  },
  {
   "cell_type": "markdown",
   "metadata": {},
   "source": [
    "### Size"
   ]
  },
  {
   "cell_type": "code",
   "execution_count": null,
   "metadata": {},
   "outputs": [],
   "source": []
  },
  {
   "cell_type": "markdown",
   "metadata": {},
   "source": [
    "# Drop Columns\n",
    "\n",
    "Ran this twice. First time to see how many null values are in the columns of interest before cleaning and second time to finalize dataset.\n",
    "\n",
    "Chose to do this in pandas as opposed to SQL in case I'd want to return and add a column."
   ]
  },
  {
   "cell_type": "markdown",
   "metadata": {},
   "source": [
    "## Getting Desired Column Names into List"
   ]
  },
  {
   "cell_type": "code",
   "execution_count": null,
   "metadata": {},
   "outputs": [],
   "source": [
    "count=0\n",
    "names=[]\n",
    "for column in list(main_df.columns):\n",
    "    if 'net_price' in column or 'act_scores.midpoint' in column or 'sat_scores.midpoint' in column or 'program_precentage' in column  or 'name' in column  or 'minority_serving.historically_black' in column or 'location' in column or 'demographics' in column:\n",
    "        names.append(column)\n",
    "        count+=1"
   ]
  },
  {
   "cell_type": "code",
   "execution_count": null,
   "metadata": {},
   "outputs": [],
   "source": [
    "names.remove('avg_net_price.public')\n",
    "names.remove('avg_net_price.private')\n",
    "names.remove('demographics.age_entry')\n",
    "names.remove('demographics.female_share')\n",
    "names.remove('demographics.married')\n",
    "names.remove('demographics.dependent')\n",
    "names.remove('demographics.veteran')\n",
    "names.remove('demographics.first_generation')\n",
    "names.remove('demographics.avg_family_income')\n",
    "names.remove('demographics.median_family_income')\n",
    "names.remove('demographics.avg_family_income_independents')\n",
    "names.remove('demographics.race_ethnicity.hispanic')\n",
    "names.remove('demographics.race_ethnicity.asian')\n",
    "names.remove('demographics.race_ethnicity.aian')\n",
    "names.remove('demographics.race_ethnicity.nhpi')\n",
    "names.remove('demographics.race_ethnicity.two_or_more')\n",
    "names.remove('demographics.race_ethnicity.non_resident_alien')\n",
    "names.remove('demographics.race_ethnicity.unknown')\n",
    "names.remove('demographics.race_ethnicity.black')\n",
    "names.remove('act_scores.midpoint.english')\n",
    "names.remove('act_scores.midpoint.math')\n",
    "names.remove('act_scores.midpoint.writing')\n",
    "names.remove('demographics.men')"
   ]
  },
  {
   "cell_type": "code",
   "execution_count": null,
   "metadata": {},
   "outputs": [],
   "source": [
    "names.append('locale')\n",
    "names.append('admission_rate.overall')\n",
    "names.append('size')\n",
    "names.append('early_pay')\n",
    "names.append('sector')\n",
    "names.append('school_info')\n",
    "names.append('percent_stem')\n",
    "names.append('rank_lac')\n",
    "names.append('Rank')\n",
    "names.append('Description')\n",
    "names.append('division')"
   ]
  },
  {
   "cell_type": "markdown",
   "metadata": {},
   "source": [
    "## Dropping Other Columns"
   ]
  },
  {
   "cell_type": "code",
   "execution_count": null,
   "metadata": {},
   "outputs": [],
   "source": [
    "reduced_main_df=main_df[names]\n",
    "len(reduced_main_df.columns)"
   ]
  },
  {
   "cell_type": "code",
   "execution_count": null,
   "metadata": {},
   "outputs": [],
   "source": [
    "len(reduced_main_df)"
   ]
  },
  {
   "cell_type": "markdown",
   "metadata": {},
   "source": [
    "## Double Check Nulls"
   ]
  },
  {
   "cell_type": "code",
   "execution_count": null,
   "metadata": {
    "scrolled": false
   },
   "outputs": [],
   "source": [
    "reduced_main_df.isnull().sum()"
   ]
  },
  {
   "cell_type": "markdown",
   "metadata": {},
   "source": [
    "# All Good= Read into Final CSV"
   ]
  },
  {
   "cell_type": "code",
   "execution_count": null,
   "metadata": {},
   "outputs": [],
   "source": []
  },
  {
   "cell_type": "code",
   "execution_count": null,
   "metadata": {},
   "outputs": [],
   "source": [
    "income_df"
   ]
  },
  {
   "cell_type": "code",
   "execution_count": null,
   "metadata": {},
   "outputs": [],
   "source": []
  },
  {
   "cell_type": "code",
   "execution_count": null,
   "metadata": {},
   "outputs": [],
   "source": []
  },
  {
   "cell_type": "code",
   "execution_count": null,
   "metadata": {},
   "outputs": [],
   "source": []
  },
  {
   "cell_type": "markdown",
   "metadata": {},
   "source": [
    "# Reference"
   ]
  },
  {
   "cell_type": "code",
   "execution_count": null,
   "metadata": {},
   "outputs": [],
   "source": [
    "univ_ranks.head()\n",
    "'''\n",
    "drop:\n",
    "name\n",
    "location\n",
    "tuition and fees\n",
    "in state\n",
    "enrollment\n",
    "'''\n",
    "\n",
    "\n",
    "lac_ranks.head()\n",
    "'''\n",
    "drop:\n",
    "enrollment\n",
    "name\n",
    "city\n",
    "state\n",
    "base fees\n",
    "in-state\n",
    "\n",
    "'''\n",
    "\n",
    "\n",
    "income_df.head()\n",
    "'''\n",
    "drop:\n",
    "degree type\n",
    "sector\n",
    "name\n",
    "state\n",
    "city\n",
    "\n",
    "'''\n",
    "\n",
    "\n",
    "\n",
    "ncaa.head()\n",
    "'''\n",
    "drop:\n",
    "Conference\n",
    "Nickname\n",
    "name\n",
    "State\n",
    "City\n",
    "\n",
    "'''"
   ]
  },
  {
   "cell_type": "code",
   "execution_count": null,
   "metadata": {},
   "outputs": [],
   "source": [
    "scores= ['sat_scores.midpoint.critical_reading', 'sat_scores.midpoint.math',\n",
    "        'sat_scores.midpoint.writing', 'act_scores.midpoint.cumulative']"
   ]
  },
  {
   "cell_type": "code",
   "execution_count": null,
   "metadata": {},
   "outputs": [],
   "source": [
    "main_df[~main_df[scores].any(axis=1)][['carnegie_basic','name']]"
   ]
  }
 ],
 "metadata": {
  "kernelspec": {
   "display_name": "Python 3",
   "language": "python",
   "name": "python3"
  },
  "language_info": {
   "codemirror_mode": {
    "name": "ipython",
    "version": 3
   },
   "file_extension": ".py",
   "mimetype": "text/x-python",
   "name": "python",
   "nbconvert_exporter": "python",
   "pygments_lexer": "ipython3",
   "version": "3.6.5"
  }
 },
 "nbformat": 4,
 "nbformat_minor": 2
}
