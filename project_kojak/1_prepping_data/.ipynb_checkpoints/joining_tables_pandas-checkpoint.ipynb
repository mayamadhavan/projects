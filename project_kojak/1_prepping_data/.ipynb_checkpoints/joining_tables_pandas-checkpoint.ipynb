{
 "cells": [
  {
   "cell_type": "code",
   "execution_count": 1,
   "metadata": {},
   "outputs": [],
   "source": [
    "import pandas as pd"
   ]
  },
  {
   "cell_type": "markdown",
   "metadata": {},
   "source": [
    "# Read Table"
   ]
  },
  {
   "cell_type": "code",
   "execution_count": 2,
   "metadata": {},
   "outputs": [
    {
     "name": "stderr",
     "output_type": "stream",
     "text": [
      "/Users/mayamadhavan/anaconda3/lib/python3.6/site-packages/IPython/core/interactiveshell.py:2785: DtypeWarning: Columns (668) have mixed types. Specify dtype option on import or set low_memory=False.\n",
      "  interactivity=interactivity, compiler=compiler, result=result)\n"
     ]
    },
    {
     "data": {
      "text/html": [
       "<div>\n",
       "<style scoped>\n",
       "    .dataframe tbody tr th:only-of-type {\n",
       "        vertical-align: middle;\n",
       "    }\n",
       "\n",
       "    .dataframe tbody tr th {\n",
       "        vertical-align: top;\n",
       "    }\n",
       "\n",
       "    .dataframe thead th {\n",
       "        text-align: right;\n",
       "    }\n",
       "</style>\n",
       "<table border=\"1\" class=\"dataframe\">\n",
       "  <thead>\n",
       "    <tr style=\"text-align: right;\">\n",
       "      <th></th>\n",
       "      <th>index</th>\n",
       "      <th>id</th>\n",
       "      <th>ope8_id</th>\n",
       "      <th>ope6_id</th>\n",
       "      <th>name</th>\n",
       "      <th>city</th>\n",
       "      <th>state</th>\n",
       "      <th>zip</th>\n",
       "      <th>accreditor</th>\n",
       "      <th>school_url</th>\n",
       "      <th>...</th>\n",
       "      <th>In-state</th>\n",
       "      <th>Undergrad Enrollment</th>\n",
       "      <th>univ.1</th>\n",
       "      <th>index.4</th>\n",
       "      <th>City</th>\n",
       "      <th>Conference</th>\n",
       "      <th>Nickname</th>\n",
       "      <th>State</th>\n",
       "      <th>division</th>\n",
       "      <th>ncaa_rated</th>\n",
       "    </tr>\n",
       "  </thead>\n",
       "  <tbody>\n",
       "    <tr>\n",
       "      <th>0</th>\n",
       "      <td>0</td>\n",
       "      <td>100654</td>\n",
       "      <td>100200</td>\n",
       "      <td>1002</td>\n",
       "      <td>Alabama A &amp; M University</td>\n",
       "      <td>Normal</td>\n",
       "      <td>AL</td>\n",
       "      <td>35762</td>\n",
       "      <td>Southern Association of Colleges and Schools C...</td>\n",
       "      <td>www.aamu.edu/</td>\n",
       "      <td>...</td>\n",
       "      <td>NaN</td>\n",
       "      <td>NaN</td>\n",
       "      <td>NaN</td>\n",
       "      <td>NaN</td>\n",
       "      <td>NaN</td>\n",
       "      <td>NaN</td>\n",
       "      <td>NaN</td>\n",
       "      <td>NaN</td>\n",
       "      <td>NaN</td>\n",
       "      <td>NaN</td>\n",
       "    </tr>\n",
       "    <tr>\n",
       "      <th>1</th>\n",
       "      <td>1</td>\n",
       "      <td>100663</td>\n",
       "      <td>105200</td>\n",
       "      <td>1052</td>\n",
       "      <td>University of Alabama at Birmingham</td>\n",
       "      <td>Birmingham</td>\n",
       "      <td>AL</td>\n",
       "      <td>35294-0110</td>\n",
       "      <td>Southern Association of Colleges and Schools C...</td>\n",
       "      <td>www.uab.edu</td>\n",
       "      <td>...</td>\n",
       "      <td>NaN</td>\n",
       "      <td>NaN</td>\n",
       "      <td>NaN</td>\n",
       "      <td>758.0</td>\n",
       "      <td>Birmingham</td>\n",
       "      <td>Conference USA</td>\n",
       "      <td>Blazers</td>\n",
       "      <td>Alabama</td>\n",
       "      <td>D1</td>\n",
       "      <td>ncaa</td>\n",
       "    </tr>\n",
       "    <tr>\n",
       "      <th>2</th>\n",
       "      <td>3</td>\n",
       "      <td>100706</td>\n",
       "      <td>105500</td>\n",
       "      <td>1055</td>\n",
       "      <td>University of Alabama in Huntsville</td>\n",
       "      <td>Huntsville</td>\n",
       "      <td>AL</td>\n",
       "      <td>35899</td>\n",
       "      <td>Southern Association of Colleges and Schools C...</td>\n",
       "      <td>www.uah.edu</td>\n",
       "      <td>...</td>\n",
       "      <td>NaN</td>\n",
       "      <td>NaN</td>\n",
       "      <td>NaN</td>\n",
       "      <td>3.0</td>\n",
       "      <td>Huntsville</td>\n",
       "      <td>Gulf South Conference</td>\n",
       "      <td>Chargers</td>\n",
       "      <td>Alabama</td>\n",
       "      <td>D2</td>\n",
       "      <td>ncaa</td>\n",
       "    </tr>\n",
       "    <tr>\n",
       "      <th>3</th>\n",
       "      <td>4</td>\n",
       "      <td>100724</td>\n",
       "      <td>100500</td>\n",
       "      <td>1005</td>\n",
       "      <td>Alabama State University</td>\n",
       "      <td>Montgomery</td>\n",
       "      <td>AL</td>\n",
       "      <td>36104-0271</td>\n",
       "      <td>Southern Association of Colleges and Schools C...</td>\n",
       "      <td>www.alasu.edu</td>\n",
       "      <td>...</td>\n",
       "      <td>NaN</td>\n",
       "      <td>NaN</td>\n",
       "      <td>NaN</td>\n",
       "      <td>759.0</td>\n",
       "      <td>Montgomery</td>\n",
       "      <td>Southwestern Athletic Conference</td>\n",
       "      <td>Hornets and Lady Hornets</td>\n",
       "      <td>Alabama</td>\n",
       "      <td>D1</td>\n",
       "      <td>ncaa</td>\n",
       "    </tr>\n",
       "    <tr>\n",
       "      <th>4</th>\n",
       "      <td>5</td>\n",
       "      <td>100751</td>\n",
       "      <td>105100</td>\n",
       "      <td>1051</td>\n",
       "      <td>The University of Alabama</td>\n",
       "      <td>Tuscaloosa</td>\n",
       "      <td>AL</td>\n",
       "      <td>35487-0166</td>\n",
       "      <td>Southern Association of Colleges and Schools C...</td>\n",
       "      <td>www.ua.edu/</td>\n",
       "      <td>...</td>\n",
       "      <td>NaN</td>\n",
       "      <td>NaN</td>\n",
       "      <td>NaN</td>\n",
       "      <td>NaN</td>\n",
       "      <td>NaN</td>\n",
       "      <td>NaN</td>\n",
       "      <td>NaN</td>\n",
       "      <td>NaN</td>\n",
       "      <td>NaN</td>\n",
       "      <td>NaN</td>\n",
       "    </tr>\n",
       "  </tbody>\n",
       "</table>\n",
       "<p>5 rows × 684 columns</p>\n",
       "</div>"
      ],
      "text/plain": [
       "   index      id  ope8_id  ope6_id                                 name  \\\n",
       "0      0  100654   100200     1002             Alabama A & M University   \n",
       "1      1  100663   105200     1052  University of Alabama at Birmingham   \n",
       "2      3  100706   105500     1055  University of Alabama in Huntsville   \n",
       "3      4  100724   100500     1005             Alabama State University   \n",
       "4      5  100751   105100     1051            The University of Alabama   \n",
       "\n",
       "         city state         zip  \\\n",
       "0      Normal    AL       35762   \n",
       "1  Birmingham    AL  35294-0110   \n",
       "2  Huntsville    AL       35899   \n",
       "3  Montgomery    AL  36104-0271   \n",
       "4  Tuscaloosa    AL  35487-0166   \n",
       "\n",
       "                                          accreditor     school_url  \\\n",
       "0  Southern Association of Colleges and Schools C...  www.aamu.edu/   \n",
       "1  Southern Association of Colleges and Schools C...    www.uab.edu   \n",
       "2  Southern Association of Colleges and Schools C...    www.uah.edu   \n",
       "3  Southern Association of Colleges and Schools C...  www.alasu.edu   \n",
       "4  Southern Association of Colleges and Schools C...    www.ua.edu/   \n",
       "\n",
       "      ...     In-state  Undergrad Enrollment  univ.1  index.4        City  \\\n",
       "0     ...          NaN                   NaN     NaN      NaN         NaN   \n",
       "1     ...          NaN                   NaN     NaN    758.0  Birmingham   \n",
       "2     ...          NaN                   NaN     NaN      3.0  Huntsville   \n",
       "3     ...          NaN                   NaN     NaN    759.0  Montgomery   \n",
       "4     ...          NaN                   NaN     NaN      NaN         NaN   \n",
       "\n",
       "                         Conference                  Nickname    State  \\\n",
       "0                               NaN                       NaN      NaN   \n",
       "1                    Conference USA                   Blazers  Alabama   \n",
       "2             Gulf South Conference                  Chargers  Alabama   \n",
       "3  Southwestern Athletic Conference  Hornets and Lady Hornets  Alabama   \n",
       "4                               NaN                       NaN      NaN   \n",
       "\n",
       "   division  ncaa_rated  \n",
       "0       NaN         NaN  \n",
       "1        D1        ncaa  \n",
       "2        D2        ncaa  \n",
       "3        D1        ncaa  \n",
       "4       NaN         NaN  \n",
       "\n",
       "[5 rows x 684 columns]"
      ]
     },
     "execution_count": 2,
     "metadata": {},
     "output_type": "execute_result"
    }
   ],
   "source": [
    "main_df=pd.read_csv('final_df_unclean.csv')\n",
    "main_df=main_df.drop('Unnamed: 0', 1)\n",
    "main_df=main_df.drop(['name.1', 'name.2', 'name.3', 'name.4'], 1)\n",
    "main_df.head()"
   ]
  },
  {
   "cell_type": "code",
   "execution_count": 3,
   "metadata": {},
   "outputs": [
    {
     "data": {
      "text/plain": [
       "1680"
      ]
     },
     "execution_count": 3,
     "metadata": {},
     "output_type": "execute_result"
    }
   ],
   "source": [
    "len(main_df)"
   ]
  },
  {
   "cell_type": "markdown",
   "metadata": {},
   "source": [
    "# Drop Rows= Move to SQL"
   ]
  },
  {
   "cell_type": "markdown",
   "metadata": {},
   "source": [
    "## Dropping Associates Degrees and School with Open Admissions Policy\n",
    "1. Community Colleges\n",
    "2. Schools that offer Associates Degrees\n",
    "3. Technical Schools"
   ]
  },
  {
   "cell_type": "code",
   "execution_count": 4,
   "metadata": {
    "scrolled": true
   },
   "outputs": [],
   "source": [
    "main_df=main_df[main_df['carnegie_basic']>=15]"
   ]
  },
  {
   "cell_type": "code",
   "execution_count": 5,
   "metadata": {},
   "outputs": [],
   "source": [
    "main_df=main_df[main_df['carnegie_basic']<=23]"
   ]
  },
  {
   "cell_type": "code",
   "execution_count": 6,
   "metadata": {},
   "outputs": [],
   "source": [
    "main_df=main_df[main_df['open_admissions_policy']!=1]"
   ]
  },
  {
   "cell_type": "code",
   "execution_count": 7,
   "metadata": {},
   "outputs": [],
   "source": [
    "main_df=main_df[main_df['open_admissions_policy']!=3]"
   ]
  },
  {
   "cell_type": "code",
   "execution_count": 8,
   "metadata": {},
   "outputs": [
    {
     "data": {
      "text/plain": [
       "1443"
      ]
     },
     "execution_count": 8,
     "metadata": {},
     "output_type": "execute_result"
    }
   ],
   "source": [
    "len(main_df)"
   ]
  },
  {
   "cell_type": "markdown",
   "metadata": {},
   "source": [
    "# Clean Columns of Interest Imputing with Overall Data"
   ]
  },
  {
   "cell_type": "markdown",
   "metadata": {},
   "source": [
    "## Get Columns of Interest"
   ]
  },
  {
   "cell_type": "code",
   "execution_count": 9,
   "metadata": {},
   "outputs": [],
   "source": [
    "def drop_columns(df=main_df):\n",
    "    count=0\n",
    "    names=[]\n",
    "    for column in list(main_df.columns):\n",
    "        if 'net_price' in column or 'act_scores.midpoint' in column or 'sat_scores.midpoint' in column or 'program_precentage' in column  or 'name' in column  or 'minority_serving.historically_black' in column or 'location' in column or 'demographics' in column:\n",
    "            names.append(column)\n",
    "            count+=1\n",
    "    names.remove('avg_net_price.public')\n",
    "    names.remove('avg_net_price.private')\n",
    "    names.remove('demographics.age_entry')\n",
    "    names.remove('demographics.female_share')\n",
    "    names.remove('demographics.married')\n",
    "    names.remove('demographics.dependent')\n",
    "    names.remove('demographics.veteran')\n",
    "    names.remove('demographics.first_generation')\n",
    "    names.remove('demographics.avg_family_income')\n",
    "    names.remove('demographics.median_family_income')\n",
    "    names.remove('demographics.avg_family_income_independents')\n",
    "    names.remove('demographics.race_ethnicity.hispanic')\n",
    "    names.remove('demographics.race_ethnicity.asian')\n",
    "    names.remove('demographics.race_ethnicity.aian')\n",
    "    names.remove('demographics.race_ethnicity.nhpi')\n",
    "    names.remove('demographics.race_ethnicity.two_or_more')\n",
    "    names.remove('demographics.race_ethnicity.non_resident_alien')\n",
    "    names.remove('demographics.race_ethnicity.unknown')\n",
    "    names.remove('demographics.race_ethnicity.black')\n",
    "    names.remove('act_scores.midpoint.english')\n",
    "    names.remove('act_scores.midpoint.math')\n",
    "    names.remove('act_scores.midpoint.writing')\n",
    "    names.remove('demographics.men')\n",
    "    names.append('locale')\n",
    "    names.append('admission_rate.overall')\n",
    "    names.append('size')\n",
    "    names.append('early_pay')\n",
    "    names.append('sector')\n",
    "    names.append('school_info')\n",
    "    names.append('percent_stem')\n",
    "    names.append('rank_lac')\n",
    "    names.append('Rank')\n",
    "    names.append('Description')\n",
    "    names.append('division')\n",
    "    names.append('name')\n",
    "    reduced_main_df=main_df[names]\n",
    "    reduced_main_df=reduced_main_df.drop('Nickname', 1)\n",
    "    column_names = reduced_main_df.columns.values\n",
    "    column_names[-1] = 'drop'\n",
    "    reduced_main_df.columns = column_names\n",
    "    reduced_main_df=reduced_main_df.drop('drop', 1)\n",
    "    return reduced_main_df"
   ]
  },
  {
   "cell_type": "markdown",
   "metadata": {},
   "source": [
    "## Checking Number of Nulls In Columns of Interest\n",
    "Using column dropping schema in next cells"
   ]
  },
  {
   "cell_type": "code",
   "execution_count": 10,
   "metadata": {},
   "outputs": [],
   "source": [
    "reduced_main_df=drop_columns()"
   ]
  },
  {
   "cell_type": "code",
   "execution_count": 11,
   "metadata": {},
   "outputs": [
    {
     "data": {
      "text/plain": [
       "name                                                 0\n",
       "location.lat                                         0\n",
       "location.lon                                         0\n",
       "minority_serving.historically_black                  0\n",
       "sat_scores.midpoint.critical_reading               361\n",
       "sat_scores.midpoint.math                           353\n",
       "sat_scores.midpoint.writing                        787\n",
       "act_scores.midpoint.cumulative                     338\n",
       "demographics.race_ethnicity.white                   10\n",
       "net_price.public.by_income_level.0-30000           923\n",
       "net_price.public.by_income_level.30001-48000       924\n",
       "net_price.public.by_income_level.48001-75000       924\n",
       "net_price.public.by_income_level.75001-110000      928\n",
       "net_price.public.by_income_level.110001-plus       941\n",
       "net_price.private.by_income_level.0-30000          554\n",
       "net_price.private.by_income_level.30001-48000      559\n",
       "net_price.private.by_income_level.48001-75000      559\n",
       "net_price.private.by_income_level.75001-110000     577\n",
       "net_price.private.by_income_level.110001-plus      592\n",
       "net_price.public.by_income_level.0-48000           923\n",
       "net_price.private.by_income_level.0-48000          554\n",
       "net_price.public.by_income_level.30001-75000       924\n",
       "net_price.private.by_income_level.30001-75000      557\n",
       "net_price.public.by_income_level.75000-plus        927\n",
       "net_price.private.by_income_level.75000-plus       574\n",
       "demographics.women                                  10\n",
       "locale                                               0\n",
       "admission_rate.overall                              33\n",
       "size                                                10\n",
       "early_pay                                          170\n",
       "sector                                             170\n",
       "school_info                                        170\n",
       "percent_stem                                       170\n",
       "rank_lac                                          1288\n",
       "Rank                                              1302\n",
       "Description                                       1302\n",
       "division                                           656\n",
       "dtype: int64"
      ]
     },
     "execution_count": 11,
     "metadata": {},
     "output_type": "execute_result"
    }
   ],
   "source": [
    "reduced_main_df.isnull().sum()"
   ]
  },
  {
   "cell_type": "markdown",
   "metadata": {},
   "source": [
    "## Dropping Grad Schools"
   ]
  },
  {
   "cell_type": "code",
   "execution_count": 12,
   "metadata": {},
   "outputs": [],
   "source": [
    "main_df=main_df[main_df['demographics.women'].notnull()]"
   ]
  },
  {
   "cell_type": "code",
   "execution_count": 15,
   "metadata": {},
   "outputs": [
    {
     "data": {
      "text/plain": [
       "name                                                 0\n",
       "location.lat                                         0\n",
       "location.lon                                         0\n",
       "minority_serving.historically_black                  0\n",
       "sat_scores.midpoint.critical_reading               351\n",
       "sat_scores.midpoint.math                           343\n",
       "sat_scores.midpoint.writing                        777\n",
       "act_scores.midpoint.cumulative                     328\n",
       "demographics.race_ethnicity.white                    0\n",
       "net_price.public.by_income_level.0-30000           913\n",
       "net_price.public.by_income_level.30001-48000       914\n",
       "net_price.public.by_income_level.48001-75000       914\n",
       "net_price.public.by_income_level.75001-110000      918\n",
       "net_price.public.by_income_level.110001-plus       931\n",
       "net_price.private.by_income_level.0-30000          544\n",
       "net_price.private.by_income_level.30001-48000      549\n",
       "net_price.private.by_income_level.48001-75000      549\n",
       "net_price.private.by_income_level.75001-110000     567\n",
       "net_price.private.by_income_level.110001-plus      582\n",
       "net_price.public.by_income_level.0-48000           913\n",
       "net_price.private.by_income_level.0-48000          544\n",
       "net_price.public.by_income_level.30001-75000       914\n",
       "net_price.private.by_income_level.30001-75000      547\n",
       "net_price.public.by_income_level.75000-plus        917\n",
       "net_price.private.by_income_level.75000-plus       564\n",
       "demographics.women                                   0\n",
       "locale                                               0\n",
       "admission_rate.overall                              23\n",
       "size                                                 0\n",
       "early_pay                                          161\n",
       "sector                                             161\n",
       "school_info                                        161\n",
       "percent_stem                                       161\n",
       "rank_lac                                          1278\n",
       "Rank                                              1292\n",
       "Description                                       1292\n",
       "division                                           646\n",
       "dtype: int64"
      ]
     },
     "execution_count": 15,
     "metadata": {},
     "output_type": "execute_result"
    }
   ],
   "source": [
    "reduced_main_df=drop_columns()\n",
    "reduced_main_df.isnull().sum()"
   ]
  },
  {
   "cell_type": "markdown",
   "metadata": {},
   "source": [
    "## Cleaning Net Price- Public"
   ]
  },
  {
   "cell_type": "code",
   "execution_count": null,
   "metadata": {},
   "outputs": [],
   "source": []
  },
  {
   "cell_type": "code",
   "execution_count": null,
   "metadata": {},
   "outputs": [],
   "source": []
  },
  {
   "cell_type": "markdown",
   "metadata": {},
   "source": [
    "## Cleaning Net Price- Private"
   ]
  },
  {
   "cell_type": "code",
   "execution_count": null,
   "metadata": {},
   "outputs": [],
   "source": []
  },
  {
   "cell_type": "code",
   "execution_count": null,
   "metadata": {},
   "outputs": [],
   "source": []
  },
  {
   "cell_type": "code",
   "execution_count": null,
   "metadata": {},
   "outputs": [],
   "source": []
  },
  {
   "cell_type": "markdown",
   "metadata": {},
   "source": [
    "## Cleaning SAT Score"
   ]
  },
  {
   "cell_type": "markdown",
   "metadata": {},
   "source": [
    "### Math"
   ]
  },
  {
   "cell_type": "code",
   "execution_count": null,
   "metadata": {},
   "outputs": [],
   "source": [
    "sat_mat = main_df[~main_df['sat_scores.midpoint.critical_reading'].isnull()].groupby(['country_of_citizenship',\n",
    "                                                                                   'class_of_admission']\n",
    "                                                                                 ).foreign_worker_info_education.apply(mode\n",
    "                                                                                                                      ).reset_index()"
   ]
  },
  {
   "cell_type": "code",
   "execution_count": null,
   "metadata": {},
   "outputs": [],
   "source": [
    "main_df = impute(main_df, sat_mat, 'foreign_worker_info_education', ['country_of_citizenship',\n",
    "                                                                                   'class_of_admission'])"
   ]
  },
  {
   "cell_type": "markdown",
   "metadata": {},
   "source": [
    "### Critical Reading"
   ]
  },
  {
   "cell_type": "code",
   "execution_count": null,
   "metadata": {},
   "outputs": [],
   "source": [
    "sat_crit = main_df[~main_df['foreign_worker_info_education'].isnull()].groupby(['country_of_citizenship',\n",
    "                                                                                   'class_of_admission']\n",
    "                                                                                 ).foreign_worker_info_education.apply(mode\n",
    "                                                                                                                      ).reset_index()"
   ]
  },
  {
   "cell_type": "code",
   "execution_count": null,
   "metadata": {},
   "outputs": [],
   "source": []
  },
  {
   "cell_type": "markdown",
   "metadata": {},
   "source": [
    "### Writing"
   ]
  },
  {
   "cell_type": "code",
   "execution_count": null,
   "metadata": {},
   "outputs": [],
   "source": [
    "sat_writ = main_df[~main_df['foreign_worker_info_education'].isnull()].groupby(['country_of_citizenship',\n",
    "                                                                                   'class_of_admission']\n",
    "                                                                                 ).foreign_worker_info_education.apply(mode\n",
    "                                                                                                                      ).reset_index()"
   ]
  },
  {
   "cell_type": "code",
   "execution_count": null,
   "metadata": {},
   "outputs": [],
   "source": []
  },
  {
   "cell_type": "markdown",
   "metadata": {},
   "source": [
    "### Cleaning ACT Score"
   ]
  },
  {
   "cell_type": "code",
   "execution_count": null,
   "metadata": {},
   "outputs": [],
   "source": []
  },
  {
   "cell_type": "code",
   "execution_count": null,
   "metadata": {},
   "outputs": [],
   "source": []
  },
  {
   "cell_type": "code",
   "execution_count": null,
   "metadata": {},
   "outputs": [],
   "source": []
  },
  {
   "cell_type": "markdown",
   "metadata": {},
   "source": [
    "### Admssion Rate"
   ]
  },
  {
   "cell_type": "code",
   "execution_count": null,
   "metadata": {},
   "outputs": [],
   "source": []
  },
  {
   "cell_type": "code",
   "execution_count": null,
   "metadata": {},
   "outputs": [],
   "source": []
  },
  {
   "cell_type": "markdown",
   "metadata": {},
   "source": [
    "### Size"
   ]
  },
  {
   "cell_type": "code",
   "execution_count": null,
   "metadata": {},
   "outputs": [],
   "source": []
  },
  {
   "cell_type": "code",
   "execution_count": null,
   "metadata": {},
   "outputs": [],
   "source": []
  },
  {
   "cell_type": "code",
   "execution_count": null,
   "metadata": {},
   "outputs": [],
   "source": []
  },
  {
   "cell_type": "code",
   "execution_count": null,
   "metadata": {},
   "outputs": [],
   "source": [
    "sat_scores.midpoint.critical_reading               351\n",
    "sat_scores.midpoint.math                           343\n",
    "sat_scores.midpoint.writing                        777\n",
    "act_scores.midpoint.cumulative                     328\n",
    "\n",
    "\n",
    "net_price.public.by_income_level.0-30000           913\n",
    "net_price.public.by_income_level.30001-48000       914\n",
    "net_price.public.by_income_level.48001-75000       914\n",
    "net_price.public.by_income_level.75001-110000      918\n",
    "net_price.public.by_income_level.110001-plus       931\n",
    "net_price.private.by_income_level.0-30000          544\n",
    "net_price.private.by_income_level.30001-48000      549\n",
    "net_price.private.by_income_level.48001-75000      549\n",
    "net_price.private.by_income_level.75001-110000     567\n",
    "net_price.private.by_income_level.110001-plus      582\n",
    "net_price.public.by_income_level.0-48000           913\n",
    "net_price.private.by_income_level.0-48000          544\n",
    "net_price.public.by_income_level.30001-75000       914\n",
    "net_price.private.by_income_level.30001-75000      547\n",
    "net_price.public.by_income_level.75000-plus        917\n",
    "net_price.private.by_income_level.75000-plus       564\n",
    "\n",
    "\n",
    "admission_rate.overall                              23\n",
    "early_pay                                          161\n",
    "sector                                             161\n",
    "school_info                                        161\n",
    "percent_stem                                       161\n",
    "rank_lac                                          1278\n",
    "Rank                                              1292\n",
    "Description                                       1292\n",
    "division                                           646"
   ]
  },
  {
   "cell_type": "markdown",
   "metadata": {},
   "source": [
    "# Final Drop + Null Checking\n",
    "\n",
    "Chose to do this in pandas as opposed to SQL in case I'd want to return and add a column."
   ]
  },
  {
   "cell_type": "code",
   "execution_count": null,
   "metadata": {
    "scrolled": false
   },
   "outputs": [],
   "source": [
    "reduced_main_df=drop_columns()\n",
    "reduced_main_df.isnull().sum()"
   ]
  },
  {
   "cell_type": "markdown",
   "metadata": {},
   "source": [
    "# All Good= Read into Final CSV"
   ]
  },
  {
   "cell_type": "code",
   "execution_count": null,
   "metadata": {},
   "outputs": [],
   "source": []
  },
  {
   "cell_type": "code",
   "execution_count": null,
   "metadata": {},
   "outputs": [],
   "source": []
  },
  {
   "cell_type": "code",
   "execution_count": null,
   "metadata": {},
   "outputs": [],
   "source": []
  },
  {
   "cell_type": "code",
   "execution_count": null,
   "metadata": {},
   "outputs": [],
   "source": []
  },
  {
   "cell_type": "markdown",
   "metadata": {},
   "source": [
    "# Reference"
   ]
  },
  {
   "cell_type": "markdown",
   "metadata": {},
   "source": [
    "univ_ranks.head()\n",
    "'''\n",
    "drop:\n",
    "name\n",
    "location\n",
    "tuition and fees\n",
    "in state\n",
    "enrollment\n",
    "'''\n",
    "\n",
    "\n",
    "lac_ranks.head()\n",
    "'''\n",
    "drop:\n",
    "enrollment\n",
    "name\n",
    "city\n",
    "state\n",
    "base fees\n",
    "in-state\n",
    "\n",
    "'''\n",
    "\n",
    "\n",
    "income_df.head()\n",
    "'''\n",
    "drop:\n",
    "degree type\n",
    "sector\n",
    "name\n",
    "state\n",
    "city\n",
    "\n",
    "'''\n",
    "\n",
    "\n",
    "\n",
    "ncaa.head()\n",
    "'''\n",
    "drop:\n",
    "Conference\n",
    "Nickname\n",
    "name\n",
    "State\n",
    "City\n",
    "\n",
    "'''"
   ]
  },
  {
   "cell_type": "markdown",
   "metadata": {},
   "source": [
    "scores= ['sat_scores.midpoint.critical_reading', 'sat_scores.midpoint.math',\n",
    "        'sat_scores.midpoint.writing', 'act_scores.midpoint.cumulative']"
   ]
  },
  {
   "cell_type": "markdown",
   "metadata": {},
   "source": [
    "main_df[~main_df[scores].any(axis=1)][['carnegie_basic','name']]"
   ]
  },
  {
   "cell_type": "markdown",
   "metadata": {},
   "source": [
    "df=pd.read_csv('seperate_datasets/main_dataset.csv')\n",
    "income_df=pd.read_csv('seperate_datasets/income.csv')\n",
    "lac_ranks=pd.read_csv('seperate_datasets/lac_ranking.csv')\n",
    "univ_ranks=pd.read_csv('seperate_datasets/univ_rankings.csv')\n",
    "ncaa=pd.read_csv('seperate_datasets/ncaa.csv')"
   ]
  },
  {
   "cell_type": "markdown",
   "metadata": {},
   "source": [
    "df=df.drop('Unnamed: 0', 1)\n",
    "income_df=income_df.drop('Unnamed: 0', 1)\n",
    "lac_ranks=lac_ranks.drop('Unnamed: 0', 1)\n",
    "lac_ranks=lac_ranks.drop('lac', 1)\n",
    "lac_ranks=lac_ranks.rename(columns={'rank':'rank_lac'})\n",
    "univ_ranks=univ_ranks.drop('Unnamed: 0', 1)\n",
    "ncaa=ncaa.drop('Unnamed: 0', 1)"
   ]
  },
  {
   "cell_type": "code",
   "execution_count": null,
   "metadata": {},
   "outputs": [],
   "source": []
  },
  {
   "cell_type": "code",
   "execution_count": null,
   "metadata": {},
   "outputs": [],
   "source": []
  }
 ],
 "metadata": {
  "kernelspec": {
   "display_name": "Python 3",
   "language": "python",
   "name": "python3"
  },
  "language_info": {
   "codemirror_mode": {
    "name": "ipython",
    "version": 3
   },
   "file_extension": ".py",
   "mimetype": "text/x-python",
   "name": "python",
   "nbconvert_exporter": "python",
   "pygments_lexer": "ipython3",
   "version": "3.6.5"
  }
 },
 "nbformat": 4,
 "nbformat_minor": 2
}
