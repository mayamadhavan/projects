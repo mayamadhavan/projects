{
 "cells": [
  {
   "cell_type": "code",
   "execution_count": 35,
   "metadata": {},
   "outputs": [],
   "source": [
    "import pandas as pd\n",
    "import numpy as np\n",
    "from sklearn.cluster import KMeans\n",
    "from sklearn.preprocessing import LabelEncoder\n",
    "from sklearn.preprocessing import MinMaxScaler\n",
    "import seaborn as sns\n",
    "import matplotlib.pyplot as plt\n",
    "%matplotlib inline"
   ]
  },
  {
   "cell_type": "code",
   "execution_count": 36,
   "metadata": {},
   "outputs": [],
   "source": [
    "from sklearn.feature_extraction.text import CountVectorizer, TfidfVectorizer\n",
    "from sklearn.decomposition import NMF, TruncatedSVD\n",
    "from sklearn.cluster import KMeans, DBSCAN, SpectralClustering, MeanShift, estimate_bandwidth\n",
    "from sklearn.manifold import TSNE\n",
    "\n",
    "from sklearn.metrics.pairwise import cosine_similarity\n",
    "plt.style.use(\"seaborn\")"
   ]
  },
  {
   "cell_type": "markdown",
   "metadata": {},
   "source": [
    "# Read in Data"
   ]
  },
  {
   "cell_type": "code",
   "execution_count": 38,
   "metadata": {},
   "outputs": [
    {
     "data": {
      "text/html": [
       "<div>\n",
       "<style scoped>\n",
       "    .dataframe tbody tr th:only-of-type {\n",
       "        vertical-align: middle;\n",
       "    }\n",
       "\n",
       "    .dataframe tbody tr th {\n",
       "        vertical-align: top;\n",
       "    }\n",
       "\n",
       "    .dataframe thead th {\n",
       "        text-align: right;\n",
       "    }\n",
       "</style>\n",
       "<table border=\"1\" class=\"dataframe\">\n",
       "  <thead>\n",
       "    <tr style=\"text-align: right;\">\n",
       "      <th></th>\n",
       "      <th>name</th>\n",
       "      <th>location.lat</th>\n",
       "      <th>location.lon</th>\n",
       "      <th>minority_serving.historically_black</th>\n",
       "      <th>act_scores.midpoint.cumulative</th>\n",
       "      <th>sat_scores.average.overall</th>\n",
       "      <th>demographics.race_ethnicity.white</th>\n",
       "      <th>net_price_less_30000</th>\n",
       "      <th>net_price_30001_48000</th>\n",
       "      <th>net_price_48001_75000</th>\n",
       "      <th>...</th>\n",
       "      <th>open_admissions_policy</th>\n",
       "      <th>accreditor_code</th>\n",
       "      <th>outcome_cohort.full_time.first_time.6yr</th>\n",
       "      <th>outcome_cohort.full_time.first_time.8yr</th>\n",
       "      <th>outcome_cohort.part_time.first_time.6yr</th>\n",
       "      <th>outcome_cohort.part_time.first_time.8yr</th>\n",
       "      <th>outcome_cohort.full_time.not_first_time.6yr</th>\n",
       "      <th>outcome_cohort.full_time.not_first_time.8yr</th>\n",
       "      <th>outcome_cohort.part_time.not_first_time.6yr</th>\n",
       "      <th>outcome_cohort.part_time.not_first_time.8yr</th>\n",
       "    </tr>\n",
       "  </thead>\n",
       "  <tbody>\n",
       "    <tr>\n",
       "      <th>0</th>\n",
       "      <td>Alabama A &amp; M University</td>\n",
       "      <td>34.783368</td>\n",
       "      <td>-86.568502</td>\n",
       "      <td>1.0</td>\n",
       "      <td>18.0</td>\n",
       "      <td>850.0</td>\n",
       "      <td>0.0340</td>\n",
       "      <td>13075.0</td>\n",
       "      <td>12458.0</td>\n",
       "      <td>15857.0</td>\n",
       "      <td>...</td>\n",
       "      <td>2.0</td>\n",
       "      <td>SACSCC</td>\n",
       "      <td>1044.0</td>\n",
       "      <td>1044.0</td>\n",
       "      <td>2.0</td>\n",
       "      <td>2.0</td>\n",
       "      <td>110.0</td>\n",
       "      <td>110.0</td>\n",
       "      <td>16.0</td>\n",
       "      <td>16.0</td>\n",
       "    </tr>\n",
       "    <tr>\n",
       "      <th>1</th>\n",
       "      <td>University of Alabama at Birmingham</td>\n",
       "      <td>33.502230</td>\n",
       "      <td>-86.809170</td>\n",
       "      <td>0.0</td>\n",
       "      <td>25.0</td>\n",
       "      <td>1147.0</td>\n",
       "      <td>0.5863</td>\n",
       "      <td>13614.0</td>\n",
       "      <td>14746.0</td>\n",
       "      <td>17601.0</td>\n",
       "      <td>...</td>\n",
       "      <td>2.0</td>\n",
       "      <td>SACSCC</td>\n",
       "      <td>1246.0</td>\n",
       "      <td>1245.0</td>\n",
       "      <td>30.0</td>\n",
       "      <td>30.0</td>\n",
       "      <td>686.0</td>\n",
       "      <td>686.0</td>\n",
       "      <td>248.0</td>\n",
       "      <td>248.0</td>\n",
       "    </tr>\n",
       "    <tr>\n",
       "      <th>2</th>\n",
       "      <td>University of Alabama in Huntsville</td>\n",
       "      <td>34.722818</td>\n",
       "      <td>-86.638420</td>\n",
       "      <td>0.0</td>\n",
       "      <td>27.0</td>\n",
       "      <td>1221.0</td>\n",
       "      <td>0.7024</td>\n",
       "      <td>15252.0</td>\n",
       "      <td>17228.0</td>\n",
       "      <td>19178.0</td>\n",
       "      <td>...</td>\n",
       "      <td>2.0</td>\n",
       "      <td>SACSCC</td>\n",
       "      <td>765.0</td>\n",
       "      <td>765.0</td>\n",
       "      <td>31.0</td>\n",
       "      <td>31.0</td>\n",
       "      <td>483.0</td>\n",
       "      <td>483.0</td>\n",
       "      <td>131.0</td>\n",
       "      <td>131.0</td>\n",
       "    </tr>\n",
       "    <tr>\n",
       "      <th>3</th>\n",
       "      <td>Alabama State University</td>\n",
       "      <td>32.364317</td>\n",
       "      <td>-86.295677</td>\n",
       "      <td>1.0</td>\n",
       "      <td>18.0</td>\n",
       "      <td>844.0</td>\n",
       "      <td>0.0165</td>\n",
       "      <td>7519.0</td>\n",
       "      <td>2611.0</td>\n",
       "      <td>9831.0</td>\n",
       "      <td>...</td>\n",
       "      <td>2.0</td>\n",
       "      <td>SACSCC</td>\n",
       "      <td>1330.0</td>\n",
       "      <td>1330.0</td>\n",
       "      <td>49.0</td>\n",
       "      <td>49.0</td>\n",
       "      <td>177.0</td>\n",
       "      <td>177.0</td>\n",
       "      <td>36.0</td>\n",
       "      <td>36.0</td>\n",
       "    </tr>\n",
       "    <tr>\n",
       "      <th>4</th>\n",
       "      <td>The University of Alabama</td>\n",
       "      <td>33.214400</td>\n",
       "      <td>-87.545766</td>\n",
       "      <td>0.0</td>\n",
       "      <td>27.0</td>\n",
       "      <td>1181.0</td>\n",
       "      <td>0.7807</td>\n",
       "      <td>17263.0</td>\n",
       "      <td>19279.0</td>\n",
       "      <td>21309.0</td>\n",
       "      <td>...</td>\n",
       "      <td>2.0</td>\n",
       "      <td>SACSCC</td>\n",
       "      <td>5009.0</td>\n",
       "      <td>5009.0</td>\n",
       "      <td>82.0</td>\n",
       "      <td>82.0</td>\n",
       "      <td>1131.0</td>\n",
       "      <td>1131.0</td>\n",
       "      <td>210.0</td>\n",
       "      <td>210.0</td>\n",
       "    </tr>\n",
       "  </tbody>\n",
       "</table>\n",
       "<p>5 rows × 392 columns</p>\n",
       "</div>"
      ],
      "text/plain": [
       "                                  name  location.lat  location.lon  \\\n",
       "0             Alabama A & M University     34.783368    -86.568502   \n",
       "1  University of Alabama at Birmingham     33.502230    -86.809170   \n",
       "2  University of Alabama in Huntsville     34.722818    -86.638420   \n",
       "3             Alabama State University     32.364317    -86.295677   \n",
       "4            The University of Alabama     33.214400    -87.545766   \n",
       "\n",
       "   minority_serving.historically_black  act_scores.midpoint.cumulative  \\\n",
       "0                                  1.0                            18.0   \n",
       "1                                  0.0                            25.0   \n",
       "2                                  0.0                            27.0   \n",
       "3                                  1.0                            18.0   \n",
       "4                                  0.0                            27.0   \n",
       "\n",
       "   sat_scores.average.overall  demographics.race_ethnicity.white  \\\n",
       "0                       850.0                             0.0340   \n",
       "1                      1147.0                             0.5863   \n",
       "2                      1221.0                             0.7024   \n",
       "3                       844.0                             0.0165   \n",
       "4                      1181.0                             0.7807   \n",
       "\n",
       "   net_price_less_30000  net_price_30001_48000  net_price_48001_75000  \\\n",
       "0               13075.0                12458.0                15857.0   \n",
       "1               13614.0                14746.0                17601.0   \n",
       "2               15252.0                17228.0                19178.0   \n",
       "3                7519.0                 2611.0                 9831.0   \n",
       "4               17263.0                19279.0                21309.0   \n",
       "\n",
       "                      ...                      open_admissions_policy  \\\n",
       "0                     ...                                         2.0   \n",
       "1                     ...                                         2.0   \n",
       "2                     ...                                         2.0   \n",
       "3                     ...                                         2.0   \n",
       "4                     ...                                         2.0   \n",
       "\n",
       "   accreditor_code  outcome_cohort.full_time.first_time.6yr  \\\n",
       "0           SACSCC                                   1044.0   \n",
       "1           SACSCC                                   1246.0   \n",
       "2           SACSCC                                    765.0   \n",
       "3           SACSCC                                   1330.0   \n",
       "4           SACSCC                                   5009.0   \n",
       "\n",
       "   outcome_cohort.full_time.first_time.8yr  \\\n",
       "0                                   1044.0   \n",
       "1                                   1245.0   \n",
       "2                                    765.0   \n",
       "3                                   1330.0   \n",
       "4                                   5009.0   \n",
       "\n",
       "   outcome_cohort.part_time.first_time.6yr  \\\n",
       "0                                      2.0   \n",
       "1                                     30.0   \n",
       "2                                     31.0   \n",
       "3                                     49.0   \n",
       "4                                     82.0   \n",
       "\n",
       "   outcome_cohort.part_time.first_time.8yr  \\\n",
       "0                                      2.0   \n",
       "1                                     30.0   \n",
       "2                                     31.0   \n",
       "3                                     49.0   \n",
       "4                                     82.0   \n",
       "\n",
       "   outcome_cohort.full_time.not_first_time.6yr  \\\n",
       "0                                        110.0   \n",
       "1                                        686.0   \n",
       "2                                        483.0   \n",
       "3                                        177.0   \n",
       "4                                       1131.0   \n",
       "\n",
       "   outcome_cohort.full_time.not_first_time.8yr  \\\n",
       "0                                        110.0   \n",
       "1                                        686.0   \n",
       "2                                        483.0   \n",
       "3                                        177.0   \n",
       "4                                       1131.0   \n",
       "\n",
       "   outcome_cohort.part_time.not_first_time.6yr  \\\n",
       "0                                         16.0   \n",
       "1                                        248.0   \n",
       "2                                        131.0   \n",
       "3                                         36.0   \n",
       "4                                        210.0   \n",
       "\n",
       "  outcome_cohort.part_time.not_first_time.8yr  \n",
       "0                                        16.0  \n",
       "1                                       248.0  \n",
       "2                                       131.0  \n",
       "3                                        36.0  \n",
       "4                                       210.0  \n",
       "\n",
       "[5 rows x 392 columns]"
      ]
     },
     "execution_count": 38,
     "metadata": {},
     "output_type": "execute_result"
    }
   ],
   "source": [
    "df=pd.read_csv('final_df.csv')\n",
    "df=df.drop('Unnamed: 0', 1)\n",
    "df.head()"
   ]
  },
  {
   "cell_type": "markdown",
   "metadata": {},
   "source": [
    "# Set Data Types"
   ]
  },
  {
   "cell_type": "code",
   "execution_count": 39,
   "metadata": {},
   "outputs": [],
   "source": [
    "df=df.drop(columns=['title_iv.approval_date', 'accreditor_code', 'city', 'state', 'Description', 'division', 'accreditor'])"
   ]
  },
  {
   "cell_type": "code",
   "execution_count": 40,
   "metadata": {},
   "outputs": [
    {
     "data": {
      "text/plain": [
       "name                                                   object\n",
       "location.lat                                          float64\n",
       "location.lon                                          float64\n",
       "minority_serving.historically_black                   float64\n",
       "act_scores.midpoint.cumulative                        float64\n",
       "sat_scores.average.overall                            float64\n",
       "demographics.race_ethnicity.white                     float64\n",
       "net_price_less_30000                                  float64\n",
       "net_price_30001_48000                                 float64\n",
       "net_price_48001_75000                                 float64\n",
       "net_price_75001_110000                                float64\n",
       "net_price_above_110001                                float64\n",
       "demographics.women                                    float64\n",
       "locale                                                float64\n",
       "admission_rate.overall                                float64\n",
       "size                                                  float64\n",
       "early_pay                                             float64\n",
       "ownership                                               int64\n",
       "percent_stem                                          float64\n",
       "rank_lac                                               object\n",
       "Rank                                                  float64\n",
       "index                                                   int64\n",
       "id                                                      int64\n",
       "ope8_id                                                 int64\n",
       "ope6_id                                                 int64\n",
       "zip                                                    object\n",
       "school_url                                             object\n",
       "price_calculator_url                                   object\n",
       "under_investigation                                     int64\n",
       "main_campus                                             int64\n",
       "                                                       ...   \n",
       "family_income.independent_students                     object\n",
       "valid_dependency_status                                 int64\n",
       "parents_education_level                                object\n",
       "FAFSA_applications                                      int64\n",
       "students_with_any_loan                                 object\n",
       "students_with_pell_grant                               object\n",
       "demographics.age_entry                                float64\n",
       "demographics.female_share                              object\n",
       "demographics.married                                   object\n",
       "demographics.dependent                                 object\n",
       "demographics.veteran                                   object\n",
       "demographics.first_generation                          object\n",
       "demographics.avg_family_income                        float64\n",
       "demographics.median_family_income                     float64\n",
       "demographics.avg_family_income_independents            object\n",
       "median_debt_suppressed.overall                         object\n",
       "median_debt_suppressed.completers.overall              object\n",
       "median_debt_suppressed.completers.monthly_payments     object\n",
       "institutional_characteristics.level                     int64\n",
       "demographics.men                                      float64\n",
       "undergrads_with_pell_grant_or_federal_student_loan    float64\n",
       "open_admissions_policy                                float64\n",
       "outcome_cohort.full_time.first_time.6yr               float64\n",
       "outcome_cohort.full_time.first_time.8yr               float64\n",
       "outcome_cohort.part_time.first_time.6yr               float64\n",
       "outcome_cohort.part_time.first_time.8yr               float64\n",
       "outcome_cohort.full_time.not_first_time.6yr           float64\n",
       "outcome_cohort.full_time.not_first_time.8yr           float64\n",
       "outcome_cohort.part_time.not_first_time.6yr           float64\n",
       "outcome_cohort.part_time.not_first_time.8yr           float64\n",
       "Length: 385, dtype: object"
      ]
     },
     "execution_count": 40,
     "metadata": {},
     "output_type": "execute_result"
    }
   ],
   "source": [
    "df.dtypes"
   ]
  },
  {
   "cell_type": "code",
   "execution_count": 41,
   "metadata": {},
   "outputs": [],
   "source": [
    "df.set_index('name', inplace=True)"
   ]
  },
  {
   "cell_type": "code",
   "execution_count": 42,
   "metadata": {},
   "outputs": [],
   "source": [
    "for column in df.columns:\n",
    "    try:\n",
    "        df[f'{column}'].astype(float)\n",
    "    except:\n",
    "        new_col=[]\n",
    "        for value in df[f'{column}']:\n",
    "            try:\n",
    "                new_col.append(float(value))\n",
    "            except:\n",
    "                new_col.append(0)\n",
    "        df[f'{column}']=pd.Series(new_lac_rank).astype(float)"
   ]
  },
  {
   "cell_type": "code",
   "execution_count": 45,
   "metadata": {},
   "outputs": [
    {
     "data": {
      "text/plain": [
       "location.lat                                          float64\n",
       "location.lon                                          float64\n",
       "minority_serving.historically_black                   float64\n",
       "act_scores.midpoint.cumulative                        float64\n",
       "sat_scores.average.overall                            float64\n",
       "demographics.race_ethnicity.white                     float64\n",
       "net_price_less_30000                                  float64\n",
       "net_price_30001_48000                                 float64\n",
       "net_price_48001_75000                                 float64\n",
       "net_price_75001_110000                                float64\n",
       "net_price_above_110001                                float64\n",
       "demographics.women                                    float64\n",
       "locale                                                float64\n",
       "admission_rate.overall                                float64\n",
       "size                                                  float64\n",
       "early_pay                                             float64\n",
       "ownership                                               int64\n",
       "percent_stem                                          float64\n",
       "rank_lac                                              float64\n",
       "Rank                                                  float64\n",
       "index                                                   int64\n",
       "id                                                      int64\n",
       "ope8_id                                                 int64\n",
       "ope6_id                                                 int64\n",
       "zip                                                   float64\n",
       "school_url                                            float64\n",
       "price_calculator_url                                  float64\n",
       "under_investigation                                     int64\n",
       "main_campus                                             int64\n",
       "branches                                                int64\n",
       "                                                       ...   \n",
       "family_income.independent_students                    float64\n",
       "valid_dependency_status                                 int64\n",
       "parents_education_level                               float64\n",
       "FAFSA_applications                                      int64\n",
       "students_with_any_loan                                float64\n",
       "students_with_pell_grant                              float64\n",
       "demographics.age_entry                                float64\n",
       "demographics.female_share                             float64\n",
       "demographics.married                                  float64\n",
       "demographics.dependent                                float64\n",
       "demographics.veteran                                  float64\n",
       "demographics.first_generation                         float64\n",
       "demographics.avg_family_income                        float64\n",
       "demographics.median_family_income                     float64\n",
       "demographics.avg_family_income_independents           float64\n",
       "median_debt_suppressed.overall                        float64\n",
       "median_debt_suppressed.completers.overall             float64\n",
       "median_debt_suppressed.completers.monthly_payments    float64\n",
       "institutional_characteristics.level                     int64\n",
       "demographics.men                                      float64\n",
       "undergrads_with_pell_grant_or_federal_student_loan    float64\n",
       "open_admissions_policy                                float64\n",
       "outcome_cohort.full_time.first_time.6yr               float64\n",
       "outcome_cohort.full_time.first_time.8yr               float64\n",
       "outcome_cohort.part_time.first_time.6yr               float64\n",
       "outcome_cohort.part_time.first_time.8yr               float64\n",
       "outcome_cohort.full_time.not_first_time.6yr           float64\n",
       "outcome_cohort.full_time.not_first_time.8yr           float64\n",
       "outcome_cohort.part_time.not_first_time.6yr           float64\n",
       "outcome_cohort.part_time.not_first_time.8yr           float64\n",
       "Length: 384, dtype: object"
      ]
     },
     "execution_count": 45,
     "metadata": {},
     "output_type": "execute_result"
    }
   ],
   "source": [
    "df.dtypes"
   ]
  },
  {
   "cell_type": "markdown",
   "metadata": {},
   "source": [
    "# PCA"
   ]
  },
  {
   "cell_type": "code",
   "execution_count": null,
   "metadata": {},
   "outputs": [],
   "source": []
  },
  {
   "cell_type": "code",
   "execution_count": null,
   "metadata": {},
   "outputs": [],
   "source": []
  },
  {
   "cell_type": "code",
   "execution_count": null,
   "metadata": {},
   "outputs": [],
   "source": []
  },
  {
   "cell_type": "code",
   "execution_count": null,
   "metadata": {},
   "outputs": [],
   "source": []
  },
  {
   "cell_type": "code",
   "execution_count": null,
   "metadata": {},
   "outputs": [],
   "source": []
  },
  {
   "cell_type": "markdown",
   "metadata": {},
   "source": [
    "# Initial TSNE"
   ]
  },
  {
   "cell_type": "code",
   "execution_count": null,
   "metadata": {},
   "outputs": [],
   "source": []
  },
  {
   "cell_type": "code",
   "execution_count": null,
   "metadata": {},
   "outputs": [],
   "source": []
  },
  {
   "cell_type": "code",
   "execution_count": null,
   "metadata": {},
   "outputs": [],
   "source": []
  },
  {
   "cell_type": "code",
   "execution_count": null,
   "metadata": {},
   "outputs": [],
   "source": []
  },
  {
   "cell_type": "markdown",
   "metadata": {},
   "source": [
    "# KMeans Clustering"
   ]
  },
  {
   "cell_type": "code",
   "execution_count": null,
   "metadata": {},
   "outputs": [],
   "source": []
  },
  {
   "cell_type": "code",
   "execution_count": null,
   "metadata": {},
   "outputs": [],
   "source": []
  },
  {
   "cell_type": "code",
   "execution_count": null,
   "metadata": {},
   "outputs": [],
   "source": []
  },
  {
   "cell_type": "code",
   "execution_count": null,
   "metadata": {},
   "outputs": [],
   "source": []
  },
  {
   "cell_type": "code",
   "execution_count": null,
   "metadata": {},
   "outputs": [],
   "source": []
  },
  {
   "cell_type": "code",
   "execution_count": null,
   "metadata": {},
   "outputs": [],
   "source": []
  },
  {
   "cell_type": "code",
   "execution_count": null,
   "metadata": {},
   "outputs": [],
   "source": []
  },
  {
   "cell_type": "code",
   "execution_count": null,
   "metadata": {},
   "outputs": [],
   "source": []
  },
  {
   "cell_type": "code",
   "execution_count": null,
   "metadata": {},
   "outputs": [],
   "source": []
  },
  {
   "cell_type": "code",
   "execution_count": null,
   "metadata": {},
   "outputs": [],
   "source": []
  },
  {
   "cell_type": "code",
   "execution_count": null,
   "metadata": {},
   "outputs": [],
   "source": [
    "tsne = TSNE(n_components=2, init='random', random_state=0)\n",
    "digits_proj = tsne.fit_transform(digits.data)\n",
    "\n",
    "# Compute the clusters\n",
    "kmeans = KMeans(n_clusters=10, random_state=0)\n",
    "clusters = kmeans.fit_predict(digits_proj)\n",
    "\n",
    "# Permute the labels\n",
    "labels = np.zeros_like(clusters)\n",
    "for i in range(10):\n",
    "    mask = (clusters == i)\n",
    "    labels[mask] = mode(digits.target[mask])[0]\n",
    "\n",
    "# Compute the accuracy\n",
    "accuracy_score(digits.target, labels)"
   ]
  },
  {
   "cell_type": "code",
   "execution_count": null,
   "metadata": {},
   "outputs": [],
   "source": []
  },
  {
   "cell_type": "code",
   "execution_count": null,
   "metadata": {},
   "outputs": [],
   "source": []
  },
  {
   "cell_type": "code",
   "execution_count": null,
   "metadata": {},
   "outputs": [],
   "source": []
  },
  {
   "cell_type": "code",
   "execution_count": null,
   "metadata": {},
   "outputs": [],
   "source": []
  },
  {
   "cell_type": "code",
   "execution_count": null,
   "metadata": {},
   "outputs": [],
   "source": [
    "def cosine_similarity(vec1, vec2):\n",
    "    return np.dot(vec1, vec2) / np.sqrt(np.dot(vec1, vec1) * np.dot(vec2, vec2))"
   ]
  },
  {
   "cell_type": "code",
   "execution_count": null,
   "metadata": {},
   "outputs": [],
   "source": [
    "def kmeans(n_clusters):\n",
    "    km = KMeans(n_clusters=n_clusters, random_state=42)\n",
    "    labels_ = km.fit_predict(self.topic_data)\n",
    "    cluster_method='kmeans'\n",
    "    cluster_centers=km.cluster_centers_"
   ]
  },
  {
   "cell_type": "code",
   "execution_count": null,
   "metadata": {},
   "outputs": [],
   "source": [
    "def many_kmeans(cluster, n_clusters, data, column):\n",
    "    for i in range(1, n_clusters+1):\n",
    "        cluster.kmeans(i)\n",
    "        best_cluster(cluster, data, column)\n",
    "        print('\\n'+'-------------------------------------NEXT CLUSTER -------------------------------------------')"
   ]
  },
  {
   "cell_type": "code",
   "execution_count": null,
   "metadata": {},
   "outputs": [],
   "source": [
    "def best_cluster(cluster, data, column):\n",
    "    overall_clusters=[]\n",
    "    for number in set(cluster.labels_):\n",
    "        cluster_center = cluster.km.cluster_centers_[number]\n",
    "        distances=[]\n",
    "        for index, vector in enumerate(cluster.topic_data):\n",
    "            dist = cosine_similarity(cluster_center,vector)\n",
    "            distances.append((dist, index))\n",
    "        distances.sort()\n",
    "        indices=[x[1] for x in distances[-4:]]\n",
    "        print( f\"\\n + {distances[-4:]}\")\n",
    "        for i in indices:\n",
    "            print(\"\\n\" + data[column].iloc[i])"
   ]
  },
  {
   "cell_type": "markdown",
   "metadata": {},
   "source": [
    "## TSNE"
   ]
  },
  {
   "cell_type": "code",
   "execution_count": null,
   "metadata": {},
   "outputs": [],
   "source": [
    "tsne = TSNE(n_components=2, verbose=1, perplexity=50, n_iter=300, random_state = 2)\n",
    "lda_Xtrain = tsne.fit_transform(scaled_corpus)"
   ]
  },
  {
   "cell_type": "code",
   "execution_count": null,
   "metadata": {},
   "outputs": [],
   "source": [
    "plt.rcParams.update({'figure.figsize': (10, 10)})\n",
    "sns.scatterplot(lda_Xtrain[:, 0], lda_Xtrain[:, 1], state_labels,\n",
    "                size = 2, palette = 'coolwarm', alpha = 'auto', \n",
    "               markers = '.')"
   ]
  },
  {
   "cell_type": "code",
   "execution_count": null,
   "metadata": {},
   "outputs": [],
   "source": [
    "]:\n",
    "plt.rcParams.update({'figure.figsize': (10, 120)})\n",
    "for i in range(len(feature_columns)):\n",
    "    plt.subplot(len(feature_columns), 1, i+1)\n",
    "    sns.scatterplot(lda_Xtrain[:, 0], lda_Xtrain[:, 1], scaled_corpus[:, i],\n",
    "                size = 2, palette = 'coolwarm', alpha = 'auto', \n",
    "               markers = '.')\n",
    "    plt.title(f'Feature: {feature_columns[i]}');"
   ]
  }
 ],
 "metadata": {
  "kernelspec": {
   "display_name": "Python 3",
   "language": "python",
   "name": "python3"
  },
  "language_info": {
   "codemirror_mode": {
    "name": "ipython",
    "version": 3
   },
   "file_extension": ".py",
   "mimetype": "text/x-python",
   "name": "python",
   "nbconvert_exporter": "python",
   "pygments_lexer": "ipython3",
   "version": "3.6.5"
  }
 },
 "nbformat": 4,
 "nbformat_minor": 2
}
