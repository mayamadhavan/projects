{
 "cells": [
  {
   "cell_type": "code",
   "execution_count": null,
   "metadata": {},
   "outputs": [],
   "source": [
    "import pandas as pd\n",
    "import numpy as np\n",
    "import dateutil.parser\n",
    "from datetime import date\n",
    "\n",
    "from pprint import pprint\n",
    "import re\n",
    "\n",
    "from bs4 import BeautifulSoup\n",
    "import requests\n",
    "from selenium import webdriver\n",
    "from selenium.webdriver.common.keys import Keys\n",
    "import time\n",
    "import os\n",
    "\n",
    "import statsmodels.api as sm\n",
    "import statsmodels.formula.api as smf\n",
    "import patsy\n",
    "\n",
    "\n",
    "import seaborn as sns\n",
    "import matplotlib.pyplot as plt\n",
    "from sklearn.linear_model import LinearRegression\n",
    "from sklearn.linear_model import RidgeCV\n",
    "\n",
    "import pickle\n",
    "import time"
   ]
  },
  {
   "cell_type": "code",
   "execution_count": null,
   "metadata": {},
   "outputs": [],
   "source": [
    "cols2 = ['title', 'genres', 'players', 'languages', 'developers', 'publisher', 'user_tags']\n",
    "df_gamepg=pd.DataFrame(columns=cols2, index=[])\n",
    "link_games=list(no_dup_df.link)\n",
    "\n",
    "\n",
    "age=date.today()\n",
    "\n",
    "response=requests.get(link)\n",
    "soup = BeautifulSoup(response.text, 'html5lib')\n",
    "    \n",
    "\n",
    "\n",
    "\n",
    "\n",
    "\n",
    "df_gamepg.set_index('title', inplace=True)\n",
    "df_gamepg.rename(columns=lambda x: x.strip())\n",
    "pd.options.display.max_rows = 4000"
   ]
  }
 ],
 "metadata": {
  "kernelspec": {
   "display_name": "Python 3",
   "language": "python",
   "name": "python3"
  },
  "language_info": {
   "codemirror_mode": {
    "name": "ipython",
    "version": 3
   },
   "file_extension": ".py",
   "mimetype": "text/x-python",
   "name": "python",
   "nbconvert_exporter": "python",
   "pygments_lexer": "ipython3",
   "version": "3.6.5"
  }
 },
 "nbformat": 4,
 "nbformat_minor": 2
}
