{
 "cells": [
  {
   "cell_type": "code",
   "execution_count": 76,
   "metadata": {},
   "outputs": [],
   "source": [
    "import pandas as pd\n",
    "import numpy as np\n",
    "import dateutil.parser\n",
    "from datetime import date\n",
    "\n",
    "from pprint import pprint\n",
    "import re\n",
    "\n",
    "from bs4 import BeautifulSoup\n",
    "import requests\n",
    "from selenium import webdriver\n",
    "from selenium.webdriver.common.keys import Keys\n",
    "import time\n",
    "import os\n",
    "\n",
    "import statsmodels.api as sm\n",
    "import statsmodels.formula.api as smf\n",
    "import patsy\n",
    "\n",
    "\n",
    "import seaborn as sns\n",
    "import matplotlib.pyplot as plt\n",
    "from sklearn.linear_model import LinearRegression\n",
    "from sklearn.linear_model import RidgeCV\n",
    "\n",
    "import pickle\n",
    "import time\n",
    "import bs4"
   ]
  },
  {
   "cell_type": "code",
   "execution_count": 83,
   "metadata": {},
   "outputs": [
    {
     "name": "stdout",
     "output_type": "stream",
     "text": [
      " Action, Adventure\n"
     ]
    },
    {
     "data": {
      "text/plain": [
       "'\\ngenres: \\n\\nplayers:\\n\\npublisher: <div class=\"summary column\" style=\"overflow: visible; white-space: normal;\">\\n<a href=\"https://store.steampowered.com/search/?publisher=Warner Bros. Interactive Entertainment&amp;snr=1_5_9__400\">Warner Bros. Interactive Entertainment</a>\\n<a href=\"https://store.steampowered.com/search/?publisher=Feral Interactive (Mac)&amp;snr=1_5_9__400\">Feral Interactive (Mac)</a></div>\\n\\n\\ndf_gamepg.set_index(\\'title\\', inplace=True)\\ndf_gamepg.rename(columns=lambda x: x.strip())\\npd.options.display.max_rows = 4000\\n'"
      ]
     },
     "execution_count": 83,
     "metadata": {},
     "output_type": "execute_result"
    }
   ],
   "source": [
    "link='https://store.steampowered.com/app/352400/LEGO_Jurassic_World/'\n",
    "\n",
    "response=requests.get(link)\n",
    "soup = BeautifulSoup(response.text, 'html5lib')\n",
    "\n",
    "\n",
    "title=soup.find('div', class_='apphub_AppName').text\n",
    "for developers in soup.find_all('div', class_=\"summary column\", id=\"developers_list\"):\n",
    "    developer=[one_developer.text for one_developer in developers.find_all('a')]\n",
    "user_tags=[tag.text.replace(\"\\n\",\"\").strip(\"\\t\") for tag in soup.find_all('a', class_=\"app_tag\")]\n",
    "\n",
    "all_lang=[]\n",
    "for languages in soup.find_all('table', class_=\"game_language_options\"):\n",
    "    for element in languages.find_all('tr', style=True, class_=True):\n",
    "        language=(element.find('td', class_=\"ellipsis\").text.replace(\"\\n\",\"\").strip(\"\\t\"))\n",
    "        options=[language if bool(options.text.replace(\"\\n\",\"\").strip(\"\\t\")) else 0 for options in element.find_all('td', class_=\"checkcol\")]\n",
    "        all_lang.append(tuple(options))\n",
    "\n",
    "        x=soup.find_all('div', class_=\"details_block\")[0].text.replace(\"\\n\",\"\").split(\"\\t\")\n",
    "feature_list = list(filter(None, x))\n",
    "y=feature_list[1].split(\":\")\n",
    "z=y[1]\n",
    "print(z)\n",
    "\n",
    "\n",
    "\n",
    "# for developers in soup.find_all('div', class_=\"summary column\", id=\"developers_list\"):\n",
    "#     for one_developer in developers.find_all('a'):\n",
    "#         print(one_developer.text)\n",
    "# for tag in soup.find_all('a', class_=\"app_tag\"):\n",
    "#     print(tag.text.replace(\"\\n\",\"\").strip(\"\\t\"))\n",
    "\n",
    "# cols2 = ['title', 'genres', 'players', 'languages', 'developers', 'publisher', 'user_tags']\n",
    "# df_gamepg=pd.DataFrame(columns=cols2, index=[])\n",
    "\n",
    "\n",
    "# for element in soup.find_all('div', class_=\"details_block\")[0]:\n",
    "#     print(element)\n",
    "\n",
    "# count=0\n",
    "# for element in soup.find_all('div', class_=\"details_block\")[0]:\n",
    "#     if type(element) is bs4.element.Tag and element.text==\"Genre:\":\n",
    "#         count=1\n",
    "#     if  type(element) is bs4.element.Tag and count==1:\n",
    "#         print(element.text)\n",
    "#     if element.text==\"Developer\":\n",
    "#             count=0\n",
    "# #     for e2 in element.find_all('a'):\n",
    "# #         print(e2.text)\n",
    "\n",
    "\n",
    "\n",
    "\n",
    "# for element in feature_list:\n",
    "#     element.\n",
    "\n",
    "\n",
    "'''\n",
    "genres: \n",
    "\n",
    "players:\n",
    "\n",
    "publisher: <div class=\"summary column\" style=\"overflow: visible; white-space: normal;\">\n",
    "<a href=\"https://store.steampowered.com/search/?publisher=Warner Bros. Interactive Entertainment&amp;snr=1_5_9__400\">Warner Bros. Interactive Entertainment</a>\n",
    "<a href=\"https://store.steampowered.com/search/?publisher=Feral Interactive (Mac)&amp;snr=1_5_9__400\">Feral Interactive (Mac)</a></div>\n",
    "\n",
    "\n",
    "df_gamepg.set_index('title', inplace=True)\n",
    "df_gamepg.rename(columns=lambda x: x.strip())\n",
    "pd.options.display.max_rows = 4000\n",
    "'''"
   ]
  },
  {
   "cell_type": "code",
   "execution_count": 11,
   "metadata": {},
   "outputs": [],
   "source": [
    "j=0"
   ]
  },
  {
   "cell_type": "code",
   "execution_count": 12,
   "metadata": {},
   "outputs": [
    {
     "data": {
      "text/plain": [
       "0"
      ]
     },
     "execution_count": 12,
     "metadata": {},
     "output_type": "execute_result"
    }
   ],
   "source": [
    "j"
   ]
  },
  {
   "cell_type": "code",
   "execution_count": null,
   "metadata": {},
   "outputs": [],
   "source": []
  }
 ],
 "metadata": {
  "kernelspec": {
   "display_name": "Python 3",
   "language": "python",
   "name": "python3"
  },
  "language_info": {
   "codemirror_mode": {
    "name": "ipython",
    "version": 3
   },
   "file_extension": ".py",
   "mimetype": "text/x-python",
   "name": "python",
   "nbconvert_exporter": "python",
   "pygments_lexer": "ipython3",
   "version": "3.6.5"
  }
 },
 "nbformat": 4,
 "nbformat_minor": 2
}
