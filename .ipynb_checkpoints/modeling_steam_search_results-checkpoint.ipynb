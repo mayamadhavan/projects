{
 "cells": [
  {
   "cell_type": "markdown",
   "metadata": {},
   "source": [
    "# Layout:\n",
    "1. Import Packages/Libraries\n",
    "2. Read Data From Previous Scrape\n",
    "3. Clean + Feature Engineer Data\n",
    "    + Drop Duplicates\n",
    "    + Set Column Values\n",
    "    + Turn Categorical Data into 0/1 Variables\n",
    "    + Drop Movies\n",
    "4. Split into Train and Test Set\n",
    "5. EDA on Training Set\n",
    "    + Pairplot\n",
    "    + Correlations\n",
    "6. Base Model- Patsy\n",
    "7. Diagnostic Plots\n",
    "8. Scale/Normalize Values\n",
    "    + Log Dependent Variable\n",
    "9. EDA Scaled Values\n",
    "10. Regression on Logged Values\n",
    "\n",
    "\n",
    "\n",
    "\n",
    "10. Log/Polynomial Independent Variables as Needed\n",
    "11. Lasso Regularization\n",
    "12. Run Final Model"
   ]
  },
  {
   "cell_type": "markdown",
   "metadata": {},
   "source": [
    "# Mass Importation"
   ]
  },
  {
   "cell_type": "code",
   "execution_count": 1,
   "metadata": {},
   "outputs": [
    {
     "name": "stderr",
     "output_type": "stream",
     "text": [
      "/Users/mayamadhavan/anaconda3/lib/python3.6/site-packages/sklearn/cross_validation.py:41: DeprecationWarning: This module was deprecated in version 0.18 in favor of the model_selection module into which all the refactored classes and functions are moved. Also note that the interface of the new CV iterators are different from that of this module. This module will be removed in 0.20.\n",
      "  \"This module will be removed in 0.20.\", DeprecationWarning)\n"
     ]
    }
   ],
   "source": [
    "import pandas as pd\n",
    "import numpy as np\n",
    "import dateutil.parser\n",
    "from datetime import date\n",
    "import re\n",
    "\n",
    "from bs4 import BeautifulSoup\n",
    "import requests\n",
    "from selenium import webdriver\n",
    "from selenium.webdriver.common.keys import Keys\n",
    "import time\n",
    "import os\n",
    "\n",
    "import seaborn as sns\n",
    "import matplotlib.pyplot as plt\n",
    "\n",
    "import statsmodels.api as sm\n",
    "import statsmodels.formula.api as smf\n",
    "import patsy\n",
    "from sklearn.linear_model import LinearRegression\n",
    "from sklearn.linear_model import Lasso\n",
    "from sklearn.cross_validation import cross_val_score\n",
    "from sklearn.cross_validation import train_test_split, KFold\n",
    "from sklearn.metrics import mean_squared_error\n",
    "from sklearn import preprocessing\n",
    "from scipy import stats\n",
    "\n",
    "import diagnostic_plots\n",
    "\n",
    "import pickle\n",
    "import time"
   ]
  },
  {
   "cell_type": "markdown",
   "metadata": {},
   "source": [
    "# Read Dataset from Scrape"
   ]
  },
  {
   "cell_type": "code",
   "execution_count": 2,
   "metadata": {},
   "outputs": [
    {
     "data": {
      "text/html": [
       "<div>\n",
       "<style scoped>\n",
       "    .dataframe tbody tr th:only-of-type {\n",
       "        vertical-align: middle;\n",
       "    }\n",
       "\n",
       "    .dataframe tbody tr th {\n",
       "        vertical-align: top;\n",
       "    }\n",
       "\n",
       "    .dataframe thead th {\n",
       "        text-align: right;\n",
       "    }\n",
       "</style>\n",
       "<table border=\"1\" class=\"dataframe\">\n",
       "  <thead>\n",
       "    <tr style=\"text-align: right;\">\n",
       "      <th></th>\n",
       "      <th>title</th>\n",
       "      <th>link</th>\n",
       "      <th>system</th>\n",
       "      <th>systems</th>\n",
       "      <th>reviews</th>\n",
       "      <th>release_date</th>\n",
       "      <th>discount</th>\n",
       "      <th>price</th>\n",
       "    </tr>\n",
       "  </thead>\n",
       "  <tbody>\n",
       "    <tr>\n",
       "      <th>0</th>\n",
       "      <td>Warframe</td>\n",
       "      <td>https://store.steampowered.com/app/230410/Warf...</td>\n",
       "      <td>1</td>\n",
       "      <td>['win']</td>\n",
       "      <td>192592</td>\n",
       "      <td>1940</td>\n",
       "      <td>0</td>\n",
       "      <td>0.00</td>\n",
       "    </tr>\n",
       "    <tr>\n",
       "      <th>1</th>\n",
       "      <td>Clicker Heroes 2</td>\n",
       "      <td>https://store.steampowered.com/app/629910/Clic...</td>\n",
       "      <td>2</td>\n",
       "      <td>['win', 'mac']</td>\n",
       "      <td>183</td>\n",
       "      <td>1</td>\n",
       "      <td>0</td>\n",
       "      <td>29.99</td>\n",
       "    </tr>\n",
       "    <tr>\n",
       "      <th>2</th>\n",
       "      <td>Tom Clancy's Rainbow Six® Siege</td>\n",
       "      <td>https://store.steampowered.com/app/359550/Tom_...</td>\n",
       "      <td>1</td>\n",
       "      <td>['win']</td>\n",
       "      <td>170518</td>\n",
       "      <td>959</td>\n",
       "      <td>0</td>\n",
       "      <td>14.99</td>\n",
       "    </tr>\n",
       "    <tr>\n",
       "      <th>3</th>\n",
       "      <td>Counter-Strike: Global Offensive</td>\n",
       "      <td>https://store.steampowered.com/app/730/Counter...</td>\n",
       "      <td>3</td>\n",
       "      <td>['win', 'mac', 'linux']</td>\n",
       "      <td>2628652</td>\n",
       "      <td>2156</td>\n",
       "      <td>0</td>\n",
       "      <td>14.99</td>\n",
       "    </tr>\n",
       "    <tr>\n",
       "      <th>4</th>\n",
       "      <td>Grand Theft Auto V</td>\n",
       "      <td>https://store.steampowered.com/app/271590/Gran...</td>\n",
       "      <td>1</td>\n",
       "      <td>['win']</td>\n",
       "      <td>343780</td>\n",
       "      <td>1191</td>\n",
       "      <td>34</td>\n",
       "      <td>29.99</td>\n",
       "    </tr>\n",
       "  </tbody>\n",
       "</table>\n",
       "</div>"
      ],
      "text/plain": [
       "                              title  \\\n",
       "0                          Warframe   \n",
       "1                  Clicker Heroes 2   \n",
       "2   Tom Clancy's Rainbow Six® Siege   \n",
       "3  Counter-Strike: Global Offensive   \n",
       "4                Grand Theft Auto V   \n",
       "\n",
       "                                                link  system  \\\n",
       "0  https://store.steampowered.com/app/230410/Warf...       1   \n",
       "1  https://store.steampowered.com/app/629910/Clic...       2   \n",
       "2  https://store.steampowered.com/app/359550/Tom_...       1   \n",
       "3  https://store.steampowered.com/app/730/Counter...       3   \n",
       "4  https://store.steampowered.com/app/271590/Gran...       1   \n",
       "\n",
       "                   systems  reviews  release_date  discount  price  \n",
       "0                  ['win']   192592          1940         0   0.00  \n",
       "1           ['win', 'mac']      183             1         0  29.99  \n",
       "2                  ['win']   170518           959         0  14.99  \n",
       "3  ['win', 'mac', 'linux']  2628652          2156         0  14.99  \n",
       "4                  ['win']   343780          1191        34  29.99  "
      ]
     },
     "execution_count": 2,
     "metadata": {},
     "output_type": "execute_result"
    }
   ],
   "source": [
    "df=pd.read_csv('steam3.csv')\n",
    "del(df['Unnamed: 0'])\n",
    "df.head()"
   ]
  },
  {
   "cell_type": "markdown",
   "metadata": {},
   "source": [
    "# Clean Data and Add Dummy Features"
   ]
  },
  {
   "cell_type": "markdown",
   "metadata": {},
   "source": [
    "Remove Duplicates"
   ]
  },
  {
   "cell_type": "code",
   "execution_count": 3,
   "metadata": {},
   "outputs": [],
   "source": [
    "no_dup_df = df[~df.index.duplicated(keep='first')]\n",
    "no_dup_df.set_index('title', inplace=True)"
   ]
  },
  {
   "cell_type": "markdown",
   "metadata": {},
   "source": [
    "Set Column Value Types"
   ]
  },
  {
   "cell_type": "code",
   "execution_count": 4,
   "metadata": {},
   "outputs": [],
   "source": [
    "no_dup_df['system'] = no_dup_df.system.astype(int)\n",
    "no_dup_df['reviews'] = no_dup_df.reviews.astype(int)\n",
    "no_dup_df['release_date'] = no_dup_df.release_date.astype(int)\n",
    "no_dup_df['discount'] = no_dup_df.discount.astype(int)\n",
    "no_dup_df['price'] = no_dup_df.price.astype(float)\n",
    "no_dup_df['systems'] = no_dup_df.systems.astype(list)"
   ]
  },
  {
   "cell_type": "markdown",
   "metadata": {},
   "source": [
    "## Windows, Mac, Linux -> Dummy Variables"
   ]
  },
  {
   "cell_type": "code",
   "execution_count": 5,
   "metadata": {},
   "outputs": [],
   "source": [
    "windows=[1 if 'win' in item else 0 for item in no_dup_df.systems]\n",
    "mac=[1 if 'mac' in item else 0 for item in no_dup_df.systems]\n",
    "linux=[1 if 'linux' in item else 0 for item in no_dup_df.systems]"
   ]
  },
  {
   "cell_type": "code",
   "execution_count": 6,
   "metadata": {},
   "outputs": [],
   "source": [
    "no_dup_df['windows']=windows\n",
    "no_dup_df['mac']=mac\n",
    "no_dup_df['linux']=linux"
   ]
  },
  {
   "cell_type": "code",
   "execution_count": 7,
   "metadata": {},
   "outputs": [],
   "source": [
    "no_dup_df['windows'] = no_dup_df.windows.astype(int)\n",
    "no_dup_df['mac'] = no_dup_df.mac.astype(int)\n",
    "no_dup_df['linux'] = no_dup_df.linux.astype(int)\n",
    "#no_dup_df.info()"
   ]
  },
  {
   "cell_type": "markdown",
   "metadata": {},
   "source": [
    "## Drop Movies"
   ]
  },
  {
   "cell_type": "code",
   "execution_count": 8,
   "metadata": {},
   "outputs": [],
   "source": [
    "movies=[]\n",
    "for i in range(len(no_dup_df['systems'])):\n",
    "    element=(no_dup_df['systems'][i])\n",
    "    if 'win' not in element and 'mac' not in element and 'linux' not in element:\n",
    "        movies.append(1)\n",
    "    else:\n",
    "        movies.append(0)\n",
    "no_dup_df['movies']=movies\n",
    "no_dup_df = no_dup_df[no_dup_df.movies != 1]\n",
    "del(no_dup_df['movies'])"
   ]
  },
  {
   "cell_type": "markdown",
   "metadata": {},
   "source": [
    "# Split Data into Train/Test"
   ]
  },
  {
   "cell_type": "code",
   "execution_count": 9,
   "metadata": {},
   "outputs": [],
   "source": [
    "y = no_dup_df['reviews']\n",
    "X = no_dup_df.drop(['reviews','link','systems'], axis = 1)"
   ]
  },
  {
   "cell_type": "code",
   "execution_count": 10,
   "metadata": {},
   "outputs": [],
   "source": [
    "X_train, X_test, y_train, y_test = train_test_split(X, y, test_size=0.3)\n",
    "traindf=X_train.join(y_train)"
   ]
  },
  {
   "cell_type": "markdown",
   "metadata": {},
   "source": [
    "# Exploratory Data Analysis on Train Data"
   ]
  },
  {
   "cell_type": "code",
   "execution_count": 11,
   "metadata": {},
   "outputs": [
    {
     "data": {
      "text/plain": [
       "<seaborn.axisgrid.PairGrid at 0x109c59b70>"
      ]
     },
     "execution_count": 11,
     "metadata": {},
     "output_type": "execute_result"
    },
    {
     "data": {
      "image/png": "[encoded data removed]",
      "text/plain": [
       "<Figure size 1036.8x691.2 with 72 Axes>"
      ]
     },
     "metadata": {},
     "output_type": "display_data"
    }
   ],
   "source": [
    "sns.pairplot(traindf, size = 1.2, aspect=1.5)"
   ]
  },
  {
   "cell_type": "code",
   "execution_count": 12,
   "metadata": {},
   "outputs": [
    {
     "data": {
      "text/html": [
       "<div>\n",
       "<style scoped>\n",
       "    .dataframe tbody tr th:only-of-type {\n",
       "        vertical-align: middle;\n",
       "    }\n",
       "\n",
       "    .dataframe tbody tr th {\n",
       "        vertical-align: top;\n",
       "    }\n",
       "\n",
       "    .dataframe thead th {\n",
       "        text-align: right;\n",
       "    }\n",
       "</style>\n",
       "<table border=\"1\" class=\"dataframe\">\n",
       "  <thead>\n",
       "    <tr style=\"text-align: right;\">\n",
       "      <th></th>\n",
       "      <th>system</th>\n",
       "      <th>release_date</th>\n",
       "      <th>discount</th>\n",
       "      <th>price</th>\n",
       "      <th>windows</th>\n",
       "      <th>mac</th>\n",
       "      <th>linux</th>\n",
       "      <th>reviews</th>\n",
       "    </tr>\n",
       "  </thead>\n",
       "  <tbody>\n",
       "    <tr>\n",
       "      <th>system</th>\n",
       "      <td>1.000000</td>\n",
       "      <td>-0.057755</td>\n",
       "      <td>-0.043972</td>\n",
       "      <td>0.044361</td>\n",
       "      <td>0.015675</td>\n",
       "      <td>0.495830</td>\n",
       "      <td>0.532648</td>\n",
       "      <td>0.039667</td>\n",
       "    </tr>\n",
       "    <tr>\n",
       "      <th>release_date</th>\n",
       "      <td>-0.057755</td>\n",
       "      <td>1.000000</td>\n",
       "      <td>-0.013063</td>\n",
       "      <td>0.082828</td>\n",
       "      <td>-0.003329</td>\n",
       "      <td>0.104868</td>\n",
       "      <td>0.078600</td>\n",
       "      <td>0.060256</td>\n",
       "    </tr>\n",
       "    <tr>\n",
       "      <th>discount</th>\n",
       "      <td>-0.043972</td>\n",
       "      <td>-0.013063</td>\n",
       "      <td>1.000000</td>\n",
       "      <td>-0.032169</td>\n",
       "      <td>0.004544</td>\n",
       "      <td>-0.014152</td>\n",
       "      <td>-0.021255</td>\n",
       "      <td>-0.004662</td>\n",
       "    </tr>\n",
       "    <tr>\n",
       "      <th>price</th>\n",
       "      <td>0.044361</td>\n",
       "      <td>0.082828</td>\n",
       "      <td>-0.032169</td>\n",
       "      <td>1.000000</td>\n",
       "      <td>0.018555</td>\n",
       "      <td>0.016550</td>\n",
       "      <td>0.004668</td>\n",
       "      <td>0.026863</td>\n",
       "    </tr>\n",
       "    <tr>\n",
       "      <th>windows</th>\n",
       "      <td>0.015675</td>\n",
       "      <td>-0.003329</td>\n",
       "      <td>0.004544</td>\n",
       "      <td>0.018555</td>\n",
       "      <td>1.000000</td>\n",
       "      <td>0.008191</td>\n",
       "      <td>-0.039295</td>\n",
       "      <td>0.001144</td>\n",
       "    </tr>\n",
       "    <tr>\n",
       "      <th>mac</th>\n",
       "      <td>0.495830</td>\n",
       "      <td>0.104868</td>\n",
       "      <td>-0.014152</td>\n",
       "      <td>0.016550</td>\n",
       "      <td>0.008191</td>\n",
       "      <td>1.000000</td>\n",
       "      <td>0.667695</td>\n",
       "      <td>0.042086</td>\n",
       "    </tr>\n",
       "    <tr>\n",
       "      <th>linux</th>\n",
       "      <td>0.532648</td>\n",
       "      <td>0.078600</td>\n",
       "      <td>-0.021255</td>\n",
       "      <td>0.004668</td>\n",
       "      <td>-0.039295</td>\n",
       "      <td>0.667695</td>\n",
       "      <td>1.000000</td>\n",
       "      <td>0.054793</td>\n",
       "    </tr>\n",
       "    <tr>\n",
       "      <th>reviews</th>\n",
       "      <td>0.039667</td>\n",
       "      <td>0.060256</td>\n",
       "      <td>-0.004662</td>\n",
       "      <td>0.026863</td>\n",
       "      <td>0.001144</td>\n",
       "      <td>0.042086</td>\n",
       "      <td>0.054793</td>\n",
       "      <td>1.000000</td>\n",
       "    </tr>\n",
       "  </tbody>\n",
       "</table>\n",
       "</div>"
      ],
      "text/plain": [
       "                system  release_date  discount     price   windows       mac  \\\n",
       "system        1.000000     -0.057755 -0.043972  0.044361  0.015675  0.495830   \n",
       "release_date -0.057755      1.000000 -0.013063  0.082828 -0.003329  0.104868   \n",
       "discount     -0.043972     -0.013063  1.000000 -0.032169  0.004544 -0.014152   \n",
       "price         0.044361      0.082828 -0.032169  1.000000  0.018555  0.016550   \n",
       "windows       0.015675     -0.003329  0.004544  0.018555  1.000000  0.008191   \n",
       "mac           0.495830      0.104868 -0.014152  0.016550  0.008191  1.000000   \n",
       "linux         0.532648      0.078600 -0.021255  0.004668 -0.039295  0.667695   \n",
       "reviews       0.039667      0.060256 -0.004662  0.026863  0.001144  0.042086   \n",
       "\n",
       "                 linux   reviews  \n",
       "system        0.532648  0.039667  \n",
       "release_date  0.078600  0.060256  \n",
       "discount     -0.021255 -0.004662  \n",
       "price         0.004668  0.026863  \n",
       "windows      -0.039295  0.001144  \n",
       "mac           0.667695  0.042086  \n",
       "linux         1.000000  0.054793  \n",
       "reviews       0.054793  1.000000  "
      ]
     },
     "execution_count": 12,
     "metadata": {},
     "output_type": "execute_result"
    }
   ],
   "source": [
    "traindf.corr()\n",
    "#sns.heatmap(no_dup_df.corr(), cmap=\"seismic\")"
   ]
  },
  {
   "cell_type": "markdown",
   "metadata": {},
   "source": [
    "# Base Model"
   ]
  },
  {
   "cell_type": "code",
   "execution_count": 13,
   "metadata": {},
   "outputs": [
    {
     "data": {
      "text/html": [
       "<table class=\"simpletable\">\n",
       "<caption>OLS Regression Results</caption>\n",
       "<tr>\n",
       "  <th>Dep. Variable:</th>         <td>reviews</td>     <th>  R-squared:         </th> <td>   0.006</td> \n",
       "</tr>\n",
       "<tr>\n",
       "  <th>Model:</th>                   <td>OLS</td>       <th>  Adj. R-squared:    </th> <td>   0.005</td> \n",
       "</tr>\n",
       "<tr>\n",
       "  <th>Method:</th>             <td>Least Squares</td>  <th>  F-statistic:       </th> <td>   6.304</td> \n",
       "</tr>\n",
       "<tr>\n",
       "  <th>Date:</th>             <td>Wed, 18 Jul 2018</td> <th>  Prob (F-statistic):</th> <td>2.14e-07</td> \n",
       "</tr>\n",
       "<tr>\n",
       "  <th>Time:</th>                 <td>15:55:41</td>     <th>  Log-Likelihood:    </th> <td> -84574.</td> \n",
       "</tr>\n",
       "<tr>\n",
       "  <th>No. Observations:</th>      <td>  6921</td>      <th>  AIC:               </th> <td>1.692e+05</td>\n",
       "</tr>\n",
       "<tr>\n",
       "  <th>Df Residuals:</th>          <td>  6913</td>      <th>  BIC:               </th> <td>1.692e+05</td>\n",
       "</tr>\n",
       "<tr>\n",
       "  <th>Df Model:</th>              <td>     7</td>      <th>                     </th>     <td> </td>    \n",
       "</tr>\n",
       "<tr>\n",
       "  <th>Covariance Type:</th>      <td>nonrobust</td>    <th>                     </th>     <td> </td>    \n",
       "</tr>\n",
       "</table>\n",
       "<table class=\"simpletable\">\n",
       "<tr>\n",
       "        <td></td>          <th>coef</th>     <th>std err</th>      <th>t</th>      <th>P>|t|</th>  <th>[0.025</th>    <th>0.975]</th>  \n",
       "</tr>\n",
       "<tr>\n",
       "  <th>const</th>        <td>-7891.9565</td> <td> 2.84e+04</td> <td>   -0.278</td> <td> 0.781</td> <td>-6.35e+04</td> <td> 4.78e+04</td>\n",
       "</tr>\n",
       "<tr>\n",
       "  <th>system</th>       <td>  757.3243</td> <td>  651.292</td> <td>    1.163</td> <td> 0.245</td> <td> -519.408</td> <td> 2034.057</td>\n",
       "</tr>\n",
       "<tr>\n",
       "  <th>release_date</th> <td>    3.0823</td> <td>    0.704</td> <td>    4.376</td> <td> 0.000</td> <td>    1.701</td> <td>    4.463</td>\n",
       "</tr>\n",
       "<tr>\n",
       "  <th>discount</th>     <td>   -4.9953</td> <td>   48.584</td> <td>   -0.103</td> <td> 0.918</td> <td> -100.234</td> <td>   90.244</td>\n",
       "</tr>\n",
       "<tr>\n",
       "  <th>price</th>        <td>  126.5897</td> <td>   58.774</td> <td>    2.154</td> <td> 0.031</td> <td>   11.375</td> <td>  241.804</td>\n",
       "</tr>\n",
       "<tr>\n",
       "  <th>windows</th>      <td> 4407.7274</td> <td> 2.84e+04</td> <td>    0.155</td> <td> 0.877</td> <td>-5.13e+04</td> <td> 6.01e+04</td>\n",
       "</tr>\n",
       "<tr>\n",
       "  <th>mac</th>          <td>   77.9472</td> <td> 1686.381</td> <td>    0.046</td> <td> 0.963</td> <td>-3227.878</td> <td> 3383.772</td>\n",
       "</tr>\n",
       "<tr>\n",
       "  <th>linux</th>        <td> 4143.4301</td> <td> 1908.482</td> <td>    2.171</td> <td> 0.030</td> <td>  402.218</td> <td> 7884.642</td>\n",
       "</tr>\n",
       "</table>\n",
       "<table class=\"simpletable\">\n",
       "<tr>\n",
       "  <th>Omnibus:</th>       <td>21213.256</td> <th>  Durbin-Watson:     </th>    <td>   2.003</td>   \n",
       "</tr>\n",
       "<tr>\n",
       "  <th>Prob(Omnibus):</th>  <td> 0.000</td>   <th>  Jarque-Bera (JB):  </th> <td>1629669024.860</td>\n",
       "</tr>\n",
       "<tr>\n",
       "  <th>Skew:</th>           <td>46.238</td>   <th>  Prob(JB):          </th>    <td>    0.00</td>   \n",
       "</tr>\n",
       "<tr>\n",
       "  <th>Kurtosis:</th>      <td>2378.429</td>  <th>  Cond. No.          </th>    <td>7.93e+04</td>   \n",
       "</tr>\n",
       "</table><br/><br/>Warnings:<br/>[1] Standard Errors assume that the covariance matrix of the errors is correctly specified.<br/>[2] The condition number is large, 7.93e+04. This might indicate that there are<br/>strong multicollinearity or other numerical problems."
      ],
      "text/plain": [
       "<class 'statsmodels.iolib.summary.Summary'>\n",
       "\"\"\"\n",
       "                            OLS Regression Results                            \n",
       "==============================================================================\n",
       "Dep. Variable:                reviews   R-squared:                       0.006\n",
       "Model:                            OLS   Adj. R-squared:                  0.005\n",
       "Method:                 Least Squares   F-statistic:                     6.304\n",
       "Date:                Wed, 18 Jul 2018   Prob (F-statistic):           2.14e-07\n",
       "Time:                        15:55:41   Log-Likelihood:                -84574.\n",
       "No. Observations:                6921   AIC:                         1.692e+05\n",
       "Df Residuals:                    6913   BIC:                         1.692e+05\n",
       "Df Model:                           7                                         \n",
       "Covariance Type:            nonrobust                                         \n",
       "================================================================================\n",
       "                   coef    std err          t      P>|t|      [0.025      0.975]\n",
       "--------------------------------------------------------------------------------\n",
       "const        -7891.9565   2.84e+04     -0.278      0.781   -6.35e+04    4.78e+04\n",
       "system         757.3243    651.292      1.163      0.245    -519.408    2034.057\n",
       "release_date     3.0823      0.704      4.376      0.000       1.701       4.463\n",
       "discount        -4.9953     48.584     -0.103      0.918    -100.234      90.244\n",
       "price          126.5897     58.774      2.154      0.031      11.375     241.804\n",
       "windows       4407.7274   2.84e+04      0.155      0.877   -5.13e+04    6.01e+04\n",
       "mac             77.9472   1686.381      0.046      0.963   -3227.878    3383.772\n",
       "linux         4143.4301   1908.482      2.171      0.030     402.218    7884.642\n",
       "==============================================================================\n",
       "Omnibus:                    21213.256   Durbin-Watson:                   2.003\n",
       "Prob(Omnibus):                  0.000   Jarque-Bera (JB):       1629669024.860\n",
       "Skew:                          46.238   Prob(JB):                         0.00\n",
       "Kurtosis:                    2378.429   Cond. No.                     7.93e+04\n",
       "==============================================================================\n",
       "\n",
       "Warnings:\n",
       "[1] Standard Errors assume that the covariance matrix of the errors is correctly specified.\n",
       "[2] The condition number is large, 7.93e+04. This might indicate that there are\n",
       "strong multicollinearity or other numerical problems.\n",
       "\"\"\""
      ]
     },
     "execution_count": 13,
     "metadata": {},
     "output_type": "execute_result"
    }
   ],
   "source": [
    "model = sm.OLS(y_train, sm.add_constant(X_train))\n",
    "fit = model.fit()\n",
    "fit.summary()"
   ]
  },
  {
   "cell_type": "markdown",
   "metadata": {},
   "source": [
    "# Diagnostic Plots"
   ]
  },
  {
   "cell_type": "code",
   "execution_count": null,
   "metadata": {},
   "outputs": [],
   "source": [
    "X_traindf.shape"
   ]
  },
  {
   "cell_type": "code",
   "execution_count": null,
   "metadata": {},
   "outputs": [],
   "source": [
    "y_traindf=pd.DataFrame(y_train)\n",
    "X_traindf=pd.DataFrame(X_train)\n",
    "diagnostic_plots.diagnostic_plots(X_traindf, y_traindf, fit)"
   ]
  },
  {
   "cell_type": "markdown",
   "metadata": {},
   "source": [
    "# Log Reviews/Normalize Data"
   ]
  },
  {
   "cell_type": "code",
   "execution_count": 14,
   "metadata": {},
   "outputs": [
    {
     "ename": "TypeError",
     "evalue": "'DataFrame' object is not callable",
     "output_type": "error",
     "traceback": [
      "\u001b[0;31m---------------------------------------------------------------------------\u001b[0m",
      "\u001b[0;31mTypeError\u001b[0m                                 Traceback (most recent call last)",
      "\u001b[0;32m<ipython-input-14-278e7c59f02e>\u001b[0m in \u001b[0;36m<module>\u001b[0;34m()\u001b[0m\n\u001b[0;32m----> 1\u001b[0;31m \u001b[0mtraindf\u001b[0m\u001b[0;34m[\u001b[0m\u001b[0;34m'log_reviews'\u001b[0m\u001b[0;34m]\u001b[0m \u001b[0;34m=\u001b[0m \u001b[0mtraindf\u001b[0m\u001b[0;34m(\u001b[0m\u001b[0mtraindf\u001b[0m\u001b[0;34m.\u001b[0m\u001b[0mreviews\u001b[0m \u001b[0;34m+\u001b[0m \u001b[0;36m1\u001b[0m\u001b[0;34m)\u001b[0m\u001b[0;34m\u001b[0m\u001b[0m\n\u001b[0m\u001b[1;32m      2\u001b[0m \u001b[0mplt\u001b[0m\u001b[0;34m.\u001b[0m\u001b[0mhist\u001b[0m\u001b[0;34m(\u001b[0m\u001b[0mtraindf\u001b[0m\u001b[0;34m[\u001b[0m\u001b[0;34m'log_reviews'\u001b[0m\u001b[0;34m]\u001b[0m\u001b[0;34m)\u001b[0m\u001b[0;34m\u001b[0m\u001b[0m\n",
      "\u001b[0;31mTypeError\u001b[0m: 'DataFrame' object is not callable"
     ]
    }
   ],
   "source": [
    "traindf['log_reviews'] = traindf(traindf.reviews + 1)\n",
    "plt.hist(traindf['log_reviews'])"
   ]
  },
  {
   "cell_type": "markdown",
   "metadata": {},
   "source": [
    "# Resplit into Train/Test"
   ]
  },
  {
   "cell_type": "code",
   "execution_count": null,
   "metadata": {},
   "outputs": [],
   "source": []
  },
  {
   "cell_type": "markdown",
   "metadata": {},
   "source": [
    "# EDA Scaled Data, Log Reviews as Dependent"
   ]
  },
  {
   "cell_type": "code",
   "execution_count": null,
   "metadata": {},
   "outputs": [],
   "source": [
    "sns.pairplot(traindf_log)"
   ]
  },
  {
   "cell_type": "code",
   "execution_count": null,
   "metadata": {},
   "outputs": [],
   "source": [
    "traindf_log.corr()"
   ]
  },
  {
   "cell_type": "markdown",
   "metadata": {},
   "source": [
    "# Regression on Log Values"
   ]
  },
  {
   "cell_type": "code",
   "execution_count": null,
   "metadata": {},
   "outputs": [],
   "source": [
    "y2 = traindf_log['log_reviews']\n",
    "X2 = traindf_log.drop(['log_reviews','link','systems'], axis = 1)\n",
    "X2_train, X2_test, y2_train, y2_test = train_test_split(X2, y2, test_size=0.3)\n",
    "traindf=X_train.join(y_train)\n",
    "\n",
    "y2_train, \n",
    "model2 = sm.OLS(y2_train, sm.add_constant(X2_train))\n",
    "fit2 = model2.fit()\n",
    "fit2.summary()\n",
    "\n",
    "\n",
    "traindf_log=traindf.drop(['reviews'], 1)"
   ]
  },
  {
   "cell_type": "code",
   "execution_count": null,
   "metadata": {},
   "outputs": [],
   "source": [
    "traindf_log"
   ]
  },
  {
   "cell_type": "code",
   "execution_count": null,
   "metadata": {},
   "outputs": [],
   "source": []
  },
  {
   "cell_type": "code",
   "execution_count": null,
   "metadata": {},
   "outputs": [],
   "source": []
  },
  {
   "cell_type": "markdown",
   "metadata": {},
   "source": [
    "# Regularize"
   ]
  },
  {
   "cell_type": "code",
   "execution_count": null,
   "metadata": {},
   "outputs": [],
   "source": [
    "alphas = [10**x for x in range(-12, 5)]\n",
    "scores = np.zeros((len(alphas),1))"
   ]
  },
  {
   "cell_type": "code",
   "execution_count": null,
   "metadata": {},
   "outputs": [],
   "source": [
    "for j in range(len(alphas)):\n",
    "    kf_score = []\n",
    "    for train, test in kf:\n",
    "        X_train = X.iloc[train]\n",
    "        y_train = y.iloc[train]\n",
    "        X_test = X.iloc[test]\n",
    "        y_test = y.iloc[test]\n",
    "        std_scaler = preprocessing.StandardScaler()\n",
    "        X_train_norm = std_scaler.fit_transform(X_train)\n",
    "        X_test_norm = std_scaler.transform(X_test)\n",
    "    \n",
    "        model =  Lasso(alpha = alphas[j])\n",
    "        model.fit(X_train_norm, y_train)\n",
    "        y_test_predict = model.predict(X_test_norm)\n",
    "        score = mean_squared_error(y_test_predict, y_test)\n",
    "        kf_score.append(score)\n",
    "    scores[j] = np.mean(kf_score)\n",
    "print ('mse for all alpha values \\n')\n",
    "print (pd.DataFrame(list(zip(alphas, scores)), columns=['alpha', 'mse']))"
   ]
  },
  {
   "cell_type": "code",
   "execution_count": null,
   "metadata": {},
   "outputs": [],
   "source": [
    "best_alpha = alphas[scores.argmin()]\n",
    "print ('alpha:', best_alpha)"
   ]
  },
  {
   "cell_type": "code",
   "execution_count": null,
   "metadata": {},
   "outputs": [],
   "source": [
    "std_scaler = preprocessing.StandardScaler()\n",
    "X_norm = std_scaler.fit_transform(X)\n",
    "\n",
    "final_model =  Lasso(alpha = best_alpha)\n",
    "final_model.fit(X_norm, y)\n",
    "y_predict = final_model.predict(X_norm)\n",
    "final_model_score = mean_squared_error(y_predict, y)\n",
    "print ('MSE:', final_model_score)"
   ]
  },
  {
   "cell_type": "code",
   "execution_count": null,
   "metadata": {},
   "outputs": [],
   "source": [
    "df_coef = pd.DataFrame(list(zip(X.columns, final_model.coef_)), columns = ['variable', 'coefficient'])\n",
    "print ('Keep')\n",
    "print (df_coef[df_coef['coefficient']!=0])"
   ]
  },
  {
   "cell_type": "code",
   "execution_count": null,
   "metadata": {},
   "outputs": [],
   "source": [
    "print ('Drop')\n",
    "print (df_coef[df_coef['coefficient']==0])"
   ]
  },
  {
   "cell_type": "markdown",
   "metadata": {},
   "source": [
    "# More Complicated Models"
   ]
  },
  {
   "cell_type": "code",
   "execution_count": null,
   "metadata": {},
   "outputs": [],
   "source": []
  },
  {
   "cell_type": "code",
   "execution_count": null,
   "metadata": {},
   "outputs": [],
   "source": []
  },
  {
   "cell_type": "code",
   "execution_count": null,
   "metadata": {},
   "outputs": [],
   "source": []
  }
 ],
 "metadata": {
  "kernelspec": {
   "display_name": "Python 3",
   "language": "python",
   "name": "python3"
  },
  "language_info": {
   "codemirror_mode": {
    "name": "ipython",
    "version": 3
   },
   "file_extension": ".py",
   "mimetype": "text/x-python",
   "name": "python",
   "nbconvert_exporter": "python",
   "pygments_lexer": "ipython3",
   "version": "3.6.5"
  }
 },
 "nbformat": 4,
 "nbformat_minor": 2
}
