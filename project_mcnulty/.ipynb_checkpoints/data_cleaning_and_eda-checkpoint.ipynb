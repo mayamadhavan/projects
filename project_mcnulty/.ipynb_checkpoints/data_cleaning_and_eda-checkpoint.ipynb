{
 "cells": [
  {
   "cell_type": "markdown",
   "metadata": {},
   "source": [
    "# Importation Station"
   ]
  },
  {
   "cell_type": "code",
   "execution_count": 2,
   "metadata": {},
   "outputs": [
    {
     "name": "stderr",
     "output_type": "stream",
     "text": [
      "/Users/mayamadhavan/anaconda3/lib/python3.6/site-packages/sklearn/cross_validation.py:41: DeprecationWarning: This module was deprecated in version 0.18 in favor of the model_selection module into which all the refactored classes and functions are moved. Also note that the interface of the new CV iterators are different from that of this module. This module will be removed in 0.20.\n",
      "  \"This module will be removed in 0.20.\", DeprecationWarning)\n"
     ]
    }
   ],
   "source": [
    "import pandas as pd\n",
    "import numpy as np\n",
    "import scipy.sparse as sp\n",
    "import seaborn as sns\n",
    "import matplotlib.pyplot as plt\n",
    "import pickle\n",
    "from sklearn.cross_validation import train_test_split\n",
    "\n",
    "plt.style.use(\"seaborn\")\n",
    "%matplotlib inline\n",
    "\n",
    "%load_ext autotime"
   ]
  },
  {
   "cell_type": "markdown",
   "metadata": {},
   "source": [
    "# Make DataFrame and Extract Features"
   ]
  },
  {
   "cell_type": "markdown",
   "metadata": {},
   "source": [
    "## Read Initial Data"
   ]
  },
  {
   "cell_type": "code",
   "execution_count": 3,
   "metadata": {},
   "outputs": [
    {
     "name": "stdout",
     "output_type": "stream",
     "text": [
      "time: 905 µs\n"
     ]
    }
   ],
   "source": [
    "# df= pd.read_csv(\"us-perm-visas.zip\")\n",
    "# df.head()"
   ]
  },
  {
   "cell_type": "markdown",
   "metadata": {},
   "source": [
    "## Extract Features of Interest"
   ]
  },
  {
   "cell_type": "code",
   "execution_count": 4,
   "metadata": {},
   "outputs": [
    {
     "name": "stdout",
     "output_type": "stream",
     "text": [
      "time: 1.39 ms\n"
     ]
    }
   ],
   "source": [
    "# df_feat=df[['class_of_admission','country_of_citizenship',\n",
    "#             'country_of_citzenship','case_status', 'employer_state','foreign_worker_info_city',\n",
    "#             'foreign_worker_info_education','foreign_worker_info_major',\n",
    "#            'application_type', 'fw_info_birth_country', 'job_info_alt_occ_job_title','job_info_education',\n",
    "#             'wage_offer_from_9089']]\n",
    "# df_feat.head()\n",
    "# del df"
   ]
  },
  {
   "cell_type": "markdown",
   "metadata": {},
   "source": [
    "# Pickle and Store Features of Interest into CSV"
   ]
  },
  {
   "cell_type": "code",
   "execution_count": 5,
   "metadata": {},
   "outputs": [
    {
     "name": "stdout",
     "output_type": "stream",
     "text": [
      "time: 680 µs\n"
     ]
    }
   ],
   "source": [
    "# with open('visa.pkl', 'wb') as picklefile:\n",
    "#              pickle.dump(df_feat, picklefile)"
   ]
  },
  {
   "cell_type": "code",
   "execution_count": 6,
   "metadata": {},
   "outputs": [
    {
     "name": "stdout",
     "output_type": "stream",
     "text": [
      "time: 560 µs\n"
     ]
    }
   ],
   "source": [
    "# with open(\"visa.pkl\", 'rb') as picklefile: \n",
    "#       df = pickle.load(picklefile)\n",
    "# df.to_csv('visa.csv')\n",
    "# df.head()"
   ]
  },
  {
   "cell_type": "markdown",
   "metadata": {},
   "source": [
    "# Read Pre-Made CSV File"
   ]
  },
  {
   "cell_type": "code",
   "execution_count": 7,
   "metadata": {},
   "outputs": [
    {
     "name": "stderr",
     "output_type": "stream",
     "text": [
      "/Users/mayamadhavan/anaconda3/lib/python3.6/site-packages/IPython/core/interactiveshell.py:2785: DtypeWarning: Columns (3,6,7,8,9,10,11,12,13) have mixed types. Specify dtype option on import or set low_memory=False.\n",
      "  interactivity=interactivity, compiler=compiler, result=result)\n"
     ]
    },
    {
     "data": {
      "text/html": [
       "<div>\n",
       "<style scoped>\n",
       "    .dataframe tbody tr th:only-of-type {\n",
       "        vertical-align: middle;\n",
       "    }\n",
       "\n",
       "    .dataframe tbody tr th {\n",
       "        vertical-align: top;\n",
       "    }\n",
       "\n",
       "    .dataframe thead th {\n",
       "        text-align: right;\n",
       "    }\n",
       "</style>\n",
       "<table border=\"1\" class=\"dataframe\">\n",
       "  <thead>\n",
       "    <tr style=\"text-align: right;\">\n",
       "      <th></th>\n",
       "      <th>class_of_admission</th>\n",
       "      <th>country_of_citizenship</th>\n",
       "      <th>country_of_citzenship</th>\n",
       "      <th>case_status</th>\n",
       "      <th>employer_state</th>\n",
       "      <th>foreign_worker_info_city</th>\n",
       "      <th>foreign_worker_info_education</th>\n",
       "      <th>foreign_worker_info_major</th>\n",
       "      <th>application_type</th>\n",
       "      <th>fw_info_birth_country</th>\n",
       "      <th>job_info_alt_occ_job_title</th>\n",
       "      <th>job_info_education</th>\n",
       "      <th>wage_offer_from_9089</th>\n",
       "    </tr>\n",
       "  </thead>\n",
       "  <tbody>\n",
       "    <tr>\n",
       "      <th>0</th>\n",
       "      <td>J-1</td>\n",
       "      <td>NaN</td>\n",
       "      <td>ARMENIA</td>\n",
       "      <td>Certified</td>\n",
       "      <td>NY</td>\n",
       "      <td>NaN</td>\n",
       "      <td>NaN</td>\n",
       "      <td>NaN</td>\n",
       "      <td>PERM</td>\n",
       "      <td>NaN</td>\n",
       "      <td>NaN</td>\n",
       "      <td>NaN</td>\n",
       "      <td>75629</td>\n",
       "    </tr>\n",
       "    <tr>\n",
       "      <th>1</th>\n",
       "      <td>B-2</td>\n",
       "      <td>NaN</td>\n",
       "      <td>POLAND</td>\n",
       "      <td>Denied</td>\n",
       "      <td>NY</td>\n",
       "      <td>NaN</td>\n",
       "      <td>NaN</td>\n",
       "      <td>NaN</td>\n",
       "      <td>PERM</td>\n",
       "      <td>NaN</td>\n",
       "      <td>NaN</td>\n",
       "      <td>NaN</td>\n",
       "      <td>37024</td>\n",
       "    </tr>\n",
       "    <tr>\n",
       "      <th>2</th>\n",
       "      <td>H-1B</td>\n",
       "      <td>NaN</td>\n",
       "      <td>INDIA</td>\n",
       "      <td>Certified</td>\n",
       "      <td>VA</td>\n",
       "      <td>NaN</td>\n",
       "      <td>NaN</td>\n",
       "      <td>NaN</td>\n",
       "      <td>PERM</td>\n",
       "      <td>NaN</td>\n",
       "      <td>NaN</td>\n",
       "      <td>NaN</td>\n",
       "      <td>47923</td>\n",
       "    </tr>\n",
       "    <tr>\n",
       "      <th>3</th>\n",
       "      <td>B-2</td>\n",
       "      <td>NaN</td>\n",
       "      <td>SOUTH KOREA</td>\n",
       "      <td>Certified</td>\n",
       "      <td>NY</td>\n",
       "      <td>NaN</td>\n",
       "      <td>NaN</td>\n",
       "      <td>NaN</td>\n",
       "      <td>PERM</td>\n",
       "      <td>NaN</td>\n",
       "      <td>NaN</td>\n",
       "      <td>NaN</td>\n",
       "      <td>10.97</td>\n",
       "    </tr>\n",
       "    <tr>\n",
       "      <th>4</th>\n",
       "      <td>L-1</td>\n",
       "      <td>NaN</td>\n",
       "      <td>CANADA</td>\n",
       "      <td>Certified</td>\n",
       "      <td>NY</td>\n",
       "      <td>NaN</td>\n",
       "      <td>NaN</td>\n",
       "      <td>NaN</td>\n",
       "      <td>PERM</td>\n",
       "      <td>NaN</td>\n",
       "      <td>NaN</td>\n",
       "      <td>NaN</td>\n",
       "      <td>100000</td>\n",
       "    </tr>\n",
       "  </tbody>\n",
       "</table>\n",
       "</div>"
      ],
      "text/plain": [
       "  class_of_admission country_of_citizenship country_of_citzenship case_status  \\\n",
       "0                J-1                    NaN               ARMENIA   Certified   \n",
       "1                B-2                    NaN                POLAND      Denied   \n",
       "2               H-1B                    NaN                 INDIA   Certified   \n",
       "3                B-2                    NaN           SOUTH KOREA   Certified   \n",
       "4                L-1                    NaN                CANADA   Certified   \n",
       "\n",
       "  employer_state foreign_worker_info_city foreign_worker_info_education  \\\n",
       "0             NY                      NaN                           NaN   \n",
       "1             NY                      NaN                           NaN   \n",
       "2             VA                      NaN                           NaN   \n",
       "3             NY                      NaN                           NaN   \n",
       "4             NY                      NaN                           NaN   \n",
       "\n",
       "  foreign_worker_info_major application_type fw_info_birth_country  \\\n",
       "0                       NaN             PERM                   NaN   \n",
       "1                       NaN             PERM                   NaN   \n",
       "2                       NaN             PERM                   NaN   \n",
       "3                       NaN             PERM                   NaN   \n",
       "4                       NaN             PERM                   NaN   \n",
       "\n",
       "  job_info_alt_occ_job_title job_info_education wage_offer_from_9089  \n",
       "0                        NaN                NaN                75629  \n",
       "1                        NaN                NaN                37024  \n",
       "2                        NaN                NaN                47923  \n",
       "3                        NaN                NaN                10.97  \n",
       "4                        NaN                NaN               100000  "
      ]
     },
     "execution_count": 7,
     "metadata": {},
     "output_type": "execute_result"
    },
    {
     "name": "stdout",
     "output_type": "stream",
     "text": [
      "time: 1.74 s\n"
     ]
    }
   ],
   "source": [
    "df=pd.read_csv('visa.csv')\n",
    "del(df['Unnamed: 0'])\n",
    "df.head()"
   ]
  },
  {
   "cell_type": "markdown",
   "metadata": {},
   "source": [
    "# Begin Data Cleaning"
   ]
  },
  {
   "cell_type": "markdown",
   "metadata": {},
   "source": [
    "## Combine Repeated Columns- Not Specific to Train/Test"
   ]
  },
  {
   "cell_type": "code",
   "execution_count": 8,
   "metadata": {},
   "outputs": [
    {
     "data": {
      "text/plain": [
       "class_of_admission                22845\n",
       "country_of_citizenship            20633\n",
       "country_of_citzenship            353788\n",
       "case_status                           0\n",
       "employer_state                       42\n",
       "foreign_worker_info_city         135297\n",
       "foreign_worker_info_education    135309\n",
       "foreign_worker_info_major        154972\n",
       "application_type                 239093\n",
       "fw_info_birth_country            223928\n",
       "job_info_alt_occ_job_title       226962\n",
       "job_info_education               135282\n",
       "wage_offer_from_9089             114771\n",
       "dtype: int64"
      ]
     },
     "execution_count": 8,
     "metadata": {},
     "output_type": "execute_result"
    },
    {
     "name": "stdout",
     "output_type": "stream",
     "text": [
      "time: 238 ms\n"
     ]
    }
   ],
   "source": [
    "df.isnull().sum()"
   ]
  },
  {
   "cell_type": "code",
   "execution_count": 9,
   "metadata": {
    "scrolled": true
   },
   "outputs": [
    {
     "data": {
      "text/plain": [
       "class_of_admission                22845\n",
       "country_of_citizenship               59\n",
       "case_status                           0\n",
       "employer_state                       42\n",
       "foreign_worker_info_city         135297\n",
       "foreign_worker_info_education    135309\n",
       "foreign_worker_info_major        154972\n",
       "application_type                 239093\n",
       "fw_info_birth_country            223928\n",
       "job_info_alt_occ_job_title       226962\n",
       "job_info_education               135282\n",
       "wage_offer_from_9089             114771\n",
       "dtype: int64"
      ]
     },
     "execution_count": 9,
     "metadata": {},
     "output_type": "execute_result"
    },
    {
     "name": "stdout",
     "output_type": "stream",
     "text": [
      "time: 287 ms\n"
     ]
    }
   ],
   "source": [
    "df.country_of_citizenship.fillna(df.country_of_citzenship, inplace=True)\n",
    "df=df.drop('country_of_citzenship', axis=1)\n",
    "df.isnull().sum()"
   ]
  },
  {
   "cell_type": "code",
   "execution_count": 10,
   "metadata": {
    "scrolled": true
   },
   "outputs": [
    {
     "data": {
      "text/plain": [
       "class_of_admission                22845\n",
       "country_of_citizenship               59\n",
       "case_status                           0\n",
       "employer_state                       42\n",
       "foreign_worker_info_city         135297\n",
       "foreign_worker_info_education    135270\n",
       "foreign_worker_info_major        154972\n",
       "application_type                 239093\n",
       "fw_info_birth_country            223928\n",
       "job_info_alt_occ_job_title       226962\n",
       "wage_offer_from_9089             114771\n",
       "dtype: int64"
      ]
     },
     "execution_count": 10,
     "metadata": {},
     "output_type": "execute_result"
    },
    {
     "name": "stdout",
     "output_type": "stream",
     "text": [
      "time: 292 ms\n"
     ]
    }
   ],
   "source": [
    "df.foreign_worker_info_education.fillna(df.job_info_education, inplace=True)\n",
    "df=df.drop('job_info_education', axis=1)\n",
    "df.isnull().sum()"
   ]
  },
  {
   "cell_type": "markdown",
   "metadata": {},
   "source": [
    "## Split into Train and Test Sets"
   ]
  },
  {
   "cell_type": "code",
   "execution_count": 11,
   "metadata": {},
   "outputs": [
    {
     "name": "stdout",
     "output_type": "stream",
     "text": [
      "time: 571 µs\n"
     ]
    }
   ],
   "source": [
    "# X=df.drop(['case_status'],axis=1)\n",
    "# y = df['case_status']"
   ]
  },
  {
   "cell_type": "code",
   "execution_count": 12,
   "metadata": {},
   "outputs": [
    {
     "name": "stdout",
     "output_type": "stream",
     "text": [
      "time: 832 µs\n"
     ]
    }
   ],
   "source": [
    "# df_train, df_test= train_test_split(X,y,test_size=0.3)"
   ]
  },
  {
   "cell_type": "markdown",
   "metadata": {},
   "source": [
    "## Fill Na's in Train Set\n",
    "**Idea:**\n",
    "1. Ignore Target Variable When Filling NA's\n",
    "2. Fill in Test set With Train Values to Accurately Check Models\n",
    "\n",
    "**Structure for Each Variable:**\n",
    "1. Read Values Counts\n",
    "2. Fill in As Needed"
   ]
  },
  {
   "cell_type": "code",
   "execution_count": 13,
   "metadata": {},
   "outputs": [
    {
     "name": "stdout",
     "output_type": "stream",
     "text": [
      "time: 919 µs\n"
     ]
    }
   ],
   "source": [
    "# def impute(X_col):\n",
    "#     merged_frame = pd.merge(X_col, age_fill_series, how='left', \n",
    "#                              left_on=['Sex', 'Pclass'], \n",
    "#                              right_on=['Sex', 'Pclass'])\n",
    "\n",
    "#     merged_frame.rename(columns={'Age_x': 'Age', 'Age_y': 'median_age'}, inplace=True)\n",
    "#     merged_frame.Age.fillna(merged_frame.median_age, inplace=True)\n",
    "#     merged_frame.drop(['median_age'], axis=1, inplace=True)\n",
    "#     return merged_frame\n",
    "\n",
    "# X_train_imputed = impute_age(X_train)\n",
    "# X_test_imputed = impute_age(X_test)\n",
    "\n",
    "# X_train_imputed.head()"
   ]
  },
  {
   "cell_type": "code",
   "execution_count": 14,
   "metadata": {},
   "outputs": [
    {
     "name": "stdout",
     "output_type": "stream",
     "text": [
      "time: 1.52 ms\n"
     ]
    }
   ],
   "source": [
    "def mode(a):\n",
    "    u, c = np.unique(a, return_counts=True)\n",
    "    return u[c.argmax()]"
   ]
  },
  {
   "cell_type": "markdown",
   "metadata": {},
   "source": [
    "### Country of Citizenship= Fill using the mode by education level"
   ]
  },
  {
   "cell_type": "code",
   "execution_count": 15,
   "metadata": {},
   "outputs": [
    {
     "data": {
      "text/plain": [
       "INDIA                       205158\n",
       "CHINA                        28861\n",
       "SOUTH KOREA                  24761\n",
       "CANADA                       14804\n",
       "MEXICO                        8961\n",
       "PHILIPPINES                   8631\n",
       "UNITED KINGDOM                4972\n",
       "TAIWAN                        4173\n",
       "PAKISTAN                      3962\n",
       "FRANCE                        3173\n",
       "NEPAL                         3047\n",
       "JAPAN                         2970\n",
       "BRAZIL                        2919\n",
       "VENEZUELA                     2738\n",
       "TURKEY                        2551\n",
       "RUSSIA                        2524\n",
       "GERMANY                       2364\n",
       "IRAN                          2356\n",
       "VIETNAM                       2290\n",
       "ITALY                         1948\n",
       "ISRAEL                        1914\n",
       "COLOMBIA                      1843\n",
       "AUSTRALIA                     1696\n",
       "UKRAINE                       1502\n",
       "SPAIN                         1447\n",
       "POLAND                        1424\n",
       "ARGENTINA                     1189\n",
       "NIGERIA                       1147\n",
       "BANGLADESH                    1098\n",
       "MALAYSIA                      1059\n",
       "                             ...  \n",
       "NORTH KOREA                      4\n",
       "MOZAMBIQUE                       3\n",
       "BRUNEI                           3\n",
       "TURKS AND CAICOS ISLANDS         3\n",
       "VANUATU                          3\n",
       "SEYCHELLES                       3\n",
       "GUINEA-BISSAU                    3\n",
       "CAYMAN ISLANDS                   3\n",
       "CENTRAL AFRICAN REPUBLIC         2\n",
       "BRITISH VIRGIN ISLANDS           2\n",
       "REPUBLIC OF CONGO                2\n",
       "SAO TOME AND PRINCIPE            2\n",
       "CAPE VERDE                       2\n",
       "SOUTH SUDAN                      2\n",
       "SINT MAARTEN                     1\n",
       "SOMALIA                          1\n",
       "COMOROS                          1\n",
       "SAMOA                            1\n",
       "ARUBA                            1\n",
       "EQUATORIAL GUINEA                1\n",
       "ANDORRA                          1\n",
       "QATAR                            1\n",
       "NETHERLANDS ANTILLES             1\n",
       "KIRIBATI                         1\n",
       "PAPUA NEW GUINEA                 1\n",
       "SOVIET UNION                     1\n",
       "CUBA                             1\n",
       "LIECHTENSTEIN                    1\n",
       "CHAD                             1\n",
       "MONACO                           1\n",
       "Name: country_of_citizenship, Length: 202, dtype: int64"
      ]
     },
     "execution_count": 15,
     "metadata": {},
     "output_type": "execute_result"
    },
    {
     "name": "stdout",
     "output_type": "stream",
     "text": [
      "time: 69.7 ms\n"
     ]
    }
   ],
   "source": [
    "df.country_of_citizenship.value_counts()"
   ]
  },
  {
   "cell_type": "code",
   "execution_count": 16,
   "metadata": {},
   "outputs": [
    {
     "data": {
      "text/plain": [
       "0              ARMENIA\n",
       "1               POLAND\n",
       "2                INDIA\n",
       "3          SOUTH KOREA\n",
       "4               CANADA\n",
       "5              ECUADOR\n",
       "6               MEXICO\n",
       "7               CANADA\n",
       "8               CANADA\n",
       "9             PAKISTAN\n",
       "10               INDIA\n",
       "11           SINGAPORE\n",
       "12              RUSSIA\n",
       "13               INDIA\n",
       "14              MEXICO\n",
       "15             ECUADOR\n",
       "16               INDIA\n",
       "17              CANADA\n",
       "18              MEXICO\n",
       "19              POLAND\n",
       "20           VENEZUELA\n",
       "21               JAPAN\n",
       "22        SOUTH AFRICA\n",
       "23              MEXICO\n",
       "24               CHINA\n",
       "25              RUSSIA\n",
       "26              MEXICO\n",
       "27              MEXICO\n",
       "28               INDIA\n",
       "29               INDIA\n",
       "              ...     \n",
       "374332           CHINA\n",
       "374333            IRAN\n",
       "374334    TURKMENISTAN\n",
       "374335           INDIA\n",
       "374336           CHINA\n",
       "374337          MEXICO\n",
       "374338          MEXICO\n",
       "374339           INDIA\n",
       "374340           INDIA\n",
       "374341           ITALY\n",
       "374342         GERMANY\n",
       "374343         VIETNAM\n",
       "374344           CHINA\n",
       "374345           INDIA\n",
       "374346           INDIA\n",
       "374347           INDIA\n",
       "374348           INDIA\n",
       "374349           INDIA\n",
       "374350           INDIA\n",
       "374351           INDIA\n",
       "374352           INDIA\n",
       "374353           INDIA\n",
       "374354           INDIA\n",
       "374355           JAPAN\n",
       "374356           CHINA\n",
       "374357     SOUTH KOREA\n",
       "374358         VIETNAM\n",
       "374359           INDIA\n",
       "374360     SOUTH KOREA\n",
       "374361           CHINA\n",
       "Name: country_of_citizenship, Length: 374362, dtype: object"
      ]
     },
     "execution_count": 16,
     "metadata": {},
     "output_type": "execute_result"
    },
    {
     "name": "stdout",
     "output_type": "stream",
     "text": [
      "time: 37.1 ms\n"
     ]
    }
   ],
   "source": [
    "df.country_of_citizenship.fillna('')"
   ]
  },
  {
   "cell_type": "code",
   "execution_count": 17,
   "metadata": {},
   "outputs": [
    {
     "name": "stdout",
     "output_type": "stream",
     "text": [
      "time: 2.48 ms\n"
     ]
    }
   ],
   "source": [
    "# country_fill_series = df.groupby(['foreign_worker_info_education']).country_of_citizenship.fillna('').apply(mode)"
   ]
  },
  {
   "cell_type": "code",
   "execution_count": 18,
   "metadata": {},
   "outputs": [
    {
     "name": "stdout",
     "output_type": "stream",
     "text": [
      "time: 278 ms\n"
     ]
    }
   ],
   "source": [
    "country_fill_series = df[~df['country_of_citizenship'].isnull()].groupby(['foreign_worker_info_education']).country_of_citizenship.apply(mode)"
   ]
  },
  {
   "cell_type": "code",
   "execution_count": 19,
   "metadata": {},
   "outputs": [
    {
     "data": {
      "text/plain": [
       "INDIA    205158\n",
       "Name: country_of_citizenship, dtype: int64"
      ]
     },
     "execution_count": 19,
     "metadata": {},
     "output_type": "execute_result"
    },
    {
     "name": "stdout",
     "output_type": "stream",
     "text": [
      "time: 60.8 ms\n"
     ]
    }
   ],
   "source": [
    "df.country_of_citizenship.value_counts().head(1)"
   ]
  },
  {
   "cell_type": "code",
   "execution_count": null,
   "metadata": {},
   "outputs": [],
   "source": []
  },
  {
   "cell_type": "code",
   "execution_count": null,
   "metadata": {},
   "outputs": [],
   "source": []
  },
  {
   "cell_type": "markdown",
   "metadata": {},
   "source": [
    "### Destination State= Fill using overall mode"
   ]
  },
  {
   "cell_type": "code",
   "execution_count": 20,
   "metadata": {},
   "outputs": [
    {
     "data": {
      "text/plain": [
       "array(['NY', 'VA', 'FL', 'DE', 'MD', 'NJ', 'GA', 'IL', 'TX', 'KY', 'WY',\n",
       "       'OH', 'MS', 'MA', 'NC', 'CA', 'MO', 'CT', 'AZ', 'WI', 'PA', 'WA',\n",
       "       'CO', 'MN', 'NV', 'UT', 'AL', 'OK', 'LA', 'RI', 'DC', 'OR', 'MI',\n",
       "       'IA', 'NH', 'IN', 'SD', nan, 'NE', 'KS', 'TN', 'PR', 'AR', 'GU',\n",
       "       'WV', 'SC', 'ID', 'VI', 'ND', 'HI', 'VT', 'ME', 'NM', 'MP', 'AK',\n",
       "       'MT', 'GEORGIA', 'NEW YORK', 'TEXAS', 'CALIFORNIA', 'WASHINGTON',\n",
       "       'NEW JERSEY', 'ARIZONA', 'NORTH CAROLINA', 'WISCONSIN',\n",
       "       'LOUISIANA', 'MAINE', 'OHIO', 'MARYLAND', 'MASSACHUSETTS',\n",
       "       'MICHIGAN', 'ILLINOIS', 'PENNSYLVANIA', 'VERMONT', 'VIRGINIA',\n",
       "       'FLORIDA', 'MISSOURI', 'ARKANSAS', 'NEW HAMPSHIRE', 'INDIANA',\n",
       "       'OKLAHOMA', 'UTAH', 'CONNECTICUT', 'SOUTH DAKOTA', 'DELAWARE',\n",
       "       'ALABAMA', 'WEST VIRGINIA', 'NEBRASKA', 'OREGON', 'COLORADO',\n",
       "       'RHODE ISLAND', 'KANSAS', 'ALASKA', 'DISTRICT OF COLUMBIA',\n",
       "       'MINNESOTA', 'TENNESSEE', 'KENTUCKY', 'GUAM', 'IOWA', 'NEW MEXICO',\n",
       "       'NORTH DAKOTA', 'NEVADA', 'MISSISSIPPI', 'IDAHO', 'PUERTO RICO',\n",
       "       'SOUTH CAROLINA', 'VIRGIN ISLANDS', 'MONTANA', 'HAWAII', 'WYOMING',\n",
       "       'NORTHERN MARIANA ISLANDS', 'MARSHALL ISLANDS', 'BRITISH COLUMBIA',\n",
       "       'BC'], dtype=object)"
      ]
     },
     "execution_count": 20,
     "metadata": {},
     "output_type": "execute_result"
    },
    {
     "name": "stdout",
     "output_type": "stream",
     "text": [
      "time: 49.2 ms\n"
     ]
    }
   ],
   "source": [
    "df.employer_state.unique()"
   ]
  },
  {
   "cell_type": "code",
   "execution_count": 35,
   "metadata": {},
   "outputs": [
    {
     "name": "stdout",
     "output_type": "stream",
     "text": [
      "time: 9.42 s\n"
     ]
    }
   ],
   "source": [
    "state_fill_series = df[~df['employer_state'].isnull()].employer_state.apply(mode)"
   ]
  },
  {
   "cell_type": "code",
   "execution_count": 34,
   "metadata": {},
   "outputs": [
    {
     "data": {
      "text/plain": [
       "0    CALIFORNIA\n",
       "dtype: object"
      ]
     },
     "execution_count": 34,
     "metadata": {},
     "output_type": "execute_result"
    },
    {
     "name": "stdout",
     "output_type": "stream",
     "text": [
      "time: 32.2 ms\n"
     ]
    }
   ],
   "source": [
    "df['employer_state'].mode()"
   ]
  },
  {
   "cell_type": "markdown",
   "metadata": {},
   "source": [
    "### Origin City= Fill using mode of given country"
   ]
  },
  {
   "cell_type": "code",
   "execution_count": null,
   "metadata": {},
   "outputs": [],
   "source": [
    "df.foreign_worker_info_city.unique()"
   ]
  },
  {
   "cell_type": "code",
   "execution_count": null,
   "metadata": {},
   "outputs": [],
   "source": [
    "origin_city_fill_series = df[~df['foreign_worker_info_city'].isnull()].country_of_citizenship.apply(mode)"
   ]
  },
  {
   "cell_type": "markdown",
   "metadata": {},
   "source": [
    "### Education Level= Fill using Country and Visa Type"
   ]
  },
  {
   "cell_type": "code",
   "execution_count": null,
   "metadata": {},
   "outputs": [],
   "source": [
    "df.foreign_worker_info_education.unique()"
   ]
  },
  {
   "cell_type": "code",
   "execution_count": null,
   "metadata": {},
   "outputs": [],
   "source": []
  },
  {
   "cell_type": "markdown",
   "metadata": {},
   "source": [
    "### Major= Fill with mode of visa type / country of origin / education / destination"
   ]
  },
  {
   "cell_type": "code",
   "execution_count": null,
   "metadata": {},
   "outputs": [],
   "source": [
    "df.foreign_worker_info_major.value_counts()"
   ]
  },
  {
   "cell_type": "code",
   "execution_count": null,
   "metadata": {},
   "outputs": [],
   "source": []
  },
  {
   "cell_type": "code",
   "execution_count": null,
   "metadata": {},
   "outputs": [],
   "source": []
  },
  {
   "cell_type": "markdown",
   "metadata": {},
   "source": [
    "### Birth Country= Fill with country of citizenship"
   ]
  },
  {
   "cell_type": "code",
   "execution_count": null,
   "metadata": {},
   "outputs": [],
   "source": [
    "df.fw_info_birth_country.unique()"
   ]
  },
  {
   "cell_type": "code",
   "execution_count": null,
   "metadata": {},
   "outputs": [],
   "source": []
  },
  {
   "cell_type": "markdown",
   "metadata": {},
   "source": [
    "### Job Title= Fill with country of citizenship\n",
    "narrow in"
   ]
  },
  {
   "cell_type": "code",
   "execution_count": null,
   "metadata": {},
   "outputs": [],
   "source": [
    "df.job_info_alt_occ_job_title.unique()"
   ]
  },
  {
   "cell_type": "code",
   "execution_count": null,
   "metadata": {},
   "outputs": [],
   "source": []
  },
  {
   "cell_type": "code",
   "execution_count": null,
   "metadata": {},
   "outputs": [],
   "source": []
  },
  {
   "cell_type": "code",
   "execution_count": null,
   "metadata": {},
   "outputs": [],
   "source": []
  },
  {
   "cell_type": "markdown",
   "metadata": {},
   "source": [
    "### Wage Offered= Fill with mean by job title and state"
   ]
  },
  {
   "cell_type": "code",
   "execution_count": null,
   "metadata": {},
   "outputs": [],
   "source": [
    "df.wage_offer_from_9089.unique()"
   ]
  },
  {
   "cell_type": "code",
   "execution_count": null,
   "metadata": {},
   "outputs": [],
   "source": []
  },
  {
   "cell_type": "code",
   "execution_count": null,
   "metadata": {},
   "outputs": [],
   "source": []
  },
  {
   "cell_type": "markdown",
   "metadata": {},
   "source": [
    "### Visa Type (Class of Admission)"
   ]
  },
  {
   "cell_type": "code",
   "execution_count": null,
   "metadata": {},
   "outputs": [],
   "source": [
    "# age_fill_series = X_train.groupby(['Sex','Pclass']).Age.median().reset_index()"
   ]
  },
  {
   "cell_type": "code",
   "execution_count": null,
   "metadata": {},
   "outputs": [],
   "source": [
    "df.class_of_admission.unique()"
   ]
  },
  {
   "cell_type": "markdown",
   "metadata": {},
   "source": [
    "### Application Filing Info (Application Type)"
   ]
  },
  {
   "cell_type": "code",
   "execution_count": null,
   "metadata": {},
   "outputs": [],
   "source": [
    "df.application_type.unique()"
   ]
  },
  {
   "cell_type": "markdown",
   "metadata": {},
   "source": [
    "# Dummify Variables"
   ]
  },
  {
   "cell_type": "code",
   "execution_count": null,
   "metadata": {},
   "outputs": [],
   "source": [
    "df=pd.get_dummies(df_feat)"
   ]
  },
  {
   "cell_type": "code",
   "execution_count": null,
   "metadata": {},
   "outputs": [],
   "source": [
    "df.head()"
   ]
  },
  {
   "cell_type": "code",
   "execution_count": null,
   "metadata": {},
   "outputs": [],
   "source": []
  }
 ],
 "metadata": {
  "kernelspec": {
   "display_name": "Python 3",
   "language": "python",
   "name": "python3"
  },
  "language_info": {
   "codemirror_mode": {
    "name": "ipython",
    "version": 3
   },
   "file_extension": ".py",
   "mimetype": "text/x-python",
   "name": "python",
   "nbconvert_exporter": "python",
   "pygments_lexer": "ipython3",
   "version": "3.6.5"
  }
 },
 "nbformat": 4,
 "nbformat_minor": 2
}
