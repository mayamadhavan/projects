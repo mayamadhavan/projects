{
 "cells": [
  {
   "cell_type": "markdown",
   "metadata": {},
   "source": [
    "# Importation Station"
   ]
  },
  {
   "cell_type": "code",
   "execution_count": 1,
   "metadata": {},
   "outputs": [
    {
     "name": "stderr",
     "output_type": "stream",
     "text": [
      "/Users/mayamadhavan/anaconda3/lib/python3.6/site-packages/sklearn/cross_validation.py:41: DeprecationWarning: This module was deprecated in version 0.18 in favor of the model_selection module into which all the refactored classes and functions are moved. Also note that the interface of the new CV iterators are different from that of this module. This module will be removed in 0.20.\n",
      "  \"This module will be removed in 0.20.\", DeprecationWarning)\n"
     ]
    }
   ],
   "source": [
    "import pandas as pd\n",
    "import numpy as np\n",
    "import scipy.sparse as sp\n",
    "import seaborn as sns\n",
    "import matplotlib.pyplot as plt\n",
    "import pickle\n",
    "from sklearn.cross_validation import train_test_split\n",
    "from imblearn.over_sampling import ADASYN\n",
    "from collections import Counter\n",
    "from sklearn.svm import LinearSVC, SVC\n",
    "from imblearn.under_sampling import RandomUnderSampler\n",
    "\n",
    "plt.style.use(\"seaborn\")\n",
    "%matplotlib inline\n",
    "\n",
    "%load_ext autotime"
   ]
  },
  {
   "cell_type": "markdown",
   "metadata": {},
   "source": [
    "# Make DataFrame and Extract Features"
   ]
  },
  {
   "cell_type": "markdown",
   "metadata": {},
   "source": [
    "## Read Initial Data"
   ]
  },
  {
   "cell_type": "code",
   "execution_count": 2,
   "metadata": {},
   "outputs": [
    {
     "name": "stdout",
     "output_type": "stream",
     "text": [
      "time: 691 µs\n"
     ]
    }
   ],
   "source": [
    "# df= pd.read_csv(\"us-perm-visas.zip\")\n",
    "# df.head()"
   ]
  },
  {
   "cell_type": "markdown",
   "metadata": {},
   "source": [
    "## Extract Features of Interest"
   ]
  },
  {
   "cell_type": "code",
   "execution_count": 3,
   "metadata": {},
   "outputs": [
    {
     "name": "stdout",
     "output_type": "stream",
     "text": [
      "time: 1.3 ms\n"
     ]
    }
   ],
   "source": [
    "# df_feat=df[['class_of_admission','country_of_citizenship',\n",
    "#             'country_of_citzenship','case_status', 'employer_state','foreign_worker_info_city',\n",
    "#             'foreign_worker_info_education','foreign_worker_info_major',\n",
    "#            'application_type', 'fw_info_birth_country', 'job_info_alt_occ_job_title','job_info_education',\n",
    "#             'wage_offer_from_9089']]\n",
    "# df_feat.head()\n",
    "# del df"
   ]
  },
  {
   "cell_type": "markdown",
   "metadata": {},
   "source": [
    "# Pickle and Store Features of Interest into CSV"
   ]
  },
  {
   "cell_type": "code",
   "execution_count": 4,
   "metadata": {},
   "outputs": [
    {
     "name": "stdout",
     "output_type": "stream",
     "text": [
      "time: 777 µs\n"
     ]
    }
   ],
   "source": [
    "# with open('visa.pkl', 'wb') as picklefile:\n",
    "#              pickle.dump(df_feat, picklefile)"
   ]
  },
  {
   "cell_type": "code",
   "execution_count": 5,
   "metadata": {},
   "outputs": [
    {
     "name": "stdout",
     "output_type": "stream",
     "text": [
      "time: 879 µs\n"
     ]
    }
   ],
   "source": [
    "# with open(\"visa.pkl\", 'rb') as picklefile: \n",
    "#       df = pickle.load(picklefile)\n",
    "# df.to_csv('visa.csv')\n",
    "# df.head()"
   ]
  },
  {
   "cell_type": "markdown",
   "metadata": {},
   "source": [
    "# Read Pre-Made CSV File"
   ]
  },
  {
   "cell_type": "code",
   "execution_count": 6,
   "metadata": {},
   "outputs": [
    {
     "name": "stderr",
     "output_type": "stream",
     "text": [
      "/Users/mayamadhavan/anaconda3/lib/python3.6/site-packages/IPython/core/interactiveshell.py:2785: DtypeWarning: Columns (3,6,7,8,9,10,11,12,13) have mixed types. Specify dtype option on import or set low_memory=False.\n",
      "  interactivity=interactivity, compiler=compiler, result=result)\n"
     ]
    },
    {
     "name": "stdout",
     "output_type": "stream",
     "text": [
      "time: 1.36 s\n"
     ]
    }
   ],
   "source": [
    "df=pd.read_csv('visa.csv')\n",
    "del(df['Unnamed: 0'])\n",
    "#df.head()"
   ]
  },
  {
   "cell_type": "markdown",
   "metadata": {},
   "source": [
    "# Data Cleaning Pt.1"
   ]
  },
  {
   "cell_type": "markdown",
   "metadata": {},
   "source": [
    "## Initial NA Counts"
   ]
  },
  {
   "cell_type": "code",
   "execution_count": 7,
   "metadata": {},
   "outputs": [
    {
     "data": {
      "text/plain": [
       "class_of_admission                22845\n",
       "country_of_citizenship            20633\n",
       "country_of_citzenship            353788\n",
       "case_status                           0\n",
       "employer_state                       42\n",
       "foreign_worker_info_city         135297\n",
       "foreign_worker_info_education    135309\n",
       "foreign_worker_info_major        154972\n",
       "application_type                 239093\n",
       "fw_info_birth_country            223928\n",
       "job_info_alt_occ_job_title       226962\n",
       "job_info_education               135282\n",
       "wage_offer_from_9089             114771\n",
       "dtype: int64"
      ]
     },
     "execution_count": 7,
     "metadata": {},
     "output_type": "execute_result"
    },
    {
     "name": "stdout",
     "output_type": "stream",
     "text": [
      "time: 261 ms\n"
     ]
    }
   ],
   "source": [
    "df.isnull().sum()\n",
    "initial_na=df.isnull().sum()"
   ]
  },
  {
   "cell_type": "markdown",
   "metadata": {},
   "source": [
    "## Remove Withdrawn Applications and Combine Expired with Certified"
   ]
  },
  {
   "cell_type": "code",
   "execution_count": 8,
   "metadata": {},
   "outputs": [
    {
     "name": "stdout",
     "output_type": "stream",
     "text": [
      "time: 821 ms\n"
     ]
    }
   ],
   "source": [
    "df=df[(df.case_status!='Withdrawn')]\n",
    "df=df.replace({'Certified-Expired':'Certified'})"
   ]
  },
  {
   "cell_type": "code",
   "execution_count": 9,
   "metadata": {},
   "outputs": [
    {
     "data": {
      "text/plain": [
       "array(['Certified', 'Denied'], dtype=object)"
      ]
     },
     "execution_count": 9,
     "metadata": {},
     "output_type": "execute_result"
    },
    {
     "name": "stdout",
     "output_type": "stream",
     "text": [
      "time: 16.8 ms\n"
     ]
    }
   ],
   "source": [
    "df.case_status.unique()"
   ]
  },
  {
   "cell_type": "markdown",
   "metadata": {},
   "source": [
    "## Combine Repeated Columns"
   ]
  },
  {
   "cell_type": "code",
   "execution_count": 10,
   "metadata": {
    "scrolled": true
   },
   "outputs": [
    {
     "name": "stdout",
     "output_type": "stream",
     "text": [
      "time: 87.6 ms\n"
     ]
    }
   ],
   "source": [
    "df.country_of_citizenship.fillna(df.country_of_citzenship, inplace=True)\n",
    "df=df.drop('country_of_citzenship', axis=1)\n",
    "#df.isnull().sum()"
   ]
  },
  {
   "cell_type": "code",
   "execution_count": 11,
   "metadata": {
    "scrolled": true
   },
   "outputs": [
    {
     "name": "stdout",
     "output_type": "stream",
     "text": [
      "time: 108 ms\n"
     ]
    }
   ],
   "source": [
    "df.foreign_worker_info_education.fillna(df.job_info_education, inplace=True)\n",
    "df=df.drop('job_info_education', axis=1)\n",
    "#df.isnull().sum()"
   ]
  },
  {
   "cell_type": "markdown",
   "metadata": {},
   "source": [
    "## Fill Na's\n",
    "**Idea:**\n",
    "1. Ignore Target Variable When Filling NA's\n",
    "\n",
    "**Structure for Each Variable:**\n",
    "1. Read Values Counts\n",
    "2. Fill in As Needed"
   ]
  },
  {
   "cell_type": "code",
   "execution_count": 12,
   "metadata": {},
   "outputs": [
    {
     "name": "stdout",
     "output_type": "stream",
     "text": [
      "time: 3.48 ms\n"
     ]
    }
   ],
   "source": [
    "def impute(df, series, col_name, merge_cols):\n",
    "    merged_frame = pd.merge(df, series, how='left', \n",
    "                             left_on=merge_cols, \n",
    "                             right_on=merge_cols)\n",
    "    merged_frame[col_name+'_x'].fillna(merged_frame[col_name+'_y'],inplace=True)\n",
    "    merged_frame.rename(columns={col_name+'_x':col_name}, inplace=True)\n",
    "    merged_frame.drop([col_name+'_y'], axis=1, inplace=True)\n",
    "    return merged_frame"
   ]
  },
  {
   "cell_type": "code",
   "execution_count": 13,
   "metadata": {},
   "outputs": [
    {
     "name": "stdout",
     "output_type": "stream",
     "text": [
      "time: 1.73 ms\n"
     ]
    }
   ],
   "source": [
    "def mode(a):\n",
    "    u, c = np.unique(a, return_counts=True)\n",
    "    return u[c.argmax()]"
   ]
  },
  {
   "cell_type": "markdown",
   "metadata": {},
   "source": [
    "### Country of Citizenship= Fill using the mode by education level"
   ]
  },
  {
   "cell_type": "code",
   "execution_count": 14,
   "metadata": {},
   "outputs": [
    {
     "name": "stdout",
     "output_type": "stream",
     "text": [
      "time: 263 ms\n"
     ]
    }
   ],
   "source": [
    "country_fill_series = df[~df['country_of_citizenship'].isnull()].groupby(['foreign_worker_info_education']\n",
    "                                                                        ).country_of_citizenship.apply(mode\n",
    "                                                                                                      ).reset_index()\n",
    "#country_fill_series"
   ]
  },
  {
   "cell_type": "code",
   "execution_count": 15,
   "metadata": {},
   "outputs": [
    {
     "name": "stdout",
     "output_type": "stream",
     "text": [
      "time: 473 ms\n"
     ]
    }
   ],
   "source": [
    "df=impute(df, country_fill_series, 'country_of_citizenship',['foreign_worker_info_education'])\n",
    "#df.isnull().sum()"
   ]
  },
  {
   "cell_type": "markdown",
   "metadata": {},
   "source": [
    "### Destination State= Fill using overall mode"
   ]
  },
  {
   "cell_type": "code",
   "execution_count": 16,
   "metadata": {},
   "outputs": [
    {
     "name": "stdout",
     "output_type": "stream",
     "text": [
      "time: 957 µs\n"
     ]
    }
   ],
   "source": [
    "# df.employer_state.unique()"
   ]
  },
  {
   "cell_type": "code",
   "execution_count": 17,
   "metadata": {},
   "outputs": [
    {
     "name": "stdout",
     "output_type": "stream",
     "text": [
      "time: 28.1 ms\n"
     ]
    }
   ],
   "source": [
    "state_fill_series=df['employer_state'].mode()\n",
    "# state_fill_series"
   ]
  },
  {
   "cell_type": "code",
   "execution_count": 18,
   "metadata": {},
   "outputs": [
    {
     "name": "stdout",
     "output_type": "stream",
     "text": [
      "time: 21.8 ms\n"
     ]
    }
   ],
   "source": [
    "df.employer_state.fillna('CALIFORNIA', inplace=True)\n",
    "# df.isnull().sum()"
   ]
  },
  {
   "cell_type": "markdown",
   "metadata": {},
   "source": [
    "### Origin City= Fill using mode of given country"
   ]
  },
  {
   "cell_type": "code",
   "execution_count": 19,
   "metadata": {},
   "outputs": [
    {
     "name": "stdout",
     "output_type": "stream",
     "text": [
      "time: 689 µs\n"
     ]
    }
   ],
   "source": [
    "# df.foreign_worker_info_city.unique()"
   ]
  },
  {
   "cell_type": "code",
   "execution_count": 20,
   "metadata": {},
   "outputs": [
    {
     "name": "stdout",
     "output_type": "stream",
     "text": [
      "time: 290 ms\n"
     ]
    }
   ],
   "source": [
    "origin_fill_series = df[~df['foreign_worker_info_city'].isnull()].groupby(['country_of_citizenship']\n",
    "                                                                         ).foreign_worker_info_city.apply(mode\n",
    "                                                                                                         ).reset_index()\n",
    "# origin_fill_series"
   ]
  },
  {
   "cell_type": "code",
   "execution_count": 21,
   "metadata": {},
   "outputs": [
    {
     "name": "stdout",
     "output_type": "stream",
     "text": [
      "time: 478 ms\n"
     ]
    }
   ],
   "source": [
    "df = impute(df, origin_fill_series, 'foreign_worker_info_city',['country_of_citizenship'])\n",
    "# df.isnull().sum()"
   ]
  },
  {
   "cell_type": "markdown",
   "metadata": {},
   "source": [
    "### Education Level= Fill using Country and Visa Type"
   ]
  },
  {
   "cell_type": "code",
   "execution_count": 22,
   "metadata": {},
   "outputs": [
    {
     "name": "stdout",
     "output_type": "stream",
     "text": [
      "time: 533 µs\n"
     ]
    }
   ],
   "source": [
    "# df.foreign_worker_info_education.unique()"
   ]
  },
  {
   "cell_type": "code",
   "execution_count": 23,
   "metadata": {},
   "outputs": [
    {
     "name": "stdout",
     "output_type": "stream",
     "text": [
      "time: 415 ms\n"
     ]
    }
   ],
   "source": [
    "education_fill_series = df[~df['foreign_worker_info_education'].isnull()].groupby(['country_of_citizenship',\n",
    "                                                                                   'class_of_admission']\n",
    "                                                                                 ).foreign_worker_info_education.apply(mode\n",
    "                                                                                                                      ).reset_index()\n",
    "# education_fill_series"
   ]
  },
  {
   "cell_type": "code",
   "execution_count": 24,
   "metadata": {},
   "outputs": [
    {
     "name": "stdout",
     "output_type": "stream",
     "text": [
      "time: 511 ms\n"
     ]
    }
   ],
   "source": [
    "df = impute(df, education_fill_series, 'foreign_worker_info_education', ['country_of_citizenship',\n",
    "                                                                                   'class_of_admission'])\n",
    "# df.isnull().sum()"
   ]
  },
  {
   "cell_type": "markdown",
   "metadata": {},
   "source": [
    "### Major= Fill with mode of visa type / country of origin / education / destination"
   ]
  },
  {
   "cell_type": "code",
   "execution_count": 25,
   "metadata": {},
   "outputs": [
    {
     "name": "stdout",
     "output_type": "stream",
     "text": [
      "time: 903 µs\n"
     ]
    }
   ],
   "source": [
    "# df.foreign_worker_info_major.value_counts()"
   ]
  },
  {
   "cell_type": "code",
   "execution_count": 26,
   "metadata": {},
   "outputs": [
    {
     "name": "stdout",
     "output_type": "stream",
     "text": [
      "time: 2.53 s\n"
     ]
    }
   ],
   "source": [
    "major_fill_series = df[~df['foreign_worker_info_major'].isnull()].groupby(['country_of_citizenship',\n",
    "                                                                               'class_of_admission',\n",
    "                                                                               'foreign_worker_info_education',\n",
    "                                                                               'employer_state']\n",
    "                                                                             ).foreign_worker_info_major.apply(mode\n",
    "                                                                                                              ).reset_index()\n",
    "# major_fill_series"
   ]
  },
  {
   "cell_type": "code",
   "execution_count": 27,
   "metadata": {},
   "outputs": [
    {
     "name": "stdout",
     "output_type": "stream",
     "text": [
      "time: 592 ms\n"
     ]
    }
   ],
   "source": [
    "df = impute(df, major_fill_series, 'foreign_worker_info_major',['country_of_citizenship',\n",
    "                                                                               'class_of_admission',\n",
    "                                                                               'foreign_worker_info_education',\n",
    "                                                                               'employer_state'])\n",
    "# df.isnull().sum()"
   ]
  },
  {
   "cell_type": "markdown",
   "metadata": {},
   "source": [
    "### Birth Country= Fill with country of citizenship"
   ]
  },
  {
   "cell_type": "code",
   "execution_count": 28,
   "metadata": {},
   "outputs": [
    {
     "name": "stdout",
     "output_type": "stream",
     "text": [
      "time: 805 µs\n"
     ]
    }
   ],
   "source": [
    "# df.fw_info_birth_country.unique()"
   ]
  },
  {
   "cell_type": "code",
   "execution_count": 29,
   "metadata": {},
   "outputs": [
    {
     "name": "stdout",
     "output_type": "stream",
     "text": [
      "time: 35.3 ms\n"
     ]
    }
   ],
   "source": [
    "df.fw_info_birth_country.fillna(df.country_of_citizenship, inplace=True)\n",
    "# df.isnull().sum()"
   ]
  },
  {
   "cell_type": "markdown",
   "metadata": {},
   "source": [
    "### Job Title\n",
    "1. Condense Job Titles into Categories\n",
    "2. Fill in missing information using mode by major, education level, and class of admission"
   ]
  },
  {
   "cell_type": "code",
   "execution_count": 30,
   "metadata": {},
   "outputs": [
    {
     "name": "stdout",
     "output_type": "stream",
     "text": [
      "time: 512 µs\n"
     ]
    }
   ],
   "source": [
    "# df.job_info_alt_occ_job_title.value_counts()"
   ]
  },
  {
   "cell_type": "code",
   "execution_count": 31,
   "metadata": {},
   "outputs": [
    {
     "name": "stdout",
     "output_type": "stream",
     "text": [
      "time: 9.9 ms\n"
     ]
    }
   ],
   "source": [
    "def label(row,col):\n",
    "    if type(row[col])!=float:\n",
    "        value=row[col].lower()\n",
    "        value_case_sensitive=row[col]\n",
    "    else:\n",
    "        value='null'\n",
    "        value_case_sensitive='null'\n",
    "    programmer=['comp', 'software','developer', 'program','soft','web','application development', 'data']\n",
    "    it=['IT','Information Technology','technical']\n",
    "    h14=['H.14', 'H-14','H14','H. 14', 'H:14']\n",
    "    medicine=['health','doctor','pharm','therapist','surgery','acupunc', 'medic', 'dent', 'vet']\n",
    "    engineer=['engr','engineer','eng', 'tech']\n",
    "    marketing=['market','sale']\n",
    "    finance=['financ', 'consult','account','tax','audit']\n",
    "    other_biz=['analyst', 'business','anlyst','associate','manag','project']\n",
    "    academic=['analys', 'assistant', 'research', 'teach','academic', 'educ']\n",
    "    related=['related occupation', 'related', 'any', 'similar','experience', 'alternate']\n",
    "    h11=['H-11','H11','H.11', 'H. 11']\n",
    "    fourteen=['14']\n",
    "    nan=['null']\n",
    "    if value=='null' or value_case_sensitive=='null':\n",
    "        return None\n",
    "    if any(keyword in value for keyword in programmer):\n",
    "        return 'programming'\n",
    "    if any(keyword in value_case_sensitive for keyword in it):\n",
    "        return 'IT'\n",
    "    if any(keyword in value_case_sensitive for keyword in h14):\n",
    "        return 'H.14'\n",
    "    if any(keyword in value for keyword in medicine):\n",
    "        return 'medicine'\n",
    "    if any(keyword in value for keyword in engineer):\n",
    "        return 'engineer'\n",
    "    if any(keyword in value for keyword in marketing):\n",
    "        return 'marketing/sales'\n",
    "    if any(keyword in value for keyword in finance):\n",
    "        return 'finance/consulting/tax'\n",
    "    if any(keyword in value for keyword in other_biz):\n",
    "        return 'business'\n",
    "    if any(keyword in value for keyword in academic):\n",
    "        return 'academic'\n",
    "    if any(keyword in value_case_sensitive for keyword in h11):\n",
    "        return 'h11'\n",
    "    if any(keyword in value for keyword in related):\n",
    "        return 'related'\n",
    "    if any(keyword in value_case_sensitive for keyword in fourteen):\n",
    "        return '14'\n",
    "    return 'Other'"
   ]
  },
  {
   "cell_type": "code",
   "execution_count": 32,
   "metadata": {},
   "outputs": [
    {
     "name": "stdout",
     "output_type": "stream",
     "text": [
      "time: 7.65 s\n"
     ]
    }
   ],
   "source": [
    "df['job_category']=df.apply (lambda row: label(row, 'job_info_alt_occ_job_title'),axis=1)\n",
    "# df.job_category.value_counts()"
   ]
  },
  {
   "cell_type": "code",
   "execution_count": 33,
   "metadata": {
    "scrolled": true
   },
   "outputs": [
    {
     "name": "stdout",
     "output_type": "stream",
     "text": [
      "time: 650 µs\n"
     ]
    }
   ],
   "source": [
    "# df.job_info_alt_occ_job_title[df.job_category==\"Other\"].value_counts()"
   ]
  },
  {
   "cell_type": "code",
   "execution_count": 34,
   "metadata": {},
   "outputs": [
    {
     "name": "stdout",
     "output_type": "stream",
     "text": [
      "time: 2.59 s\n"
     ]
    }
   ],
   "source": [
    "job_type_fill_series = df[~df['job_category'].isnull()].groupby(['foreign_worker_info_major',\n",
    "                                                                               'foreign_worker_info_education',\n",
    "                                                                               'class_of_admission']\n",
    "                                                                             ).job_category.apply(mode).reset_index()\n",
    "# job_type_fill_series"
   ]
  },
  {
   "cell_type": "code",
   "execution_count": 35,
   "metadata": {
    "scrolled": true
   },
   "outputs": [
    {
     "name": "stdout",
     "output_type": "stream",
     "text": [
      "time: 600 ms\n"
     ]
    }
   ],
   "source": [
    "df = impute(df, job_type_fill_series, 'job_category',['foreign_worker_info_major',\n",
    "                                                                               'foreign_worker_info_education',\n",
    "                                                                               'class_of_admission'])\n",
    "# df.isnull().sum()"
   ]
  },
  {
   "cell_type": "code",
   "execution_count": 36,
   "metadata": {},
   "outputs": [
    {
     "name": "stdout",
     "output_type": "stream",
     "text": [
      "time: 39.7 ms\n"
     ]
    }
   ],
   "source": [
    "df=df.drop('job_info_alt_occ_job_title', axis=1)"
   ]
  },
  {
   "cell_type": "markdown",
   "metadata": {},
   "source": [
    "### Visa Type (Class of Admission)"
   ]
  },
  {
   "cell_type": "code",
   "execution_count": 37,
   "metadata": {},
   "outputs": [
    {
     "name": "stdout",
     "output_type": "stream",
     "text": [
      "time: 488 µs\n"
     ]
    }
   ],
   "source": [
    "# df.class_of_admission.unique()"
   ]
  },
  {
   "cell_type": "code",
   "execution_count": 38,
   "metadata": {},
   "outputs": [
    {
     "name": "stdout",
     "output_type": "stream",
     "text": [
      "time: 309 ms\n"
     ]
    }
   ],
   "source": [
    "visa_fill_series = df[~df['class_of_admission'].isnull()].groupby(['foreign_worker_info_education'\n",
    "                                                                  ]).class_of_admission.apply(mode).reset_index()\n",
    "# visa_fill_series"
   ]
  },
  {
   "cell_type": "code",
   "execution_count": 39,
   "metadata": {},
   "outputs": [
    {
     "name": "stdout",
     "output_type": "stream",
     "text": [
      "time: 449 ms\n"
     ]
    }
   ],
   "source": [
    "df = impute(df, visa_fill_series, 'class_of_admission',['foreign_worker_info_education'])"
   ]
  },
  {
   "cell_type": "markdown",
   "metadata": {},
   "source": [
    "### Drop Columns "
   ]
  },
  {
   "cell_type": "code",
   "execution_count": 40,
   "metadata": {},
   "outputs": [
    {
     "name": "stdout",
     "output_type": "stream",
     "text": [
      "time: 38.3 ms\n"
     ]
    }
   ],
   "source": [
    "df=df.drop(['foreign_worker_info_major', 'fw_info_birth_country', 'application_type','wage_offer_from_9089'], axis=1)"
   ]
  },
  {
   "cell_type": "markdown",
   "metadata": {},
   "source": [
    "### Final NA Counts Initial Dataset"
   ]
  },
  {
   "cell_type": "code",
   "execution_count": 41,
   "metadata": {},
   "outputs": [
    {
     "data": {
      "text/plain": [
       "class_of_admission                6168\n",
       "country_of_citizenship              23\n",
       "case_status                          0\n",
       "employer_state                       0\n",
       "foreign_worker_info_city            37\n",
       "foreign_worker_info_education     6492\n",
       "job_category                     56640\n",
       "dtype: int64"
      ]
     },
     "execution_count": 41,
     "metadata": {},
     "output_type": "execute_result"
    },
    {
     "name": "stdout",
     "output_type": "stream",
     "text": [
      "time: 160 ms\n"
     ]
    }
   ],
   "source": [
    "df.isnull().sum()\n",
    "final_na=df.isnull().sum()"
   ]
  },
  {
   "cell_type": "markdown",
   "metadata": {},
   "source": [
    "# Data Cleaning Pt.2- Joining Tables to Reduce Categorical Data"
   ]
  },
  {
   "cell_type": "markdown",
   "metadata": {},
   "source": [
    "## Change Cities to Population"
   ]
  },
  {
   "cell_type": "code",
   "execution_count": 255,
   "metadata": {},
   "outputs": [
    {
     "name": "stdout",
     "output_type": "stream",
     "text": [
      "time: 184 ms\n"
     ]
    }
   ],
   "source": [
    "cities_pop = pd.read_excel('global-city-population-estimates.xls', sheet_name='CITIES-OVER-300K')"
   ]
  },
  {
   "cell_type": "code",
   "execution_count": 256,
   "metadata": {},
   "outputs": [
    {
     "name": "stdout",
     "output_type": "stream",
     "text": [
      "time: 3.23 ms\n"
     ]
    }
   ],
   "source": [
    "city_df = cities_pop.loc[:,['Urban Agglomeration', '2015']].rename(columns = {'Urban Agglomeration': 'city', '2015': 'pop'})"
   ]
  },
  {
   "cell_type": "code",
   "execution_count": 257,
   "metadata": {},
   "outputs": [
    {
     "name": "stdout",
     "output_type": "stream",
     "text": [
      "time: 3.59 ms\n"
     ]
    }
   ],
   "source": [
    "city_df['city'] = city_df['city'].str.upper()\n",
    "city_df.set_index('city', inplace=True)\n",
    "city_df_dict = city_df.to_dict()"
   ]
  },
  {
   "cell_type": "code",
   "execution_count": 258,
   "metadata": {},
   "outputs": [
    {
     "name": "stdout",
     "output_type": "stream",
     "text": [
      "time: 176 ms\n"
     ]
    }
   ],
   "source": [
    "df['foreign_worker_city_pop'] = df['foreign_worker_info_city'].apply(lambda x: city_df_dict['pop'].get(x, x))"
   ]
  },
  {
   "cell_type": "code",
   "execution_count": 259,
   "metadata": {},
   "outputs": [
    {
     "name": "stdout",
     "output_type": "stream",
     "text": [
      "time: 40.5 s\n"
     ]
    }
   ],
   "source": [
    "replacements={}\n",
    "for city in df.loc[df['foreign_worker_city_pop'].apply(type)==str,'foreign_worker_city_pop' ]:\n",
    "    for value in city_df.index:\n",
    "        if city in value:\n",
    "            replacements[city]=value"
   ]
  },
  {
   "cell_type": "code",
   "execution_count": 260,
   "metadata": {},
   "outputs": [
    {
     "name": "stdout",
     "output_type": "stream",
     "text": [
      "time: 333 ms\n"
     ]
    }
   ],
   "source": [
    "df['foreign_worker_city_pop'] = df['foreign_worker_city_pop'].apply(lambda x: replacements.get(x,x)).apply(lambda x: city_df_dict['pop'].get(x, x))"
   ]
  },
  {
   "cell_type": "code",
   "execution_count": 264,
   "metadata": {},
   "outputs": [
    {
     "data": {
      "text/plain": [
       "SUNNYVALE                   5697\n",
       "FREMONT                     4280\n",
       "JERSEY CITY                 3796\n",
       "SANTA CLARA                 3768\n",
       "IRVING                      3243\n",
       "BELLEVUE                    3199\n",
       "MOUNTAIN VIEW               2781\n",
       "REDMOND                     2612\n",
       "HILLSBORO                   2245\n",
       "BROOKLYN                    2215\n",
       "EDISON                      1573\n",
       "PLANO                       1513\n",
       "IRVINE                      1409\n",
       "MILPITAS                    1379\n",
       "ALPHARETTA                  1037\n",
       "HERNDON                      998\n",
       "CUPERTINO                    918\n",
       "ARLINGTON                    772\n",
       "BLOOMINGTON                  767\n",
       "CHANDLER                     733\n",
       "CARY                         720\n",
       "FOLSOM                       715\n",
       "TORRANCE                     699\n",
       "SAN MATEO                    693\n",
       "FOSTER CITY                  686\n",
       "MORRISVILLE                  685\n",
       "FARMINGTON HILLS             678\n",
       "OVERLAND PARK                659\n",
       "TROY                         655\n",
       "SCHAUMBURG                   641\n",
       "                            ... \n",
       "TIRUCHIRAPALLI                 1\n",
       "BOXBOURGH                      1\n",
       "JEFFERSON                      1\n",
       "WEST HAVERSTRAW                1\n",
       "SHINNSTON                      1\n",
       "STURGIS                        1\n",
       "CALBOYOG                       1\n",
       "CAGUAS                         1\n",
       "SANTA LUSIA                    1\n",
       "BLOOMSBURY                     1\n",
       "UNKNOWN                        1\n",
       "WHITE PLAINES                  1\n",
       "JADAVPUR                       1\n",
       "SHELBY TWP.                    1\n",
       "TIJUANA, BAJA CALIFORNIA       1\n",
       "KOYANG-SI                      1\n",
       "HOPE                           1\n",
       "WOODWAY                        1\n",
       "LAKES FOREST                   1\n",
       "STORM LAKE                     1\n",
       "ST. GEORGES                    1\n",
       "NUEVA VISCAYA                  1\n",
       "FOLOM                          1\n",
       "WHITE SETTLEMENT               1\n",
       "TIRUVALLA                      1\n",
       "VILLANOVA                      1\n",
       "ROHINI                         1\n",
       "SLATON                         1\n",
       "FALLBROOK                      1\n",
       "DUNAGUETE CITY                 1\n",
       "Name: foreign_worker_city_pop, Length: 8586, dtype: int64"
      ]
     },
     "execution_count": 264,
     "metadata": {},
     "output_type": "execute_result"
    },
    {
     "name": "stdout",
     "output_type": "stream",
     "text": [
      "time: 96.3 ms\n"
     ]
    }
   ],
   "source": [
    "df.loc[df['foreign_worker_city_pop'].apply(type)==str, 'foreign_worker_city_pop' ].value_counts()"
   ]
  },
  {
   "cell_type": "code",
   "execution_count": 263,
   "metadata": {},
   "outputs": [
    {
     "data": {
      "text/plain": [
       "0          1044.443\n",
       "1           300.000\n",
       "2          1729.674\n",
       "3          9773.746\n",
       "4         18593.220\n",
       "5           300.000\n",
       "6          5638.045\n",
       "7         18593.220\n",
       "8         18593.220\n",
       "9          5638.045\n",
       "10        18593.220\n",
       "11         1729.674\n",
       "12         1729.674\n",
       "13         5638.045\n",
       "14          300.000\n",
       "15         1729.674\n",
       "16        18593.220\n",
       "17         5638.045\n",
       "18          300.000\n",
       "19         2916.183\n",
       "20        12309.530\n",
       "21        18593.220\n",
       "22         5638.045\n",
       "23         1729.674\n",
       "24         5638.045\n",
       "25         5638.045\n",
       "26         1729.674\n",
       "27         1729.674\n",
       "28          300.000\n",
       "29         5638.045\n",
       "            ...    \n",
       "356138     3300.075\n",
       "356139      300.000\n",
       "356140      300.000\n",
       "356141     1615.570\n",
       "356142      613.098\n",
       "356143      300.000\n",
       "356144    18593.220\n",
       "356145      300.000\n",
       "356146      300.000\n",
       "356147      300.000\n",
       "356148      300.000\n",
       "356149      780.190\n",
       "356150      300.000\n",
       "356151      300.000\n",
       "356152      300.000\n",
       "356153     1687.514\n",
       "356154      300.000\n",
       "356155      347.984\n",
       "356156      300.000\n",
       "356157      300.000\n",
       "356158    12309.530\n",
       "356159     3107.034\n",
       "356160     3107.034\n",
       "356161      870.260\n",
       "356162      496.686\n",
       "356163      300.000\n",
       "356164     1687.514\n",
       "356165      300.000\n",
       "356166    18593.220\n",
       "356167      300.000\n",
       "Name: foreign_worker_city_pop, Length: 356168, dtype: float64"
      ]
     },
     "execution_count": 263,
     "metadata": {},
     "output_type": "execute_result"
    },
    {
     "name": "stdout",
     "output_type": "stream",
     "text": [
      "time: 160 ms\n"
     ]
    }
   ],
   "source": [
    "df['foreign_worker_city_pop'].apply(lambda x: 300 if type(x)==str else x)"
   ]
  },
  {
   "cell_type": "code",
   "execution_count": 252,
   "metadata": {},
   "outputs": [
    {
     "data": {
      "text/plain": [
       "1729.674                               88744\n",
       "18593.22                               21183\n",
       "5638.045                                9541\n",
       "12309.53                                7877\n",
       "9773.746                                7778\n",
       "3300.075                                6228\n",
       "SUNNYVALE                               5697\n",
       "FREMONT                                 4280\n",
       "JERSEY CITY                             3796\n",
       "SANTA CLARA                             3768\n",
       "IRVING                                  3243\n",
       "BELLEVUE                                3199\n",
       "8744.835                                2917\n",
       "3248.724                                2882\n",
       "MOUNTAIN VIEW                           2781\n",
       "REDMOND                                 2612\n",
       "5817.221                                2475\n",
       "3107.034                                2449\n",
       "1684.433                                2294\n",
       "HILLSBORO                               2245\n",
       "BROOKLYN                                2215\n",
       "1615.57                                 2037\n",
       "5142.14                                 1666\n",
       "EDISON                                  1573\n",
       "PLANO                                   1513\n",
       "IRVINE                                  1409\n",
       "MILPITAS                                1379\n",
       "4062.605                                1305\n",
       "1505.041                                1275\n",
       "5702.641                                1256\n",
       "                                       ...  \n",
       "YOUNGIN SI                                 1\n",
       "CARL JUNCTION                              1\n",
       "NASHVLLE                                   1\n",
       "GHOM                                       1\n",
       "LITH                                       1\n",
       "PYEONGCHANG-GUN                            1\n",
       "FLEET                                      1\n",
       "AUBURN HLS                                 1\n",
       "EDO CARABOBO                               1\n",
       "1829 WILLIAMS GLEN BLVD                    1\n",
       "NAM-YANG-JU                                1\n",
       "S&ATILDE;O JOS&EACUTE; DO RIO PRETO        1\n",
       "NITEROI                                    1\n",
       "LITHONIA                                   1\n",
       "SINDHULI                                   1\n",
       "ROSCOE                                     1\n",
       "WATER MILL                                 1\n",
       "CHAUBARA                                   1\n",
       "MABITAC                                    1\n",
       "COTTTONWOOD HEIGHTS                        1\n",
       "CHADRON                                    1\n",
       "FARMINGTON HL                              1\n",
       "STARY OSKOL                                1\n",
       "BELLEVUE,                                  1\n",
       "POMONO BEACH                               1\n",
       "MOORSVILLE                                 1\n",
       "ISSAQHAH                                   1\n",
       "LITTLE CHUTE                               1\n",
       "MALKI                                      1\n",
       "COLLEGE  PARK                              1\n",
       "Name: foreign_worker_city_pop, Length: 9328, dtype: int64"
      ]
     },
     "execution_count": 252,
     "metadata": {},
     "output_type": "execute_result"
    },
    {
     "name": "stdout",
     "output_type": "stream",
     "text": [
      "time: 51.9 ms\n"
     ]
    }
   ],
   "source": [
    "df['foreign_worker_city_pop'].value_counts()"
   ]
  },
  {
   "cell_type": "code",
   "execution_count": 262,
   "metadata": {},
   "outputs": [
    {
     "data": {
      "text/html": [
       "<div>\n",
       "<style scoped>\n",
       "    .dataframe tbody tr th:only-of-type {\n",
       "        vertical-align: middle;\n",
       "    }\n",
       "\n",
       "    .dataframe tbody tr th {\n",
       "        vertical-align: top;\n",
       "    }\n",
       "\n",
       "    .dataframe thead th {\n",
       "        text-align: right;\n",
       "    }\n",
       "</style>\n",
       "<table border=\"1\" class=\"dataframe\">\n",
       "  <thead>\n",
       "    <tr style=\"text-align: right;\">\n",
       "      <th></th>\n",
       "      <th>pop</th>\n",
       "    </tr>\n",
       "    <tr>\n",
       "      <th>city</th>\n",
       "      <th></th>\n",
       "    </tr>\n",
       "  </thead>\n",
       "  <tbody>\n",
       "    <tr>\n",
       "      <th>TOKYO</th>\n",
       "      <td>38001.018</td>\n",
       "    </tr>\n",
       "    <tr>\n",
       "      <th>DELHI</th>\n",
       "      <td>25703.168</td>\n",
       "    </tr>\n",
       "    <tr>\n",
       "      <th>SHANGHAI</th>\n",
       "      <td>23740.778</td>\n",
       "    </tr>\n",
       "    <tr>\n",
       "      <th>SÃO PAULO</th>\n",
       "      <td>21066.245</td>\n",
       "    </tr>\n",
       "    <tr>\n",
       "      <th>MUMBAI (BOMBAY)</th>\n",
       "      <td>21042.538</td>\n",
       "    </tr>\n",
       "    <tr>\n",
       "      <th>CIUDAD DE MÉXICO (MEXICO CITY)</th>\n",
       "      <td>20998.543</td>\n",
       "    </tr>\n",
       "    <tr>\n",
       "      <th>BEIJING</th>\n",
       "      <td>20383.994</td>\n",
       "    </tr>\n",
       "    <tr>\n",
       "      <th>KINKI M.M.A. (OSAKA)</th>\n",
       "      <td>20237.645</td>\n",
       "    </tr>\n",
       "    <tr>\n",
       "      <th>AL-QAHIRAH (CAIRO)</th>\n",
       "      <td>18771.769</td>\n",
       "    </tr>\n",
       "    <tr>\n",
       "      <th>NEW YORK-NEWARK</th>\n",
       "      <td>18593.220</td>\n",
       "    </tr>\n",
       "    <tr>\n",
       "      <th>DHAKA</th>\n",
       "      <td>17598.228</td>\n",
       "    </tr>\n",
       "    <tr>\n",
       "      <th>KARACHI</th>\n",
       "      <td>16617.644</td>\n",
       "    </tr>\n",
       "    <tr>\n",
       "      <th>BUENOS AIRES</th>\n",
       "      <td>15180.176</td>\n",
       "    </tr>\n",
       "    <tr>\n",
       "      <th>KOLKATA (CALCUTTA)</th>\n",
       "      <td>14864.919</td>\n",
       "    </tr>\n",
       "    <tr>\n",
       "      <th>ISTANBUL</th>\n",
       "      <td>14163.989</td>\n",
       "    </tr>\n",
       "    <tr>\n",
       "      <th>CHONGQING</th>\n",
       "      <td>13331.579</td>\n",
       "    </tr>\n",
       "    <tr>\n",
       "      <th>LAGOS</th>\n",
       "      <td>13122.829</td>\n",
       "    </tr>\n",
       "    <tr>\n",
       "      <th>MANILA</th>\n",
       "      <td>12946.263</td>\n",
       "    </tr>\n",
       "    <tr>\n",
       "      <th>RIO DE JANEIRO</th>\n",
       "      <td>12902.306</td>\n",
       "    </tr>\n",
       "    <tr>\n",
       "      <th>GUANGZHOU, GUANGDONG</th>\n",
       "      <td>12458.130</td>\n",
       "    </tr>\n",
       "    <tr>\n",
       "      <th>LOS ANGELES-LONG BEACH-SANTA ANA</th>\n",
       "      <td>12309.530</td>\n",
       "    </tr>\n",
       "    <tr>\n",
       "      <th>MOSKVA (MOSCOW)</th>\n",
       "      <td>12165.704</td>\n",
       "    </tr>\n",
       "    <tr>\n",
       "      <th>KINSHASA</th>\n",
       "      <td>11586.914</td>\n",
       "    </tr>\n",
       "    <tr>\n",
       "      <th>TIANJIN</th>\n",
       "      <td>11210.329</td>\n",
       "    </tr>\n",
       "    <tr>\n",
       "      <th>PARIS</th>\n",
       "      <td>10843.285</td>\n",
       "    </tr>\n",
       "    <tr>\n",
       "      <th>SHENZHEN</th>\n",
       "      <td>10749.473</td>\n",
       "    </tr>\n",
       "    <tr>\n",
       "      <th>JAKARTA</th>\n",
       "      <td>10323.142</td>\n",
       "    </tr>\n",
       "    <tr>\n",
       "      <th>LONDON</th>\n",
       "      <td>10313.307</td>\n",
       "    </tr>\n",
       "    <tr>\n",
       "      <th>BANGALORE</th>\n",
       "      <td>10087.132</td>\n",
       "    </tr>\n",
       "    <tr>\n",
       "      <th>LIMA</th>\n",
       "      <td>9897.033</td>\n",
       "    </tr>\n",
       "    <tr>\n",
       "      <th>...</th>\n",
       "      <td>...</td>\n",
       "    </tr>\n",
       "    <tr>\n",
       "      <th>ROCKFORD</th>\n",
       "      <td>310.856</td>\n",
       "    </tr>\n",
       "    <tr>\n",
       "      <th>SHREVEPORT</th>\n",
       "      <td>310.319</td>\n",
       "    </tr>\n",
       "    <tr>\n",
       "      <th>TASHAUZ</th>\n",
       "      <td>310.022</td>\n",
       "    </tr>\n",
       "    <tr>\n",
       "      <th>CIREBON</th>\n",
       "      <td>309.993</td>\n",
       "    </tr>\n",
       "    <tr>\n",
       "      <th>HAFAR AL-BATIN</th>\n",
       "      <td>309.809</td>\n",
       "    </tr>\n",
       "    <tr>\n",
       "      <th>SPRINGFIELD, MISSOURI</th>\n",
       "      <td>309.615</td>\n",
       "    </tr>\n",
       "    <tr>\n",
       "      <th>BAICHENG</th>\n",
       "      <td>309.588</td>\n",
       "    </tr>\n",
       "    <tr>\n",
       "      <th>JALNA</th>\n",
       "      <td>309.498</td>\n",
       "    </tr>\n",
       "    <tr>\n",
       "      <th>SATNA</th>\n",
       "      <td>309.397</td>\n",
       "    </tr>\n",
       "    <tr>\n",
       "      <th>SWANSEA</th>\n",
       "      <td>309.328</td>\n",
       "    </tr>\n",
       "    <tr>\n",
       "      <th>YUANJIANG</th>\n",
       "      <td>309.137</td>\n",
       "    </tr>\n",
       "    <tr>\n",
       "      <th>ACARIGUA-ARUARE</th>\n",
       "      <td>309.047</td>\n",
       "    </tr>\n",
       "    <tr>\n",
       "      <th>VALLADOLID</th>\n",
       "      <td>309.022</td>\n",
       "    </tr>\n",
       "    <tr>\n",
       "      <th>TARAZ</th>\n",
       "      <td>308.855</td>\n",
       "    </tr>\n",
       "    <tr>\n",
       "      <th>VLADIKAVKAZ</th>\n",
       "      <td>308.596</td>\n",
       "    </tr>\n",
       "    <tr>\n",
       "      <th>KAILI</th>\n",
       "      <td>308.297</td>\n",
       "    </tr>\n",
       "    <tr>\n",
       "      <th>PELOTAS</th>\n",
       "      <td>307.978</td>\n",
       "    </tr>\n",
       "    <tr>\n",
       "      <th>OREL</th>\n",
       "      <td>307.613</td>\n",
       "    </tr>\n",
       "    <tr>\n",
       "      <th>IZMIT</th>\n",
       "      <td>307.441</td>\n",
       "    </tr>\n",
       "    <tr>\n",
       "      <th>NAVSARI</th>\n",
       "      <td>307.230</td>\n",
       "    </tr>\n",
       "    <tr>\n",
       "      <th>BATNA</th>\n",
       "      <td>307.101</td>\n",
       "    </tr>\n",
       "    <tr>\n",
       "      <th>HOLGUIN</th>\n",
       "      <td>306.323</td>\n",
       "    </tr>\n",
       "    <tr>\n",
       "      <th>VOLOGDA</th>\n",
       "      <td>306.034</td>\n",
       "    </tr>\n",
       "    <tr>\n",
       "      <th>GIMHAE</th>\n",
       "      <td>305.985</td>\n",
       "    </tr>\n",
       "    <tr>\n",
       "      <th>IRBID</th>\n",
       "      <td>305.925</td>\n",
       "    </tr>\n",
       "    <tr>\n",
       "      <th>KARLSRUHE</th>\n",
       "      <td>304.686</td>\n",
       "    </tr>\n",
       "    <tr>\n",
       "      <th>MUENSTER (WESTFALEN)</th>\n",
       "      <td>304.432</td>\n",
       "    </tr>\n",
       "    <tr>\n",
       "      <th>SOUTHEND-ON-SEA</th>\n",
       "      <td>304.344</td>\n",
       "    </tr>\n",
       "    <tr>\n",
       "      <th>AGUADILLA-ISABELA-SAN SEBASTIAN</th>\n",
       "      <td>303.030</td>\n",
       "    </tr>\n",
       "    <tr>\n",
       "      <th>KATOWICE</th>\n",
       "      <td>303.024</td>\n",
       "    </tr>\n",
       "  </tbody>\n",
       "</table>\n",
       "<p>1692 rows × 1 columns</p>\n",
       "</div>"
      ],
      "text/plain": [
       "                                        pop\n",
       "city                                       \n",
       "TOKYO                             38001.018\n",
       "DELHI                             25703.168\n",
       "SHANGHAI                          23740.778\n",
       "SÃO PAULO                         21066.245\n",
       "MUMBAI (BOMBAY)                   21042.538\n",
       "CIUDAD DE MÉXICO (MEXICO CITY)    20998.543\n",
       "BEIJING                           20383.994\n",
       "KINKI M.M.A. (OSAKA)              20237.645\n",
       "AL-QAHIRAH (CAIRO)                18771.769\n",
       "NEW YORK-NEWARK                   18593.220\n",
       "DHAKA                             17598.228\n",
       "KARACHI                           16617.644\n",
       "BUENOS AIRES                      15180.176\n",
       "KOLKATA (CALCUTTA)                14864.919\n",
       "ISTANBUL                          14163.989\n",
       "CHONGQING                         13331.579\n",
       "LAGOS                             13122.829\n",
       "MANILA                            12946.263\n",
       "RIO DE JANEIRO                    12902.306\n",
       "GUANGZHOU, GUANGDONG              12458.130\n",
       "LOS ANGELES-LONG BEACH-SANTA ANA  12309.530\n",
       "MOSKVA (MOSCOW)                   12165.704\n",
       "KINSHASA                          11586.914\n",
       "TIANJIN                           11210.329\n",
       "PARIS                             10843.285\n",
       "SHENZHEN                          10749.473\n",
       "JAKARTA                           10323.142\n",
       "LONDON                            10313.307\n",
       "BANGALORE                         10087.132\n",
       "LIMA                               9897.033\n",
       "...                                     ...\n",
       "ROCKFORD                            310.856\n",
       "SHREVEPORT                          310.319\n",
       "TASHAUZ                             310.022\n",
       "CIREBON                             309.993\n",
       "HAFAR AL-BATIN                      309.809\n",
       "SPRINGFIELD, MISSOURI               309.615\n",
       "BAICHENG                            309.588\n",
       "JALNA                               309.498\n",
       "SATNA                               309.397\n",
       "SWANSEA                             309.328\n",
       "YUANJIANG                           309.137\n",
       "ACARIGUA-ARUARE                     309.047\n",
       "VALLADOLID                          309.022\n",
       "TARAZ                               308.855\n",
       "VLADIKAVKAZ                         308.596\n",
       "KAILI                               308.297\n",
       "PELOTAS                             307.978\n",
       "OREL                                307.613\n",
       "IZMIT                               307.441\n",
       "NAVSARI                             307.230\n",
       "BATNA                               307.101\n",
       "HOLGUIN                             306.323\n",
       "VOLOGDA                             306.034\n",
       "GIMHAE                              305.985\n",
       "IRBID                               305.925\n",
       "KARLSRUHE                           304.686\n",
       "MUENSTER (WESTFALEN)                304.432\n",
       "SOUTHEND-ON-SEA                     304.344\n",
       "AGUADILLA-ISABELA-SAN SEBASTIAN     303.030\n",
       "KATOWICE                            303.024\n",
       "\n",
       "[1692 rows x 1 columns]"
      ]
     },
     "execution_count": 262,
     "metadata": {},
     "output_type": "execute_result"
    },
    {
     "name": "stdout",
     "output_type": "stream",
     "text": [
      "time: 21.5 ms\n"
     ]
    }
   ],
   "source": [
    "city_df"
   ]
  },
  {
   "cell_type": "markdown",
   "metadata": {},
   "source": [
    "## Fixing Duplicates in States"
   ]
  },
  {
   "cell_type": "code",
   "execution_count": 211,
   "metadata": {},
   "outputs": [
    {
     "name": "stdout",
     "output_type": "stream",
     "text": [
      "time: 786 ms\n"
     ]
    },
    {
     "name": "stderr",
     "output_type": "stream",
     "text": [
      "/Users/mayamadhavan/anaconda3/lib/python3.6/site-packages/ipykernel_launcher.py:2: FutureWarning:\n",
      "\n",
      "Sorting because non-concatenation axis is not aligned. A future version\n",
      "of pandas will change to not sort by default.\n",
      "\n",
      "To accept the future behavior, pass 'sort=True'.\n",
      "\n",
      "To retain the current behavior and silence the warning, pass sort=False\n",
      "\n",
      "\n"
     ]
    }
   ],
   "source": [
    "state_list = pd.read_html('https://www.infoplease.com/state-abbreviations-and-state-postal-codes')\n",
    "state_abbr = pd.concat([state_list[0],state_list[1]], axis=0).reset_index()\n",
    "state_abbr['State/District'].fillna(state_abbr['Territory/Associate'],inplace=True)\n",
    "state_abbr.drop(['Territory/Associate', 'index'], axis=1, inplace=True)"
   ]
  },
  {
   "cell_type": "code",
   "execution_count": 212,
   "metadata": {},
   "outputs": [
    {
     "name": "stdout",
     "output_type": "stream",
     "text": [
      "time: 3.75 ms\n"
     ]
    }
   ],
   "source": [
    "state_abbr.drop('Abbreviation', axis=1, inplace=True)\n",
    "state_abbr.set_index('Postal Code', inplace=True)\n",
    "state_abbr['State/District'] = state_abbr['State/District'].str.upper()\n",
    "state_abbr_dict = state_abbr.to_dict()"
   ]
  },
  {
   "cell_type": "code",
   "execution_count": 217,
   "metadata": {},
   "outputs": [
    {
     "data": {
      "text/plain": [
       "{'State/District': {'AL': 'ALABAMA',\n",
       "  'AK': 'ALASKA',\n",
       "  'AZ': 'ARIZONA',\n",
       "  'AR': 'ARKANSAS',\n",
       "  'CA': 'CALIFORNIA',\n",
       "  'CO': 'COLORADO',\n",
       "  'CT': 'CONNECTICUT',\n",
       "  'DE': 'DELAWARE',\n",
       "  'DC': 'DISTRICT OF COLUMBIA',\n",
       "  'FL': 'FLORIDA',\n",
       "  'GA': 'GEORGIA',\n",
       "  'HI': 'HAWAII',\n",
       "  'ID': 'IDAHO',\n",
       "  'IL': 'ILLINOIS',\n",
       "  'IN': 'INDIANA',\n",
       "  'IA': 'IOWA',\n",
       "  'KS': 'KANSAS',\n",
       "  'KY': 'KENTUCKY',\n",
       "  'LA': 'LOUISIANA',\n",
       "  'ME': 'MAINE',\n",
       "  'MD': 'MARYLAND',\n",
       "  'MA': 'MASSACHUSETTS',\n",
       "  'MI': 'MICHIGAN',\n",
       "  'MN': 'MINNESOTA',\n",
       "  'MS': 'MISSISSIPPI',\n",
       "  'MO': 'MISSOURI',\n",
       "  'MT': 'MONTANA',\n",
       "  'NE': 'NEBRASKA',\n",
       "  'NV': 'NEVADA',\n",
       "  'NH': 'NEW HAMPSHIRE',\n",
       "  'NJ': 'NEW JERSEY',\n",
       "  'NM': 'NEW MEXICO',\n",
       "  'NY': 'NEW YORK',\n",
       "  'NC': 'NORTH CAROLINA',\n",
       "  'ND': 'NORTH DAKOTA',\n",
       "  'OH': 'OHIO',\n",
       "  'OK': 'OKLAHOMA',\n",
       "  'OR': 'OREGON',\n",
       "  'PA': 'PENNSYLVANIA',\n",
       "  'RI': 'RHODE ISLAND',\n",
       "  'SC': 'SOUTH CAROLINA',\n",
       "  'SD': 'SOUTH DAKOTA',\n",
       "  'TN': 'TENNESSEE',\n",
       "  'TX': 'TEXAS',\n",
       "  'UT': 'UTAH',\n",
       "  'VT': 'VERMONT',\n",
       "  'VA': 'VIRGINIA',\n",
       "  'WA': 'WASHINGTON',\n",
       "  'WV': 'WEST VIRGINIA',\n",
       "  'WI': 'WISCONSIN',\n",
       "  'WY': 'WYOMING',\n",
       "  'AS': 'AMERICAN SAMOA',\n",
       "  'GU': 'GUAM',\n",
       "  'MH': 'MARSHALL ISLANDS',\n",
       "  'FM': 'MICRONESIA',\n",
       "  'MP': 'NORTHERN MARIANAS',\n",
       "  'PW': 'PALAU',\n",
       "  'PR': 'PUERTO RICO',\n",
       "  'VI': 'VIRGIN ISLANDS',\n",
       "  'NORTHERN MARIANAS': 'NORTHERN MARIANA ISLANDS',\n",
       "  'BC': 'BRITISH COLUMBIA'}}"
      ]
     },
     "execution_count": 217,
     "metadata": {},
     "output_type": "execute_result"
    },
    {
     "name": "stdout",
     "output_type": "stream",
     "text": [
      "time: 4.48 ms\n"
     ]
    }
   ],
   "source": [
    "state_abbr_dict['State/District']['NORTHERN MARIANAS']='NORTHERN MARIANA ISLANDS'\n",
    "state_abbr_dict['State/District']['BC']='BRITISH COLUMBIA'"
   ]
  },
  {
   "cell_type": "code",
   "execution_count": 219,
   "metadata": {},
   "outputs": [
    {
     "name": "stdout",
     "output_type": "stream",
     "text": [
      "time: 156 ms\n"
     ]
    }
   ],
   "source": [
    "df['employer_state']=df['employer_state'].apply(lambda x: state_abbr_dict['State/District'].get(x, x))"
   ]
  },
  {
   "cell_type": "markdown",
   "metadata": {},
   "source": [
    "# Dummify Variables"
   ]
  },
  {
   "cell_type": "code",
   "execution_count": 46,
   "metadata": {
    "scrolled": true
   },
   "outputs": [
    {
     "data": {
      "text/plain": [
       "[('class_of_admission', 57),\n",
       " ('country_of_citizenship', 201),\n",
       " ('case_status', 2),\n",
       " ('employer_state', 113),\n",
       " ('foreign_worker_info_city', 9466),\n",
       " ('foreign_worker_info_education', 7),\n",
       " ('job_category', 13)]"
      ]
     },
     "execution_count": 46,
     "metadata": {},
     "output_type": "execute_result"
    },
    {
     "name": "stdout",
     "output_type": "stream",
     "text": [
      "time: 350 ms\n"
     ]
    }
   ],
   "source": [
    "[(col, len(df[col].value_counts())) for col in df.columns]"
   ]
  },
  {
   "cell_type": "code",
   "execution_count": 47,
   "metadata": {},
   "outputs": [
    {
     "name": "stdout",
     "output_type": "stream",
     "text": [
      "time: 1min 36s\n"
     ]
    }
   ],
   "source": [
    "df2=df.drop(['case_status'], axis=1)\n",
    "df3=pd.get_dummies(df2)\n",
    "df3['case_status']=df.case_status"
   ]
  },
  {
   "cell_type": "code",
   "execution_count": 48,
   "metadata": {},
   "outputs": [
    {
     "name": "stdout",
     "output_type": "stream",
     "text": [
      "time: 31.6 ms\n"
     ]
    }
   ],
   "source": [
    "df2=df3"
   ]
  },
  {
   "cell_type": "markdown",
   "metadata": {},
   "source": [
    "# Class Imbalances"
   ]
  },
  {
   "cell_type": "markdown",
   "metadata": {},
   "source": [
    "## Visualize"
   ]
  },
  {
   "cell_type": "code",
   "execution_count": 49,
   "metadata": {},
   "outputs": [
    {
     "name": "stdout",
     "output_type": "stream",
     "text": [
      "time: 44.7 ms\n"
     ]
    }
   ],
   "source": [
    "number_data=df2.case_status.value_counts()"
   ]
  },
  {
   "cell_type": "code",
   "execution_count": 50,
   "metadata": {},
   "outputs": [
    {
     "data": {
      "image/png": "[encoded data removed]",
      "text/plain": [
       "<Figure size 432x288 with 1 Axes>"
      ]
     },
     "metadata": {},
     "output_type": "display_data"
    },
    {
     "name": "stdout",
     "output_type": "stream",
     "text": [
      "time: 252 ms\n"
     ]
    }
   ],
   "source": [
    "number_data.plot(kind='bar', title='Class Count', rot=0);"
   ]
  },
  {
   "cell_type": "code",
   "execution_count": 51,
   "metadata": {},
   "outputs": [
    {
     "name": "stdout",
     "output_type": "stream",
     "text": [
      "time: 25 s\n"
     ]
    }
   ],
   "source": [
    "X=df2.drop(['case_status'], axis=1)\n",
    "y=df2.case_status"
   ]
  },
  {
   "cell_type": "code",
   "execution_count": 52,
   "metadata": {},
   "outputs": [
    {
     "data": {
      "text/plain": [
       "Counter({'Certified': 330519, 'Denied': 25649})"
      ]
     },
     "execution_count": 52,
     "metadata": {},
     "output_type": "execute_result"
    },
    {
     "name": "stdout",
     "output_type": "stream",
     "text": [
      "time: 65.3 ms\n"
     ]
    }
   ],
   "source": [
    "Counter(df2.case_status)"
   ]
  },
  {
   "cell_type": "markdown",
   "metadata": {},
   "source": [
    "## Undersample"
   ]
  },
  {
   "cell_type": "code",
   "execution_count": 53,
   "metadata": {},
   "outputs": [
    {
     "name": "stdout",
     "output_type": "stream",
     "text": [
      "time: 1min 17s\n"
     ]
    }
   ],
   "source": [
    "rus = RandomUnderSampler()\n",
    "X_under, y_under = rus.fit_sample(X,y)"
   ]
  },
  {
   "cell_type": "code",
   "execution_count": 54,
   "metadata": {},
   "outputs": [
    {
     "data": {
      "text/plain": [
       "Counter({'Certified': 25649, 'Denied': 25649})"
      ]
     },
     "execution_count": 54,
     "metadata": {},
     "output_type": "execute_result"
    },
    {
     "name": "stdout",
     "output_type": "stream",
     "text": [
      "time: 6.73 ms\n"
     ]
    }
   ],
   "source": [
    "Counter(y_under)"
   ]
  },
  {
   "cell_type": "code",
   "execution_count": 55,
   "metadata": {},
   "outputs": [
    {
     "name": "stdout",
     "output_type": "stream",
     "text": [
      "time: 11.7 ms\n"
     ]
    }
   ],
   "source": [
    "X_underdf=pd.DataFrame(X_under, columns = X.columns)\n",
    "y_underdf=pd.DataFrame(y_under, columns=['case_status'])"
   ]
  },
  {
   "cell_type": "code",
   "execution_count": 56,
   "metadata": {},
   "outputs": [
    {
     "name": "stdout",
     "output_type": "stream",
     "text": [
      "time: 12 s\n"
     ]
    }
   ],
   "source": [
    "df_under=X_underdf.join(y_underdf)"
   ]
  },
  {
   "cell_type": "code",
   "execution_count": 57,
   "metadata": {},
   "outputs": [
    {
     "data": {
      "text/html": [
       "<div>\n",
       "<style scoped>\n",
       "    .dataframe tbody tr th:only-of-type {\n",
       "        vertical-align: middle;\n",
       "    }\n",
       "\n",
       "    .dataframe tbody tr th {\n",
       "        vertical-align: top;\n",
       "    }\n",
       "\n",
       "    .dataframe thead th {\n",
       "        text-align: right;\n",
       "    }\n",
       "</style>\n",
       "<table border=\"1\" class=\"dataframe\">\n",
       "  <thead>\n",
       "    <tr style=\"text-align: right;\">\n",
       "      <th></th>\n",
       "      <th>class_of_admission_A-3</th>\n",
       "      <th>class_of_admission_A1/A2</th>\n",
       "      <th>class_of_admission_AOS</th>\n",
       "      <th>class_of_admission_AOS/H-1B</th>\n",
       "      <th>class_of_admission_B-1</th>\n",
       "      <th>class_of_admission_B-2</th>\n",
       "      <th>class_of_admission_C-1</th>\n",
       "      <th>class_of_admission_C-3</th>\n",
       "      <th>class_of_admission_D-1</th>\n",
       "      <th>class_of_admission_E-1</th>\n",
       "      <th>...</th>\n",
       "      <th>job_category_academic</th>\n",
       "      <th>job_category_business</th>\n",
       "      <th>job_category_engineer</th>\n",
       "      <th>job_category_finance/consulting/tax</th>\n",
       "      <th>job_category_h11</th>\n",
       "      <th>job_category_marketing/sales</th>\n",
       "      <th>job_category_medicine</th>\n",
       "      <th>job_category_programming</th>\n",
       "      <th>job_category_related</th>\n",
       "      <th>case_status</th>\n",
       "    </tr>\n",
       "  </thead>\n",
       "  <tbody>\n",
       "    <tr>\n",
       "      <th>0</th>\n",
       "      <td>0</td>\n",
       "      <td>0</td>\n",
       "      <td>0</td>\n",
       "      <td>0</td>\n",
       "      <td>0</td>\n",
       "      <td>0</td>\n",
       "      <td>0</td>\n",
       "      <td>0</td>\n",
       "      <td>0</td>\n",
       "      <td>0</td>\n",
       "      <td>...</td>\n",
       "      <td>0</td>\n",
       "      <td>0</td>\n",
       "      <td>0</td>\n",
       "      <td>0</td>\n",
       "      <td>0</td>\n",
       "      <td>0</td>\n",
       "      <td>0</td>\n",
       "      <td>1</td>\n",
       "      <td>0</td>\n",
       "      <td>Certified</td>\n",
       "    </tr>\n",
       "    <tr>\n",
       "      <th>1</th>\n",
       "      <td>0</td>\n",
       "      <td>0</td>\n",
       "      <td>0</td>\n",
       "      <td>0</td>\n",
       "      <td>0</td>\n",
       "      <td>0</td>\n",
       "      <td>0</td>\n",
       "      <td>0</td>\n",
       "      <td>0</td>\n",
       "      <td>0</td>\n",
       "      <td>...</td>\n",
       "      <td>0</td>\n",
       "      <td>0</td>\n",
       "      <td>0</td>\n",
       "      <td>1</td>\n",
       "      <td>0</td>\n",
       "      <td>0</td>\n",
       "      <td>0</td>\n",
       "      <td>0</td>\n",
       "      <td>0</td>\n",
       "      <td>Certified</td>\n",
       "    </tr>\n",
       "    <tr>\n",
       "      <th>2</th>\n",
       "      <td>0</td>\n",
       "      <td>0</td>\n",
       "      <td>0</td>\n",
       "      <td>0</td>\n",
       "      <td>0</td>\n",
       "      <td>0</td>\n",
       "      <td>0</td>\n",
       "      <td>0</td>\n",
       "      <td>0</td>\n",
       "      <td>0</td>\n",
       "      <td>...</td>\n",
       "      <td>0</td>\n",
       "      <td>0</td>\n",
       "      <td>0</td>\n",
       "      <td>0</td>\n",
       "      <td>0</td>\n",
       "      <td>0</td>\n",
       "      <td>0</td>\n",
       "      <td>1</td>\n",
       "      <td>0</td>\n",
       "      <td>Certified</td>\n",
       "    </tr>\n",
       "    <tr>\n",
       "      <th>3</th>\n",
       "      <td>0</td>\n",
       "      <td>0</td>\n",
       "      <td>0</td>\n",
       "      <td>0</td>\n",
       "      <td>0</td>\n",
       "      <td>0</td>\n",
       "      <td>0</td>\n",
       "      <td>0</td>\n",
       "      <td>0</td>\n",
       "      <td>0</td>\n",
       "      <td>...</td>\n",
       "      <td>0</td>\n",
       "      <td>0</td>\n",
       "      <td>1</td>\n",
       "      <td>0</td>\n",
       "      <td>0</td>\n",
       "      <td>0</td>\n",
       "      <td>0</td>\n",
       "      <td>0</td>\n",
       "      <td>0</td>\n",
       "      <td>Certified</td>\n",
       "    </tr>\n",
       "    <tr>\n",
       "      <th>4</th>\n",
       "      <td>0</td>\n",
       "      <td>0</td>\n",
       "      <td>0</td>\n",
       "      <td>0</td>\n",
       "      <td>0</td>\n",
       "      <td>0</td>\n",
       "      <td>0</td>\n",
       "      <td>0</td>\n",
       "      <td>0</td>\n",
       "      <td>0</td>\n",
       "      <td>...</td>\n",
       "      <td>0</td>\n",
       "      <td>0</td>\n",
       "      <td>0</td>\n",
       "      <td>0</td>\n",
       "      <td>0</td>\n",
       "      <td>0</td>\n",
       "      <td>0</td>\n",
       "      <td>0</td>\n",
       "      <td>0</td>\n",
       "      <td>Certified</td>\n",
       "    </tr>\n",
       "  </tbody>\n",
       "</table>\n",
       "<p>5 rows × 9858 columns</p>\n",
       "</div>"
      ],
      "text/plain": [
       "   class_of_admission_A-3  class_of_admission_A1/A2  class_of_admission_AOS  \\\n",
       "0                       0                         0                       0   \n",
       "1                       0                         0                       0   \n",
       "2                       0                         0                       0   \n",
       "3                       0                         0                       0   \n",
       "4                       0                         0                       0   \n",
       "\n",
       "   class_of_admission_AOS/H-1B  class_of_admission_B-1  \\\n",
       "0                            0                       0   \n",
       "1                            0                       0   \n",
       "2                            0                       0   \n",
       "3                            0                       0   \n",
       "4                            0                       0   \n",
       "\n",
       "   class_of_admission_B-2  class_of_admission_C-1  class_of_admission_C-3  \\\n",
       "0                       0                       0                       0   \n",
       "1                       0                       0                       0   \n",
       "2                       0                       0                       0   \n",
       "3                       0                       0                       0   \n",
       "4                       0                       0                       0   \n",
       "\n",
       "   class_of_admission_D-1  class_of_admission_E-1     ...       \\\n",
       "0                       0                       0     ...        \n",
       "1                       0                       0     ...        \n",
       "2                       0                       0     ...        \n",
       "3                       0                       0     ...        \n",
       "4                       0                       0     ...        \n",
       "\n",
       "   job_category_academic  job_category_business  job_category_engineer  \\\n",
       "0                      0                      0                      0   \n",
       "1                      0                      0                      0   \n",
       "2                      0                      0                      0   \n",
       "3                      0                      0                      1   \n",
       "4                      0                      0                      0   \n",
       "\n",
       "   job_category_finance/consulting/tax  job_category_h11  \\\n",
       "0                                    0                 0   \n",
       "1                                    1                 0   \n",
       "2                                    0                 0   \n",
       "3                                    0                 0   \n",
       "4                                    0                 0   \n",
       "\n",
       "   job_category_marketing/sales  job_category_medicine  \\\n",
       "0                             0                      0   \n",
       "1                             0                      0   \n",
       "2                             0                      0   \n",
       "3                             0                      0   \n",
       "4                             0                      0   \n",
       "\n",
       "   job_category_programming  job_category_related  case_status  \n",
       "0                         1                     0    Certified  \n",
       "1                         0                     0    Certified  \n",
       "2                         1                     0    Certified  \n",
       "3                         0                     0    Certified  \n",
       "4                         0                     0    Certified  \n",
       "\n",
       "[5 rows x 9858 columns]"
      ]
     },
     "execution_count": 57,
     "metadata": {},
     "output_type": "execute_result"
    },
    {
     "name": "stdout",
     "output_type": "stream",
     "text": [
      "time: 40.4 ms\n"
     ]
    }
   ],
   "source": [
    "df_under.head()"
   ]
  },
  {
   "cell_type": "markdown",
   "metadata": {},
   "source": [
    "# Store as CSV"
   ]
  },
  {
   "cell_type": "code",
   "execution_count": 58,
   "metadata": {},
   "outputs": [
    {
     "name": "stdout",
     "output_type": "stream",
     "text": [
      "time: 913 µs\n"
     ]
    }
   ],
   "source": [
    "# with open('clean_data1.pkl', 'wb') as picklefile:\n",
    "#              pickle.dump(df_under, picklefile)"
   ]
  },
  {
   "cell_type": "code",
   "execution_count": 59,
   "metadata": {},
   "outputs": [
    {
     "name": "stdout",
     "output_type": "stream",
     "text": [
      "time: 536 µs\n"
     ]
    }
   ],
   "source": [
    "# with open(\"clean_data1.pkl\", 'rb') as picklefile: \n",
    "#       df = pickle.load(picklefile)\n",
    "# df.to_csv('clean_data1.csv')\n",
    "# df.head()"
   ]
  },
  {
   "cell_type": "markdown",
   "metadata": {},
   "source": [
    "# Modeling"
   ]
  },
  {
   "cell_type": "code",
   "execution_count": 60,
   "metadata": {},
   "outputs": [
    {
     "name": "stdout",
     "output_type": "stream",
     "text": [
      "time: 113 ms\n"
     ]
    }
   ],
   "source": [
    "from sklearn.model_selection import GridSearchCV\n",
    "from sklearn.preprocessing import StandardScaler, label_binarize\n",
    "from sklearn.neighbors import KNeighborsClassifier\n",
    "from sklearn.metrics import confusion_matrix\n",
    "from sklearn.linear_model import LogisticRegression, SGDClassifier\n",
    "from sklearn.ensemble import RandomForestClassifier, BaggingClassifier\n",
    "from sklearn.tree import DecisionTreeClassifier\n",
    "from sklearn.dummy import DummyClassifier\n",
    "import seaborn as sns\n",
    "from sklearn.model_selection import cross_val_score\n",
    "import matplotlib as plt\n",
    "from sklearn.model_selection import learning_curve\n",
    "from sklearn.metrics import roc_curve, auc\n",
    "import matplotlib.pyplot as plt\n",
    "from sklearn import svm, datasets\n",
    "from sklearn.metrics import roc_curve, auc\n",
    "from sklearn.model_selection import train_test_split\n",
    "from sklearn.preprocessing import label_binarize\n",
    "from sklearn.multiclass import OneVsRestClassifier\n",
    "from scipy import interp\n",
    "from sklearn import naive_bayes"
   ]
  },
  {
   "cell_type": "code",
   "execution_count": 73,
   "metadata": {},
   "outputs": [
    {
     "name": "stdout",
     "output_type": "stream",
     "text": [
      "time: 2.76 ms\n"
     ]
    }
   ],
   "source": [
    "def print_confusion_matrix(confusion_matrix, model, class_names, figsize = (10,7), fontsize=18):\n",
    "    df_cm = pd.DataFrame(\n",
    "        confusion_matrix, index=class_names, columns=class_names, \n",
    "    )\n",
    "    fig = plt.figure(figsize=figsize)\n",
    "    try:\n",
    "        heatmap = sns.heatmap(df_cm, annot=True, fmt=\"d\")\n",
    "    except ValueError:\n",
    "        raise ValueError(\"Confusion matrix values must be integers.\")\n",
    "    heatmap.yaxis.set_ticklabels(heatmap.yaxis.get_ticklabels(), rotation=0, ha='right', fontsize=fontsize)\n",
    "    heatmap.xaxis.set_ticklabels(heatmap.xaxis.get_ticklabels(), rotation=45, ha='right', fontsize=fontsize)\n",
    "    plt.ylabel('True label')\n",
    "    plt.xlabel('Predicted label')\n",
    "    plt.title(model)\n",
    "    return fig"
   ]
  },
  {
   "cell_type": "markdown",
   "metadata": {},
   "source": [
    "## Train/Test Split on Random Subset of Data"
   ]
  },
  {
   "cell_type": "code",
   "execution_count": 62,
   "metadata": {},
   "outputs": [
    {
     "name": "stdout",
     "output_type": "stream",
     "text": [
      "time: 888 ms\n"
     ]
    }
   ],
   "source": [
    "mini_sample=df_under.sample(n=15000)\n",
    "X=mini_sample.drop(['case_status'], axis=1)\n",
    "y=mini_sample.case_status"
   ]
  },
  {
   "cell_type": "code",
   "execution_count": 63,
   "metadata": {},
   "outputs": [
    {
     "name": "stdout",
     "output_type": "stream",
     "text": [
      "time: 389 ms\n"
     ]
    }
   ],
   "source": [
    "X_train, X_test, y_train, y_test = train_test_split(X, y, test_size=0.4, random_state=42)"
   ]
  },
  {
   "cell_type": "code",
   "execution_count": 64,
   "metadata": {},
   "outputs": [
    {
     "name": "stdout",
     "output_type": "stream",
     "text": [
      "time: 55.2 ms\n"
     ]
    }
   ],
   "source": [
    "train_df=X_train.join(pd.DataFrame(y_train))\n",
    "test_df=X_test.join(y_test)"
   ]
  },
  {
   "cell_type": "markdown",
   "metadata": {},
   "source": [
    "## Apply Standard Scalar"
   ]
  },
  {
   "cell_type": "code",
   "execution_count": 66,
   "metadata": {},
   "outputs": [
    {
     "name": "stdout",
     "output_type": "stream",
     "text": [
      "time: 3.54 s\n"
     ]
    }
   ],
   "source": [
    "ss = StandardScaler()\n",
    "ss.fit(X_train)\n",
    "X_train_scaled = ss.transform(X_train)\n",
    "X_test_scaled = ss.transform(X_test)"
   ]
  },
  {
   "cell_type": "code",
   "execution_count": 67,
   "metadata": {},
   "outputs": [
    {
     "name": "stdout",
     "output_type": "stream",
     "text": [
      "time: 511 ms\n"
     ]
    }
   ],
   "source": [
    "train_df_scaled=pd.DataFrame(X_train_scaled).join(y_train)\n",
    "test_df_sclaed=pd.DataFrame(X_test_scaled).join(y_test)"
   ]
  },
  {
   "cell_type": "markdown",
   "metadata": {},
   "source": [
    "## Make List of Models to Compare"
   ]
  },
  {
   "cell_type": "code",
   "execution_count": 68,
   "metadata": {},
   "outputs": [
    {
     "name": "stdout",
     "output_type": "stream",
     "text": [
      "time: 2.88 ms\n"
     ]
    }
   ],
   "source": [
    "models = [RandomForestClassifier(n_estimators=100, n_jobs=-1, max_depth=10), DecisionTreeClassifier(max_depth=None),\n",
    "          LogisticRegression(C=0.1), SGDClassifier(loss='log', random_state=42, alpha=0.01), naive_bayes.GaussianNB(),\n",
    "         naive_bayes.BernoulliNB(), naive_bayes.MultinomialNB()]\n",
    "model_names = [\"Random Forest\", \"Decision Tree\",'Logistic','SGD-Log', 'Naive-Bayes Gaussian',\n",
    "              'Naive-Bayes Bernoulli', 'Naive-Bayes Multinomial']"
   ]
  },
  {
   "cell_type": "markdown",
   "metadata": {},
   "source": [
    "## Compare Models- ROC Curves"
   ]
  },
  {
   "cell_type": "code",
   "execution_count": 142,
   "metadata": {},
   "outputs": [
    {
     "name": "stderr",
     "output_type": "stream",
     "text": [
      "/Users/mayamadhavan/anaconda3/lib/python3.6/site-packages/sklearn/linear_model/stochastic_gradient.py:128: FutureWarning: max_iter and tol parameters have been added in <class 'sklearn.linear_model.stochastic_gradient.SGDClassifier'> in 0.19. If both are left unset, they default to max_iter=5 and tol=None. If tol is not None, max_iter defaults to max_iter=1000. From 0.21, default max_iter will be 1000, and default tol will be 1e-3.\n",
      "  \"and default tol will be 1e-3.\" % type(self), FutureWarning)\n"
     ]
    },
    {
     "name": "stdout",
     "output_type": "stream",
     "text": [
      "time: 29.1 s\n"
     ]
    }
   ],
   "source": [
    "roc_plotting_stuff = []\n",
    "\n",
    "for clf, name in zip(models, model_names):\n",
    "    if 'Bayes' not in name:\n",
    "        clf.fit(X_train_scaled, y_train)\n",
    "        preds = clf.predict_proba(X_test_scaled)\n",
    "    else:\n",
    "        clf.fit(X_train, y_train)\n",
    "        preds = clf.predict_proba(X_test)\n",
    "    fpr, tpr, _ = roc_curve(y_test, preds[:,1], pos_label='Denied')\n",
    "    auc_score = auc(fpr, tpr)\n",
    "    roc_plotting_stuff.append((name, tpr, fpr, auc_score))"
   ]
  },
  {
   "cell_type": "code",
   "execution_count": 143,
   "metadata": {},
   "outputs": [
    {
     "data": {
      "image/png": "[encoded data removed]",
      "text/plain": [
       "<Figure size 1500x1000 with 1 Axes>"
      ]
     },
     "metadata": {},
     "output_type": "display_data"
    },
    {
     "name": "stdout",
     "output_type": "stream",
     "text": [
      "time: 494 ms\n"
     ]
    }
   ],
   "source": [
    "plt.figure(dpi=250)\n",
    "for name, tpr, fpr, auc_score in roc_plotting_stuff:\n",
    "    plt.plot(fpr, tpr, label=name+' (auc: %.2f)'%auc_score)\n",
    "plt.legend(loc='lower right', fontsize=9)\n",
    "plt.plot([0, 1], [0, 1], color='k', linestyle='--');\n",
    "plt.xlabel(\"False Positive Rate\")\n",
    "plt.ylabel(\"True Positive Rate\")\n",
    "plt.title(\"Comparing ROC Curves\");"
   ]
  },
  {
   "cell_type": "markdown",
   "metadata": {},
   "source": [
    "## Compare Models- Confusion Matrices"
   ]
  },
  {
   "cell_type": "code",
   "execution_count": 74,
   "metadata": {},
   "outputs": [
    {
     "name": "stderr",
     "output_type": "stream",
     "text": [
      "/Users/mayamadhavan/anaconda3/lib/python3.6/site-packages/sklearn/linear_model/stochastic_gradient.py:128: FutureWarning: max_iter and tol parameters have been added in <class 'sklearn.linear_model.stochastic_gradient.SGDClassifier'> in 0.19. If both are left unset, they default to max_iter=5 and tol=None. If tol is not None, max_iter defaults to max_iter=1000. From 0.21, default max_iter will be 1000, and default tol will be 1e-3.\n",
      "  \"and default tol will be 1e-3.\" % type(self), FutureWarning)\n"
     ]
    },
    {
     "data": {
      "image/png": "[encoded data removed]",
      "text/plain": [
       "<Figure size 720x504 with 2 Axes>"
      ]
     },
     "metadata": {},
     "output_type": "display_data"
    },
    {
     "data": {
      "image/png": "[encoded data removed]",
      "text/plain": [
       "<Figure size 720x504 with 2 Axes>"
      ]
     },
     "metadata": {},
     "output_type": "display_data"
    },
    {
     "data": {
      "image/png": "[encoded data removed]",
      "text/plain": [
       "<Figure size 720x504 with 2 Axes>"
      ]
     },
     "metadata": {},
     "output_type": "display_data"
    },
    {
     "data": {
      "image/png": "[encoded data removed]",
      "text/plain": [
       "<Figure size 720x504 with 2 Axes>"
      ]
     },
     "metadata": {},
     "output_type": "display_data"
    },
    {
     "data": {
      "image/png": "[encoded data removed]",
      "text/plain": [
       "<Figure size 720x504 with 2 Axes>"
      ]
     },
     "metadata": {},
     "output_type": "display_data"
    },
    {
     "data": {
      "image/png": "[encoded data removed]",
      "text/plain": [
       "<Figure size 720x504 with 2 Axes>"
      ]
     },
     "metadata": {},
     "output_type": "display_data"
    },
    {
     "data": {
      "image/png": "[encoded data removed]",
      "text/plain": [
       "<Figure size 720x504 with 2 Axes>"
      ]
     },
     "metadata": {},
     "output_type": "display_data"
    },
    {
     "name": "stdout",
     "output_type": "stream",
     "text": [
      "time: 20.7 s\n"
     ]
    }
   ],
   "source": [
    "for clf, name in zip(models, model_names):\n",
    "    if 'Bayes' not in name:\n",
    "        clf.fit(X_train_scaled, y_train)\n",
    "        preds = clf.predict_proba(X_test_scaled)\n",
    "    else:\n",
    "        clf.fit(X_train, y_train)\n",
    "        y_pred = clf.predict(X_test)\n",
    "    conf_mat = confusion_matrix(y_true=y_test, y_pred=y_pred)\n",
    "    cm = print_confusion_matrix(conf_mat, name, ['Certified', 'Denied'])"
   ]
  },
  {
   "cell_type": "markdown",
   "metadata": {},
   "source": [
    "## Which Features are Important"
   ]
  },
  {
   "cell_type": "code",
   "execution_count": 75,
   "metadata": {},
   "outputs": [
    {
     "name": "stdout",
     "output_type": "stream",
     "text": [
      "class_of_admission_L-1 0.021818979874395725\n",
      "foreign_worker_info_education_Master's 0.02633100377268432\n",
      "class_of_admission_B-2 0.02871572251527192\n",
      "job_category_programming 0.035678108290026996\n",
      "class_of_admission_Not in USA 0.03763038970935705\n",
      "class_of_admission_EWI 0.04154383039018114\n",
      "foreign_worker_info_education_None 0.04387363062146028\n",
      "class_of_admission_H-1B 0.045731477934316936\n",
      "country_of_citizenship_MEXICO 0.04746906652879477\n",
      "country_of_citizenship_INDIA 0.055898044283549594\n",
      "time: 121 ms\n"
     ]
    }
   ],
   "source": [
    "for imp, name in sorted(zip(models[0].feature_importances_, X_train.columns))[-10:]:\n",
    "    print(f\"{name} {imp}\")"
   ]
  },
  {
   "cell_type": "markdown",
   "metadata": {},
   "source": [
    "## Apply Chosen Model to Full Train and Score on Test"
   ]
  },
  {
   "cell_type": "code",
   "execution_count": 76,
   "metadata": {},
   "outputs": [
    {
     "data": {
      "text/plain": [
       "LogisticRegression(C=1.0, class_weight=None, dual=False, fit_intercept=True,\n",
       "          intercept_scaling=1, max_iter=100, multi_class='ovr', n_jobs=1,\n",
       "          penalty='l2', random_state=None, solver='liblinear', tol=0.0001,\n",
       "          verbose=0, warm_start=False)"
      ]
     },
     "execution_count": 76,
     "metadata": {},
     "output_type": "execute_result"
    },
    {
     "name": "stdout",
     "output_type": "stream",
     "text": [
      "time: 1.7 s\n"
     ]
    }
   ],
   "source": [
    "lm = LogisticRegression()\n",
    "lm.fit(X_train, y_train)"
   ]
  },
  {
   "cell_type": "code",
   "execution_count": 77,
   "metadata": {},
   "outputs": [
    {
     "data": {
      "text/plain": [
       "0.7175555555555555"
      ]
     },
     "execution_count": 77,
     "metadata": {},
     "output_type": "execute_result"
    },
    {
     "name": "stdout",
     "output_type": "stream",
     "text": [
      "time: 1.09 s\n"
     ]
    }
   ],
   "source": [
    "y_predict = lm.predict(X_train)\n",
    "lm.score(X_train, y_train)"
   ]
  },
  {
   "cell_type": "code",
   "execution_count": 79,
   "metadata": {},
   "outputs": [
    {
     "data": {
      "text/plain": [
       "0.658"
      ]
     },
     "execution_count": 79,
     "metadata": {},
     "output_type": "execute_result"
    },
    {
     "name": "stdout",
     "output_type": "stream",
     "text": [
      "time: 690 ms\n"
     ]
    }
   ],
   "source": [
    "y_predict_test = lm.predict(X_test)\n",
    "lm.score(X_test, y_test)"
   ]
  },
  {
   "cell_type": "code",
   "execution_count": 144,
   "metadata": {},
   "outputs": [
    {
     "data": {
      "text/plain": [
       "MultinomialNB(alpha=1.0, class_prior=None, fit_prior=True)"
      ]
     },
     "execution_count": 144,
     "metadata": {},
     "output_type": "execute_result"
    },
    {
     "name": "stdout",
     "output_type": "stream",
     "text": [
      "time: 610 ms\n"
     ]
    }
   ],
   "source": [
    "nbm=naive_bayes.MultinomialNB()\n",
    "nbm.fit(X_train, y_train)"
   ]
  },
  {
   "cell_type": "code",
   "execution_count": 145,
   "metadata": {},
   "outputs": [
    {
     "data": {
      "text/plain": [
       "0.6887777777777778"
      ]
     },
     "execution_count": 145,
     "metadata": {},
     "output_type": "execute_result"
    },
    {
     "name": "stdout",
     "output_type": "stream",
     "text": [
      "time: 1.3 s\n"
     ]
    }
   ],
   "source": [
    "y_predict2 = nbm.predict(X_train)\n",
    "nbm.score(X_train, y_train)"
   ]
  },
  {
   "cell_type": "code",
   "execution_count": 147,
   "metadata": {},
   "outputs": [
    {
     "data": {
      "text/plain": [
       "0.651"
      ]
     },
     "execution_count": 147,
     "metadata": {},
     "output_type": "execute_result"
    },
    {
     "name": "stdout",
     "output_type": "stream",
     "text": [
      "time: 873 ms\n"
     ]
    }
   ],
   "source": [
    "y_predict_test2 = nbm.predict(X_test)\n",
    "nbm.score(X_test, y_test)"
   ]
  },
  {
   "cell_type": "markdown",
   "metadata": {},
   "source": [
    "## Check How Many Data Points are Needed for Final Model"
   ]
  },
  {
   "cell_type": "code",
   "execution_count": 80,
   "metadata": {},
   "outputs": [
    {
     "data": {
      "text/plain": [
       "(-1, 1)"
      ]
     },
     "execution_count": 80,
     "metadata": {},
     "output_type": "execute_result"
    },
    {
     "data": {
      "image/png": "[encoded data removed]",
      "text/plain": [
       "<Figure size 432x288 with 1 Axes>"
      ]
     },
     "metadata": {},
     "output_type": "display_data"
    },
    {
     "name": "stdout",
     "output_type": "stream",
     "text": [
      "time: 22.3 s\n"
     ]
    }
   ],
   "source": [
    "train_sizes, train_scores, test_scores = learning_curve(lm, X_train, y_train, cv= 4)\n",
    "\n",
    "ave_train_scores = train_scores.mean(axis=1)\n",
    "ave_test_scores = test_scores.mean(axis=1)\n",
    "\n",
    "learn_df = pd.DataFrame({\n",
    "    'train_size': train_sizes,\n",
    "    'train_score': ave_train_scores,\n",
    "    'test_score': ave_test_scores\n",
    "})\n",
    "learn_df\n",
    "\n",
    "plt.plot(learn_df['train_size'], learn_df['train_score'], 'r--o', label='train scores')\n",
    "plt.plot(learn_df['train_size'], learn_df['test_score'], 'b--x', label='test size')\n",
    "plt.legend(loc='lower right')\n",
    "plt.ylim(-1,1)"
   ]
  },
  {
   "cell_type": "markdown",
   "metadata": {},
   "source": [
    "This implies that approximately 3000 data points were needed to test this model. Hence the initial random sample  is justified."
   ]
  },
  {
   "cell_type": "markdown",
   "metadata": {},
   "source": [
    "# Making Predictions"
   ]
  },
  {
   "cell_type": "code",
   "execution_count": 103,
   "metadata": {},
   "outputs": [
    {
     "data": {
      "text/plain": [
       "Index(['class_of_admission', 'country_of_citizenship', 'case_status',\n",
       "       'employer_state', 'foreign_worker_info_city',\n",
       "       'foreign_worker_info_education', 'job_category'],\n",
       "      dtype='object')"
      ]
     },
     "execution_count": 103,
     "metadata": {},
     "output_type": "execute_result"
    },
    {
     "name": "stdout",
     "output_type": "stream",
     "text": [
      "time: 2.82 ms\n"
     ]
    }
   ],
   "source": [
    "df.columns"
   ]
  },
  {
   "cell_type": "code",
   "execution_count": 134,
   "metadata": {},
   "outputs": [
    {
     "name": "stdout",
     "output_type": "stream",
     "text": [
      "time: 3.4 ms\n"
     ]
    }
   ],
   "source": [
    "def prediction(features):\n",
    "    test_case = pd.DataFrame({'class_of_admission':features['class_of_admission'],\n",
    "                      'country_of_citizenship': features['country_of_citizenship'], \n",
    "                      'employer_state': features['employer_state'],\n",
    "                      'foreign_worker_info_city': features['foreign_worker_info_city'],\n",
    "                      'foreign_worker_info_education': features['foreign_worker_info_education'],\n",
    "                      'job_category': features['job_category']}, index=[0])\n",
    "    \n",
    "    test_case_dummies=pd.get_dummies(test_case)\n",
    "    missing_cols=set(X_train.columns) - set(test_case_dummies.columns)\n",
    "    for c in missing_cols:\n",
    "        test_case_dummies[c] = 0\n",
    "    test_case_dummies = test_case_dummies[X_train.columns]\n",
    "    \n",
    "    prob_certified = lm.predict_proba(test_case_dummies)[0, 1] \n",
    "    outcome=''\n",
    "    if int(prob_certified > 0.5):\n",
    "        outcome+='Certified Visa'\n",
    "    else:\n",
    "        outcome+='Denied Visa'\n",
    "    result = {\n",
    "        'prediction': outcome,\n",
    "        'prob_certified': prob_certified\n",
    "    }\n",
    "    return result"
   ]
  },
  {
   "cell_type": "code",
   "execution_count": 135,
   "metadata": {},
   "outputs": [
    {
     "name": "stdout",
     "output_type": "stream",
     "text": [
      "time: 2.33 ms\n"
     ]
    }
   ],
   "source": [
    "example = {\n",
    "  'class_of_admission': 'H-1B',\n",
    "  'country_of_citizenship': 'INDIA',\n",
    "  'employer_state': 'NJ',\n",
    "  'foreign_worker_info_city': 'BROOKLYN',\n",
    "  'foreign_worker_info_education': 'High School',\n",
    "  'job_category': 'Other'\n",
    "}"
   ]
  },
  {
   "cell_type": "code",
   "execution_count": 136,
   "metadata": {},
   "outputs": [
    {
     "data": {
      "text/plain": [
       "{'prediction': 'Certified Visa', 'prob_certified': 0.6410447266819208}"
      ]
     },
     "execution_count": 136,
     "metadata": {},
     "output_type": "execute_result"
    },
    {
     "name": "stdout",
     "output_type": "stream",
     "text": [
      "time: 9.65 s\n"
     ]
    }
   ],
   "source": [
    "prediction(example)"
   ]
  },
  {
   "cell_type": "markdown",
   "metadata": {},
   "source": [
    "# You Can't Tell a Story Without a Plot!"
   ]
  },
  {
   "cell_type": "code",
   "execution_count": 151,
   "metadata": {},
   "outputs": [
    {
     "name": "stdout",
     "output_type": "stream",
     "text": [
      "time: 2.2 s\n"
     ]
    }
   ],
   "source": [
    "import plotly.plotly as py"
   ]
  },
  {
   "cell_type": "markdown",
   "metadata": {},
   "source": [
    "## Data Cleaning, Before and After"
   ]
  },
  {
   "cell_type": "code",
   "execution_count": null,
   "metadata": {},
   "outputs": [],
   "source": []
  },
  {
   "cell_type": "code",
   "execution_count": null,
   "metadata": {},
   "outputs": [],
   "source": []
  },
  {
   "cell_type": "code",
   "execution_count": 150,
   "metadata": {},
   "outputs": [
    {
     "data": {
      "text/plain": [
       "Index(['class_of_admission', 'country_of_citizenship', 'case_status',\n",
       "       'employer_state', 'foreign_worker_info_city',\n",
       "       'foreign_worker_info_education', 'job_category'],\n",
       "      dtype='object')"
      ]
     },
     "execution_count": 150,
     "metadata": {},
     "output_type": "execute_result"
    },
    {
     "name": "stdout",
     "output_type": "stream",
     "text": [
      "time: 4.14 ms\n"
     ]
    }
   ],
   "source": [
    "df.columns"
   ]
  },
  {
   "cell_type": "markdown",
   "metadata": {},
   "source": [
    "## Cloropleth"
   ]
  },
  {
   "cell_type": "code",
   "execution_count": 152,
   "metadata": {},
   "outputs": [
    {
     "ename": "KeyError",
     "evalue": "'CODE'",
     "output_type": "error",
     "traceback": [
      "\u001b[0;31m---------------------------------------------------------------------------\u001b[0m",
      "\u001b[0;31mKeyError\u001b[0m                                  Traceback (most recent call last)",
      "\u001b[0;32m~/anaconda3/lib/python3.6/site-packages/pandas/core/indexes/base.py\u001b[0m in \u001b[0;36mget_loc\u001b[0;34m(self, key, method, tolerance)\u001b[0m\n\u001b[1;32m   3062\u001b[0m             \u001b[0;32mtry\u001b[0m\u001b[0;34m:\u001b[0m\u001b[0;34m\u001b[0m\u001b[0m\n\u001b[0;32m-> 3063\u001b[0;31m                 \u001b[0;32mreturn\u001b[0m \u001b[0mself\u001b[0m\u001b[0;34m.\u001b[0m\u001b[0m_engine\u001b[0m\u001b[0;34m.\u001b[0m\u001b[0mget_loc\u001b[0m\u001b[0;34m(\u001b[0m\u001b[0mkey\u001b[0m\u001b[0;34m)\u001b[0m\u001b[0;34m\u001b[0m\u001b[0m\n\u001b[0m\u001b[1;32m   3064\u001b[0m             \u001b[0;32mexcept\u001b[0m \u001b[0mKeyError\u001b[0m\u001b[0;34m:\u001b[0m\u001b[0;34m\u001b[0m\u001b[0m\n",
      "\u001b[0;32mpandas/_libs/index.pyx\u001b[0m in \u001b[0;36mpandas._libs.index.IndexEngine.get_loc\u001b[0;34m()\u001b[0m\n",
      "\u001b[0;32mpandas/_libs/index.pyx\u001b[0m in \u001b[0;36mpandas._libs.index.IndexEngine.get_loc\u001b[0;34m()\u001b[0m\n",
      "\u001b[0;32mpandas/_libs/hashtable_class_helper.pxi\u001b[0m in \u001b[0;36mpandas._libs.hashtable.PyObjectHashTable.get_item\u001b[0;34m()\u001b[0m\n",
      "\u001b[0;32mpandas/_libs/hashtable_class_helper.pxi\u001b[0m in \u001b[0;36mpandas._libs.hashtable.PyObjectHashTable.get_item\u001b[0;34m()\u001b[0m\n",
      "\u001b[0;31mKeyError\u001b[0m: 'CODE'",
      "\nDuring handling of the above exception, another exception occurred:\n",
      "\u001b[0;31mKeyError\u001b[0m                                  Traceback (most recent call last)",
      "\u001b[0;32m<ipython-input-152-eaaef217a6f4>\u001b[0m in \u001b[0;36m<module>\u001b[0;34m()\u001b[0m\n\u001b[1;32m      1\u001b[0m data = [ dict(\n\u001b[1;32m      2\u001b[0m         \u001b[0mtype\u001b[0m \u001b[0;34m=\u001b[0m \u001b[0;34m'choropleth'\u001b[0m\u001b[0;34m,\u001b[0m\u001b[0;34m\u001b[0m\u001b[0m\n\u001b[0;32m----> 3\u001b[0;31m         \u001b[0mlocations\u001b[0m \u001b[0;34m=\u001b[0m \u001b[0mdf\u001b[0m\u001b[0;34m[\u001b[0m\u001b[0;34m'CODE'\u001b[0m\u001b[0;34m]\u001b[0m\u001b[0;34m,\u001b[0m\u001b[0;34m\u001b[0m\u001b[0m\n\u001b[0m\u001b[1;32m      4\u001b[0m         \u001b[0mz\u001b[0m \u001b[0;34m=\u001b[0m \u001b[0mdf\u001b[0m\u001b[0;34m[\u001b[0m\u001b[0;34m'case_status'\u001b[0m\u001b[0;34m]\u001b[0m\u001b[0;34m,\u001b[0m\u001b[0;34m\u001b[0m\u001b[0m\n\u001b[1;32m      5\u001b[0m         \u001b[0mtext\u001b[0m \u001b[0;34m=\u001b[0m \u001b[0mdf\u001b[0m\u001b[0;34m[\u001b[0m\u001b[0;34m'country_of_citizenship'\u001b[0m\u001b[0;34m]\u001b[0m\u001b[0;34m,\u001b[0m\u001b[0;34m\u001b[0m\u001b[0m\n",
      "\u001b[0;32m~/anaconda3/lib/python3.6/site-packages/pandas/core/frame.py\u001b[0m in \u001b[0;36m__getitem__\u001b[0;34m(self, key)\u001b[0m\n\u001b[1;32m   2683\u001b[0m             \u001b[0;32mreturn\u001b[0m \u001b[0mself\u001b[0m\u001b[0;34m.\u001b[0m\u001b[0m_getitem_multilevel\u001b[0m\u001b[0;34m(\u001b[0m\u001b[0mkey\u001b[0m\u001b[0;34m)\u001b[0m\u001b[0;34m\u001b[0m\u001b[0m\n\u001b[1;32m   2684\u001b[0m         \u001b[0;32melse\u001b[0m\u001b[0;34m:\u001b[0m\u001b[0;34m\u001b[0m\u001b[0m\n\u001b[0;32m-> 2685\u001b[0;31m             \u001b[0;32mreturn\u001b[0m \u001b[0mself\u001b[0m\u001b[0;34m.\u001b[0m\u001b[0m_getitem_column\u001b[0m\u001b[0;34m(\u001b[0m\u001b[0mkey\u001b[0m\u001b[0;34m)\u001b[0m\u001b[0;34m\u001b[0m\u001b[0m\n\u001b[0m\u001b[1;32m   2686\u001b[0m \u001b[0;34m\u001b[0m\u001b[0m\n\u001b[1;32m   2687\u001b[0m     \u001b[0;32mdef\u001b[0m \u001b[0m_getitem_column\u001b[0m\u001b[0;34m(\u001b[0m\u001b[0mself\u001b[0m\u001b[0;34m,\u001b[0m \u001b[0mkey\u001b[0m\u001b[0;34m)\u001b[0m\u001b[0;34m:\u001b[0m\u001b[0;34m\u001b[0m\u001b[0m\n",
      "\u001b[0;32m~/anaconda3/lib/python3.6/site-packages/pandas/core/frame.py\u001b[0m in \u001b[0;36m_getitem_column\u001b[0;34m(self, key)\u001b[0m\n\u001b[1;32m   2690\u001b[0m         \u001b[0;31m# get column\u001b[0m\u001b[0;34m\u001b[0m\u001b[0;34m\u001b[0m\u001b[0m\n\u001b[1;32m   2691\u001b[0m         \u001b[0;32mif\u001b[0m \u001b[0mself\u001b[0m\u001b[0;34m.\u001b[0m\u001b[0mcolumns\u001b[0m\u001b[0;34m.\u001b[0m\u001b[0mis_unique\u001b[0m\u001b[0;34m:\u001b[0m\u001b[0;34m\u001b[0m\u001b[0m\n\u001b[0;32m-> 2692\u001b[0;31m             \u001b[0;32mreturn\u001b[0m \u001b[0mself\u001b[0m\u001b[0;34m.\u001b[0m\u001b[0m_get_item_cache\u001b[0m\u001b[0;34m(\u001b[0m\u001b[0mkey\u001b[0m\u001b[0;34m)\u001b[0m\u001b[0;34m\u001b[0m\u001b[0m\n\u001b[0m\u001b[1;32m   2693\u001b[0m \u001b[0;34m\u001b[0m\u001b[0m\n\u001b[1;32m   2694\u001b[0m         \u001b[0;31m# duplicate columns & possible reduce dimensionality\u001b[0m\u001b[0;34m\u001b[0m\u001b[0;34m\u001b[0m\u001b[0m\n",
      "\u001b[0;32m~/anaconda3/lib/python3.6/site-packages/pandas/core/generic.py\u001b[0m in \u001b[0;36m_get_item_cache\u001b[0;34m(self, item)\u001b[0m\n\u001b[1;32m   2484\u001b[0m         \u001b[0mres\u001b[0m \u001b[0;34m=\u001b[0m \u001b[0mcache\u001b[0m\u001b[0;34m.\u001b[0m\u001b[0mget\u001b[0m\u001b[0;34m(\u001b[0m\u001b[0mitem\u001b[0m\u001b[0;34m)\u001b[0m\u001b[0;34m\u001b[0m\u001b[0m\n\u001b[1;32m   2485\u001b[0m         \u001b[0;32mif\u001b[0m \u001b[0mres\u001b[0m \u001b[0;32mis\u001b[0m \u001b[0;32mNone\u001b[0m\u001b[0;34m:\u001b[0m\u001b[0;34m\u001b[0m\u001b[0m\n\u001b[0;32m-> 2486\u001b[0;31m             \u001b[0mvalues\u001b[0m \u001b[0;34m=\u001b[0m \u001b[0mself\u001b[0m\u001b[0;34m.\u001b[0m\u001b[0m_data\u001b[0m\u001b[0;34m.\u001b[0m\u001b[0mget\u001b[0m\u001b[0;34m(\u001b[0m\u001b[0mitem\u001b[0m\u001b[0;34m)\u001b[0m\u001b[0;34m\u001b[0m\u001b[0m\n\u001b[0m\u001b[1;32m   2487\u001b[0m             \u001b[0mres\u001b[0m \u001b[0;34m=\u001b[0m \u001b[0mself\u001b[0m\u001b[0;34m.\u001b[0m\u001b[0m_box_item_values\u001b[0m\u001b[0;34m(\u001b[0m\u001b[0mitem\u001b[0m\u001b[0;34m,\u001b[0m \u001b[0mvalues\u001b[0m\u001b[0;34m)\u001b[0m\u001b[0;34m\u001b[0m\u001b[0m\n\u001b[1;32m   2488\u001b[0m             \u001b[0mcache\u001b[0m\u001b[0;34m[\u001b[0m\u001b[0mitem\u001b[0m\u001b[0;34m]\u001b[0m \u001b[0;34m=\u001b[0m \u001b[0mres\u001b[0m\u001b[0;34m\u001b[0m\u001b[0m\n",
      "\u001b[0;32m~/anaconda3/lib/python3.6/site-packages/pandas/core/internals.py\u001b[0m in \u001b[0;36mget\u001b[0;34m(self, item, fastpath)\u001b[0m\n\u001b[1;32m   4113\u001b[0m \u001b[0;34m\u001b[0m\u001b[0m\n\u001b[1;32m   4114\u001b[0m             \u001b[0;32mif\u001b[0m \u001b[0;32mnot\u001b[0m \u001b[0misna\u001b[0m\u001b[0;34m(\u001b[0m\u001b[0mitem\u001b[0m\u001b[0;34m)\u001b[0m\u001b[0;34m:\u001b[0m\u001b[0;34m\u001b[0m\u001b[0m\n\u001b[0;32m-> 4115\u001b[0;31m                 \u001b[0mloc\u001b[0m \u001b[0;34m=\u001b[0m \u001b[0mself\u001b[0m\u001b[0;34m.\u001b[0m\u001b[0mitems\u001b[0m\u001b[0;34m.\u001b[0m\u001b[0mget_loc\u001b[0m\u001b[0;34m(\u001b[0m\u001b[0mitem\u001b[0m\u001b[0;34m)\u001b[0m\u001b[0;34m\u001b[0m\u001b[0m\n\u001b[0m\u001b[1;32m   4116\u001b[0m             \u001b[0;32melse\u001b[0m\u001b[0;34m:\u001b[0m\u001b[0;34m\u001b[0m\u001b[0m\n\u001b[1;32m   4117\u001b[0m                 \u001b[0mindexer\u001b[0m \u001b[0;34m=\u001b[0m \u001b[0mnp\u001b[0m\u001b[0;34m.\u001b[0m\u001b[0marange\u001b[0m\u001b[0;34m(\u001b[0m\u001b[0mlen\u001b[0m\u001b[0;34m(\u001b[0m\u001b[0mself\u001b[0m\u001b[0;34m.\u001b[0m\u001b[0mitems\u001b[0m\u001b[0;34m)\u001b[0m\u001b[0;34m)\u001b[0m\u001b[0;34m[\u001b[0m\u001b[0misna\u001b[0m\u001b[0;34m(\u001b[0m\u001b[0mself\u001b[0m\u001b[0;34m.\u001b[0m\u001b[0mitems\u001b[0m\u001b[0;34m)\u001b[0m\u001b[0;34m]\u001b[0m\u001b[0;34m\u001b[0m\u001b[0m\n",
      "\u001b[0;32m~/anaconda3/lib/python3.6/site-packages/pandas/core/indexes/base.py\u001b[0m in \u001b[0;36mget_loc\u001b[0;34m(self, key, method, tolerance)\u001b[0m\n\u001b[1;32m   3063\u001b[0m                 \u001b[0;32mreturn\u001b[0m \u001b[0mself\u001b[0m\u001b[0;34m.\u001b[0m\u001b[0m_engine\u001b[0m\u001b[0;34m.\u001b[0m\u001b[0mget_loc\u001b[0m\u001b[0;34m(\u001b[0m\u001b[0mkey\u001b[0m\u001b[0;34m)\u001b[0m\u001b[0;34m\u001b[0m\u001b[0m\n\u001b[1;32m   3064\u001b[0m             \u001b[0;32mexcept\u001b[0m \u001b[0mKeyError\u001b[0m\u001b[0;34m:\u001b[0m\u001b[0;34m\u001b[0m\u001b[0m\n\u001b[0;32m-> 3065\u001b[0;31m                 \u001b[0;32mreturn\u001b[0m \u001b[0mself\u001b[0m\u001b[0;34m.\u001b[0m\u001b[0m_engine\u001b[0m\u001b[0;34m.\u001b[0m\u001b[0mget_loc\u001b[0m\u001b[0;34m(\u001b[0m\u001b[0mself\u001b[0m\u001b[0;34m.\u001b[0m\u001b[0m_maybe_cast_indexer\u001b[0m\u001b[0;34m(\u001b[0m\u001b[0mkey\u001b[0m\u001b[0;34m)\u001b[0m\u001b[0;34m)\u001b[0m\u001b[0;34m\u001b[0m\u001b[0m\n\u001b[0m\u001b[1;32m   3066\u001b[0m \u001b[0;34m\u001b[0m\u001b[0m\n\u001b[1;32m   3067\u001b[0m         \u001b[0mindexer\u001b[0m \u001b[0;34m=\u001b[0m \u001b[0mself\u001b[0m\u001b[0;34m.\u001b[0m\u001b[0mget_indexer\u001b[0m\u001b[0;34m(\u001b[0m\u001b[0;34m[\u001b[0m\u001b[0mkey\u001b[0m\u001b[0;34m]\u001b[0m\u001b[0;34m,\u001b[0m \u001b[0mmethod\u001b[0m\u001b[0;34m=\u001b[0m\u001b[0mmethod\u001b[0m\u001b[0;34m,\u001b[0m \u001b[0mtolerance\u001b[0m\u001b[0;34m=\u001b[0m\u001b[0mtolerance\u001b[0m\u001b[0;34m)\u001b[0m\u001b[0;34m\u001b[0m\u001b[0m\n",
      "\u001b[0;32mpandas/_libs/index.pyx\u001b[0m in \u001b[0;36mpandas._libs.index.IndexEngine.get_loc\u001b[0;34m()\u001b[0m\n",
      "\u001b[0;32mpandas/_libs/index.pyx\u001b[0m in \u001b[0;36mpandas._libs.index.IndexEngine.get_loc\u001b[0;34m()\u001b[0m\n",
      "\u001b[0;32mpandas/_libs/hashtable_class_helper.pxi\u001b[0m in \u001b[0;36mpandas._libs.hashtable.PyObjectHashTable.get_item\u001b[0;34m()\u001b[0m\n",
      "\u001b[0;32mpandas/_libs/hashtable_class_helper.pxi\u001b[0m in \u001b[0;36mpandas._libs.hashtable.PyObjectHashTable.get_item\u001b[0;34m()\u001b[0m\n",
      "\u001b[0;31mKeyError\u001b[0m: 'CODE'"
     ]
    },
    {
     "name": "stdout",
     "output_type": "stream",
     "text": [
      "time: 279 ms\n"
     ]
    }
   ],
   "source": [
    "data = [ dict(\n",
    "        type = 'choropleth',\n",
    "        locations = df['CODE'],\n",
    "        z = df['case_status'],\n",
    "        text = df['country_of_citizenship'],\n",
    "        colorscale = [[0,\"rgb(5, 10, 172)\"],[0.35,\"rgb(40, 60, 190)\"],[0.5,\"rgb(70, 100, 245)\"],\\\n",
    "            [0.6,\"rgb(90, 120, 245)\"],[0.7,\"rgb(106, 137, 247)\"],[1,\"rgb(220, 220, 220)\"]],\n",
    "        autocolorscale = False,\n",
    "        reversescale = True,\n",
    "        marker = dict(\n",
    "            line = dict (\n",
    "                color = 'rgb(180,180,180)',\n",
    "                width = 0.5\n",
    "            ) ),\n",
    "        colorbar = dict(\n",
    "            autotick = False,\n",
    "            tickprefix = '$',\n",
    "            title = 'GDP<br>Billions US$'),\n",
    "      ) ]\n",
    "\n",
    "layout = dict(\n",
    "    title = '2014 Global GDP<br>Source:\\\n",
    "            <a href=\"https://www.cia.gov/library/publications/the-world-factbook/fields/2195.html\">\\\n",
    "            CIA World Factbook</a>',\n",
    "    geo = dict(\n",
    "        showframe = False,\n",
    "        showcoastlines = False,\n",
    "        projection = dict(\n",
    "            type = 'Mercator'\n",
    "        )\n",
    "    )\n",
    ")\n",
    "\n",
    "fig = dict( data=data, layout=layout )\n",
    "py.iplot( fig, validate=False, filename='d3-world-map' )"
   ]
  },
  {
   "cell_type": "markdown",
   "metadata": {},
   "source": [
    "1. cloropleth\n",
    "2. flask"
   ]
  },
  {
   "cell_type": "code",
   "execution_count": null,
   "metadata": {},
   "outputs": [],
   "source": []
  }
 ],
 "metadata": {
  "kernelspec": {
   "display_name": "Python 3",
   "language": "python",
   "name": "python3"
  },
  "language_info": {
   "codemirror_mode": {
    "name": "ipython",
    "version": 3
   },
   "file_extension": ".py",
   "mimetype": "text/x-python",
   "name": "python",
   "nbconvert_exporter": "python",
   "pygments_lexer": "ipython3",
   "version": "3.6.5"
  }
 },
 "nbformat": 4,
 "nbformat_minor": 2
}
