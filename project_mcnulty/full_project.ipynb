{
 "cells": [
  {
   "cell_type": "markdown",
   "metadata": {},
   "source": [
    "# Importation Station"
   ]
  },
  {
   "cell_type": "code",
   "execution_count": 1,
   "metadata": {},
   "outputs": [
    {
     "name": "stderr",
     "output_type": "stream",
     "text": [
      "/Users/mayamadhavan/anaconda3/lib/python3.6/site-packages/sklearn/cross_validation.py:41: DeprecationWarning: This module was deprecated in version 0.18 in favor of the model_selection module into which all the refactored classes and functions are moved. Also note that the interface of the new CV iterators are different from that of this module. This module will be removed in 0.20.\n",
      "  \"This module will be removed in 0.20.\", DeprecationWarning)\n"
     ]
    }
   ],
   "source": [
    "import pandas as pd\n",
    "import numpy as np\n",
    "import scipy.sparse as sp\n",
    "import seaborn as sns\n",
    "import matplotlib.pyplot as plt\n",
    "import pickle\n",
    "from sklearn.cross_validation import train_test_split\n",
    "from imblearn.over_sampling import ADASYN\n",
    "from collections import Counter\n",
    "from sklearn.svm import LinearSVC, SVC\n",
    "from imblearn.under_sampling import RandomUnderSampler\n",
    "\n",
    "plt.style.use(\"seaborn\")\n",
    "%matplotlib inline\n",
    "\n",
    "%load_ext autotime"
   ]
  },
  {
   "cell_type": "markdown",
   "metadata": {},
   "source": [
    "# Make DataFrame and Extract Features"
   ]
  },
  {
   "cell_type": "markdown",
   "metadata": {},
   "source": [
    "## Read Initial Data"
   ]
  },
  {
   "cell_type": "code",
   "execution_count": 2,
   "metadata": {},
   "outputs": [
    {
     "name": "stdout",
     "output_type": "stream",
     "text": [
      "time: 738 µs\n"
     ]
    }
   ],
   "source": [
    "# df= pd.read_csv(\"us-perm-visas.zip\")\n",
    "# df.head()"
   ]
  },
  {
   "cell_type": "markdown",
   "metadata": {},
   "source": [
    "## Extract Features of Interest"
   ]
  },
  {
   "cell_type": "code",
   "execution_count": 3,
   "metadata": {},
   "outputs": [
    {
     "name": "stdout",
     "output_type": "stream",
     "text": [
      "time: 1.47 ms\n"
     ]
    }
   ],
   "source": [
    "# df_feat=df[['class_of_admission','country_of_citizenship',\n",
    "#             'country_of_citzenship','case_status', 'employer_state','foreign_worker_info_city',\n",
    "#             'foreign_worker_info_education','foreign_worker_info_major',\n",
    "#            'application_type', 'fw_info_birth_country', 'job_info_alt_occ_job_title','job_info_education',\n",
    "#             'wage_offer_from_9089']]\n",
    "# df_feat.head()\n",
    "# del df"
   ]
  },
  {
   "cell_type": "markdown",
   "metadata": {},
   "source": [
    "# Pickle and Store Features of Interest into CSV"
   ]
  },
  {
   "cell_type": "code",
   "execution_count": 4,
   "metadata": {},
   "outputs": [
    {
     "name": "stdout",
     "output_type": "stream",
     "text": [
      "time: 799 µs\n"
     ]
    }
   ],
   "source": [
    "# with open('visa.pkl', 'wb') as picklefile:\n",
    "#              pickle.dump(df_feat, picklefile)"
   ]
  },
  {
   "cell_type": "code",
   "execution_count": 5,
   "metadata": {},
   "outputs": [
    {
     "name": "stdout",
     "output_type": "stream",
     "text": [
      "time: 836 µs\n"
     ]
    }
   ],
   "source": [
    "# with open(\"visa.pkl\", 'rb') as picklefile: \n",
    "#       df = pickle.load(picklefile)\n",
    "# df.to_csv('visa.csv')\n",
    "# df.head()"
   ]
  },
  {
   "cell_type": "markdown",
   "metadata": {},
   "source": [
    "# Read Pre-Made CSV File"
   ]
  },
  {
   "cell_type": "code",
   "execution_count": 6,
   "metadata": {},
   "outputs": [
    {
     "name": "stderr",
     "output_type": "stream",
     "text": [
      "/Users/mayamadhavan/anaconda3/lib/python3.6/site-packages/IPython/core/interactiveshell.py:2785: DtypeWarning: Columns (3,6,7,8,9,10,11,12,13) have mixed types. Specify dtype option on import or set low_memory=False.\n",
      "  interactivity=interactivity, compiler=compiler, result=result)\n"
     ]
    },
    {
     "name": "stdout",
     "output_type": "stream",
     "text": [
      "time: 1.4 s\n"
     ]
    }
   ],
   "source": [
    "df=pd.read_csv('visa.csv')\n",
    "del(df['Unnamed: 0'])\n",
    "#df.head()"
   ]
  },
  {
   "cell_type": "markdown",
   "metadata": {},
   "source": [
    "# Data Cleaning Pt.1"
   ]
  },
  {
   "cell_type": "markdown",
   "metadata": {},
   "source": [
    "## Initial NA Counts"
   ]
  },
  {
   "cell_type": "code",
   "execution_count": 7,
   "metadata": {},
   "outputs": [
    {
     "name": "stdout",
     "output_type": "stream",
     "text": [
      "time: 543 ms\n"
     ]
    }
   ],
   "source": [
    "df.isnull().sum()\n",
    "initial_na=df.isnull().sum()"
   ]
  },
  {
   "cell_type": "markdown",
   "metadata": {},
   "source": [
    "## Remove Withdrawn Applications and Combine Expired with Certified"
   ]
  },
  {
   "cell_type": "code",
   "execution_count": 8,
   "metadata": {},
   "outputs": [
    {
     "name": "stdout",
     "output_type": "stream",
     "text": [
      "time: 882 ms\n"
     ]
    }
   ],
   "source": [
    "df=df[(df.case_status!='Withdrawn')]\n",
    "df=df.replace({'Certified-Expired':'Certified'})"
   ]
  },
  {
   "cell_type": "code",
   "execution_count": 9,
   "metadata": {},
   "outputs": [
    {
     "data": {
      "text/plain": [
       "array(['Certified', 'Denied'], dtype=object)"
      ]
     },
     "execution_count": 9,
     "metadata": {},
     "output_type": "execute_result"
    },
    {
     "name": "stdout",
     "output_type": "stream",
     "text": [
      "time: 18.5 ms\n"
     ]
    }
   ],
   "source": [
    "df.case_status.unique()"
   ]
  },
  {
   "cell_type": "markdown",
   "metadata": {},
   "source": [
    "## Combine Repeated Columns"
   ]
  },
  {
   "cell_type": "code",
   "execution_count": 10,
   "metadata": {
    "scrolled": true
   },
   "outputs": [
    {
     "name": "stdout",
     "output_type": "stream",
     "text": [
      "time: 95.8 ms\n"
     ]
    }
   ],
   "source": [
    "df.country_of_citizenship.fillna(df.country_of_citzenship, inplace=True)\n",
    "df=df.drop('country_of_citzenship', axis=1)\n",
    "#df.isnull().sum()"
   ]
  },
  {
   "cell_type": "code",
   "execution_count": 11,
   "metadata": {
    "scrolled": true
   },
   "outputs": [
    {
     "name": "stdout",
     "output_type": "stream",
     "text": [
      "time: 110 ms\n"
     ]
    }
   ],
   "source": [
    "df.foreign_worker_info_education.fillna(df.job_info_education, inplace=True)\n",
    "df=df.drop('job_info_education', axis=1)\n",
    "#df.isnull().sum()"
   ]
  },
  {
   "cell_type": "markdown",
   "metadata": {},
   "source": [
    "## Fill Na's\n",
    "**Idea:**\n",
    "1. Ignore Target Variable When Filling NA's\n",
    "\n",
    "**Structure for Each Variable:**\n",
    "1. Read Values Counts\n",
    "2. Fill in As Needed"
   ]
  },
  {
   "cell_type": "code",
   "execution_count": 12,
   "metadata": {},
   "outputs": [
    {
     "name": "stdout",
     "output_type": "stream",
     "text": [
      "time: 3.36 ms\n"
     ]
    }
   ],
   "source": [
    "def impute(df, series, col_name, merge_cols):\n",
    "    merged_frame = pd.merge(df, series, how='left', \n",
    "                             left_on=merge_cols, \n",
    "                             right_on=merge_cols)\n",
    "    merged_frame[col_name+'_x'].fillna(merged_frame[col_name+'_y'],inplace=True)\n",
    "    merged_frame.rename(columns={col_name+'_x':col_name}, inplace=True)\n",
    "    merged_frame.drop([col_name+'_y'], axis=1, inplace=True)\n",
    "    return merged_frame"
   ]
  },
  {
   "cell_type": "code",
   "execution_count": 13,
   "metadata": {},
   "outputs": [
    {
     "name": "stdout",
     "output_type": "stream",
     "text": [
      "time: 1.47 ms\n"
     ]
    }
   ],
   "source": [
    "def mode(a):\n",
    "    u, c = np.unique(a, return_counts=True)\n",
    "    return u[c.argmax()]"
   ]
  },
  {
   "cell_type": "markdown",
   "metadata": {},
   "source": [
    "### Country of Citizenship= Fill using the mode by education level"
   ]
  },
  {
   "cell_type": "code",
   "execution_count": 14,
   "metadata": {},
   "outputs": [
    {
     "name": "stdout",
     "output_type": "stream",
     "text": [
      "time: 294 ms\n"
     ]
    }
   ],
   "source": [
    "country_fill_series = df[~df['country_of_citizenship'].isnull()].groupby(['foreign_worker_info_education']\n",
    "                                                                        ).country_of_citizenship.apply(mode\n",
    "                                                                                                      ).reset_index()\n",
    "#country_fill_series"
   ]
  },
  {
   "cell_type": "code",
   "execution_count": 15,
   "metadata": {},
   "outputs": [
    {
     "name": "stdout",
     "output_type": "stream",
     "text": [
      "time: 515 ms\n"
     ]
    }
   ],
   "source": [
    "df=impute(df, country_fill_series, 'country_of_citizenship',['foreign_worker_info_education'])\n",
    "#df.isnull().sum()"
   ]
  },
  {
   "cell_type": "markdown",
   "metadata": {},
   "source": [
    "### Destination State= Fill using overall mode"
   ]
  },
  {
   "cell_type": "code",
   "execution_count": 16,
   "metadata": {},
   "outputs": [
    {
     "name": "stdout",
     "output_type": "stream",
     "text": [
      "time: 805 µs\n"
     ]
    }
   ],
   "source": [
    "# df.employer_state.unique()"
   ]
  },
  {
   "cell_type": "code",
   "execution_count": 17,
   "metadata": {},
   "outputs": [
    {
     "name": "stdout",
     "output_type": "stream",
     "text": [
      "time: 32.7 ms\n"
     ]
    }
   ],
   "source": [
    "state_fill_series=df['employer_state'].mode()\n",
    "# state_fill_series"
   ]
  },
  {
   "cell_type": "code",
   "execution_count": 18,
   "metadata": {},
   "outputs": [
    {
     "name": "stdout",
     "output_type": "stream",
     "text": [
      "time: 21.7 ms\n"
     ]
    }
   ],
   "source": [
    "df.employer_state.fillna('CALIFORNIA', inplace=True)\n",
    "# df.isnull().sum()"
   ]
  },
  {
   "cell_type": "markdown",
   "metadata": {},
   "source": [
    "### Origin City= Fill using mode of given country"
   ]
  },
  {
   "cell_type": "code",
   "execution_count": 19,
   "metadata": {},
   "outputs": [
    {
     "name": "stdout",
     "output_type": "stream",
     "text": [
      "time: 868 µs\n"
     ]
    }
   ],
   "source": [
    "# df.foreign_worker_info_city.unique()"
   ]
  },
  {
   "cell_type": "code",
   "execution_count": 20,
   "metadata": {},
   "outputs": [
    {
     "name": "stdout",
     "output_type": "stream",
     "text": [
      "time: 308 ms\n"
     ]
    }
   ],
   "source": [
    "origin_fill_series = df[~df['foreign_worker_info_city'].isnull()].groupby(['country_of_citizenship']\n",
    "                                                                         ).foreign_worker_info_city.apply(mode\n",
    "                                                                                                         ).reset_index()\n",
    "# origin_fill_series"
   ]
  },
  {
   "cell_type": "code",
   "execution_count": 21,
   "metadata": {},
   "outputs": [
    {
     "name": "stdout",
     "output_type": "stream",
     "text": [
      "time: 595 ms\n"
     ]
    }
   ],
   "source": [
    "df = impute(df, origin_fill_series, 'foreign_worker_info_city',['country_of_citizenship'])\n",
    "# df.isnull().sum()"
   ]
  },
  {
   "cell_type": "markdown",
   "metadata": {},
   "source": [
    "### Education Level= Fill using Country and Visa Type"
   ]
  },
  {
   "cell_type": "code",
   "execution_count": 22,
   "metadata": {},
   "outputs": [
    {
     "name": "stdout",
     "output_type": "stream",
     "text": [
      "time: 791 µs\n"
     ]
    }
   ],
   "source": [
    "# df.foreign_worker_info_education.unique()"
   ]
  },
  {
   "cell_type": "code",
   "execution_count": 23,
   "metadata": {},
   "outputs": [
    {
     "name": "stdout",
     "output_type": "stream",
     "text": [
      "time: 447 ms\n"
     ]
    }
   ],
   "source": [
    "education_fill_series = df[~df['foreign_worker_info_education'].isnull()].groupby(['country_of_citizenship',\n",
    "                                                                                   'class_of_admission']\n",
    "                                                                                 ).foreign_worker_info_education.apply(mode\n",
    "                                                                                                                      ).reset_index()\n",
    "# education_fill_series"
   ]
  },
  {
   "cell_type": "code",
   "execution_count": 24,
   "metadata": {},
   "outputs": [
    {
     "name": "stdout",
     "output_type": "stream",
     "text": [
      "time: 529 ms\n"
     ]
    }
   ],
   "source": [
    "df = impute(df, education_fill_series, 'foreign_worker_info_education', ['country_of_citizenship',\n",
    "                                                                                   'class_of_admission'])\n",
    "# df.isnull().sum()"
   ]
  },
  {
   "cell_type": "markdown",
   "metadata": {},
   "source": [
    "### Major= Fill with mode of visa type / country of origin / education / destination"
   ]
  },
  {
   "cell_type": "code",
   "execution_count": 25,
   "metadata": {},
   "outputs": [
    {
     "name": "stdout",
     "output_type": "stream",
     "text": [
      "time: 831 µs\n"
     ]
    }
   ],
   "source": [
    "# df.foreign_worker_info_major.value_counts()"
   ]
  },
  {
   "cell_type": "code",
   "execution_count": 26,
   "metadata": {},
   "outputs": [
    {
     "name": "stdout",
     "output_type": "stream",
     "text": [
      "time: 2.45 s\n"
     ]
    }
   ],
   "source": [
    "major_fill_series = df[~df['foreign_worker_info_major'].isnull()].groupby(['country_of_citizenship',\n",
    "                                                                               'class_of_admission',\n",
    "                                                                               'foreign_worker_info_education',\n",
    "                                                                               'employer_state']\n",
    "                                                                             ).foreign_worker_info_major.apply(mode\n",
    "                                                                                                              ).reset_index()\n",
    "# major_fill_series"
   ]
  },
  {
   "cell_type": "code",
   "execution_count": 27,
   "metadata": {},
   "outputs": [
    {
     "name": "stdout",
     "output_type": "stream",
     "text": [
      "time: 571 ms\n"
     ]
    }
   ],
   "source": [
    "df = impute(df, major_fill_series, 'foreign_worker_info_major',['country_of_citizenship',\n",
    "                                                                               'class_of_admission',\n",
    "                                                                               'foreign_worker_info_education',\n",
    "                                                                               'employer_state'])\n",
    "# df.isnull().sum()"
   ]
  },
  {
   "cell_type": "markdown",
   "metadata": {},
   "source": [
    "### Birth Country= Fill with country of citizenship"
   ]
  },
  {
   "cell_type": "code",
   "execution_count": 28,
   "metadata": {},
   "outputs": [
    {
     "name": "stdout",
     "output_type": "stream",
     "text": [
      "time: 876 µs\n"
     ]
    }
   ],
   "source": [
    "# df.fw_info_birth_country.unique()"
   ]
  },
  {
   "cell_type": "code",
   "execution_count": 29,
   "metadata": {},
   "outputs": [
    {
     "name": "stdout",
     "output_type": "stream",
     "text": [
      "time: 36.7 ms\n"
     ]
    }
   ],
   "source": [
    "df.fw_info_birth_country.fillna(df.country_of_citizenship, inplace=True)\n",
    "# df.isnull().sum()"
   ]
  },
  {
   "cell_type": "markdown",
   "metadata": {},
   "source": [
    "### Job Title\n",
    "1. Condense Job Titles into Categories\n",
    "2. Fill in missing information using mode by major, education level, and class of admission"
   ]
  },
  {
   "cell_type": "code",
   "execution_count": 30,
   "metadata": {},
   "outputs": [
    {
     "name": "stdout",
     "output_type": "stream",
     "text": [
      "time: 851 µs\n"
     ]
    }
   ],
   "source": [
    "# df.job_info_alt_occ_job_title.value_counts()"
   ]
  },
  {
   "cell_type": "code",
   "execution_count": 31,
   "metadata": {},
   "outputs": [
    {
     "name": "stdout",
     "output_type": "stream",
     "text": [
      "time: 7.67 ms\n"
     ]
    }
   ],
   "source": [
    "def label(row,col):\n",
    "    if type(row[col])!=float:\n",
    "        value=row[col].lower()\n",
    "        value_case_sensitive=row[col]\n",
    "    else:\n",
    "        value='null'\n",
    "        value_case_sensitive='null'\n",
    "    programmer=['comp', 'software','developer', 'program','soft','web','application development', 'data']\n",
    "    it=['IT','Information Technology','technical']\n",
    "    h14=['H.14', 'H-14','H14','H. 14', 'H:14']\n",
    "    medicine=['health','doctor','pharm','therapist','surgery','acupunc', 'medic', 'dent', 'vet']\n",
    "    engineer=['engr','engineer','eng', 'tech']\n",
    "    marketing=['market','sale']\n",
    "    finance=['financ', 'consult','account','tax','audit']\n",
    "    other_biz=['analyst', 'business','anlyst','associate','manag','project']\n",
    "    academic=['analys', 'assistant', 'research', 'teach','academic', 'educ']\n",
    "    related=['related occupation', 'related', 'any', 'similar','experience', 'alternate']\n",
    "    h11=['H-11','H11','H.11', 'H. 11']\n",
    "    fourteen=['14']\n",
    "    nan=['null']\n",
    "    if value=='null' or value_case_sensitive=='null':\n",
    "        return None\n",
    "    if any(keyword in value for keyword in programmer):\n",
    "        return 'programming'\n",
    "    if any(keyword in value_case_sensitive for keyword in it):\n",
    "        return 'IT'\n",
    "    if any(keyword in value_case_sensitive for keyword in h14):\n",
    "        return 'H.14'\n",
    "    if any(keyword in value for keyword in medicine):\n",
    "        return 'medicine'\n",
    "    if any(keyword in value for keyword in engineer):\n",
    "        return 'engineer'\n",
    "    if any(keyword in value for keyword in marketing):\n",
    "        return 'marketing/sales'\n",
    "    if any(keyword in value for keyword in finance):\n",
    "        return 'finance/consulting/tax'\n",
    "    if any(keyword in value for keyword in other_biz):\n",
    "        return 'business'\n",
    "    if any(keyword in value for keyword in academic):\n",
    "        return 'academic'\n",
    "    if any(keyword in value_case_sensitive for keyword in h11):\n",
    "        return 'h11'\n",
    "    if any(keyword in value for keyword in related):\n",
    "        return 'related'\n",
    "    if any(keyword in value_case_sensitive for keyword in fourteen):\n",
    "        return '14'\n",
    "    return 'Other'"
   ]
  },
  {
   "cell_type": "code",
   "execution_count": 32,
   "metadata": {},
   "outputs": [
    {
     "name": "stdout",
     "output_type": "stream",
     "text": [
      "time: 9.32 s\n"
     ]
    }
   ],
   "source": [
    "df['job_category']=df.apply (lambda row: label(row, 'job_info_alt_occ_job_title'),axis=1)\n",
    "# df.job_category.value_counts()"
   ]
  },
  {
   "cell_type": "code",
   "execution_count": 33,
   "metadata": {
    "scrolled": true
   },
   "outputs": [
    {
     "name": "stdout",
     "output_type": "stream",
     "text": [
      "time: 524 µs\n"
     ]
    }
   ],
   "source": [
    "# df.job_info_alt_occ_job_title[df.job_category==\"Other\"].value_counts()"
   ]
  },
  {
   "cell_type": "code",
   "execution_count": 34,
   "metadata": {},
   "outputs": [
    {
     "name": "stdout",
     "output_type": "stream",
     "text": [
      "time: 3.58 s\n"
     ]
    }
   ],
   "source": [
    "job_type_fill_series = df[~df['job_category'].isnull()].groupby(['foreign_worker_info_major',\n",
    "                                                                               'foreign_worker_info_education',\n",
    "                                                                               'class_of_admission']\n",
    "                                                                             ).job_category.apply(mode).reset_index()\n",
    "# job_type_fill_series"
   ]
  },
  {
   "cell_type": "code",
   "execution_count": 35,
   "metadata": {
    "scrolled": true
   },
   "outputs": [
    {
     "name": "stdout",
     "output_type": "stream",
     "text": [
      "time: 884 ms\n"
     ]
    }
   ],
   "source": [
    "df = impute(df, job_type_fill_series, 'job_category',['foreign_worker_info_major',\n",
    "                                                                               'foreign_worker_info_education',\n",
    "                                                                               'class_of_admission'])\n",
    "# df.isnull().sum()"
   ]
  },
  {
   "cell_type": "code",
   "execution_count": 36,
   "metadata": {},
   "outputs": [
    {
     "name": "stdout",
     "output_type": "stream",
     "text": [
      "time: 40.2 ms\n"
     ]
    }
   ],
   "source": [
    "df=df.drop('job_info_alt_occ_job_title', axis=1)"
   ]
  },
  {
   "cell_type": "markdown",
   "metadata": {},
   "source": [
    "### Visa Type (Class of Admission)"
   ]
  },
  {
   "cell_type": "code",
   "execution_count": 37,
   "metadata": {},
   "outputs": [
    {
     "name": "stdout",
     "output_type": "stream",
     "text": [
      "time: 1.51 ms\n"
     ]
    }
   ],
   "source": [
    "# df.class_of_admission.unique()"
   ]
  },
  {
   "cell_type": "code",
   "execution_count": 38,
   "metadata": {},
   "outputs": [
    {
     "name": "stdout",
     "output_type": "stream",
     "text": [
      "time: 364 ms\n"
     ]
    }
   ],
   "source": [
    "visa_fill_series = df[~df['class_of_admission'].isnull()].groupby(['foreign_worker_info_education'\n",
    "                                                                  ]).class_of_admission.apply(mode).reset_index()\n",
    "# visa_fill_series"
   ]
  },
  {
   "cell_type": "code",
   "execution_count": 39,
   "metadata": {},
   "outputs": [
    {
     "name": "stdout",
     "output_type": "stream",
     "text": [
      "time: 569 ms\n"
     ]
    }
   ],
   "source": [
    "df = impute(df, visa_fill_series, 'class_of_admission',['foreign_worker_info_education'])"
   ]
  },
  {
   "cell_type": "markdown",
   "metadata": {},
   "source": [
    "### Drop Columns "
   ]
  },
  {
   "cell_type": "code",
   "execution_count": 40,
   "metadata": {},
   "outputs": [
    {
     "name": "stdout",
     "output_type": "stream",
     "text": [
      "time: 39.8 ms\n"
     ]
    }
   ],
   "source": [
    "df=df.drop(['foreign_worker_info_major', 'fw_info_birth_country', 'application_type','wage_offer_from_9089'], axis=1)"
   ]
  },
  {
   "cell_type": "markdown",
   "metadata": {},
   "source": [
    "### Final NA Counts Initial Dataset"
   ]
  },
  {
   "cell_type": "code",
   "execution_count": 41,
   "metadata": {},
   "outputs": [
    {
     "name": "stdout",
     "output_type": "stream",
     "text": [
      "time: 362 ms\n"
     ]
    }
   ],
   "source": [
    "df.isnull().sum()\n",
    "final_na=df.isnull().sum()"
   ]
  },
  {
   "cell_type": "markdown",
   "metadata": {},
   "source": [
    "# Data Cleaning Pt.2- Joining Tables to Reduce Categorical Data"
   ]
  },
  {
   "cell_type": "markdown",
   "metadata": {},
   "source": [
    "## Change Cities to Population"
   ]
  },
  {
   "cell_type": "code",
   "execution_count": 42,
   "metadata": {},
   "outputs": [
    {
     "name": "stdout",
     "output_type": "stream",
     "text": [
      "time: 279 ms\n"
     ]
    }
   ],
   "source": [
    "cities_pop = pd.read_excel('global-city-population-estimates.xls', sheet_name='CITIES-OVER-300K')"
   ]
  },
  {
   "cell_type": "code",
   "execution_count": 43,
   "metadata": {},
   "outputs": [
    {
     "name": "stdout",
     "output_type": "stream",
     "text": [
      "time: 11.6 ms\n"
     ]
    }
   ],
   "source": [
    "city_df = cities_pop.loc[:,['Urban Agglomeration', '2015']].rename(columns = {'Urban Agglomeration': 'city', '2015': 'pop'})"
   ]
  },
  {
   "cell_type": "code",
   "execution_count": 44,
   "metadata": {},
   "outputs": [
    {
     "name": "stdout",
     "output_type": "stream",
     "text": [
      "time: 15.6 ms\n"
     ]
    }
   ],
   "source": [
    "city_df['city'] = city_df['city'].str.upper()\n",
    "city_df.set_index('city', inplace=True)\n",
    "city_df_dict = city_df.to_dict()"
   ]
  },
  {
   "cell_type": "code",
   "execution_count": 45,
   "metadata": {},
   "outputs": [
    {
     "name": "stdout",
     "output_type": "stream",
     "text": [
      "time: 209 ms\n"
     ]
    }
   ],
   "source": [
    "df['foreign_worker_city_pop'] = df['foreign_worker_info_city'].apply(lambda x: city_df_dict['pop'].get(x, x))"
   ]
  },
  {
   "cell_type": "code",
   "execution_count": 46,
   "metadata": {},
   "outputs": [
    {
     "name": "stdout",
     "output_type": "stream",
     "text": [
      "time: 34.1 s\n"
     ]
    }
   ],
   "source": [
    "replacements={}\n",
    "for city in df.loc[df['foreign_worker_city_pop'].apply(type)==str,'foreign_worker_city_pop' ]:\n",
    "    for value in city_df.index:\n",
    "        if city in value:\n",
    "            replacements[city]=value"
   ]
  },
  {
   "cell_type": "code",
   "execution_count": 47,
   "metadata": {},
   "outputs": [
    {
     "name": "stdout",
     "output_type": "stream",
     "text": [
      "time: 265 ms\n"
     ]
    }
   ],
   "source": [
    "df['foreign_worker_city_pop'] = df['foreign_worker_city_pop'].apply(lambda x: replacements.get(x,x)).apply(lambda x: city_df_dict['pop'].get(x, x))"
   ]
  },
  {
   "cell_type": "code",
   "execution_count": 48,
   "metadata": {},
   "outputs": [
    {
     "name": "stdout",
     "output_type": "stream",
     "text": [
      "time: 171 ms\n"
     ]
    }
   ],
   "source": [
    "df['foreign_worker_city_pop']= df['foreign_worker_city_pop'].apply(lambda x: 300 if type(x)==str else x)"
   ]
  },
  {
   "cell_type": "code",
   "execution_count": 49,
   "metadata": {},
   "outputs": [
    {
     "name": "stdout",
     "output_type": "stream",
     "text": [
      "time: 65.3 ms\n"
     ]
    }
   ],
   "source": [
    "df['foreign_worker_info_city']= df['foreign_worker_city_pop']"
   ]
  },
  {
   "cell_type": "code",
   "execution_count": 50,
   "metadata": {},
   "outputs": [
    {
     "name": "stdout",
     "output_type": "stream",
     "text": [
      "time: 35.7 ms\n"
     ]
    }
   ],
   "source": [
    "df=df.drop('foreign_worker_city_pop', axis=1)"
   ]
  },
  {
   "cell_type": "code",
   "execution_count": 51,
   "metadata": {},
   "outputs": [
    {
     "name": "stdout",
     "output_type": "stream",
     "text": [
      "time: 6.12 ms\n"
     ]
    }
   ],
   "source": [
    "df['foreign_worker_info_city'].fillna(50.000, inplace=True)"
   ]
  },
  {
   "cell_type": "code",
   "execution_count": 52,
   "metadata": {},
   "outputs": [
    {
     "name": "stdout",
     "output_type": "stream",
     "text": [
      "time: 844 µs\n"
     ]
    }
   ],
   "source": [
    "# df.loc[df['foreign_worker_city_pop'].apply(type)==str, 'foreign_worker_city_pop' ].value_counts()"
   ]
  },
  {
   "cell_type": "code",
   "execution_count": 53,
   "metadata": {},
   "outputs": [
    {
     "name": "stdout",
     "output_type": "stream",
     "text": [
      "time: 1 ms\n"
     ]
    }
   ],
   "source": [
    "# df['foreign_worker_city_pop'].value_counts()"
   ]
  },
  {
   "cell_type": "markdown",
   "metadata": {},
   "source": [
    "## Fixing Duplicates in States"
   ]
  },
  {
   "cell_type": "code",
   "execution_count": 54,
   "metadata": {},
   "outputs": [
    {
     "name": "stdout",
     "output_type": "stream",
     "text": [
      "time: 789 ms\n"
     ]
    },
    {
     "name": "stderr",
     "output_type": "stream",
     "text": [
      "/Users/mayamadhavan/anaconda3/lib/python3.6/site-packages/ipykernel_launcher.py:2: FutureWarning: Sorting because non-concatenation axis is not aligned. A future version\n",
      "of pandas will change to not sort by default.\n",
      "\n",
      "To accept the future behavior, pass 'sort=True'.\n",
      "\n",
      "To retain the current behavior and silence the warning, pass sort=False\n",
      "\n",
      "  \n"
     ]
    }
   ],
   "source": [
    "state_list = pd.read_html('https://www.infoplease.com/state-abbreviations-and-state-postal-codes')\n",
    "state_abbr = pd.concat([state_list[0],state_list[1]], axis=0).reset_index()\n",
    "state_abbr['State/District'].fillna(state_abbr['Territory/Associate'],inplace=True)\n",
    "state_abbr.drop(['Territory/Associate', 'index'], axis=1, inplace=True)"
   ]
  },
  {
   "cell_type": "code",
   "execution_count": 55,
   "metadata": {},
   "outputs": [
    {
     "name": "stdout",
     "output_type": "stream",
     "text": [
      "time: 4.72 ms\n"
     ]
    }
   ],
   "source": [
    "state_abbr.drop('Abbreviation', axis=1, inplace=True)\n",
    "state_abbr.set_index('Postal Code', inplace=True)\n",
    "state_abbr['State/District'] = state_abbr['State/District'].str.upper()\n",
    "state_abbr_dict = state_abbr.to_dict()"
   ]
  },
  {
   "cell_type": "code",
   "execution_count": 56,
   "metadata": {},
   "outputs": [
    {
     "name": "stdout",
     "output_type": "stream",
     "text": [
      "time: 1.3 ms\n"
     ]
    }
   ],
   "source": [
    "state_abbr_dict['State/District']['NORTHERN MARIANAS']='NORTHERN MARIANA ISLANDS'\n",
    "state_abbr_dict['State/District']['BC']='BRITISH COLUMBIA'"
   ]
  },
  {
   "cell_type": "code",
   "execution_count": 57,
   "metadata": {},
   "outputs": [
    {
     "name": "stdout",
     "output_type": "stream",
     "text": [
      "time: 143 ms\n"
     ]
    }
   ],
   "source": [
    "df['employer_state']=df['employer_state'].apply(lambda x: state_abbr_dict['State/District'].get(x, x))"
   ]
  },
  {
   "cell_type": "markdown",
   "metadata": {},
   "source": [
    "# Dummify Variables"
   ]
  },
  {
   "cell_type": "code",
   "execution_count": 58,
   "metadata": {
    "scrolled": true
   },
   "outputs": [
    {
     "data": {
      "text/plain": [
       "[('class_of_admission', 57),\n",
       " ('country_of_citizenship', 201),\n",
       " ('case_status', 2),\n",
       " ('employer_state', 58),\n",
       " ('foreign_worker_info_city', 744),\n",
       " ('foreign_worker_info_education', 7),\n",
       " ('job_category', 13)]"
      ]
     },
     "execution_count": 58,
     "metadata": {},
     "output_type": "execute_result"
    },
    {
     "name": "stdout",
     "output_type": "stream",
     "text": [
      "time: 252 ms\n"
     ]
    }
   ],
   "source": [
    "[(col, len(df[col].value_counts())) for col in df.columns]"
   ]
  },
  {
   "cell_type": "code",
   "execution_count": 59,
   "metadata": {},
   "outputs": [
    {
     "name": "stdout",
     "output_type": "stream",
     "text": [
      "time: 1.05 s\n"
     ]
    }
   ],
   "source": [
    "df2=df.drop(['case_status'], axis=1)\n",
    "df3=pd.get_dummies(df2)\n",
    "df3['case_status']=df.case_status"
   ]
  },
  {
   "cell_type": "code",
   "execution_count": 60,
   "metadata": {},
   "outputs": [
    {
     "name": "stdout",
     "output_type": "stream",
     "text": [
      "time: 4.67 ms\n"
     ]
    }
   ],
   "source": [
    "df2=df3"
   ]
  },
  {
   "cell_type": "markdown",
   "metadata": {},
   "source": [
    "# Class Imbalances"
   ]
  },
  {
   "cell_type": "markdown",
   "metadata": {},
   "source": [
    "## Visualize"
   ]
  },
  {
   "cell_type": "code",
   "execution_count": 61,
   "metadata": {},
   "outputs": [
    {
     "name": "stdout",
     "output_type": "stream",
     "text": [
      "time: 38.5 ms\n"
     ]
    }
   ],
   "source": [
    "number_data=df2.case_status.value_counts()"
   ]
  },
  {
   "cell_type": "code",
   "execution_count": 62,
   "metadata": {},
   "outputs": [
    {
     "data": {
      "image/png": "[encoded data removed]",
      "text/plain": [
       "<Figure size 432x288 with 1 Axes>"
      ]
     },
     "metadata": {},
     "output_type": "display_data"
    },
    {
     "name": "stdout",
     "output_type": "stream",
     "text": [
      "time: 163 ms\n"
     ]
    }
   ],
   "source": [
    "number_data.plot(kind='bar', title='Class Count', rot=0);"
   ]
  },
  {
   "cell_type": "code",
   "execution_count": 63,
   "metadata": {},
   "outputs": [
    {
     "name": "stdout",
     "output_type": "stream",
     "text": [
      "time: 284 ms\n"
     ]
    }
   ],
   "source": [
    "X=df2.drop(['case_status'], axis=1)\n",
    "y=df2.case_status"
   ]
  },
  {
   "cell_type": "code",
   "execution_count": 64,
   "metadata": {},
   "outputs": [
    {
     "data": {
      "text/plain": [
       "Counter({'Certified': 330519, 'Denied': 25649})"
      ]
     },
     "execution_count": 64,
     "metadata": {},
     "output_type": "execute_result"
    },
    {
     "name": "stdout",
     "output_type": "stream",
     "text": [
      "time: 38.8 ms\n"
     ]
    }
   ],
   "source": [
    "Counter(df2.case_status)"
   ]
  },
  {
   "cell_type": "markdown",
   "metadata": {},
   "source": [
    "## Undersample"
   ]
  },
  {
   "cell_type": "code",
   "execution_count": 65,
   "metadata": {},
   "outputs": [
    {
     "name": "stdout",
     "output_type": "stream",
     "text": [
      "time: 3.87 s\n"
     ]
    }
   ],
   "source": [
    "rus = RandomUnderSampler()\n",
    "X_under, y_under = rus.fit_sample(X,y)"
   ]
  },
  {
   "cell_type": "code",
   "execution_count": 66,
   "metadata": {},
   "outputs": [
    {
     "data": {
      "text/plain": [
       "Counter({'Certified': 25649, 'Denied': 25649})"
      ]
     },
     "execution_count": 66,
     "metadata": {},
     "output_type": "execute_result"
    },
    {
     "name": "stdout",
     "output_type": "stream",
     "text": [
      "time: 6.51 ms\n"
     ]
    }
   ],
   "source": [
    "Counter(y_under)"
   ]
  },
  {
   "cell_type": "code",
   "execution_count": 67,
   "metadata": {},
   "outputs": [
    {
     "name": "stdout",
     "output_type": "stream",
     "text": [
      "time: 2.23 ms\n"
     ]
    }
   ],
   "source": [
    "X_underdf=pd.DataFrame(X_under, columns = X.columns)\n",
    "y_underdf=pd.DataFrame(y_under, columns=['case_status'])"
   ]
  },
  {
   "cell_type": "code",
   "execution_count": 68,
   "metadata": {},
   "outputs": [
    {
     "name": "stdout",
     "output_type": "stream",
     "text": [
      "time: 316 ms\n"
     ]
    }
   ],
   "source": [
    "df_under=X_underdf.join(y_underdf)"
   ]
  },
  {
   "cell_type": "code",
   "execution_count": 69,
   "metadata": {},
   "outputs": [
    {
     "data": {
      "text/html": [
       "<div>\n",
       "<style scoped>\n",
       "    .dataframe tbody tr th:only-of-type {\n",
       "        vertical-align: middle;\n",
       "    }\n",
       "\n",
       "    .dataframe tbody tr th {\n",
       "        vertical-align: top;\n",
       "    }\n",
       "\n",
       "    .dataframe thead th {\n",
       "        text-align: right;\n",
       "    }\n",
       "</style>\n",
       "<table border=\"1\" class=\"dataframe\">\n",
       "  <thead>\n",
       "    <tr style=\"text-align: right;\">\n",
       "      <th></th>\n",
       "      <th>foreign_worker_info_city</th>\n",
       "      <th>class_of_admission_A-3</th>\n",
       "      <th>class_of_admission_A1/A2</th>\n",
       "      <th>class_of_admission_AOS</th>\n",
       "      <th>class_of_admission_AOS/H-1B</th>\n",
       "      <th>class_of_admission_B-1</th>\n",
       "      <th>class_of_admission_B-2</th>\n",
       "      <th>class_of_admission_C-1</th>\n",
       "      <th>class_of_admission_C-3</th>\n",
       "      <th>class_of_admission_D-1</th>\n",
       "      <th>...</th>\n",
       "      <th>job_category_academic</th>\n",
       "      <th>job_category_business</th>\n",
       "      <th>job_category_engineer</th>\n",
       "      <th>job_category_finance/consulting/tax</th>\n",
       "      <th>job_category_h11</th>\n",
       "      <th>job_category_marketing/sales</th>\n",
       "      <th>job_category_medicine</th>\n",
       "      <th>job_category_programming</th>\n",
       "      <th>job_category_related</th>\n",
       "      <th>case_status</th>\n",
       "    </tr>\n",
       "  </thead>\n",
       "  <tbody>\n",
       "    <tr>\n",
       "      <th>0</th>\n",
       "      <td>300.000</td>\n",
       "      <td>0.0</td>\n",
       "      <td>0.0</td>\n",
       "      <td>0.0</td>\n",
       "      <td>0.0</td>\n",
       "      <td>0.0</td>\n",
       "      <td>0.0</td>\n",
       "      <td>0.0</td>\n",
       "      <td>0.0</td>\n",
       "      <td>0.0</td>\n",
       "      <td>...</td>\n",
       "      <td>0.0</td>\n",
       "      <td>0.0</td>\n",
       "      <td>0.0</td>\n",
       "      <td>0.0</td>\n",
       "      <td>0.0</td>\n",
       "      <td>0.0</td>\n",
       "      <td>0.0</td>\n",
       "      <td>0.0</td>\n",
       "      <td>0.0</td>\n",
       "      <td>Certified</td>\n",
       "    </tr>\n",
       "    <tr>\n",
       "      <th>1</th>\n",
       "      <td>5585.211</td>\n",
       "      <td>0.0</td>\n",
       "      <td>0.0</td>\n",
       "      <td>0.0</td>\n",
       "      <td>0.0</td>\n",
       "      <td>0.0</td>\n",
       "      <td>0.0</td>\n",
       "      <td>0.0</td>\n",
       "      <td>0.0</td>\n",
       "      <td>0.0</td>\n",
       "      <td>...</td>\n",
       "      <td>0.0</td>\n",
       "      <td>0.0</td>\n",
       "      <td>1.0</td>\n",
       "      <td>0.0</td>\n",
       "      <td>0.0</td>\n",
       "      <td>0.0</td>\n",
       "      <td>0.0</td>\n",
       "      <td>0.0</td>\n",
       "      <td>0.0</td>\n",
       "      <td>Certified</td>\n",
       "    </tr>\n",
       "    <tr>\n",
       "      <th>2</th>\n",
       "      <td>4062.605</td>\n",
       "      <td>0.0</td>\n",
       "      <td>0.0</td>\n",
       "      <td>0.0</td>\n",
       "      <td>0.0</td>\n",
       "      <td>0.0</td>\n",
       "      <td>0.0</td>\n",
       "      <td>0.0</td>\n",
       "      <td>0.0</td>\n",
       "      <td>0.0</td>\n",
       "      <td>...</td>\n",
       "      <td>0.0</td>\n",
       "      <td>0.0</td>\n",
       "      <td>0.0</td>\n",
       "      <td>0.0</td>\n",
       "      <td>0.0</td>\n",
       "      <td>0.0</td>\n",
       "      <td>0.0</td>\n",
       "      <td>0.0</td>\n",
       "      <td>1.0</td>\n",
       "      <td>Certified</td>\n",
       "    </tr>\n",
       "    <tr>\n",
       "      <th>3</th>\n",
       "      <td>18593.220</td>\n",
       "      <td>0.0</td>\n",
       "      <td>0.0</td>\n",
       "      <td>0.0</td>\n",
       "      <td>0.0</td>\n",
       "      <td>0.0</td>\n",
       "      <td>0.0</td>\n",
       "      <td>0.0</td>\n",
       "      <td>0.0</td>\n",
       "      <td>0.0</td>\n",
       "      <td>...</td>\n",
       "      <td>0.0</td>\n",
       "      <td>0.0</td>\n",
       "      <td>0.0</td>\n",
       "      <td>1.0</td>\n",
       "      <td>0.0</td>\n",
       "      <td>0.0</td>\n",
       "      <td>0.0</td>\n",
       "      <td>0.0</td>\n",
       "      <td>0.0</td>\n",
       "      <td>Certified</td>\n",
       "    </tr>\n",
       "    <tr>\n",
       "      <th>4</th>\n",
       "      <td>2659.134</td>\n",
       "      <td>0.0</td>\n",
       "      <td>0.0</td>\n",
       "      <td>0.0</td>\n",
       "      <td>0.0</td>\n",
       "      <td>0.0</td>\n",
       "      <td>0.0</td>\n",
       "      <td>0.0</td>\n",
       "      <td>0.0</td>\n",
       "      <td>0.0</td>\n",
       "      <td>...</td>\n",
       "      <td>0.0</td>\n",
       "      <td>0.0</td>\n",
       "      <td>0.0</td>\n",
       "      <td>0.0</td>\n",
       "      <td>0.0</td>\n",
       "      <td>0.0</td>\n",
       "      <td>0.0</td>\n",
       "      <td>1.0</td>\n",
       "      <td>0.0</td>\n",
       "      <td>Certified</td>\n",
       "    </tr>\n",
       "  </tbody>\n",
       "</table>\n",
       "<p>5 rows × 338 columns</p>\n",
       "</div>"
      ],
      "text/plain": [
       "   foreign_worker_info_city  class_of_admission_A-3  class_of_admission_A1/A2  \\\n",
       "0                   300.000                     0.0                       0.0   \n",
       "1                  5585.211                     0.0                       0.0   \n",
       "2                  4062.605                     0.0                       0.0   \n",
       "3                 18593.220                     0.0                       0.0   \n",
       "4                  2659.134                     0.0                       0.0   \n",
       "\n",
       "   class_of_admission_AOS  class_of_admission_AOS/H-1B  \\\n",
       "0                     0.0                          0.0   \n",
       "1                     0.0                          0.0   \n",
       "2                     0.0                          0.0   \n",
       "3                     0.0                          0.0   \n",
       "4                     0.0                          0.0   \n",
       "\n",
       "   class_of_admission_B-1  class_of_admission_B-2  class_of_admission_C-1  \\\n",
       "0                     0.0                     0.0                     0.0   \n",
       "1                     0.0                     0.0                     0.0   \n",
       "2                     0.0                     0.0                     0.0   \n",
       "3                     0.0                     0.0                     0.0   \n",
       "4                     0.0                     0.0                     0.0   \n",
       "\n",
       "   class_of_admission_C-3  class_of_admission_D-1     ...       \\\n",
       "0                     0.0                     0.0     ...        \n",
       "1                     0.0                     0.0     ...        \n",
       "2                     0.0                     0.0     ...        \n",
       "3                     0.0                     0.0     ...        \n",
       "4                     0.0                     0.0     ...        \n",
       "\n",
       "   job_category_academic  job_category_business  job_category_engineer  \\\n",
       "0                    0.0                    0.0                    0.0   \n",
       "1                    0.0                    0.0                    1.0   \n",
       "2                    0.0                    0.0                    0.0   \n",
       "3                    0.0                    0.0                    0.0   \n",
       "4                    0.0                    0.0                    0.0   \n",
       "\n",
       "   job_category_finance/consulting/tax  job_category_h11  \\\n",
       "0                                  0.0               0.0   \n",
       "1                                  0.0               0.0   \n",
       "2                                  0.0               0.0   \n",
       "3                                  1.0               0.0   \n",
       "4                                  0.0               0.0   \n",
       "\n",
       "   job_category_marketing/sales  job_category_medicine  \\\n",
       "0                           0.0                    0.0   \n",
       "1                           0.0                    0.0   \n",
       "2                           0.0                    0.0   \n",
       "3                           0.0                    0.0   \n",
       "4                           0.0                    0.0   \n",
       "\n",
       "   job_category_programming  job_category_related  case_status  \n",
       "0                       0.0                   0.0    Certified  \n",
       "1                       0.0                   0.0    Certified  \n",
       "2                       0.0                   1.0    Certified  \n",
       "3                       0.0                   0.0    Certified  \n",
       "4                       1.0                   0.0    Certified  \n",
       "\n",
       "[5 rows x 338 columns]"
      ]
     },
     "execution_count": 69,
     "metadata": {},
     "output_type": "execute_result"
    },
    {
     "name": "stdout",
     "output_type": "stream",
     "text": [
      "time: 23.3 ms\n"
     ]
    }
   ],
   "source": [
    "df_under.head()"
   ]
  },
  {
   "cell_type": "markdown",
   "metadata": {},
   "source": [
    "# Store as CSV"
   ]
  },
  {
   "cell_type": "code",
   "execution_count": 70,
   "metadata": {},
   "outputs": [
    {
     "name": "stdout",
     "output_type": "stream",
     "text": [
      "time: 556 µs\n"
     ]
    }
   ],
   "source": [
    "# with open('clean_data1.pkl', 'wb') as picklefile:\n",
    "#              pickle.dump(df_under, picklefile)"
   ]
  },
  {
   "cell_type": "code",
   "execution_count": 71,
   "metadata": {},
   "outputs": [
    {
     "name": "stdout",
     "output_type": "stream",
     "text": [
      "time: 609 µs\n"
     ]
    }
   ],
   "source": [
    "# with open(\"clean_data1.pkl\", 'rb') as picklefile: \n",
    "#       df = pickle.load(picklefile)\n",
    "# df.to_csv('clean_data1.csv')\n",
    "# df.head()"
   ]
  },
  {
   "cell_type": "markdown",
   "metadata": {},
   "source": [
    "# Modeling"
   ]
  },
  {
   "cell_type": "code",
   "execution_count": 72,
   "metadata": {},
   "outputs": [
    {
     "name": "stdout",
     "output_type": "stream",
     "text": [
      "time: 232 ms\n"
     ]
    }
   ],
   "source": [
    "from sklearn.model_selection import GridSearchCV\n",
    "from sklearn.preprocessing import StandardScaler, label_binarize\n",
    "from sklearn.neighbors import KNeighborsClassifier\n",
    "from sklearn.metrics import confusion_matrix\n",
    "from sklearn.linear_model import LogisticRegression, SGDClassifier\n",
    "from sklearn.ensemble import RandomForestClassifier, BaggingClassifier\n",
    "from sklearn.tree import DecisionTreeClassifier\n",
    "from sklearn.dummy import DummyClassifier\n",
    "import seaborn as sns\n",
    "from sklearn.model_selection import cross_val_score\n",
    "import matplotlib as plt\n",
    "from sklearn.model_selection import learning_curve\n",
    "from sklearn.metrics import roc_curve, auc\n",
    "import matplotlib.pyplot as plt\n",
    "from sklearn import svm, datasets\n",
    "from sklearn.metrics import roc_curve, auc\n",
    "from sklearn.model_selection import train_test_split\n",
    "from sklearn.preprocessing import label_binarize\n",
    "from sklearn.multiclass import OneVsRestClassifier\n",
    "from scipy import interp\n",
    "from sklearn import naive_bayes"
   ]
  },
  {
   "cell_type": "code",
   "execution_count": 73,
   "metadata": {},
   "outputs": [
    {
     "name": "stdout",
     "output_type": "stream",
     "text": [
      "time: 4.05 ms\n"
     ]
    }
   ],
   "source": [
    "def print_confusion_matrix(confusion_matrix, model, class_names, figsize = (10,7), fontsize=18):\n",
    "    df_cm = pd.DataFrame(\n",
    "        confusion_matrix, index=class_names, columns=class_names, \n",
    "    )\n",
    "    fig = plt.figure(figsize=figsize)\n",
    "    try:\n",
    "        heatmap = sns.heatmap(df_cm, annot=True, fmt=\"d\")\n",
    "    except ValueError:\n",
    "        raise ValueError(\"Confusion matrix values must be integers.\")\n",
    "    heatmap.yaxis.set_ticklabels(heatmap.yaxis.get_ticklabels(), rotation=0, ha='right', fontsize=fontsize)\n",
    "    heatmap.xaxis.set_ticklabels(heatmap.xaxis.get_ticklabels(), rotation=45, ha='right', fontsize=fontsize)\n",
    "    plt.ylabel('True label')\n",
    "    plt.xlabel('Predicted label')\n",
    "    plt.title(model)\n",
    "    return fig"
   ]
  },
  {
   "cell_type": "markdown",
   "metadata": {},
   "source": [
    "## Train/Test Split on Random Subset of Data"
   ]
  },
  {
   "cell_type": "code",
   "execution_count": 74,
   "metadata": {},
   "outputs": [
    {
     "name": "stdout",
     "output_type": "stream",
     "text": [
      "time: 99.9 ms\n"
     ]
    }
   ],
   "source": [
    "mini_sample=df_under.sample(n=15000)\n",
    "X=mini_sample.drop(['case_status'], axis=1)\n",
    "y=mini_sample.case_status"
   ]
  },
  {
   "cell_type": "code",
   "execution_count": 75,
   "metadata": {},
   "outputs": [
    {
     "name": "stdout",
     "output_type": "stream",
     "text": [
      "time: 44.2 ms\n"
     ]
    }
   ],
   "source": [
    "X_train, X_test, y_train, y_test = train_test_split(X, y, test_size=0.4, random_state=42)"
   ]
  },
  {
   "cell_type": "code",
   "execution_count": 76,
   "metadata": {},
   "outputs": [
    {
     "name": "stdout",
     "output_type": "stream",
     "text": [
      "time: 28.9 ms\n"
     ]
    }
   ],
   "source": [
    "train_df=X_train.join(pd.DataFrame(y_train))\n",
    "test_df=X_test.join(y_test)"
   ]
  },
  {
   "cell_type": "markdown",
   "metadata": {},
   "source": [
    "## Apply Standard Scalar"
   ]
  },
  {
   "cell_type": "code",
   "execution_count": 77,
   "metadata": {},
   "outputs": [
    {
     "name": "stdout",
     "output_type": "stream",
     "text": [
      "time: 111 ms\n"
     ]
    }
   ],
   "source": [
    "ss = StandardScaler()\n",
    "ss.fit(X_train)\n",
    "X_train_scaled = ss.transform(X_train)\n",
    "X_test_scaled = ss.transform(X_test)"
   ]
  },
  {
   "cell_type": "code",
   "execution_count": 78,
   "metadata": {},
   "outputs": [
    {
     "name": "stdout",
     "output_type": "stream",
     "text": [
      "time: 20 ms\n"
     ]
    }
   ],
   "source": [
    "train_df_scaled=pd.DataFrame(X_train_scaled).join(y_train)\n",
    "test_df_sclaed=pd.DataFrame(X_test_scaled).join(y_test)"
   ]
  },
  {
   "cell_type": "markdown",
   "metadata": {},
   "source": [
    "## Make List of Models to Compare"
   ]
  },
  {
   "cell_type": "code",
   "execution_count": 79,
   "metadata": {},
   "outputs": [
    {
     "name": "stdout",
     "output_type": "stream",
     "text": [
      "time: 1.8 ms\n"
     ]
    }
   ],
   "source": [
    "models = [RandomForestClassifier(n_estimators=100, n_jobs=-1, max_depth=10), DecisionTreeClassifier(max_depth=None),\n",
    "          LogisticRegression(C=0.1), SGDClassifier(loss='log', random_state=42, alpha=0.01), naive_bayes.GaussianNB(),\n",
    "         naive_bayes.BernoulliNB(), naive_bayes.MultinomialNB()]\n",
    "model_names = [\"Random Forest\", \"Decision Tree\",'Logistic','SGD-Log', 'Naive-Bayes Gaussian',\n",
    "              'Naive-Bayes Bernoulli', 'Naive-Bayes Multinomial']"
   ]
  },
  {
   "cell_type": "markdown",
   "metadata": {},
   "source": [
    "## Compare Models- ROC Curves"
   ]
  },
  {
   "cell_type": "code",
   "execution_count": 80,
   "metadata": {},
   "outputs": [
    {
     "name": "stderr",
     "output_type": "stream",
     "text": [
      "/Users/mayamadhavan/anaconda3/lib/python3.6/site-packages/sklearn/linear_model/stochastic_gradient.py:128: FutureWarning: max_iter and tol parameters have been added in <class 'sklearn.linear_model.stochastic_gradient.SGDClassifier'> in 0.19. If both are left unset, they default to max_iter=5 and tol=None. If tol is not None, max_iter defaults to max_iter=1000. From 0.21, default max_iter will be 1000, and default tol will be 1e-3.\n",
      "  \"and default tol will be 1e-3.\" % type(self), FutureWarning)\n"
     ]
    },
    {
     "name": "stdout",
     "output_type": "stream",
     "text": [
      "time: 1.93 s\n"
     ]
    }
   ],
   "source": [
    "roc_plotting_stuff = []\n",
    "\n",
    "for clf, name in zip(models, model_names):\n",
    "    if 'Bayes' not in name:\n",
    "        clf.fit(X_train_scaled, y_train)\n",
    "        preds = clf.predict_proba(X_test_scaled)\n",
    "    else:\n",
    "        clf.fit(X_train, y_train)\n",
    "        preds = clf.predict_proba(X_test)\n",
    "    fpr, tpr, _ = roc_curve(y_test, preds[:,1], pos_label='Denied')\n",
    "    auc_score = auc(fpr, tpr)\n",
    "    roc_plotting_stuff.append((name, tpr, fpr, auc_score))"
   ]
  },
  {
   "cell_type": "code",
   "execution_count": 81,
   "metadata": {},
   "outputs": [
    {
     "data": {
      "image/png": "[encoded data removed]",
      "text/plain": [
       "<Figure size 1500x1000 with 1 Axes>"
      ]
     },
     "metadata": {},
     "output_type": "display_data"
    },
    {
     "name": "stdout",
     "output_type": "stream",
     "text": [
      "time: 477 ms\n"
     ]
    }
   ],
   "source": [
    "plt.figure(dpi=250)\n",
    "for name, tpr, fpr, auc_score in roc_plotting_stuff:\n",
    "    plt.plot(fpr, tpr, label=name+' (auc: %.2f)'%auc_score)\n",
    "plt.legend(loc='lower right', fontsize=9)\n",
    "plt.plot([0, 1], [0, 1], color='k', linestyle='--');\n",
    "plt.xlabel(\"False Positive Rate\")\n",
    "plt.ylabel(\"True Positive Rate\")\n",
    "plt.title(\"Comparing ROC Curves\");"
   ]
  },
  {
   "cell_type": "markdown",
   "metadata": {},
   "source": [
    "## Compare Models- Confusion Matrices"
   ]
  },
  {
   "cell_type": "code",
   "execution_count": 85,
   "metadata": {},
   "outputs": [
    {
     "name": "stderr",
     "output_type": "stream",
     "text": [
      "/Users/mayamadhavan/anaconda3/lib/python3.6/site-packages/sklearn/linear_model/stochastic_gradient.py:128: FutureWarning: max_iter and tol parameters have been added in <class 'sklearn.linear_model.stochastic_gradient.SGDClassifier'> in 0.19. If both are left unset, they default to max_iter=5 and tol=None. If tol is not None, max_iter defaults to max_iter=1000. From 0.21, default max_iter will be 1000, and default tol will be 1e-3.\n",
      "  \"and default tol will be 1e-3.\" % type(self), FutureWarning)\n"
     ]
    },
    {
     "data": {
      "image/png": "[encoded data removed]",
      "text/plain": [
       "<Figure size 720x504 with 2 Axes>"
      ]
     },
     "metadata": {},
     "output_type": "display_data"
    },
    {
     "data": {
      "image/png": "[encoded data removed]",
      "text/plain": [
       "<Figure size 720x504 with 2 Axes>"
      ]
     },
     "metadata": {},
     "output_type": "display_data"
    },
    {
     "data": {
      "image/png": "[encoded data removed]",
      "text/plain": [
       "<Figure size 720x504 with 2 Axes>"
      ]
     },
     "metadata": {},
     "output_type": "display_data"
    },
    {
     "data": {
      "image/png": "[encoded data removed]",
      "text/plain": [
       "<Figure size 720x504 with 2 Axes>"
      ]
     },
     "metadata": {},
     "output_type": "display_data"
    },
    {
     "data": {
      "image/png": "[encoded data removed]",
      "text/plain": [
       "<Figure size 720x504 with 2 Axes>"
      ]
     },
     "metadata": {},
     "output_type": "display_data"
    },
    {
     "data": {
      "image/png": "[encoded data removed]",
      "text/plain": [
       "<Figure size 720x504 with 2 Axes>"
      ]
     },
     "metadata": {},
     "output_type": "display_data"
    },
    {
     "data": {
      "image/png": "[encoded data removed]",
      "text/plain": [
       "<Figure size 720x504 with 2 Axes>"
      ]
     },
     "metadata": {},
     "output_type": "display_data"
    },
    {
     "name": "stdout",
     "output_type": "stream",
     "text": [
      "time: 3.17 s\n"
     ]
    }
   ],
   "source": [
    "for clf, name in zip(models, model_names):\n",
    "    if 'Bayes' not in name:\n",
    "        clf.fit(X_train_scaled, y_train)\n",
    "        y_pred = clf.predict(X_test_scaled)\n",
    "    else:\n",
    "        clf.fit(X_train, y_train)\n",
    "        y_pred = clf.predict(X_test)\n",
    "    conf_mat = confusion_matrix(y_true=y_test, y_pred=y_pred)\n",
    "    cm = print_confusion_matrix(conf_mat, name, ['Certified', 'Denied'])"
   ]
  },
  {
   "cell_type": "markdown",
   "metadata": {},
   "source": [
    "## Which Features are Important"
   ]
  },
  {
   "cell_type": "code",
   "execution_count": 84,
   "metadata": {},
   "outputs": [
    {
     "name": "stdout",
     "output_type": "stream",
     "text": [
      "foreign_worker_info_education_Bachelor's 0.026732227522872982\n",
      "class_of_admission_Not in USA 0.028871597308656915\n",
      "job_category_H.14 0.029109994582233886\n",
      "foreign_worker_info_education_Master's 0.032789638686929544\n",
      "country_of_citizenship_MEXICO 0.03651641264305711\n",
      "job_category_programming 0.04381094456940282\n",
      "foreign_worker_info_education_None 0.06739881724748004\n",
      "country_of_citizenship_INDIA 0.08682992177141159\n",
      "foreign_worker_info_city 0.08967297942722259\n",
      "class_of_admission_H-1B 0.1249723067819401\n",
      "time: 105 ms\n"
     ]
    }
   ],
   "source": [
    "for imp, name in sorted(zip(models[0].feature_importances_, X_train.columns))[-10:]:\n",
    "    print(f\"{name} {imp}\")"
   ]
  },
  {
   "cell_type": "markdown",
   "metadata": {},
   "source": [
    "## Apply Chosen Model to Full Train and Score on Test"
   ]
  },
  {
   "cell_type": "markdown",
   "metadata": {},
   "source": [
    "### Random Forest"
   ]
  },
  {
   "cell_type": "code",
   "execution_count": 86,
   "metadata": {},
   "outputs": [
    {
     "data": {
      "text/plain": [
       "RandomForestClassifier(bootstrap=True, class_weight=None, criterion='gini',\n",
       "            max_depth=10, max_features='auto', max_leaf_nodes=None,\n",
       "            min_impurity_decrease=0.0, min_impurity_split=None,\n",
       "            min_samples_leaf=1, min_samples_split=2,\n",
       "            min_weight_fraction_leaf=0.0, n_estimators=100, n_jobs=-1,\n",
       "            oob_score=False, random_state=None, verbose=0,\n",
       "            warm_start=False)"
      ]
     },
     "execution_count": 86,
     "metadata": {},
     "output_type": "execute_result"
    },
    {
     "name": "stdout",
     "output_type": "stream",
     "text": [
      "time: 510 ms\n"
     ]
    }
   ],
   "source": [
    "rfc=RandomForestClassifier(n_estimators=100, n_jobs=-1, max_depth=10)\n",
    "rfc.fit(X_train, y_train)"
   ]
  },
  {
   "cell_type": "code",
   "execution_count": 87,
   "metadata": {},
   "outputs": [
    {
     "data": {
      "text/plain": [
       "0.6746666666666666"
      ]
     },
     "execution_count": 87,
     "metadata": {},
     "output_type": "execute_result"
    },
    {
     "name": "stdout",
     "output_type": "stream",
     "text": [
      "time: 242 ms\n"
     ]
    }
   ],
   "source": [
    "y_predict = rfc.predict(X_train)\n",
    "rfc.score(X_train, y_train)"
   ]
  },
  {
   "cell_type": "code",
   "execution_count": 88,
   "metadata": {},
   "outputs": [
    {
     "data": {
      "text/plain": [
       "0.6405"
      ]
     },
     "execution_count": 88,
     "metadata": {},
     "output_type": "execute_result"
    },
    {
     "name": "stdout",
     "output_type": "stream",
     "text": [
      "time: 238 ms\n"
     ]
    }
   ],
   "source": [
    "y_predict_test = rfc.predict(X_test)\n",
    "rfc.score(X_test, y_test)"
   ]
  },
  {
   "cell_type": "markdown",
   "metadata": {},
   "source": [
    "### Logistic Regression"
   ]
  },
  {
   "cell_type": "code",
   "execution_count": 89,
   "metadata": {},
   "outputs": [
    {
     "data": {
      "text/plain": [
       "LogisticRegression(C=1.0, class_weight=None, dual=False, fit_intercept=True,\n",
       "          intercept_scaling=1, max_iter=100, multi_class='ovr', n_jobs=1,\n",
       "          penalty='l2', random_state=None, solver='liblinear', tol=0.0001,\n",
       "          verbose=0, warm_start=False)"
      ]
     },
     "execution_count": 89,
     "metadata": {},
     "output_type": "execute_result"
    },
    {
     "name": "stdout",
     "output_type": "stream",
     "text": [
      "time: 60.7 ms\n"
     ]
    }
   ],
   "source": [
    "lm = LogisticRegression()\n",
    "lm.fit(X_train, y_train)"
   ]
  },
  {
   "cell_type": "code",
   "execution_count": 90,
   "metadata": {},
   "outputs": [
    {
     "data": {
      "text/plain": [
       "0.6477777777777778"
      ]
     },
     "execution_count": 90,
     "metadata": {},
     "output_type": "execute_result"
    },
    {
     "name": "stdout",
     "output_type": "stream",
     "text": [
      "time: 43.7 ms\n"
     ]
    }
   ],
   "source": [
    "y_predict2 = lm.predict(X_train)\n",
    "lm.score(X_train, y_train)"
   ]
  },
  {
   "cell_type": "code",
   "execution_count": 91,
   "metadata": {},
   "outputs": [
    {
     "data": {
      "text/plain": [
       "0.6338333333333334"
      ]
     },
     "execution_count": 91,
     "metadata": {},
     "output_type": "execute_result"
    },
    {
     "name": "stdout",
     "output_type": "stream",
     "text": [
      "time: 34.9 ms\n"
     ]
    }
   ],
   "source": [
    "y_predict_test2 = lm.predict(X_test)\n",
    "lm.score(X_test, y_test)"
   ]
  },
  {
   "cell_type": "markdown",
   "metadata": {},
   "source": [
    "## Check How Many Data Points are Needed for Final Model"
   ]
  },
  {
   "cell_type": "code",
   "execution_count": 92,
   "metadata": {},
   "outputs": [
    {
     "data": {
      "text/plain": [
       "(-1, 1)"
      ]
     },
     "execution_count": 92,
     "metadata": {},
     "output_type": "execute_result"
    },
    {
     "data": {
      "image/png": "[encoded data removed]",
      "text/plain": [
       "<Figure size 432x288 with 1 Axes>"
      ]
     },
     "metadata": {},
     "output_type": "display_data"
    },
    {
     "name": "stdout",
     "output_type": "stream",
     "text": [
      "time: 12.5 s\n"
     ]
    }
   ],
   "source": [
    "train_sizes, train_scores, test_scores = learning_curve(rfc, X_train, y_train, cv= 4)\n",
    "\n",
    "ave_train_scores = train_scores.mean(axis=1)\n",
    "ave_test_scores = test_scores.mean(axis=1)\n",
    "\n",
    "learn_df = pd.DataFrame({\n",
    "    'train_size': train_sizes,\n",
    "    'train_score': ave_train_scores,\n",
    "    'test_score': ave_test_scores\n",
    "})\n",
    "learn_df\n",
    "\n",
    "plt.plot(learn_df['train_size'], learn_df['train_score'], 'r--o', label='train scores')\n",
    "plt.plot(learn_df['train_size'], learn_df['test_score'], 'b--x', label='test size')\n",
    "plt.legend(loc='lower right')\n",
    "plt.ylim(-1,1)"
   ]
  },
  {
   "cell_type": "markdown",
   "metadata": {},
   "source": [
    "This implies that approximately 3000 data points were needed to test this model. Hence the initial random sample  is justified."
   ]
  },
  {
   "cell_type": "markdown",
   "metadata": {},
   "source": [
    "# Making Predictions"
   ]
  },
  {
   "cell_type": "markdown",
   "metadata": {},
   "source": [
    "## Get Predictions"
   ]
  },
  {
   "cell_type": "code",
   "execution_count": 133,
   "metadata": {},
   "outputs": [
    {
     "name": "stdout",
     "output_type": "stream",
     "text": [
      "time: 4.29 ms\n"
     ]
    }
   ],
   "source": [
    "def prediction(features):\n",
    "    try:\n",
    "        city_origin=replacements[features['foreign_worker_info_city'].upper()]\n",
    "    except:\n",
    "        city_origin=features['foreign_worker_info_city'].upper()\n",
    "    try:\n",
    "        city_pop=city_df_dict['pop'][city_origin]\n",
    "    except:\n",
    "        city_pop=300.000\n",
    "    print(city_pop)\n",
    "    test_case = pd.DataFrame({'class_of_admission': features['class_of_admission'],\n",
    "                      'country_of_citizenship': features['country_of_citizenship'], \n",
    "                      'employer_state': features['employer_state'],\n",
    "                      'foreign_worker_info_city': city_pop,\n",
    "                      'foreign_worker_info_education': features['foreign_worker_info_education'],\n",
    "                      'job_category': features['job_category']}, index=[0])\n",
    "    \n",
    "    test_case_dummies=pd.get_dummies(test_case)\n",
    "    missing_cols=set(X_train.columns) - set(test_case_dummies.columns)\n",
    "    for c in missing_cols:\n",
    "        test_case_dummies[c] = 0\n",
    "    test_case_dummies = test_case_dummies[X_train.columns]\n",
    "    \n",
    "    prob_certified = rfc.predict_proba(test_case_dummies)[0, 1] \n",
    "    outcome=''\n",
    "    if int(prob_certified > 0.5):\n",
    "        outcome+='Certified Visa'\n",
    "    else:\n",
    "        outcome+='Denied Visa'\n",
    "    result = {\n",
    "        'prediction': outcome,\n",
    "        'prob_certified': prob_certified\n",
    "    }\n",
    "    return result"
   ]
  },
  {
   "cell_type": "code",
   "execution_count": 134,
   "metadata": {},
   "outputs": [
    {
     "name": "stdout",
     "output_type": "stream",
     "text": [
      "time: 1.67 ms\n"
     ]
    }
   ],
   "source": [
    "example = {\n",
    "  'class_of_admission': 'H-1B',\n",
    "  'country_of_citizenship': 'INDIA',\n",
    "  'employer_state': 'NJ',\n",
    "  'foreign_worker_info_city': 'NEW YORK',\n",
    "  'foreign_worker_info_education': 'High School',\n",
    "  'job_category': 'Other'\n",
    "}"
   ]
  },
  {
   "cell_type": "code",
   "execution_count": 135,
   "metadata": {},
   "outputs": [
    {
     "name": "stdout",
     "output_type": "stream",
     "text": [
      "18593.22\n"
     ]
    },
    {
     "data": {
      "text/plain": [
       "{'prediction': 'Certified Visa', 'prob_certified': 0.524360280767735}"
      ]
     },
     "execution_count": 135,
     "metadata": {},
     "output_type": "execute_result"
    },
    {
     "name": "stdout",
     "output_type": "stream",
     "text": [
      "time: 239 ms\n"
     ]
    }
   ],
   "source": [
    "prediction(example)"
   ]
  },
  {
   "cell_type": "markdown",
   "metadata": {},
   "source": [
    "# You Can't Tell a Story Without a Plot!"
   ]
  },
  {
   "cell_type": "code",
   "execution_count": null,
   "metadata": {},
   "outputs": [],
   "source": [
    "import plotly.plotly as py"
   ]
  },
  {
   "cell_type": "markdown",
   "metadata": {},
   "source": [
    "## Data Cleaning, Before and After"
   ]
  },
  {
   "cell_type": "code",
   "execution_count": null,
   "metadata": {},
   "outputs": [],
   "source": []
  },
  {
   "cell_type": "code",
   "execution_count": null,
   "metadata": {},
   "outputs": [],
   "source": []
  },
  {
   "cell_type": "code",
   "execution_count": null,
   "metadata": {},
   "outputs": [],
   "source": [
    "df.columns"
   ]
  },
  {
   "cell_type": "markdown",
   "metadata": {},
   "source": [
    "## Cloropleth"
   ]
  },
  {
   "cell_type": "code",
   "execution_count": null,
   "metadata": {},
   "outputs": [],
   "source": [
    "data = [ dict(\n",
    "        type = 'choropleth',\n",
    "        locations = df['CODE'],\n",
    "        z = df['case_status'],\n",
    "        text = df['country_of_citizenship'],\n",
    "        colorscale = [[0,\"rgb(5, 10, 172)\"],[0.35,\"rgb(40, 60, 190)\"],[0.5,\"rgb(70, 100, 245)\"],\\\n",
    "            [0.6,\"rgb(90, 120, 245)\"],[0.7,\"rgb(106, 137, 247)\"],[1,\"rgb(220, 220, 220)\"]],\n",
    "        autocolorscale = False,\n",
    "        reversescale = True,\n",
    "        marker = dict(\n",
    "            line = dict (\n",
    "                color = 'rgb(180,180,180)',\n",
    "                width = 0.5\n",
    "            ) ),\n",
    "        colorbar = dict(\n",
    "            autotick = False,\n",
    "            tickprefix = '$',\n",
    "            title = 'GDP<br>Billions US$'),\n",
    "      ) ]\n",
    "\n",
    "layout = dict(\n",
    "    title = '2014 Global GDP<br>Source:\\\n",
    "            <a href=\"https://www.cia.gov/library/publications/the-world-factbook/fields/2195.html\">\\\n",
    "            CIA World Factbook</a>',\n",
    "    geo = dict(\n",
    "        showframe = False,\n",
    "        showcoastlines = False,\n",
    "        projection = dict(\n",
    "            type = 'Mercator'\n",
    "        )\n",
    "    )\n",
    ")\n",
    "\n",
    "fig = dict( data=data, layout=layout )\n",
    "py.iplot( fig, validate=False, filename='d3-world-map' )"
   ]
  },
  {
   "cell_type": "markdown",
   "metadata": {},
   "source": [
    "1. cloropleth\n",
    "2. flask"
   ]
  },
  {
   "cell_type": "code",
   "execution_count": null,
   "metadata": {},
   "outputs": [],
   "source": []
  }
 ],
 "metadata": {
  "kernelspec": {
   "display_name": "Python 3",
   "language": "python",
   "name": "python3"
  },
  "language_info": {
   "codemirror_mode": {
    "name": "ipython",
    "version": 3
   },
   "file_extension": ".py",
   "mimetype": "text/x-python",
   "name": "python",
   "nbconvert_exporter": "python",
   "pygments_lexer": "ipython3",
   "version": "3.6.5"
  }
 },
 "nbformat": 4,
 "nbformat_minor": 2
}
