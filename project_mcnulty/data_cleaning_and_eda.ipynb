{
 "cells": [
  {
   "cell_type": "markdown",
   "metadata": {},
   "source": [
    "# Importation Station"
   ]
  },
  {
   "cell_type": "code",
   "execution_count": 124,
   "metadata": {},
   "outputs": [
    {
     "name": "stdout",
     "output_type": "stream",
     "text": [
      "The autotime extension is already loaded. To reload it, use:\n",
      "  %reload_ext autotime\n",
      "time: 6.45 ms\n"
     ]
    }
   ],
   "source": [
    "import pandas as pd\n",
    "import numpy as np\n",
    "import scipy.sparse as sp\n",
    "import seaborn as sns\n",
    "import matplotlib.pyplot as plt\n",
    "import pickle\n",
    "from sklearn.cross_validation import train_test_split\n",
    "from imblearn.over_sampling import ADASYN\n",
    "from collections import Counter\n",
    "\n",
    "\n",
    "plt.style.use(\"seaborn\")\n",
    "%matplotlib inline\n",
    "\n",
    "%load_ext autotime"
   ]
  },
  {
   "cell_type": "markdown",
   "metadata": {},
   "source": [
    "# Make DataFrame and Extract Features"
   ]
  },
  {
   "cell_type": "markdown",
   "metadata": {},
   "source": [
    "## Read Initial Data"
   ]
  },
  {
   "cell_type": "code",
   "execution_count": null,
   "metadata": {},
   "outputs": [],
   "source": [
    "# df= pd.read_csv(\"us-perm-visas.zip\")\n",
    "# df.head()"
   ]
  },
  {
   "cell_type": "markdown",
   "metadata": {},
   "source": [
    "## Extract Features of Interest"
   ]
  },
  {
   "cell_type": "code",
   "execution_count": null,
   "metadata": {},
   "outputs": [],
   "source": [
    "# df_feat=df[['class_of_admission','country_of_citizenship',\n",
    "#             'country_of_citzenship','case_status', 'employer_state','foreign_worker_info_city',\n",
    "#             'foreign_worker_info_education','foreign_worker_info_major',\n",
    "#            'application_type', 'fw_info_birth_country', 'job_info_alt_occ_job_title','job_info_education',\n",
    "#             'wage_offer_from_9089']]\n",
    "# df_feat.head()\n",
    "# del df"
   ]
  },
  {
   "cell_type": "markdown",
   "metadata": {},
   "source": [
    "# Pickle and Store Features of Interest into CSV"
   ]
  },
  {
   "cell_type": "code",
   "execution_count": null,
   "metadata": {},
   "outputs": [],
   "source": [
    "# with open('visa.pkl', 'wb') as picklefile:\n",
    "#              pickle.dump(df_feat, picklefile)"
   ]
  },
  {
   "cell_type": "code",
   "execution_count": null,
   "metadata": {},
   "outputs": [],
   "source": [
    "# with open(\"visa.pkl\", 'rb') as picklefile: \n",
    "#       df = pickle.load(picklefile)\n",
    "# df.to_csv('visa.csv')\n",
    "# df.head()"
   ]
  },
  {
   "cell_type": "markdown",
   "metadata": {},
   "source": [
    "# Read Pre-Made CSV File"
   ]
  },
  {
   "cell_type": "code",
   "execution_count": null,
   "metadata": {},
   "outputs": [],
   "source": [
    "df=pd.read_csv('visa.csv')\n",
    "del(df['Unnamed: 0'])\n",
    "df.head()"
   ]
  },
  {
   "cell_type": "markdown",
   "metadata": {},
   "source": [
    "# Begin Data Cleaning"
   ]
  },
  {
   "cell_type": "markdown",
   "metadata": {},
   "source": [
    "## Combine Repeated Columns- Not Specific to Train/Test"
   ]
  },
  {
   "cell_type": "code",
   "execution_count": null,
   "metadata": {},
   "outputs": [],
   "source": [
    "df.isnull().sum()"
   ]
  },
  {
   "cell_type": "code",
   "execution_count": null,
   "metadata": {
    "scrolled": true
   },
   "outputs": [],
   "source": [
    "df.country_of_citizenship.fillna(df.country_of_citzenship, inplace=True)\n",
    "df=df.drop('country_of_citzenship', axis=1)\n",
    "df.isnull().sum()"
   ]
  },
  {
   "cell_type": "code",
   "execution_count": null,
   "metadata": {
    "scrolled": true
   },
   "outputs": [],
   "source": [
    "df.foreign_worker_info_education.fillna(df.job_info_education, inplace=True)\n",
    "df=df.drop('job_info_education', axis=1)\n",
    "df.isnull().sum()"
   ]
  },
  {
   "cell_type": "markdown",
   "metadata": {},
   "source": [
    "## Split into Train and Test Sets"
   ]
  },
  {
   "cell_type": "code",
   "execution_count": null,
   "metadata": {},
   "outputs": [],
   "source": [
    "# X=df.drop(['case_status'],axis=1)\n",
    "# y = df['case_status']"
   ]
  },
  {
   "cell_type": "code",
   "execution_count": null,
   "metadata": {},
   "outputs": [],
   "source": [
    "# df_train, df_test= train_test_split(X,y,test_size=0.3)"
   ]
  },
  {
   "cell_type": "markdown",
   "metadata": {},
   "source": [
    "## Fill Na's in Train Set\n",
    "**Idea:**\n",
    "1. Ignore Target Variable When Filling NA's\n",
    "2. Fill in Test set With Train Values to Accurately Check Models\n",
    "\n",
    "**Structure for Each Variable:**\n",
    "1. Read Values Counts\n",
    "2. Fill in As Needed"
   ]
  },
  {
   "cell_type": "code",
   "execution_count": null,
   "metadata": {},
   "outputs": [],
   "source": [
    "def impute(df, series, col_name, merge_cols):\n",
    "    merged_frame = pd.merge(df, series, how='left', \n",
    "                             left_on=merge_cols, \n",
    "                             right_on=merge_cols)\n",
    "    merged_frame[col_name+'_x'].fillna(merged_frame[col_name+'_y'],inplace=True)\n",
    "    merged_frame.rename(columns={col_name+'_x':col_name}, inplace=True)\n",
    "    merged_frame.drop([col_name+'_y'], axis=1, inplace=True)\n",
    "    return merged_frame"
   ]
  },
  {
   "cell_type": "code",
   "execution_count": null,
   "metadata": {},
   "outputs": [],
   "source": [
    "def mode(a):\n",
    "    u, c = np.unique(a, return_counts=True)\n",
    "    return u[c.argmax()]"
   ]
  },
  {
   "cell_type": "markdown",
   "metadata": {},
   "source": [
    "### Country of Citizenship= Fill using the mode by education level"
   ]
  },
  {
   "cell_type": "code",
   "execution_count": null,
   "metadata": {},
   "outputs": [],
   "source": [
    "country_fill_series = df[~df['country_of_citizenship'].isnull()].groupby(['foreign_worker_info_education']\n",
    "                                                                        ).country_of_citizenship.apply(mode\n",
    "                                                                                                      ).reset_index()\n",
    "country_fill_series"
   ]
  },
  {
   "cell_type": "code",
   "execution_count": null,
   "metadata": {},
   "outputs": [],
   "source": [
    "df=impute(df, country_fill_series, 'country_of_citizenship',['foreign_worker_info_education'])\n",
    "df.isnull().sum()"
   ]
  },
  {
   "cell_type": "markdown",
   "metadata": {},
   "source": [
    "### Destination State= Fill using overall mode"
   ]
  },
  {
   "cell_type": "code",
   "execution_count": null,
   "metadata": {},
   "outputs": [],
   "source": [
    "df.employer_state.unique()"
   ]
  },
  {
   "cell_type": "code",
   "execution_count": null,
   "metadata": {},
   "outputs": [],
   "source": [
    "state_fill_series=df['employer_state'].mode()\n",
    "state_fill_series"
   ]
  },
  {
   "cell_type": "code",
   "execution_count": null,
   "metadata": {},
   "outputs": [],
   "source": [
    "df.employer_state.fillna('CALIFORNIA', inplace=True)\n",
    "df.isnull().sum()"
   ]
  },
  {
   "cell_type": "markdown",
   "metadata": {},
   "source": [
    "### Origin City= Fill using mode of given country"
   ]
  },
  {
   "cell_type": "code",
   "execution_count": null,
   "metadata": {},
   "outputs": [],
   "source": [
    "df.foreign_worker_info_city.unique()"
   ]
  },
  {
   "cell_type": "code",
   "execution_count": null,
   "metadata": {},
   "outputs": [],
   "source": [
    "origin_fill_series = df[~df['foreign_worker_info_city'].isnull()].groupby(['country_of_citizenship']\n",
    "                                                                         ).foreign_worker_info_city.apply(mode\n",
    "                                                                                                         ).reset_index()\n",
    "origin_fill_series"
   ]
  },
  {
   "cell_type": "code",
   "execution_count": null,
   "metadata": {},
   "outputs": [],
   "source": [
    "df = impute(df, origin_fill_series, 'foreign_worker_info_city',['country_of_citizenship'])\n",
    "df.isnull().sum()"
   ]
  },
  {
   "cell_type": "markdown",
   "metadata": {},
   "source": [
    "### Education Level= Fill using Country and Visa Type"
   ]
  },
  {
   "cell_type": "code",
   "execution_count": null,
   "metadata": {},
   "outputs": [],
   "source": [
    "df.foreign_worker_info_education.unique()"
   ]
  },
  {
   "cell_type": "code",
   "execution_count": null,
   "metadata": {},
   "outputs": [],
   "source": [
    "education_fill_series = df[~df['foreign_worker_info_education'].isnull()].groupby(['country_of_citizenship',\n",
    "                                                                                   'class_of_admission']\n",
    "                                                                                 ).foreign_worker_info_education.apply(mode\n",
    "                                                                                                                      ).reset_index()\n",
    "education_fill_series"
   ]
  },
  {
   "cell_type": "code",
   "execution_count": null,
   "metadata": {},
   "outputs": [],
   "source": [
    "df = impute(df, education_fill_series, 'foreign_worker_info_education', ['country_of_citizenship',\n",
    "                                                                                   'class_of_admission'])\n",
    "df.isnull().sum()"
   ]
  },
  {
   "cell_type": "markdown",
   "metadata": {},
   "source": [
    "### Major= Fill with mode of visa type / country of origin / education / destination"
   ]
  },
  {
   "cell_type": "code",
   "execution_count": null,
   "metadata": {},
   "outputs": [],
   "source": [
    "df.foreign_worker_info_major.value_counts()"
   ]
  },
  {
   "cell_type": "code",
   "execution_count": null,
   "metadata": {},
   "outputs": [],
   "source": [
    "major_fill_series = df[~df['foreign_worker_info_major'].isnull()].groupby(['country_of_citizenship',\n",
    "                                                                               'class_of_admission',\n",
    "                                                                               'foreign_worker_info_education',\n",
    "                                                                               'employer_state']\n",
    "                                                                             ).foreign_worker_info_major.apply(mode\n",
    "                                                                                                              ).reset_index()\n",
    "major_fill_series"
   ]
  },
  {
   "cell_type": "code",
   "execution_count": null,
   "metadata": {},
   "outputs": [],
   "source": [
    "df = impute(df, major_fill_series, 'foreign_worker_info_major',['country_of_citizenship',\n",
    "                                                                               'class_of_admission',\n",
    "                                                                               'foreign_worker_info_education',\n",
    "                                                                               'employer_state'])\n",
    "df.isnull().sum()"
   ]
  },
  {
   "cell_type": "markdown",
   "metadata": {},
   "source": [
    "### Birth Country= Fill with country of citizenship"
   ]
  },
  {
   "cell_type": "code",
   "execution_count": null,
   "metadata": {},
   "outputs": [],
   "source": [
    "df.fw_info_birth_country.unique()"
   ]
  },
  {
   "cell_type": "code",
   "execution_count": null,
   "metadata": {},
   "outputs": [],
   "source": [
    "df.fw_info_birth_country.fillna(df.country_of_citizenship, inplace=True)\n",
    "df.isnull().sum()"
   ]
  },
  {
   "cell_type": "markdown",
   "metadata": {},
   "source": [
    "### Job Title\n",
    "1. Condense Job Titles into Categories\n",
    "2. Fill in missing information using mode by major, education level, and class of admission"
   ]
  },
  {
   "cell_type": "code",
   "execution_count": null,
   "metadata": {},
   "outputs": [],
   "source": [
    "df.job_info_alt_occ_job_title.value_counts()"
   ]
  },
  {
   "cell_type": "code",
   "execution_count": null,
   "metadata": {},
   "outputs": [],
   "source": [
    "def label(row,col):\n",
    "    if type(row[col])!=float:\n",
    "        value=row[col].lower()\n",
    "        value_case_sensitive=row[col]\n",
    "    else:\n",
    "        value='null'\n",
    "        value_case_sensitive='null'\n",
    "    programmer=['comp', 'software','developer', 'program','soft','web','application development', 'data']\n",
    "    it=['IT','Information Technology','technical']\n",
    "    h14=['H.14', 'H-14','H14','H. 14', 'H:14']\n",
    "    medicine=['health','doctor','pharm','therapist','surgery','acupunc', 'medic', 'dent', 'vet']\n",
    "    engineer=['engr','engineer','eng', 'tech']\n",
    "    marketing=['market','sale']\n",
    "    finance=['financ', 'consult','account','tax','audit']\n",
    "    other_biz=['analyst', 'business','anlyst','associate','manag','project']\n",
    "    academic=['analys', 'assistant', 'research', 'teach','academic', 'educ']\n",
    "    related=['related occupation', 'related', 'any', 'similar','experience', 'alternate']\n",
    "    h11=['H-11','H11','H.11', 'H. 11']\n",
    "    fourteen=['14']\n",
    "    nan=['null']\n",
    "    if value=='null' or value_case_sensitive=='null':\n",
    "        return None\n",
    "    if any(keyword in value for keyword in programmer):\n",
    "        return 'programming'\n",
    "    if any(keyword in value_case_sensitive for keyword in it):\n",
    "        return 'IT'\n",
    "    if any(keyword in value_case_sensitive for keyword in h14):\n",
    "        return 'H.14'\n",
    "    if any(keyword in value for keyword in medicine):\n",
    "        return 'medicine'\n",
    "    if any(keyword in value for keyword in engineer):\n",
    "        return 'engineer'\n",
    "    if any(keyword in value for keyword in marketing):\n",
    "        return 'marketing/sales'\n",
    "    if any(keyword in value for keyword in finance):\n",
    "        return 'finance/consulting/tax'\n",
    "    if any(keyword in value for keyword in other_biz):\n",
    "        return 'business'\n",
    "    if any(keyword in value for keyword in academic):\n",
    "        return 'academic'\n",
    "    if any(keyword in value_case_sensitive for keyword in h11):\n",
    "        return 'h11'\n",
    "    if any(keyword in value for keyword in related):\n",
    "        return 'related'\n",
    "    if any(keyword in value_case_sensitive for keyword in fourteen):\n",
    "        return '14'\n",
    "    return 'Other'"
   ]
  },
  {
   "cell_type": "code",
   "execution_count": null,
   "metadata": {},
   "outputs": [],
   "source": [
    "df['job_category']=df.apply (lambda row: label(row, 'job_info_alt_occ_job_title'),axis=1)\n",
    "df.job_category.value_counts()"
   ]
  },
  {
   "cell_type": "code",
   "execution_count": null,
   "metadata": {
    "scrolled": true
   },
   "outputs": [],
   "source": [
    "df.job_info_alt_occ_job_title[df.job_category==\"Other\"].value_counts()"
   ]
  },
  {
   "cell_type": "code",
   "execution_count": null,
   "metadata": {},
   "outputs": [],
   "source": [
    "df.head()"
   ]
  },
  {
   "cell_type": "code",
   "execution_count": null,
   "metadata": {},
   "outputs": [],
   "source": [
    "job_type_fill_series = df[~df['job_category'].isnull()].groupby(['foreign_worker_info_major',\n",
    "                                                                               'foreign_worker_info_education',\n",
    "                                                                               'class_of_admission']\n",
    "                                                                             ).job_category.apply(mode).reset_index()\n",
    "job_type_fill_series"
   ]
  },
  {
   "cell_type": "code",
   "execution_count": null,
   "metadata": {
    "scrolled": true
   },
   "outputs": [],
   "source": [
    "df = impute(df, job_type_fill_series, 'job_category',['foreign_worker_info_major',\n",
    "                                                                               'foreign_worker_info_education',\n",
    "                                                                               'class_of_admission'])\n",
    "df.isnull().sum()"
   ]
  },
  {
   "cell_type": "code",
   "execution_count": null,
   "metadata": {},
   "outputs": [],
   "source": [
    "df=df.drop('job_info_alt_occ_job_title', axis=1)"
   ]
  },
  {
   "cell_type": "markdown",
   "metadata": {},
   "source": [
    "### Visa Type (Class of Admission)"
   ]
  },
  {
   "cell_type": "code",
   "execution_count": null,
   "metadata": {},
   "outputs": [],
   "source": [
    "df.class_of_admission.unique()"
   ]
  },
  {
   "cell_type": "code",
   "execution_count": null,
   "metadata": {},
   "outputs": [],
   "source": [
    "visa_fill_series = df[~df['class_of_admission'].isnull()].groupby(['foreign_worker_info_education'\n",
    "                                                                  ]).class_of_admission.apply(mode).reset_index()\n",
    "visa_fill_series"
   ]
  },
  {
   "cell_type": "code",
   "execution_count": null,
   "metadata": {},
   "outputs": [],
   "source": [
    "df = impute(df, visa_fill_series, 'class_of_admission',['foreign_worker_info_education'])\n",
    "df.isnull().sum()"
   ]
  },
  {
   "cell_type": "markdown",
   "metadata": {},
   "source": [
    "### Wage Offered= Fill with mean by job title, education level, and destination"
   ]
  },
  {
   "cell_type": "code",
   "execution_count": null,
   "metadata": {},
   "outputs": [],
   "source": [
    "# df.wage_offer_from_9089.unique()"
   ]
  },
  {
   "cell_type": "code",
   "execution_count": null,
   "metadata": {},
   "outputs": [],
   "source": [
    "# for element in df.wage_offer_from_9089:\n",
    "#     if type(element)!=float:\n",
    "#         element=element.replace(',','')"
   ]
  },
  {
   "cell_type": "code",
   "execution_count": null,
   "metadata": {},
   "outputs": [],
   "source": [
    "# df[~df['wage_offer_from_9089'].isnull()].wage_offer_from_9089= df[~df['wage_offer_from_9089'].isnull()\n",
    "#                                                                  ].wage_offer_from_9089.astype(float)"
   ]
  },
  {
   "cell_type": "code",
   "execution_count": null,
   "metadata": {},
   "outputs": [],
   "source": [
    "# wage_fill_series = df[~df['wage_offer_from_9089'].isnull()].groupby(['job_category',\n",
    "#                                                                                'foreign_worker_info_education',\n",
    "#                                                                                'employer_state'\n",
    "#                                                                                ]).wage_offer_from_9089.mean().reset_index()\n",
    "# wage_fill_series"
   ]
  },
  {
   "cell_type": "code",
   "execution_count": null,
   "metadata": {},
   "outputs": [],
   "source": [
    "# df = impute(df, wage_fill_series, 'wage_offer_from_9089',['job_category','foreign_worker_info_education',\n",
    "#                                                                'employer_state'])\n",
    "# df.isnull().sum()"
   ]
  },
  {
   "cell_type": "markdown",
   "metadata": {},
   "source": [
    "### Application Filing Info (Application Type)"
   ]
  },
  {
   "cell_type": "code",
   "execution_count": null,
   "metadata": {},
   "outputs": [],
   "source": [
    "# df.application_type.unique()"
   ]
  },
  {
   "cell_type": "code",
   "execution_count": null,
   "metadata": {
    "scrolled": true
   },
   "outputs": [],
   "source": [
    "df=df.drop(['application_type','wage_offer_from_9089'], axis=1)"
   ]
  },
  {
   "cell_type": "code",
   "execution_count": null,
   "metadata": {},
   "outputs": [],
   "source": [
    "df.isnull().sum()"
   ]
  },
  {
   "cell_type": "markdown",
   "metadata": {},
   "source": [
    "# Reset Types"
   ]
  },
  {
   "cell_type": "code",
   "execution_count": null,
   "metadata": {},
   "outputs": [],
   "source": [
    "# df['system'] = df.system.astype(int)\n",
    "# df['reviews'] = df.reviews.astype(int)\n",
    "# df['release_date'] = df.release_date.astype(int)\n",
    "# df['discount'] = df.discount.astype(int)\n",
    "# df['price'] = df.price.astype(float)\n",
    "# df['systems'] = df.systems.astype(list)"
   ]
  },
  {
   "cell_type": "markdown",
   "metadata": {},
   "source": [
    "# Class Imbalances"
   ]
  },
  {
   "cell_type": "markdown",
   "metadata": {},
   "source": [
    "## Visualize"
   ]
  },
  {
   "cell_type": "code",
   "execution_count": 118,
   "metadata": {},
   "outputs": [
    {
     "name": "stdout",
     "output_type": "stream",
     "text": [
      "time: 42.7 ms\n"
     ]
    }
   ],
   "source": [
    "number_data=df.case_status.value_counts()"
   ]
  },
  {
   "cell_type": "code",
   "execution_count": 119,
   "metadata": {},
   "outputs": [
    {
     "data": {
      "image/png": "[encoded data removed]",
      "text/plain": [
       "<Figure size 432x288 with 1 Axes>"
      ]
     },
     "metadata": {},
     "output_type": "display_data"
    },
    {
     "name": "stdout",
     "output_type": "stream",
     "text": [
      "time: 603 ms\n"
     ]
    }
   ],
   "source": [
    "number_data.plot(kind='bar', title='Class Count', rot=0);\n"
   ]
  },
  {
   "cell_type": "code",
   "execution_count": null,
   "metadata": {},
   "outputs": [],
   "source": []
  },
  {
   "cell_type": "code",
   "execution_count": 122,
   "metadata": {},
   "outputs": [
    {
     "name": "stdout",
     "output_type": "stream",
     "text": [
      "time: 2.66 ms\n"
     ]
    }
   ],
   "source": [
    "def print_confusion_matrix(confusion_matrix, class_names, figsize = (10,7), fontsize=18):\n",
    "    df_cm = pd.DataFrame(\n",
    "        confusion_matrix, index=class_names, columns=class_names, \n",
    "    )\n",
    "    fig = plt.figure(figsize=figsize)\n",
    "    try:\n",
    "        heatmap = sns.heatmap(df_cm, annot=True, fmt=\"d\")\n",
    "    except ValueError:\n",
    "        raise ValueError(\"Confusion matrix values must be integers.\")\n",
    "    heatmap.yaxis.set_ticklabels(heatmap.yaxis.get_ticklabels(), rotation=0, ha='right', fontsize=fontsize)\n",
    "    heatmap.xaxis.set_ticklabels(heatmap.xaxis.get_ticklabels(), rotation=45, ha='right', fontsize=fontsize)\n",
    "    plt.ylabel('True label')\n",
    "    plt.xlabel('Predicted label')\n",
    "    return fig"
   ]
  },
  {
   "cell_type": "markdown",
   "metadata": {},
   "source": [
    "## ADASYN"
   ]
  },
  {
   "cell_type": "code",
   "execution_count": 126,
   "metadata": {},
   "outputs": [
    {
     "data": {
      "text/plain": [
       "Counter({'Certified': 181933,\n",
       "         'Denied': 25649,\n",
       "         'Certified-Expired': 148586,\n",
       "         'Withdrawn': 18194})"
      ]
     },
     "execution_count": 126,
     "metadata": {},
     "output_type": "execute_result"
    },
    {
     "name": "stdout",
     "output_type": "stream",
     "text": [
      "time: 35.7 ms\n"
     ]
    }
   ],
   "source": [
    "Counter(df.case_status)"
   ]
  },
  {
   "cell_type": "code",
   "execution_count": null,
   "metadata": {},
   "outputs": [],
   "source": [
    "Counter(df.case_status)"
   ]
  },
  {
   "cell_type": "code",
   "execution_count": null,
   "metadata": {},
   "outputs": [],
   "source": []
  },
  {
   "cell_type": "code",
   "execution_count": null,
   "metadata": {},
   "outputs": [],
   "source": [
    "X_adasyn, y_adasyn = ADASYN(random_state=42).fit_sample(X,y)"
   ]
  },
  {
   "cell_type": "code",
   "execution_count": 125,
   "metadata": {},
   "outputs": [
    {
     "data": {
      "text/plain": [
       "Counter({'Certified': 181933,\n",
       "         'Denied': 25649,\n",
       "         'Certified-Expired': 148586,\n",
       "         'Withdrawn': 18194})"
      ]
     },
     "execution_count": 125,
     "metadata": {},
     "output_type": "execute_result"
    },
    {
     "name": "stdout",
     "output_type": "stream",
     "text": [
      "time: 31.8 ms\n"
     ]
    }
   ],
   "source": [
    "Counter(df.case_status)"
   ]
  },
  {
   "cell_type": "code",
   "execution_count": null,
   "metadata": {},
   "outputs": [],
   "source": []
  },
  {
   "cell_type": "markdown",
   "metadata": {},
   "source": [
    "# Dummify Variables"
   ]
  },
  {
   "cell_type": "code",
   "execution_count": null,
   "metadata": {},
   "outputs": [],
   "source": [
    "df2=df.drop(['foreign_worker_info_major', 'fw_info_birth_country'], axis=1)\n",
    "df3=pd.get_dummies(df2)"
   ]
  },
  {
   "cell_type": "markdown",
   "metadata": {},
   "source": [
    "# Store as CSV"
   ]
  },
  {
   "cell_type": "code",
   "execution_count": null,
   "metadata": {},
   "outputs": [],
   "source": [
    "with open('clean_data1.pkl', 'wb') as picklefile:\n",
    "             pickle.dump(df3, picklefile)"
   ]
  },
  {
   "cell_type": "code",
   "execution_count": null,
   "metadata": {},
   "outputs": [],
   "source": [
    "with open(\"clean_data1.pkl\", 'rb') as picklefile: \n",
    "      df = pickle.load(picklefile)\n",
    "df.to_csv('clean_data1.csv')\n",
    "df.head()"
   ]
  }
 ],
 "metadata": {
  "kernelspec": {
   "display_name": "Python 3",
   "language": "python",
   "name": "python3"
  },
  "language_info": {
   "codemirror_mode": {
    "name": "ipython",
    "version": 3
   },
   "file_extension": ".py",
   "mimetype": "text/x-python",
   "name": "python",
   "nbconvert_exporter": "python",
   "pygments_lexer": "ipython3",
   "version": "3.6.5"
  }
 },
 "nbformat": 4,
 "nbformat_minor": 2
}
