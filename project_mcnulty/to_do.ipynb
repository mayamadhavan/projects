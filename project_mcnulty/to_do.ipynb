{
 "cells": [
  {
   "cell_type": "markdown",
   "metadata": {},
   "source": [
    "## Thursday\n",
    "1. dummify\n",
    "2. fill empty variables\n",
    "3. make models\n",
    "    + ask about how to interpret\n",
    "4. make sure plots are correct\n",
    "\n",
    "\n",
    "## Friday\n",
    "5. start making flask app\n",
    "6. challenge 7\n",
    "\n",
    "\n",
    "## Saturday\n",
    "1. Week 2 and 3\n",
    "2. Challenge 8 1/2\n",
    "\n",
    "## Sunday\n",
    "1. Week 4 and 5\n",
    "2. Challenge 8 2/2\n",
    "\n",
    "## Monday\n",
    "1. Challenge 9\n",
    "2. SQL\n",
    "3. Ask about interpretations"
   ]
  },
  {
   "cell_type": "code",
   "execution_count": null,
   "metadata": {},
   "outputs": [],
   "source": []
  }
 ],
 "metadata": {
  "kernelspec": {
   "display_name": "Python 3",
   "language": "python",
   "name": "python3"
  },
  "language_info": {
   "codemirror_mode": {
    "name": "ipython",
    "version": 3
   },
   "file_extension": ".py",
   "mimetype": "text/x-python",
   "name": "python",
   "nbconvert_exporter": "python",
   "pygments_lexer": "ipython3",
   "version": "3.6.5"
  }
 },
 "nbformat": 4,
 "nbformat_minor": 2
}
