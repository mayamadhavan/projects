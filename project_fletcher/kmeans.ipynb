{
 "cells": [
  {
   "cell_type": "code",
   "execution_count": 1,
   "metadata": {},
   "outputs": [],
   "source": [
    "import pickle\n",
    "import pandas as pd\n",
    "import clustering_algorithms"
   ]
  },
  {
   "cell_type": "code",
   "execution_count": 2,
   "metadata": {},
   "outputs": [],
   "source": [
    "with open('final.pkl', 'rb') as f:\n",
    "    df = pickle.load(f)"
   ]
  },
  {
   "cell_type": "code",
   "execution_count": 3,
   "metadata": {},
   "outputs": [],
   "source": [
    "df=df.drop_duplicates(['review'])"
   ]
  },
  {
   "cell_type": "code",
   "execution_count": 4,
   "metadata": {},
   "outputs": [],
   "source": [
    "(one, two)= clustering_algorithms.making_vectorizers(df.review, 50)"
   ]
  },
  {
   "cell_type": "code",
   "execution_count": 5,
   "metadata": {},
   "outputs": [],
   "source": [
    "one.fit(df['review'])"
   ]
  },
  {
   "cell_type": "code",
   "execution_count": 6,
   "metadata": {},
   "outputs": [],
   "source": [
    "one.kmeans(n_clusters=5)"
   ]
  },
  {
   "cell_type": "code",
   "execution_count": 7,
   "metadata": {
    "scrolled": false
   },
   "outputs": [
    {
     "name": "stdout",
     "output_type": "stream",
     "text": [
      "\n",
      " + [(0.7311790966812602, 834), (0.7470072709276688, 1257), (0.7515508619756429, 2126), (0.7705987827093439, 164)]\n",
      "\n",
      "I really didn’t like this product... it dried way to quickly and left my face super dry no matter how much I moisturized!! Also, my dry patches were 100% visible and I don’t even have that dry of skin... bad experience, will be returning!!! Hype was not worth it. Also, the colour match was way too light and with pictures, I looked like a ghost. My redness and acne was barely covered. Overall bad experience!!\n",
      "\n",
      "So I really do think this is a beautiful foundation but would only recommend for oily skin types. I have normal to dry skin (more on dry side) and the foundation just made my face feel and look super dry. Even after mositurizing the heck out of my face before application. I like to have a bit of a glow so this was not for me!\n",
      "\n",
      "I had such high hopes for this product as many reviews mentioned how they felt it didn't even need to be set. I don't personally like a super powdery face so I was really interested in the Fenty Beauty foundation for that reason. Unfortunately this was not for me. I have dry skin, but not like mega dry, somewhere between dry and normal but this foundation caked on me so bad and stuck to every single dry part of my face like glue. I tried a variety of different primers, made sure to moisturize with the best products, tried a brush and a sponge, and nothing worked. With that being said, I really liked the quality of the product, just not how it worked for me. If Rihanna continues to create more foundation possibly in a more dry skin friendly formula id definitely purchase. Food for thought!\n",
      "\n",
      "First of all, I recommend this only to people with normal to oily skin, not dry skin. I was happy to find a match since I’m very fair, but applying this foundation was really hard to do. It dries almost instantly, making it hard to buff and easy to cake on. I also noticed that the foundation would wear away on parts of my face and seem patchy. Even with the primer and more moisturizer, I couldn’t get this foundation to work on my dry skin. The positives of this product was that it almost completely hides redness, photographs really well, and feels lightweight on my skin. I plan to return it since I have tried it 4 times with the same results. Maybe Rihanna will release a hydrating formula for dry skin in the future - I would love to try that.\n",
      "\n",
      " + [(0.6548839868676734, 1101), (0.6586997839608886, 287), (0.6780733873748662, 661), (0.6970339003404188, 636)]\n",
      "\n",
      "I love love love this foundation. First of all, I would recommend you get color matched in store as they have a variety of colors and undertones. Second, shake foundation bottle very well for long lasting effect. I've worn it for the past two weeks and have received many compliments on how natural my makeup looks. This foundation is superior to others I've tried for combination oily skin like mine because it dries up matte and powdery which for one allows me to totally skip on translucent powder and keeps oiliness at bay for at least 8 hours. I've even worn it on sweltering humid weather in which I tend to blot my face more than usual to dry my sweaty face and the foundation stays intact. I wear two layers for medium to full coverage which is enough to cover my blemishes and even out my skin tone but still look like I'm not wearing makeup. Can't say enough good things about this product and I would absolutely recommend it.\n",
      "\n",
      "I really love this product so far. Got color matched and was recommended to try this brand at the store. It’s lightweight yet buildable full coverage! I’m oily and it does not add to that Factor which is great. I tried the Huda foundation and I prefer this one. Huda was too thick and I LIKE full coverage.\n",
      "\n",
      "I am in love with this foundation. Literally feels like I don’t even have makeup on but makes my face look flawless. The finish looks soft and velvety and just perfect. I would say this foundation is medium coverage, but buildable. Also great for my oily skin. My new favorite! Rihanna slayed with this foundation.\n",
      "\n",
      "I can't get enough of this foundation. It looks and feels like skin. The amount of coverage and the finish I get from this product is perfect for my needs and it works well as an everyday foundation. This is my very first liquid foundation and I typically go for tinted moisturizer or powder foundation for everyday but this seems to dry to a powder like finish so it's right up my alley. I am not the full coverage type I love when my skin shines through and you cannot tell if I have anything on my face. My skin is normal with slightly oily T zone so the formula doesn't move around on me and it definitely is long lasting. The only thing difficult about this was finding my shade it took several sephora visits but I'm not complaining about it!\n",
      "\n",
      " + [(0.673452301739049, 188), (0.6796170767485762, 1250), (0.6911668313970041, 636), (0.7089434868577071, 1554)]\n",
      "\n",
      "I've been through soooo many foundations from drugstore to high end and this one is my savior! I have combination skin with a very oily t zone and this one leave my skin matte for 8 hours without having to blot. It definitely is medium coverage but you can build it up for full coverage without looking cakey, your face feels like there is nothing on. The color is spot on as well I got shade 290 and i am natural beige in born this way and 4.5 in luminous silk. please never stop making this foundation!\n",
      "\n",
      "Love the shade, hate the formula. I have oily skin in summer and combo in winter. This stuff is SO drying! It made my nose look like cracked desert sand. That’s with my skin exfoliated, moisturized and primed. I usually have to set every foundation but this dries so matte that I didn’t need powder, it’s too matte. I tried to wait a couple hours for it to settle and mix with my face oils but it still just looks sooo dry. I think this would work best for oily skin with a moisturizing primer? If you’ve got any sort of dryness it’s gonna look horrible.\n",
      "\n",
      "I can't get enough of this foundation. It looks and feels like skin. The amount of coverage and the finish I get from this product is perfect for my needs and it works well as an everyday foundation. This is my very first liquid foundation and I typically go for tinted moisturizer or powder foundation for everyday but this seems to dry to a powder like finish so it's right up my alley. I am not the full coverage type I love when my skin shines through and you cannot tell if I have anything on my face. My skin is normal with slightly oily T zone so the formula doesn't move around on me and it definitely is long lasting. The only thing difficult about this was finding my shade it took several sephora visits but I'm not complaining about it!\n",
      "\n",
      "Best foundation I've ever found for my oily skin! The only foundation I can wear for 9 hours at work and it still looks good at the end of the day. Its full coverage but doesn't look like cake on your face that I find most full coverage foundations look like for oily skin. 150 is the perfect match if you have fair skin with a little pink undertone but not a lot.\n",
      "\n",
      " + [(0.7872959236443353, 1264), (0.799075725486214, 181), (0.803469727576347, 1989), (0.8084782824365802, 369)]\n",
      "\n",
      "Love this foundation. It is very lightweight and very full coverage. I totally fell in love with it.\n",
      "\n",
      "I love love love this product. I tend to prefer light coverage to medium coverage foundations, and this fit the bill perfectly. It's very light and semi matte, which I absolutely love. No setting is necessary; as it dries quickly. I applied with the Sephora #47 foundation brush and thought that it went on perfectly. Beware of the dry down...I was lucky in that I swatched three shades in store and was able to match from there, but they do seem to darken a bit from what the color looks like in the bottle. Pretty happy with the wear time too. Applied at 7am and was still looking good at 5:30 pm. Overall, super happy with the product and will continue to throw my money at this company\n",
      "\n",
      "I've struggled for a long time to find the right foundation shade for my skin. My neck is darker than my face so it can be challenge sometimes. This is the first product that matches my weird pinky but not undertones of my skin and makes it look like i'm not wearing any foundation. Love love love\n",
      "\n",
      "LOVE LOVE LOVE this foundation.......it works really well with combination skin!!! I didn't expect to look flawless with a medium coverage foundation so I'm very pleased!!! The hype is REAL!!!\n",
      "\n",
      " + [(0.6697940383366723, 1710), (0.6727310768378408, 202), (0.6746226328986744, 1686), (0.6999789392994881, 1699)]\n",
      "\n",
      "190 is the perfect match for me which is nice because I feel like so often I have a hard time getting a really close/ perfect match. I figured this was one of those overly hyped celebrity products but I figured I'd give it a chance and I'm glad I did. I don't really have textured skin so I don't have issues with pores or dry patches which some people say they deal with. I like the finish, it's not dry or oily and it has good coverage. It looks like skin, not like cake...with that being said, it looks HORRIBLE if you try to layer it so work quickly once you place it down and build up the spots that need it really fast. There is a lot of talk about oxidation and it doesn't oxidize on me, it dries down so it starts off a little lighter than it ends up drying down to but it doesn't change throughout the day. I would recommend this product.\n",
      "\n",
      "So, the first time I got matched by a sephora rep, she swatched my cheek, let it dry down and i bought it. I should've known better because I have hyperpigmentation around my mouth and also neat mt jawline. The center of my face is lighter than my neck and chest. The foundation came out ashy all over when I put a full face on (420). I went back and tried 450 all over. It's not PERFECT match but it covers everything. If there was a warm shade between 440 and 450, that would be me but I can definitely get away with it by doing a little highlighting. Overall, it literally covers everything , didnt need to prime or set OR conceal. Mind you, I have combination oily skin and my forehead gets especially shiny. I have some hyperpigmentation like I said but I don't have many blemishes and my skin doesn't have a lot of texture so I don't know how it pans out on other types aside from reviews. It applies well with both beauty blender and the fenty foundation brush which I use for highlighting as well. It dries down fast so work in small sections and build to the coverage you want. Most of the darker shades (My shade and beyond) are pretty red which is the only real issue since not every dark skin black girl has red undertones. I definitely recommend going into the store and testing out shades for yourself before purchase OR find a YouTube beauty blogger with your shade/tone skin and watch them review. You'd get a decent idea from that as well. So just a takeaway, YES worth the money, DON'T need primer, YES it is buildable YES feels skin like, and YES it literally looks like you used a filter for your face!\n",
      "\n",
      "I've had a bunch of foundations before, MUF, Shu, Laura Mercier just to name a few.. but they've always been the major reason that keeps me from applying makeup on a daily basis. Until I found this! It is soooo comfortable, literally feels like nothing. I only use 1 pump for my entire face and a bit extra under eyes, the coverage and finish is beautiful, looks so natural just like skin and has a matte finish. It also holds up for a good 12 hours, and since I have combination dry skin I don't even need to use setting powder on my cheeks now. The only thing to be careful is it does dry down a bit darker than when you first pump it out, so watch out when you choose your shade! I wouldn't buy it without getting a sample to see how it actually looks on your face when it dries.\n",
      "\n",
      "I LOVE THIS FOUNDATION! When I wear it it is a very nice matte. Not overly matte or too dewy. It makes my skin look like a better version of itself. I was kind of hesitant to try it, but I got a color match in Sephora and 160 blended really perfectly into my skin tone. Usually I have more yellow undertones when it comes to foundation, and in this description it says it has a peachy undertone but I don't think it's too peachy, only the slightest in my opinion. With one application total my face was medium coverage, and I builded it up for full coverage. I did not experience any creasing at all but I typically avoid putting a lot of foundation in my smile lines anyway. It is very lightweight and does not feel cakey at ALL! Since this foundation does dry fairly quickly, what I do is I pump a bit on my finger to place it on my skin and then use a beauty blender to blend it out. From what I've experienced with foundations in general this really helps when you have to move quickly. I used this in my normal face routine as well because I really wanted to see how it would hold up, primer, color corrector, foundation, powder, and it looked beautiful. The bottle itself feels very nice and heavy like more expensive foundations feel like, looks very chic, and I honestly have no complaints that I could give, I highly recommend that you at least get a sample of this or try it out in store- well worth it!!! :)\n"
     ]
    }
   ],
   "source": [
    "clustering_algorithms.best_cluster(one, df, 'review')"
   ]
  },
  {
   "cell_type": "code",
   "execution_count": 8,
   "metadata": {},
   "outputs": [],
   "source": [
    "one.kmeans(n_clusters=9)"
   ]
  },
  {
   "cell_type": "code",
   "execution_count": 9,
   "metadata": {},
   "outputs": [
    {
     "name": "stdout",
     "output_type": "stream",
     "text": [
      "\n",
      " + [(0.7278439498482626, 554), (0.738994347195391, 90), (0.7427059338254948, 942), (0.7548950970321779, 341)]\n",
      "\n",
      "I was really excited for this foundation to launch; however, for me the only thing this foundation has a benefit of is color range. I have normal skin and even with fully prepped and primed skin this foundation looked horrible on my skin. It literally aged me 8-10yrs older. It created these very pronounced lines across my cheeks, smile lines and under the eye, that I don't have. All pores were easily seen once applied. I only had it on for a couple minutes for this to happen. It created and stuck to what looked like \"dry\" patches that weren't really there. Such a shame because it's color range is terrific, it just does not look good on me. From other beauty who have tried this, I've found that this foundation is very hit or miss; people I've talked to either love it or hate it. It's like KVD, you have to try it to see if it will work for you. But from what it did on me, I don't recommend it.\n",
      "\n",
      "Like others, I really wanted to like this. I love full coverage foundations, like Estée Lauder Double Wear. I first put this on, and it looked bomb. The color was spot on and the coverage surprised me. It DID darken almost 2 shares after it completely dried down. My skin did not like this; it made me look nearly 10 years older, accentuating lines and made my skin look dry AF. My skin has never looked this bad with a foundation. So, so disappointed. I think a lot of new makeup lovers may try this foundation and think “omg it’s so0o good” because they love Riri and all, but truly, the quality of this foundation (especially compared to others of the same price) is really poor.\n",
      "\n",
      "I'm still on the fence about this foundation..I really wanted to like this foundation but I don't know something about it is off. I want to say I think it's because I got the wrong shade (250) as it oxidized way too orange. But besides the the wrong color match, I felt like this didn't look as flawless as all the youtubers were saying, it looked cakey after I applied my usual face products. I feel like this foundation is really only good if you have perfect skin. I don't want to label this a dud yet until I get my exact shade but as of right now, I think it's too overhyped..\n",
      "\n",
      "I really wanted to like this because so many people raved about it, but it just didn't work for me personally. I have oily/combo skin and this foundation made me look so dry and flaky. I wore it with different primers, moisturizers, powders, and setting sprays but my skin still looked flaky. The color was perfect though and I like how the foundation sets and doesn't transfer.\n",
      "\n",
      " + [(0.6418108339641959, 1213), (0.6515567632776953, 71), (0.6542383122256117, 636), (0.6790809226515205, 1286)]\n",
      "\n",
      "I'll admit, I was weary to try this foundation because usually celebrity products aren't all that. But this foundation is everything I have ever wanted in a foundation. My skin is ridiculously oily and this foundation does not move ONE INCH. This lasted me all day through work, a nap, and a night out. I did not have to reapply at all. I tend to go for lighter coverage because I don't like to feel like my makeup is caked on. The coverage is great and easily buildable without feeling thick or cakey. Stays matte all day, but I still have a glow. The range of shades is magic, I have never had a foundation match me so well. A lot of people say that this foundation oxidizes, but it doesn't really. It gets a tad darker about a minute after application, once it's set on the skin, but other than that the color stayed the same. TL;DR - highly recommend, it's perfect, buy it.\n",
      "\n",
      "I have mixed feelings about this foundation. Positive attributes I’ve found are that it is very long lasting and very matte, which is something some people might not prefer, but I like how the matte coverage deals with my combination skin. Negative attributes are that it dries VERY quickly, so I have to pump it directly on my face instead of my hand, and it looks cakey in photos (I usually don’t put a lot). A mistake that I had with this product is that I used the color IQ I got during the summer and bought that shade in the winter, so it’s darker than me and I have to blend it into my collarbone area so it doesn’t look totally off. I would buy a lighter shade if I had the money to do so, but I don’t so I’m dealing with this until it matches me again. Overall, it’s a good product, but it isn’t that great.\n",
      "\n",
      "I can't get enough of this foundation. It looks and feels like skin. The amount of coverage and the finish I get from this product is perfect for my needs and it works well as an everyday foundation. This is my very first liquid foundation and I typically go for tinted moisturizer or powder foundation for everyday but this seems to dry to a powder like finish so it's right up my alley. I am not the full coverage type I love when my skin shines through and you cannot tell if I have anything on my face. My skin is normal with slightly oily T zone so the formula doesn't move around on me and it definitely is long lasting. The only thing difficult about this was finding my shade it took several sephora visits but I'm not complaining about it!\n",
      "\n",
      "I'm not a foundation fan because it always looks like it's sitting on my face instead of skin. I tried this foundation out of curiosity and walked away a true fan. The undertone in this color perfectly matched me so I didn't feel too yellow or too grey. The coverage is perfect for me: not to heavy or cakey and not too sheer to blend out my hyperpigmentation. The finish is matte but not dusty and lasts on me all day. This product just disappears into my skin and makes me look like a great version of me and my own skin. I'm really impressed by this product!\n",
      "\n",
      " + [(0.7539657870114097, 14), (0.759403073701886, 2294), (0.7628471740886662, 1303), (0.7785567412976848, 310)]\n",
      "\n",
      "There aren’t many mainstream brands that cater to my skin tone. I know people like to talk about MUFE and CoverFX and Lancôme having extensive shade ranges, which they do, but none of them go deep enough to have a shade for me. I love this foundation mainly because it is a perfect match for me. It does oxidize darker and more neutral than the initial colour when applied. It’s an awesome foundation for oily skin and other products sit perfectly on top of the foundation. I would definitely recommend if you can get your shade match.\n",
      "\n",
      "The texture of this foundation is very liquidy. Which I can get over. I was shade matched to 130 in store. After I applied with a beauty sponge I looked so YELLOW! But I gave it the benefit of the doubt and finished my make up as I normally do. By the time I was finished. The shade was a perfect match for me. Weirdest thing ever?? It's a beautiful finish!! But I gave it 4 stars bc it was very deceiving. I could see people getting easily frustrated with finding their correct shade in this situation. Now I need to get my hands on some Mean moneyyyyy!!!!\n",
      "\n",
      "I wasn’t sure if I wanted to try this at first because I find that usually a lot of products have too much hype and then end up not being worth it. However this one is worth the hype. My skin tone to me can be confusing because sometimes I fit good into a medium shade and sometimes better into a light shade due to my yellow undertones with some redness on my cheeks. (I’m Mexican American by the way.) I’ve even purchase the makeup forever chromatic mixes in brown and yellow to change my foundations to what I need because there is hardly a perfect shade for me. When I matched myself online I thought I would be a 190 but when I went in store and they used the color matching machine on me it said I would be a 240! It was a huge difference. So luckily I had a friend with me who aided the girl in trying them on to find my best shade. I ended up with the 180. It was perfect and flawless. I don’t think my skin ever looked like my skin but better. I was so sad to leave the store after finding my shade because no one in San Antonio had it in stock. I waited impatiently for it to be in stock at Sephora and I’m glad i waited. Thank you Rihanna for making the perfect foundation for me! ***one thing I learned from this foundation is to always shake it before using it. Yes I know it says so on the box but I didn’t read it till after I attempted the application of he foundation till after two uses and was confused about how it covered weirdly. It also dries fast when you fab it on so it must be blended immediately.\n",
      "\n",
      "I purchased the soft matte long wear foundation in the shade 130. And i have looked for my perfect shade for YEARSSS, you have no idea. I've returned so many foundations, none were yellow enough for my skin tone till i purchased this. It looks great and it's long lasting. You do have to blend quickly though, other than that it's perfect. Rihanna just made the perfect shade for me! Don't ever get rid of this shade please!\n",
      "\n",
      " + [(0.7547264225982735, 143), (0.7641395427130176, 1555), (0.7800490910608705, 1978), (0.7885664683380165, 217)]\n",
      "\n",
      "I love this Foundation already, its only drawback is that it has a tendency to oxidize a shade darker. If you're an NC30 in MAC, 230 was a perfect match for me as it oxidized. The coverage is nice and build-able from low medium to full coverage. It feels extremely lightweight and airy on the skin. I personally do not enjoy Matte finishes but this one felt like skin and had not broken down on my oily areas nor had it clung to my dry patches.\n",
      "\n",
      "I will says this color is the best match I’ve ever had. However, the product is too light for my liking. If your ok with medium coverage then you might love this. I on the other hand love a full, matte coverage face, which this is not at all. I was told I could build this up but not much, which is an accurate statement. I really wasn’t able to build on it much and it just wasn’t covering my dark spots. I hope they come out with a full coverage one until then I’m going back to my other brand.\n",
      "\n",
      "This foundation is so GREAT on my skin. I love that it keeps my face matte without drying it completely. It looks and feels good on my skin. The only thing I don't like about it is the coverage. It says it medium to full coverage, but to me it seems like its barely medium coverage (if you build it up). If you're looking for a good medium coverage foundation for combo/ oily skin, this is a winner!\n",
      "\n",
      "I really like this product and love the amount of research Rihanna and her team put into it. My thoughts: 1. I highly recommend getting the primer to go with it if you have any texture or large pores on your face. 2. If you have dry skin like myself, definitely moisturize! It can be a bit drying since it is a matte finish. Your dry patches will show up. 3. Less is definitely more when it comes to this foundation. You only need a few pumps. I wouldn't try to build it up to full coverage. It's definitely more of a light to medium coverage. If you need more coverage use a brush instead of a sponge. 4. If you have a lot of acne scarring and imperfections this may not be for you. Like I said it's more of a light to medium foundation. Building it up to full coverage makes it look Cakey.\n",
      "\n",
      " + [(0.8289546564062494, 490), (0.8293201815628408, 1264), (0.8330018110733509, 1621), (0.8352417538794701, 2002)]\n",
      "\n",
      "I love this! So lightweight, great coverage! The shade selection is beautiful. Rihanna did something amazing with this. Love love love\n",
      "\n",
      "Love this foundation. It is very lightweight and very full coverage. I totally fell in love with it.\n",
      "\n",
      "idk what to say, i love it haha\n",
      "\n",
      "i love it but i realized ive been getting a few breakouts\n",
      "\n",
      " + [(0.7478646120297235, 275), (0.7525703729641396, 478), (0.7543797283142578, 38), (0.7646135280859712, 593)]\n",
      "\n",
      "If you have oily skin I would strongly recommend the invisimatte blotting powder from this collection. It makes a world of difference when used correctly. I know there are you tube videos out there to the contrary, but this foundation performs spectacularly ALL DAY (even 12 hour plus days) for me on my oily T zone. Barely any shine and everything stays in place. High quality product that is worth the buy.\n",
      "\n",
      "I wish I could give this 100 stars. this foundation has such a beautiful matte finish! I have combination/oily skin, and I tend to get oily around my nose mostly, but this foundation does not make me oily at all. I have a toddler, so I do my makeup early in the morning before she wakes up, I had it on from about 7:30 AM and take it off around 7 or 8 PM, if I'm not going anywhere else and this foundation stayed put and looked amazing even at the end of the day! I used the CoverFX translucent powder to set my whole face and bake underneath my eyes, so I'm sure the powder helped, however don't let that story you, because this foundation is pure gold. I'm shade #150, Latina, with fair skin with neutral undertones. Trust me, you won't regret buying this!\n",
      "\n",
      "I have really bad oily skin and I flush easily, so I have a lot of redness in my checks and this foundation is absolutely amazing! It is the best matte foundation for oily skin that I have tried and it covers my redness and lasts long. I chose this this foundation to wear on my wedding day because I loved it so much!\n",
      "\n",
      "I have a combination to oily skin and since I've found this, it becomes my go-to foundation. It gives you glowing instead of oily look throughout the day.\n"
     ]
    },
    {
     "name": "stdout",
     "output_type": "stream",
     "text": [
      "\n",
      " + [(0.6778076770678189, 1094), (0.6894056291546076, 1343), (0.7042155873385156, 849), (0.7394322960527259, 1994)]\n",
      "\n",
      "This replaced my KVD Lock It foundation. This foundation lasts ALL DAY for me! I am super oily and I have long work days and need a long lasting foundation. This is the best one I have tried so far! I use the Murad mattifying moisturizer and Cover Fx mattifying primer. I use a stippling brush to apply and then blend out with a beauty blender. I lightly set with a translucent powder and a setting spray. It makes my skin look flawless, even when I have break outs. I love the way it smells, not perfumey just a subtle scent, but it doesnt linger. There is very very little to no transfer for me. It does not come off until I wash it off! I wear this for 15 hours and it looks great pretty much the whole time! I will definitely continue to buy!!! Highly recommend! Learn to work with it! I have had no issues, it is amazingggg!!\n",
      "\n",
      "Sort of reminds me of liquid lipstick... The color is great, the pigment concentration is awesome, and it's definitely full-cover and long-lasting - but it dries out my skin immediately. My skin literally cracks and starts peeling. I do have combination skin, and maybe the primer helps? I've tried other primers with this, but not the Fenty one. Right now, when I want to use it, I mix it with a bit of my Make Up For Ever foundation, and apply using a beauty blender instead of putting it directly on to my skin first and then blending.\n",
      "\n",
      "Wanted to love this but I'm returning it. This is NOT for dry girls and boys. I tried it with the Fenty blender and the Fenty Beauty brush (which is absolutely fantastic, btw). The brush applied the foundation better than the blender by far but in both cases, it was patchy, required a TON of product and took forever to blend out. Most importantly, the results were okay at best. It's probably also worth mentioning that I moisturized, let that set, and then primed with a moisturizing primer before applying this on one side, and applied a more basic primer on the other. Both sides were a bit of a mess. My ONLY skin issues are dryness and a little bit of redness--no acne, not acne prone, and even then the coverage was meh. I believe this foundation does wonders for some people but if you're dry, you're gonna have to jump through a few hoops to make this work. Who has time for that ;(\n",
      "\n",
      "I absolutely adore this foundation, best I have tried yet. It is a matte finish which I didn't think i would like since I prefer dewy but oh this is beautiful. I wear it with Becca filter primer (purple one) as I found the Fenty beauty primer was way to drying with this, however if you are very oily you will like to use both. I dot small areas of my face then use my beauty blender- it dries very fast so do not dot your whole face then try and blend!! Looks beautiful, Im sure you dont need to powder this but i do anyways (chin, nose) since i can get both oily and dry. Also no breakouts!! Yay! So worth the purchase :,)\n",
      "\n",
      " + [(0.6746044633613949, 152), (0.6797885527578081, 202), (0.680204922162496, 1699), (0.680345430482762, 1710)]\n",
      "\n",
      "After hearing everyone rave about this, I had to try it immediately! I went to Sephora and got a sample last night, and wore it all day today. The shade definitely oxidized a bit, so I think I should have gotten a slightly lighter sample. As far as application goes, it dries down VERY quickly. I only use matte foundation and this one definitely dries faster than any I've ever used, which made it a little tricky to apply. The wear was pretty good but I don't feel like it blurred my pores like everyone says it does and I still had to blot my face every 3-4 hours like I usually do. I still prefer my L'Oréal pro matte foundation, which is my holy grail.\n",
      "\n",
      "So, the first time I got matched by a sephora rep, she swatched my cheek, let it dry down and i bought it. I should've known better because I have hyperpigmentation around my mouth and also neat mt jawline. The center of my face is lighter than my neck and chest. The foundation came out ashy all over when I put a full face on (420). I went back and tried 450 all over. It's not PERFECT match but it covers everything. If there was a warm shade between 440 and 450, that would be me but I can definitely get away with it by doing a little highlighting. Overall, it literally covers everything , didnt need to prime or set OR conceal. Mind you, I have combination oily skin and my forehead gets especially shiny. I have some hyperpigmentation like I said but I don't have many blemishes and my skin doesn't have a lot of texture so I don't know how it pans out on other types aside from reviews. It applies well with both beauty blender and the fenty foundation brush which I use for highlighting as well. It dries down fast so work in small sections and build to the coverage you want. Most of the darker shades (My shade and beyond) are pretty red which is the only real issue since not every dark skin black girl has red undertones. I definitely recommend going into the store and testing out shades for yourself before purchase OR find a YouTube beauty blogger with your shade/tone skin and watch them review. You'd get a decent idea from that as well. So just a takeaway, YES worth the money, DON'T need primer, YES it is buildable YES feels skin like, and YES it literally looks like you used a filter for your face!\n",
      "\n",
      "I LOVE THIS FOUNDATION! When I wear it it is a very nice matte. Not overly matte or too dewy. It makes my skin look like a better version of itself. I was kind of hesitant to try it, but I got a color match in Sephora and 160 blended really perfectly into my skin tone. Usually I have more yellow undertones when it comes to foundation, and in this description it says it has a peachy undertone but I don't think it's too peachy, only the slightest in my opinion. With one application total my face was medium coverage, and I builded it up for full coverage. I did not experience any creasing at all but I typically avoid putting a lot of foundation in my smile lines anyway. It is very lightweight and does not feel cakey at ALL! Since this foundation does dry fairly quickly, what I do is I pump a bit on my finger to place it on my skin and then use a beauty blender to blend it out. From what I've experienced with foundations in general this really helps when you have to move quickly. I used this in my normal face routine as well because I really wanted to see how it would hold up, primer, color corrector, foundation, powder, and it looked beautiful. The bottle itself feels very nice and heavy like more expensive foundations feel like, looks very chic, and I honestly have no complaints that I could give, I highly recommend that you at least get a sample of this or try it out in store- well worth it!!! :)\n",
      "\n",
      "190 is the perfect match for me which is nice because I feel like so often I have a hard time getting a really close/ perfect match. I figured this was one of those overly hyped celebrity products but I figured I'd give it a chance and I'm glad I did. I don't really have textured skin so I don't have issues with pores or dry patches which some people say they deal with. I like the finish, it's not dry or oily and it has good coverage. It looks like skin, not like cake...with that being said, it looks HORRIBLE if you try to layer it so work quickly once you place it down and build up the spots that need it really fast. There is a lot of talk about oxidation and it doesn't oxidize on me, it dries down so it starts off a little lighter than it ends up drying down to but it doesn't change throughout the day. I would recommend this product.\n",
      "\n",
      " + [(0.8056185689192059, 685), (0.8101301113136726, 2235), (0.820893265688531, 164), (0.8351431471892913, 2017)]\n",
      "\n",
      "I have combination skin, but my dry spots are super dry. This foundation shows my dry skin X10 more than any other foundation\n",
      "\n",
      "Very surprised! I'm having a weird skin year. To which my skin is dry\n",
      "\n",
      "First of all, I recommend this only to people with normal to oily skin, not dry skin. I was happy to find a match since I’m very fair, but applying this foundation was really hard to do. It dries almost instantly, making it hard to buff and easy to cake on. I also noticed that the foundation would wear away on parts of my face and seem patchy. Even with the primer and more moisturizer, I couldn’t get this foundation to work on my dry skin. The positives of this product was that it almost completely hides redness, photographs really well, and feels lightweight on my skin. I plan to return it since I have tried it 4 times with the same results. Maybe Rihanna will release a hydrating formula for dry skin in the future - I would love to try that.\n",
      "\n",
      "This product is very full coverage, dries very quickly, and the shade range is amazing. I have combination/dry skin. This foundation is a mate finish so it clung to my dry patches and made my skin look awful. If you have oily skin, you’ll probably love this, if you have dry skin or dry patches, you might not like the finish.\n"
     ]
    }
   ],
   "source": [
    "clustering_algorithms.best_cluster(one, df, 'review')"
   ]
  },
  {
   "cell_type": "code",
   "execution_count": null,
   "metadata": {},
   "outputs": [],
   "source": []
  }
 ],
 "metadata": {
  "kernelspec": {
   "display_name": "Python 3",
   "language": "python",
   "name": "python3"
  },
  "language_info": {
   "codemirror_mode": {
    "name": "ipython",
    "version": 3
   },
   "file_extension": ".py",
   "mimetype": "text/x-python",
   "name": "python",
   "nbconvert_exporter": "python",
   "pygments_lexer": "ipython3",
   "version": "3.6.5"
  }
 },
 "nbformat": 4,
 "nbformat_minor": 2
}
