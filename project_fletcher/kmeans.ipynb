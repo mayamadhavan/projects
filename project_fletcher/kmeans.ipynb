{
 "cells": [
  {
   "cell_type": "code",
   "execution_count": 1,
   "metadata": {},
   "outputs": [],
   "source": [
    "import pickle\n",
    "import pandas as pd\n",
    "import clustering_algorithms"
   ]
  },
  {
   "cell_type": "code",
   "execution_count": 2,
   "metadata": {},
   "outputs": [],
   "source": [
    "with open('final.pkl', 'rb') as f:\n",
    "    df = pickle.load(f)"
   ]
  },
  {
   "cell_type": "code",
   "execution_count": 3,
   "metadata": {},
   "outputs": [],
   "source": [
    "(one, two)= clustering_algorithms.making_vectorizers(df.review, 50)"
   ]
  },
  {
   "cell_type": "code",
   "execution_count": 4,
   "metadata": {},
   "outputs": [],
   "source": [
    "one.fit(df['review'])"
   ]
  },
  {
   "cell_type": "code",
   "execution_count": 5,
   "metadata": {},
   "outputs": [],
   "source": [
    "one.kmeans(n_clusters=5)"
   ]
  },
  {
   "cell_type": "code",
   "execution_count": 6,
   "metadata": {
    "scrolled": false
   },
   "outputs": [
    {
     "name": "stdout",
     "output_type": "stream",
     "text": [
      "\n",
      " + [(0.767304117282062, 1057), (0.767304117282062, 2531), (0.7971203966886435, 478), (0.7971203966886435, 480)]\n",
      "\n",
      "I purchased the Pro Filt'r Soft Matte Longwear Foundation a few weeks ago. I have extremely pale skin, and finding a foundation that I love and also matches my skin color is almost impossible. I had heard lots of good things surrounding Fenty Beauty's large shade range for months, so, finally, I purchased the foundation. It matches my skin very well; I don't have to lighten it with a white foundation (I have to with other foundations I use) but the formula did not impress me. Dislikes: I knew it dried down quickly from the YouTube reviews I watched before purchasing, but I had no idea just how quick. I dotted the foundation onto one portion of my face, and used a damp beauty sponge (Miracle Complexion Sponge from RealTechniques) to blend the product in. On certain areas of my face, you could see a faint circle of where I dotted the foundation, even after blending well. The biggest thing I didn't like was how it clung to the dry skin on my face. I have combination skin: oily T-zone, dry areas around my mouth and cheeks. I don't have actual dry spots at this time of year, but the skin in that area is definitely drier than my T-zone. I loved the way the foundation looked on my forehead (oily skin), but my cheeks and mouth (dry skin) left much to be desired. Even though I didn't have any spots of dryness at the time, the foundation seemed to emphasize what wasn't there before. Likes: The consistency is not thick, but not very liquid-like either, it's a good in-between. If you have oily skin, I think you'll love this product. It tones down the oiliness, but still lets your skin have a nice, natural look to it. It makes your skin soft, a sort of velvet-matte feel. The foundation smells powdery to me, but it isn't overpowering or unpleasant. It stays on the skin for a long time, and does not smudge away easily. My oily T-zone still looked nice after 8 hours of wear. I won't purchase this product again. But if it works for you, then rock it like Rihanna!\n",
      "\n",
      "I purchased the Pro Filt'r Soft Matte Longwear Foundation a few weeks ago. I have extremely pale skin, and finding a foundation that I love and also matches my skin color is almost impossible. I had heard lots of good things surrounding Fenty Beauty's large shade range for months, so, finally, I purchased the foundation. It matches my skin very well; I don't have to lighten it with a white foundation (I have to with other foundations I use) but the formula did not impress me. Dislikes: I knew it dried down quickly from the YouTube reviews I watched before purchasing, but I had no idea just how quick. I dotted the foundation onto one portion of my face, and used a damp beauty sponge (Miracle Complexion Sponge from RealTechniques) to blend the product in. On certain areas of my face, you could see a faint circle of where I dotted the foundation, even after blending well. The biggest thing I didn't like was how it clung to the dry skin on my face. I have combination skin: oily T-zone, dry areas around my mouth and cheeks. I don't have actual dry spots at this time of year, but the skin in that area is definitely drier than my T-zone. I loved the way the foundation looked on my forehead (oily skin), but my cheeks and mouth (dry skin) left much to be desired. Even though I didn't have any spots of dryness at the time, the foundation seemed to emphasize what wasn't there before. Likes: The consistency is not thick, but not very liquid-like either, it's a good in-between. If you have oily skin, I think you'll love this product. It tones down the oiliness, but still lets your skin have a nice, natural look to it. It makes your skin soft, a sort of velvet-matte feel. The foundation smells powdery to me, but it isn't overpowering or unpleasant. It stays on the skin for a long time, and does not smudge away easily. My oily T-zone still looked nice after 8 hours of wear. I won't purchase this product again. But if it works for you, then rock it like Rihanna!\n",
      "\n",
      "I REALLY wanted to like this product. I had seen some good reviews and when I color matched it in a store, it was PERFECT. However, the spot where I matched it on my face was the one spot on my forehead that is the smoothest, oiliest, and is also scar free. When I got home it had oxidized in the one spot, and became a bit to yellow, but that didn't bother me (I am very fair skinned and have patches that are more pinky and some that are definitely more yellow, so sometimes one undertone works better than the other). It was also a little warm in my car so I did sweat a bit on my forehead, so it seemed fairly moist looking at that time. When I got home, as I wanted to try how it wore thought the day, I cleaned, primed, and started to put the foundation on. It was a nightmare (probably felt worse because I really wanted to like this product). It dries too quickly, and becomes hard to blend after a few seconds (damp sponge, brush, and finger, all the same). As I tried to fix that, I noticed it accentuated all of my acne and chicken pox scars (I have some big pox scars on my cheek that don't cover easily). I finished the whole face, and I looked like a piece of white chalk that was next to a piece of yellow chalk, my skin looked and felt DRY. It was very hard to look at my face and feel good about it. I had a friend (going through cosmetology courses) come over, who also thought it looked bad, and she tried some things to see if she could get it to work, and if it didn't accentuate my pores, I looked to dry. Nothing worked, and I after it oxidized, it was to yellow or dark and no longer matched. My friend tried it, and it did work well for her, as she has normal/oily skin, but my color was too light (after oxidizing). For me, it was to dry for my skin, and the oxidizing was strange (maybe a miss batch bottle?). But my friend did get some and she loves it. But for really dry, and scarred skin, it was a sad miss. (loved the color choices though, really wish it worked).\n",
      "\n",
      "I REALLY wanted to like this product. I had seen some good reviews and when I color matched it in a store, it was PERFECT. However, the spot where I matched it on my face was the one spot on my forehead that is the smoothest, oiliest, and is also scar free. When I got home it had oxidized in the one spot, and became a bit to yellow, but that didn't bother me (I am very fair skinned and have patches that are more pinky and some that are definitely more yellow, so sometimes one undertone works better than the other). It was also a little warm in my car so I did sweat a bit on my forehead, so it seemed fairly moist looking at that time. When I got home, as I wanted to try how it wore thought the day, I cleaned, primed, and started to put the foundation on. It was a nightmare (probably felt worse because I really wanted to like this product). It dries too quickly, and becomes hard to blend after a few seconds (damp sponge, brush, and finger, all the same). As I tried to fix that, I noticed it accentuated all of my acne and chicken pox scars (I have some big pox scars on my cheek that don't cover easily). I finished the whole face, and I looked like a piece of white chalk that was next to a piece of yellow chalk, my skin looked and felt DRY. It was very hard to look at my face and feel good about it. I had a friend (going through cosmetology courses) come over, who also thought it looked bad, and she tried some things to see if she could get it to work, and if it didn't accentuate my pores, I looked to dry. Nothing worked, and I after it oxidized, it was to yellow or dark and no longer matched. My friend tried it, and it did work well for her, as she has normal/oily skin, but my color was too light (after oxidizing). For me, it was to dry for my skin, and the oxidizing was strange (maybe a miss batch bottle?). But my friend did get some and she loves it. But for really dry, and scarred skin, it was a sad miss. (loved the color choices though, really wish it worked).\n",
      "\n",
      " + [(0.6794631192846018, 289), (0.6795908206010222, 181), (0.7003681323945078, 679), (0.7166425194743828, 654)]\n",
      "\n",
      "I really love this product so far. Got color matched and was recommended to try this brand at the store. It’s lightweight yet buildable full coverage! I’m oily and it does not add to that Factor which is great. I tried the Huda foundation and I prefer this one. Huda was too thick and I LIKE full coverage.\n",
      "\n",
      "I love love love this product. I tend to prefer light coverage to medium coverage foundations, and this fit the bill perfectly. It's very light and semi matte, which I absolutely love. No setting is necessary; as it dries quickly. I applied with the Sephora #47 foundation brush and thought that it went on perfectly. Beware of the dry down...I was lucky in that I swatched three shades in store and was able to match from there, but they do seem to darken a bit from what the color looks like in the bottle. Pretty happy with the wear time too. Applied at 7am and was still looking good at 5:30 pm. Overall, super happy with the product and will continue to throw my money at this company\n",
      "\n",
      "I am in love with this foundation. Literally feels like I don’t even have makeup on but makes my face look flawless. The finish looks soft and velvety and just perfect. I would say this foundation is medium coverage, but buildable. Also great for my oily skin. My new favorite! Rihanna slayed with this foundation.\n",
      "\n",
      "I can't get enough of this foundation. It looks and feels like skin. The amount of coverage and the finish I get from this product is perfect for my needs and it works well as an everyday foundation. This is my very first liquid foundation and I typically go for tinted moisturizer or powder foundation for everyday but this seems to dry to a powder like finish so it's right up my alley. I am not the full coverage type I love when my skin shines through and you cannot tell if I have anything on my face. My skin is normal with slightly oily T zone so the formula doesn't move around on me and it definitely is long lasting. The only thing difficult about this was finding my shade it took several sephora visits but I'm not complaining about it!\n",
      "\n",
      " + [(0.7767740317498173, 692), (0.803465319055991, 2232), (0.8063071754608672, 164), (0.8106652669989617, 1315)]\n",
      "\n",
      "With all the hoopla about this foundation, I was expecting it to be really impressive. The only thing that took my breath away was how dry it made my skin. It's the Sahara Desert of foundations! Add to that how it spotlighted any texture on my skin and the grey cast....just a huge NO. I'm sure this would be great for oily skin, but for dry or combo skin like mine, stay FAR, far away!\n",
      "\n",
      "This product is very full coverage, dries very quickly, and the shade range is amazing. I have combination/dry skin. This foundation is a mate finish so it clung to my dry patches and made my skin look awful. If you have oily skin, you’ll probably love this, if you have dry skin or dry patches, you might not like the finish.\n",
      "\n",
      "First of all, I recommend this only to people with normal to oily skin, not dry skin. I was happy to find a match since I’m very fair, but applying this foundation was really hard to do. It dries almost instantly, making it hard to buff and easy to cake on. I also noticed that the foundation would wear away on parts of my face and seem patchy. Even with the primer and more moisturizer, I couldn’t get this foundation to work on my dry skin. The positives of this product was that it almost completely hides redness, photographs really well, and feels lightweight on my skin. I plan to return it since I have tried it 4 times with the same results. Maybe Rihanna will release a hydrating formula for dry skin in the future - I would love to try that.\n",
      "\n",
      "So I really do think this is a beautiful foundation but would only recommend for oily skin types. I have normal to dry skin (more on dry side) and the foundation just made my face feel and look super dry. Even after mositurizing the heck out of my face before application. I like to have a bit of a glow so this was not for me!\n",
      "\n",
      " + [(0.6805488433092756, 1797), (0.686342389413482, 1821), (0.6995142252537211, 260), (0.7413423250633945, 1810)]\n",
      "\n",
      "I've had a bunch of foundations before, MUF, Shu, Laura Mercier just to name a few.. but they've always been the major reason that keeps me from applying makeup on a daily basis. Until I found this! It is soooo comfortable, literally feels like nothing. I only use 1 pump for my entire face and a bit extra under eyes, the coverage and finish is beautiful, looks so natural just like skin and has a matte finish. It also holds up for a good 12 hours, and since I have combination dry skin I don't even need to use setting powder on my cheeks now. The only thing to be careful is it does dry down a bit darker than when you first pump it out, so watch out when you choose your shade! I wouldn't buy it without getting a sample to see how it actually looks on your face when it dries.\n",
      "\n",
      "190 is the perfect match for me which is nice because I feel like so often I have a hard time getting a really close/ perfect match. I figured this was one of those overly hyped celebrity products but I figured I'd give it a chance and I'm glad I did. I don't really have textured skin so I don't have issues with pores or dry patches which some people say they deal with. I like the finish, it's not dry or oily and it has good coverage. It looks like skin, not like cake...with that being said, it looks HORRIBLE if you try to layer it so work quickly once you place it down and build up the spots that need it really fast. There is a lot of talk about oxidation and it doesn't oxidize on me, it dries down so it starts off a little lighter than it ends up drying down to but it doesn't change throughout the day. I would recommend this product.\n",
      "\n",
      "I have this foundation in 410. I originally bought 420, but it was too orange. I have dark skin with golden undertones. You really must go in store to match. It is going to be extremely difficult to pick a color from online swatches. I really like this foundation. I'm amazed at how matte it is and remains throughout the day. I am oily and after 4 hours of wear, I still don't need to blot. It's the first foundation that makes me think I can get away without setting it with powder (I do, of course!). The very thin formula makes it very lightweight and capable of building up to fuller coverage and still look like skin. It will cling to dry patches so you may want to avoid if you have dry skin, or be sure to moisturize and prime with hydrating primer before application. And finally, I can't not mention the fact that Rihanna released 40 shades! Incredible and unheard of. Brava, Rihanna! I've worn this foundation for two days straight since purchasing it and both days I received compliments from people who have seen me many times previously. I will definitely be adding to my stable of foundations.\n",
      "\n",
      "I LOVE THIS FOUNDATION! When I wear it it is a very nice matte. Not overly matte or too dewy. It makes my skin look like a better version of itself. I was kind of hesitant to try it, but I got a color match in Sephora and 160 blended really perfectly into my skin tone. Usually I have more yellow undertones when it comes to foundation, and in this description it says it has a peachy undertone but I don't think it's too peachy, only the slightest in my opinion. With one application total my face was medium coverage, and I builded it up for full coverage. I did not experience any creasing at all but I typically avoid putting a lot of foundation in my smile lines anyway. It is very lightweight and does not feel cakey at ALL! Since this foundation does dry fairly quickly, what I do is I pump a bit on my finger to place it on my skin and then use a beauty blender to blend it out. From what I've experienced with foundations in general this really helps when you have to move quickly. I used this in my normal face routine as well because I really wanted to see how it would hold up, primer, color corrector, foundation, powder, and it looked beautiful. The bottle itself feels very nice and heavy like more expensive foundations feel like, looks very chic, and I honestly have no complaints that I could give, I highly recommend that you at least get a sample of this or try it out in store- well worth it!!! :)\n",
      "\n",
      " + [(0.6563890216111682, 365), (0.6677579884510431, 1157), (0.6760314524756487, 1810), (0.6821587298214368, 1308)]\n",
      "\n",
      "Absolutely in love! The formula I've been looking for my whole life. Its very matte but extremely lightweight! It feels like nothing on your skin, but with great coverage. Ive tried so many matte foundations and they all look sweaty and cakey by the end of the day but this does NOT. If you have oily skin BUY THIS and never look back. You have to blend quickly, with a beauty blender, but honestly so stunning I'm in love. thanks RIRI\n",
      "\n",
      "I love love love this foundation. First of all, I would recommend you get color matched in store as they have a variety of colors and undertones. Second, shake foundation bottle very well for long lasting effect. I've worn it for the past two weeks and have received many compliments on how natural my makeup looks. This foundation is superior to others I've tried for combination oily skin like mine because it dries up matte and powdery which for one allows me to totally skip on translucent powder and keeps oiliness at bay for at least 8 hours. I've even worn it on sweltering humid weather in which I tend to blot my face more than usual to dry my sweaty face and the foundation stays intact. I wear two layers for medium to full coverage which is enough to cover my blemishes and even out my skin tone but still look like I'm not wearing makeup. Can't say enough good things about this product and I would absolutely recommend it.\n",
      "\n",
      "I LOVE THIS FOUNDATION! When I wear it it is a very nice matte. Not overly matte or too dewy. It makes my skin look like a better version of itself. I was kind of hesitant to try it, but I got a color match in Sephora and 160 blended really perfectly into my skin tone. Usually I have more yellow undertones when it comes to foundation, and in this description it says it has a peachy undertone but I don't think it's too peachy, only the slightest in my opinion. With one application total my face was medium coverage, and I builded it up for full coverage. I did not experience any creasing at all but I typically avoid putting a lot of foundation in my smile lines anyway. It is very lightweight and does not feel cakey at ALL! Since this foundation does dry fairly quickly, what I do is I pump a bit on my finger to place it on my skin and then use a beauty blender to blend it out. From what I've experienced with foundations in general this really helps when you have to move quickly. I used this in my normal face routine as well because I really wanted to see how it would hold up, primer, color corrector, foundation, powder, and it looked beautiful. The bottle itself feels very nice and heavy like more expensive foundations feel like, looks very chic, and I honestly have no complaints that I could give, I highly recommend that you at least get a sample of this or try it out in store- well worth it!!! :)\n",
      "\n",
      "Love the shade, hate the formula. I have oily skin in summer and combo in winter. This stuff is SO drying! It made my nose look like cracked desert sand. That’s with my skin exfoliated, moisturized and primed. I usually have to set every foundation but this dries so matte that I didn’t need powder, it’s too matte. I tried to wait a couple hours for it to settle and mix with my face oils but it still just looks sooo dry. I think this would work best for oily skin with a moisturizing primer? If you’ve got any sort of dryness it’s gonna look horrible.\n"
     ]
    }
   ],
   "source": [
    "clustering_algorithms.best_cluster(one, df, 'review')"
   ]
  },
  {
   "cell_type": "code",
   "execution_count": 7,
   "metadata": {},
   "outputs": [],
   "source": [
    "one.kmeans(n_clusters=9)"
   ]
  },
  {
   "cell_type": "code",
   "execution_count": 8,
   "metadata": {},
   "outputs": [
    {
     "name": "stdout",
     "output_type": "stream",
     "text": [
      "\n",
      " + [(0.6752857668913472, 828), (0.6894795321190539, 1954), (0.736850970957611, 211), (0.7700152073949915, 2202)]\n",
      "\n",
      "I have very small pores and I've never had to use a primer before my foundation. This really sunk into my pores and made them look larger. I tried it with a primer and it looked alright but I don't want to add another step to my everyday makeup routine. Also, water really wipes this off. The first time I rinsed my face with water most of it came off my cheeks before I applied my face wash. I would NOT want to be caught in the rain with this foundation on.\n",
      "\n",
      "Love this! I use this every day and it stays put all day. I have super oily skin so Ive been looking for a foundation that will stay put and this is it. It took me a few times to find a good way to wear this foundation. You really have to shake it well and then do your face in sections because it dries down fast. I used the fenty primer and the milk makeup blur stick one the parts of my face with bigger pores. I use a brush to put the foundation on and blend it in and then I take a damp beauty blender and use it to blend it more. It goes on super smooth and gives my face a nice air brushed finish. I set it with the kat von d setting powder and it stays in place all day long. My face still gets a bit shiny but the foundation doesn’t move at all. I only use 2-3 pumps of it so the bottle lasts a long time. I got a sample of shade 180 and 200 to make sure it was the right shade before buying. I ended up buying 180 because it does oxidize and get darker. I’m on my 2nd bottle of it!\n",
      "\n",
      "I love this foundation, but it isn't the most intuitive product to apply. So I wanted to drop some tips! 1. Use a *moisturizing* primer! Because the foundation is so matte, a super dry primer will cause the makeup to not sit right on your face. 2. Apply in sections. This formula dries FAST, so apply one section at a time and blend quickly! 3. A little goes a long way! 2-3 pumps should cover your entire face. Don't get too much, or you might look cakey! Try these tips if you want to really enjoy Fenty foundation.\n",
      "\n",
      "I absolutely adore this foundation, best I have tried yet. It is a matte finish which I didn't think i would like since I prefer dewy but oh this is beautiful. I wear it with Becca filter primer (purple one) as I found the Fenty beauty primer was way to drying with this, however if you are very oily you will like to use both. I dot small areas of my face then use my beauty blender- it dries very fast so do not dot your whole face then try and blend!! Looks beautiful, Im sure you dont need to powder this but i do anyways (chin, nose) since i can get both oily and dry. Also no breakouts!! Yay! So worth the purchase :,)\n",
      "\n",
      " + [(0.7673607110510603, 277), (0.7675058532549375, 2493), (0.7760353079790392, 38), (0.7947098837542036, 171)]\n",
      "\n",
      "If you have oily skin I would strongly recommend the invisimatte blotting powder from this collection. It makes a world of difference when used correctly. I know there are you tube videos out there to the contrary, but this foundation performs spectacularly ALL DAY (even 12 hour plus days) for me on my oily T zone. Barely any shine and everything stays in place. High quality product that is worth the buy.\n",
      "\n",
      "This is hands down my new favorite foundation. I have oily skin, I stayed matte all day. I usually have to blot at hour 4-5 but with this foundation I don't have to blot at all. My skin looks airbrushed and didn't settle into my smile lines. I love it and highly recommend for oily skin.\n",
      "\n",
      "I have really bad oily skin and I flush easily, so I have a lot of redness in my checks and this foundation is absolutely amazing! It is the best matte foundation for oily skin that I have tried and it covers my redness and lasts long. I chose this this foundation to wear on my wedding day because I loved it so much!\n",
      "\n",
      "I was in the market for a new foundation when Fenty came out, and convinced myself that it was all hype and this foundation wasn't really a miracle for oily skin. Boy was I wrong. If there's one mistake I made in my life, it's not letting my skin be blessed by Rihanna's miracle potion right here. Medium, buildable coverage? check. Conceals acne, redness and blemishes? check. Doesn't clog pores? check. Keeps skin matte ALL DAY LONG? check. Seriously. I can wear this foundation from 6am, and not have to worry about blotting powder until 4 or 5 in the afternoon, which is something I have never experienced, seeing as my genetic lottery gave me acne-prone, excessively oily skin which cannot be tamed with any array of moisturizers, masks or primers. If you want your skin to love you, and it happens to be combination to oily, this is the foundation you need in your life. It will bless you, your family and your home.\n",
      "\n",
      " + [(0.6804163094989604, 272), (0.683035069788547, 1361), (0.6873021056273098, 447), (0.6948075157736673, 95)]\n",
      "\n",
      "I went in to buy this foundation at 10am this morning right after my university classes finished bc I was so hyped. I have extremely pale combination skin with dry patches and this stuff applied like a dream. It didn't have any flakiness and was buildable without looking cakey. I applied it at 11am and got home around 6:30, and it still looks just as perfect as when I first put it on, without any primer or setting powder/spray. It even stayed matte in the 30 degree weather, but the best part of this foundation was the incredible shade range. I always have had trouble finding my foundation colour with brands at sephora, but this matched me perfectly and I'm sure girls at the darker end of the spectrum will love the shade selection just as much.\n",
      "\n",
      "I wasn’t sure if I wanted to try this at first because I find that usually a lot of products have too much hype and then end up not being worth it. However this one is worth the hype. My skin tone to me can be confusing because sometimes I fit good into a medium shade and sometimes better into a light shade due to my yellow undertones with some redness on my cheeks. (I’m Mexican American by the way.) I’ve even purchase the makeup forever chromatic mixes in brown and yellow to change my foundations to what I need because there is hardly a perfect shade for me. When I matched myself online I thought I would be a 190 but when I went in store and they used the color matching machine on me it said I would be a 240! It was a huge difference. So luckily I had a friend with me who aided the girl in trying them on to find my best shade. I ended up with the 180. It was perfect and flawless. I don’t think my skin ever looked like my skin but better. I was so sad to leave the store after finding my shade because no one in San Antonio had it in stock. I waited impatiently for it to be in stock at Sephora and I’m glad i waited. Thank you Rihanna for making the perfect foundation for me! ***one thing I learned from this foundation is to always shake it before using it. Yes I know it says so on the box but I didn’t read it till after I attempted the application of he foundation till after two uses and was confused about how it covered weirdly. It also dries fast when you fab it on so it must be blended immediately.\n",
      "\n",
      "I bought this foundation when it first came out because of all the hype. I bought the shade that matched my perfect shade (MUF Y235) and it oxidized SO BADLY that it didn't match my neck at all. Also, I understand it is a matte foundation, but it felt so uncomfortable on my face - it felt like it dried down similar to mud. I stopped using this foundation after 2 uses and I just threw it away the other day because I never use it.\n",
      "\n",
      "This foundation is really beautiful. I've used it in conjunction with the pro filter primer. This foundation dries into a demi matte finish (not too drying) and looks flawless on the skin. Many matte foundations emphasize my texture and other flaws, but this just sits on the skin beautifully and never settles or gets crusty. It has medium coverage but is buildable. The shade is perfect as well, which is the first time this has happened! even in other brands with many shade ranges, i have never found a foundation that matches both my color and preferred formula. For reference, I have combination skin with hyper pigmentation and mild acne. This does have a scent to it which lingered a while after application, but it didn't break me out so i will gladly continue to use this. WARNING: this oxidizes. its a must to use a shade lighter. I don't mind since it doesn't continue to oxidize all day, once it sets to the shade it will oxidize to it will stay that way. i recommend grabbing a sample of a couple shades and seeing which shade oxidizes to match you best. I also always use this with a beauty blender.\n",
      "\n",
      " + [(0.7336997953059119, 260), (0.7363238807152216, 833), (0.7504550642212215, 1821), (0.7651501191362308, 1303)]\n",
      "\n",
      "I have this foundation in 410. I originally bought 420, but it was too orange. I have dark skin with golden undertones. You really must go in store to match. It is going to be extremely difficult to pick a color from online swatches. I really like this foundation. I'm amazed at how matte it is and remains throughout the day. I am oily and after 4 hours of wear, I still don't need to blot. It's the first foundation that makes me think I can get away without setting it with powder (I do, of course!). The very thin formula makes it very lightweight and capable of building up to fuller coverage and still look like skin. It will cling to dry patches so you may want to avoid if you have dry skin, or be sure to moisturize and prime with hydrating primer before application. And finally, I can't not mention the fact that Rihanna released 40 shades! Incredible and unheard of. Brava, Rihanna! I've worn this foundation for two days straight since purchasing it and both days I received compliments from people who have seen me many times previously. I will definitely be adding to my stable of foundations.\n",
      "\n",
      "The colour matches me really well, but other than that I don’t like this product. I have dry skin and the foundation looks splotchy on my face. It looks cakey and like I’m wearing tons of makeup. I mixed my face lotion with it and then it looked ok, but I still had to blend it like crazy... Over all I regret buying this. So save your coin!!!!\n",
      "\n",
      "190 is the perfect match for me which is nice because I feel like so often I have a hard time getting a really close/ perfect match. I figured this was one of those overly hyped celebrity products but I figured I'd give it a chance and I'm glad I did. I don't really have textured skin so I don't have issues with pores or dry patches which some people say they deal with. I like the finish, it's not dry or oily and it has good coverage. It looks like skin, not like cake...with that being said, it looks HORRIBLE if you try to layer it so work quickly once you place it down and build up the spots that need it really fast. There is a lot of talk about oxidation and it doesn't oxidize on me, it dries down so it starts off a little lighter than it ends up drying down to but it doesn't change throughout the day. I would recommend this product.\n",
      "\n",
      "i love it! gave my face such a filtered look :) looks like skin. feels good! looks good. if you have dry skin or dry patches i feel like it would gravitate and make them noticeable! it is drying and super matte. wouldn't recommend it for those that have really dry skin! i have combo skin and it kept my face from looking like an oily mess!!!\n",
      "\n",
      " + [(0.8135833190483296, 2103), (0.8160590719037877, 2197), (0.8171149325838021, 1705), (0.8235499619363288, 372)]\n",
      "\n",
      "OMG I LOVE LOVE THIS FOUNDATION. I didn’t really have high expectations for this product but omg I am totally in love with this. It goes on so smoothly and stays out all day.\n",
      "\n",
      "I've struggled for a long time to find the right foundation shade for my skin. My neck is darker than my face so it can be challenge sometimes. This is the first product that matches my weird pinky but not undertones of my skin and makes it look like i'm not wearing any foundation. Love love love\n",
      "\n",
      "idk what to say, i love it haha\n",
      "\n",
      "LOVE LOVE LOVE this foundation.......it works really well with combination skin!!! I didn't expect to look flawless with a medium coverage foundation so I'm very pleased!!! The hype is REAL!!!\n",
      "\n",
      " + [(0.5109211372783834, 851), (0.5320256867148111, 708), (1.0, 478), (1.0, 480)]\n",
      "\n",
      "I thought I loved this. It wore SO nicely and I was ALL IN. And then after about a week; my skin has broken out terribly. Several of my friends who also have the foundation had similar reactions So disappointed\n",
      "\n",
      "She put so much thought and effort in this collection!!bravo!!\n",
      "\n",
      "I REALLY wanted to like this product. I had seen some good reviews and when I color matched it in a store, it was PERFECT. However, the spot where I matched it on my face was the one spot on my forehead that is the smoothest, oiliest, and is also scar free. When I got home it had oxidized in the one spot, and became a bit to yellow, but that didn't bother me (I am very fair skinned and have patches that are more pinky and some that are definitely more yellow, so sometimes one undertone works better than the other). It was also a little warm in my car so I did sweat a bit on my forehead, so it seemed fairly moist looking at that time. When I got home, as I wanted to try how it wore thought the day, I cleaned, primed, and started to put the foundation on. It was a nightmare (probably felt worse because I really wanted to like this product). It dries too quickly, and becomes hard to blend after a few seconds (damp sponge, brush, and finger, all the same). As I tried to fix that, I noticed it accentuated all of my acne and chicken pox scars (I have some big pox scars on my cheek that don't cover easily). I finished the whole face, and I looked like a piece of white chalk that was next to a piece of yellow chalk, my skin looked and felt DRY. It was very hard to look at my face and feel good about it. I had a friend (going through cosmetology courses) come over, who also thought it looked bad, and she tried some things to see if she could get it to work, and if it didn't accentuate my pores, I looked to dry. Nothing worked, and I after it oxidized, it was to yellow or dark and no longer matched. My friend tried it, and it did work well for her, as she has normal/oily skin, but my color was too light (after oxidizing). For me, it was to dry for my skin, and the oxidizing was strange (maybe a miss batch bottle?). But my friend did get some and she loves it. But for really dry, and scarred skin, it was a sad miss. (loved the color choices though, really wish it worked).\n",
      "\n",
      "I REALLY wanted to like this product. I had seen some good reviews and when I color matched it in a store, it was PERFECT. However, the spot where I matched it on my face was the one spot on my forehead that is the smoothest, oiliest, and is also scar free. When I got home it had oxidized in the one spot, and became a bit to yellow, but that didn't bother me (I am very fair skinned and have patches that are more pinky and some that are definitely more yellow, so sometimes one undertone works better than the other). It was also a little warm in my car so I did sweat a bit on my forehead, so it seemed fairly moist looking at that time. When I got home, as I wanted to try how it wore thought the day, I cleaned, primed, and started to put the foundation on. It was a nightmare (probably felt worse because I really wanted to like this product). It dries too quickly, and becomes hard to blend after a few seconds (damp sponge, brush, and finger, all the same). As I tried to fix that, I noticed it accentuated all of my acne and chicken pox scars (I have some big pox scars on my cheek that don't cover easily). I finished the whole face, and I looked like a piece of white chalk that was next to a piece of yellow chalk, my skin looked and felt DRY. It was very hard to look at my face and feel good about it. I had a friend (going through cosmetology courses) come over, who also thought it looked bad, and she tried some things to see if she could get it to work, and if it didn't accentuate my pores, I looked to dry. Nothing worked, and I after it oxidized, it was to yellow or dark and no longer matched. My friend tried it, and it did work well for her, as she has normal/oily skin, but my color was too light (after oxidizing). For me, it was to dry for my skin, and the oxidizing was strange (maybe a miss batch bottle?). But my friend did get some and she loves it. But for really dry, and scarred skin, it was a sad miss. (loved the color choices though, really wish it worked).\n",
      "\n",
      " + [(0.7753961932871694, 97), (0.7976223676382447, 1315), (0.8024430466440834, 2232), (0.8199567601722838, 164)]\n",
      "\n",
      "STOP WHAT YOU'RE DOING AND BUY THIS FOUNDATION. I went the store to try it on the day it came out and I was blown away. I have dry skin and I have issues with dry patches and my foundation settling into my dry spots sometimes. I bought the foundation brush to go with it and guys, this foundation is a game changer. It goes on and it's basically already blended. No need to set either, it sets itself. I've worn it for about three days solid now and it doesn't move or wear off. If it works for dry skin, I'm sure it must look good on everyone's skin.\n",
      "\n",
      "So I really do think this is a beautiful foundation but would only recommend for oily skin types. I have normal to dry skin (more on dry side) and the foundation just made my face feel and look super dry. Even after mositurizing the heck out of my face before application. I like to have a bit of a glow so this was not for me!\n",
      "\n",
      "This product is very full coverage, dries very quickly, and the shade range is amazing. I have combination/dry skin. This foundation is a mate finish so it clung to my dry patches and made my skin look awful. If you have oily skin, you’ll probably love this, if you have dry skin or dry patches, you might not like the finish.\n",
      "\n",
      "First of all, I recommend this only to people with normal to oily skin, not dry skin. I was happy to find a match since I’m very fair, but applying this foundation was really hard to do. It dries almost instantly, making it hard to buff and easy to cake on. I also noticed that the foundation would wear away on parts of my face and seem patchy. Even with the primer and more moisturizer, I couldn’t get this foundation to work on my dry skin. The positives of this product was that it almost completely hides redness, photographs really well, and feels lightweight on my skin. I plan to return it since I have tried it 4 times with the same results. Maybe Rihanna will release a hydrating formula for dry skin in the future - I would love to try that.\n",
      "\n",
      " + [(0.7137316598099558, 1270), (0.7265222878098183, 1224), (0.7265222878098183, 2638), (0.7281630451011218, 654)]\n",
      "\n",
      "I'll admit, I was weary to try this foundation because usually celebrity products aren't all that. But this foundation is everything I have ever wanted in a foundation. My skin is ridiculously oily and this foundation does not move ONE INCH. This lasted me all day through work, a nap, and a night out. I did not have to reapply at all. I tend to go for lighter coverage because I don't like to feel like my makeup is caked on. The coverage is great and easily buildable without feeling thick or cakey. Stays matte all day, but I still have a glow. The range of shades is magic, I have never had a foundation match me so well. A lot of people say that this foundation oxidizes, but it doesn't really. It gets a tad darker about a minute after application, once it's set on the skin, but other than that the color stayed the same. TL;DR - highly recommend, it's perfect, buy it.\n",
      "\n",
      "After testing this out for two weeks I can say I Finally found a foundation that not only provides excellent coverage that is so skin like, but one that works perfectly on my combo skin In a Perfect shade!! I have tried so many highend matte foundations that have let me down color wise and I cannot rave enough about finding my HG. Airy, light feeling coverage that can be built up to full without feeling like it at all. Doesn’t dry my face out yet also curbs oil production where needed!\n",
      "\n",
      "After testing this out for two weeks I can say I Finally found a foundation that not only provides excellent coverage that is so skin like, but one that works perfectly on my combo skin In a Perfect shade!! I have tried so many highend matte foundations that have let me down color wise and I cannot rave enough about finding my HG. Airy, light feeling coverage that can be built up to full without feeling like it at all. Doesn’t dry my face out yet also curbs oil production where needed!\n",
      "\n",
      "I can't get enough of this foundation. It looks and feels like skin. The amount of coverage and the finish I get from this product is perfect for my needs and it works well as an everyday foundation. This is my very first liquid foundation and I typically go for tinted moisturizer or powder foundation for everyday but this seems to dry to a powder like finish so it's right up my alley. I am not the full coverage type I love when my skin shines through and you cannot tell if I have anything on my face. My skin is normal with slightly oily T zone so the formula doesn't move around on me and it definitely is long lasting. The only thing difficult about this was finding my shade it took several sephora visits but I'm not complaining about it!\n"
     ]
    },
    {
     "name": "stdout",
     "output_type": "stream",
     "text": [
      "\n",
      " + [(0.6545555163593492, 2329), (0.6569083949052432, 515), (0.6611698238133302, 1857), (0.6867550273938144, 181)]\n",
      "\n",
      "I absolutely love this foundation. It's a soft finish and it's very lightweight. It doesn't need to be set and it barely budges through the day. It has great coverage. However, it's hard to get a correct shade because it oxidizes. I originally bought 390 which was fine until it oxidized then it turned orange. 380, the one I have now is kinda ashy looking but after thoroughly blending it, it matches my skin type.\n",
      "\n",
      "I love this foundation! I usually love light coverage, natural foundations but this foundation gives me a natural airbrushed look, which I love. It is matte, which is great for my oily skin, but it not drying. It stays in place all day long and makes your skin look flawless. It is undetectable and easily blendable. It does oxidize a bit, so keep this in mind when picking a shade. Go down a shade if you are worried about oxidization. I love the shade range as well. The packaging is sleek and sophisticated, with a good pump. This is a wonderful product. Definitely try it out.\n",
      "\n",
      "I honestly love this foundation. I have been wearing it for just a little over a month and so many people have complimented me on my skin. This product is great because I can make it light coverage to make it look natural for school or if I'm going out with my friends I can make it full coverage. This foundation has also really helped me when I have trouble areas on my face or if my pores are a little bigger than normal. Before I got this foundation I saw that a lot of people complained that it oxidized, and I agree but I don't feel that it goes to the extent that it's another completely darker shade. I would definitely recommend this foundation because it's amazing!\n",
      "\n",
      "I love love love this product. I tend to prefer light coverage to medium coverage foundations, and this fit the bill perfectly. It's very light and semi matte, which I absolutely love. No setting is necessary; as it dries quickly. I applied with the Sephora #47 foundation brush and thought that it went on perfectly. Beware of the dry down...I was lucky in that I swatched three shades in store and was able to match from there, but they do seem to darken a bit from what the color looks like in the bottle. Pretty happy with the wear time too. Applied at 7am and was still looking good at 5:30 pm. Overall, super happy with the product and will continue to throw my money at this company\n"
     ]
    }
   ],
   "source": [
    "clustering_algorithms.best_cluster(one, df, 'review')"
   ]
  },
  {
   "cell_type": "code",
   "execution_count": null,
   "metadata": {},
   "outputs": [],
   "source": []
  }
 ],
 "metadata": {
  "kernelspec": {
   "display_name": "Python 3",
   "language": "python",
   "name": "python3"
  },
  "language_info": {
   "codemirror_mode": {
    "name": "ipython",
    "version": 3
   },
   "file_extension": ".py",
   "mimetype": "text/x-python",
   "name": "python",
   "nbconvert_exporter": "python",
   "pygments_lexer": "ipython3",
   "version": "3.6.5"
  }
 },
 "nbformat": 4,
 "nbformat_minor": 2
}
