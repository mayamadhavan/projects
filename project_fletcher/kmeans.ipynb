{
 "cells": [
  {
   "cell_type": "code",
   "execution_count": 7,
   "metadata": {},
   "outputs": [],
   "source": [
    "import pickle\n",
    "import pandas as pd\n",
    "import clustering_algorithms"
   ]
  },
  {
   "cell_type": "code",
   "execution_count": 8,
   "metadata": {},
   "outputs": [],
   "source": [
    "with open('final.pkl', 'rb') as f:\n",
    "    df = pickle.load(f)"
   ]
  },
  {
   "cell_type": "code",
   "execution_count": 9,
   "metadata": {},
   "outputs": [],
   "source": [
    "(one, two)= clustering_algorithms.making_vectorizers(df.review, 50)"
   ]
  },
  {
   "cell_type": "code",
   "execution_count": 10,
   "metadata": {},
   "outputs": [],
   "source": [
    "one.fit(df['review'])"
   ]
  },
  {
   "cell_type": "code",
   "execution_count": 11,
   "metadata": {},
   "outputs": [],
   "source": [
    "one.kmeans(n_clusters=5)"
   ]
  },
  {
   "cell_type": "code",
   "execution_count": 12,
   "metadata": {
    "scrolled": false
   },
   "outputs": [
    {
     "name": "stdout",
     "output_type": "stream",
     "text": [
      "\n",
      " + [(0.6691918320533846, 128), (0.6732005665270621, 654), (0.6738519972287658, 1270), (0.6798494790847058, 1637)]\n",
      "\n",
      "I think the formula of this foundation is absolutely flawless. It's lightweight, matte and covers well. I used concealer on parts that I needed a bit more coverage on, but overall full coverage. Not Kat Von D full coverage but certainly buildable to a full coverage. I have worn it for a full day and yes, if you have an oily skin type like mine you will get the shiny face just like any other foundation. However, it's normal and that's called being human. Lol Nothing a touch up can't fix. I was outside at a tailgate for a few hours and still looked good. As far as the color match: PERFECT. I wear 420. For your reference, in Clinique I wear Amber, KVD Deep 74 and Lancome 500 Suede. This shade has been the most perfect match I have ever walked out of Sephora with. Not too warm or red and not too neutral. Do I regret this purchase? Nope. Not at all.\n",
      "\n",
      "I can't get enough of this foundation. It looks and feels like skin. The amount of coverage and the finish I get from this product is perfect for my needs and it works well as an everyday foundation. This is my very first liquid foundation and I typically go for tinted moisturizer or powder foundation for everyday but this seems to dry to a powder like finish so it's right up my alley. I am not the full coverage type I love when my skin shines through and you cannot tell if I have anything on my face. My skin is normal with slightly oily T zone so the formula doesn't move around on me and it definitely is long lasting. The only thing difficult about this was finding my shade it took several sephora visits but I'm not complaining about it!\n",
      "\n",
      "I'll admit, I was weary to try this foundation because usually celebrity products aren't all that. But this foundation is everything I have ever wanted in a foundation. My skin is ridiculously oily and this foundation does not move ONE INCH. This lasted me all day through work, a nap, and a night out. I did not have to reapply at all. I tend to go for lighter coverage because I don't like to feel like my makeup is caked on. The coverage is great and easily buildable without feeling thick or cakey. Stays matte all day, but I still have a glow. The range of shades is magic, I have never had a foundation match me so well. A lot of people say that this foundation oxidizes, but it doesn't really. It gets a tad darker about a minute after application, once it's set on the skin, but other than that the color stayed the same. TL;DR - highly recommend, it's perfect, buy it.\n",
      "\n",
      "Best foundation I've ever found for my oily skin! The only foundation I can wear for 9 hours at work and it still looks good at the end of the day. Its full coverage but doesn't look like cake on your face that I find most full coverage foundations look like for oily skin. 150 is the perfect match if you have fair skin with a little pink undertone but not a lot.\n",
      "\n",
      " + [(0.7168904552204637, 871), (0.7180728508932824, 1821), (0.7245573726975918, 1810), (0.7286927749044148, 2385)]\n",
      "\n",
      "I really didn’t like this product... it dried way to quickly and left my face super dry no matter how much I moisturized!! Also, my dry patches were 100% visible and I don’t even have that dry of skin... bad experience, will be returning!!! Hype was not worth it. Also, the colour match was way too light and with pictures, I looked like a ghost. My redness and acne was barely covered. Overall bad experience!!\n",
      "\n",
      "190 is the perfect match for me which is nice because I feel like so often I have a hard time getting a really close/ perfect match. I figured this was one of those overly hyped celebrity products but I figured I'd give it a chance and I'm glad I did. I don't really have textured skin so I don't have issues with pores or dry patches which some people say they deal with. I like the finish, it's not dry or oily and it has good coverage. It looks like skin, not like cake...with that being said, it looks HORRIBLE if you try to layer it so work quickly once you place it down and build up the spots that need it really fast. There is a lot of talk about oxidation and it doesn't oxidize on me, it dries down so it starts off a little lighter than it ends up drying down to but it doesn't change throughout the day. I would recommend this product.\n",
      "\n",
      "I LOVE THIS FOUNDATION! When I wear it it is a very nice matte. Not overly matte or too dewy. It makes my skin look like a better version of itself. I was kind of hesitant to try it, but I got a color match in Sephora and 160 blended really perfectly into my skin tone. Usually I have more yellow undertones when it comes to foundation, and in this description it says it has a peachy undertone but I don't think it's too peachy, only the slightest in my opinion. With one application total my face was medium coverage, and I builded it up for full coverage. I did not experience any creasing at all but I typically avoid putting a lot of foundation in my smile lines anyway. It is very lightweight and does not feel cakey at ALL! Since this foundation does dry fairly quickly, what I do is I pump a bit on my finger to place it on my skin and then use a beauty blender to blend it out. From what I've experienced with foundations in general this really helps when you have to move quickly. I used this in my normal face routine as well because I really wanted to see how it would hold up, primer, color corrector, foundation, powder, and it looked beautiful. The bottle itself feels very nice and heavy like more expensive foundations feel like, looks very chic, and I honestly have no complaints that I could give, I highly recommend that you at least get a sample of this or try it out in store- well worth it!!! :)\n",
      "\n",
      "I had such high hopes for this product as many reviews mentioned how they felt it didn't even need to be set. I don't personally like a super powdery face so I was really interested in the Fenty Beauty foundation for that reason. Unfortunately this was not for me. I have dry skin, but not like mega dry, somewhere between dry and normal but this foundation caked on me so bad and stuck to every single dry part of my face like glue. I tried a variety of different primers, made sure to moisturize with the best products, tried a brush and a sponge, and nothing worked. With that being said, I really liked the quality of the product, just not how it worked for me. If Rihanna continues to create more foundation possibly in a more dry skin friendly formula id definitely purchase. Food for thought!\n",
      "\n",
      " + [(0.6580444406152701, 12), (0.6611664936429962, 1912), (0.6622786253738389, 339), (0.6880070988101852, 1810)]\n",
      "\n",
      "I've had this foundation for a little while now, and I've tried it with enough primer/powder combos to see what really works. The shade range is definitely a huge plus; 120 is the PERFECT neutral shade for my skin, and it doesn't turn orange on me. It just darkens the slightest bit when it dries down, but it's not noticeable on my skin. The trickiest part of this foundation is applying it, because it dries down so quickly that it can easily look patchy. I've found that if I apply it on my face with a foundation brush in broad strokes (almost like you apply a stick foundation) and then blend it out with a beauty sponge, it has the nicest, skin-like finish with a medium-to-full coverage. This is definitely one of those foundations that needs prepping with a primer, powder and setting spray, or else it won't hold up as well. However, I can say the same for most of my foundations. It took me a while to work with it, and I wanted to work with it because I love the shade and I really want to support the Fenty brand. It's a great special-occasion foundation because it gives the skin a smooth, even finish while still being lightweight. And, considering that it's not as expensive as other high-end foundations, I say it's worth a shot.\n",
      "\n",
      "I REALLY wanted to love this, but I think its just not for me. That being said, I do still see the merits of the formula. Pros: - Very lightweight!!! I seriously felt like nothing was on my face - one of the most light-feeling foundations I've tried. - Build-able. Light-Medium coverage. - Stayed matte. - Good price for the performance. Cons: - I got shade 120 (for fair skin with neutral undertones) and I have to say it was SUPER yellow-toned. Did not look neutral-toned at all. I have tried countless foundations and am always \"neutral toned\", perhaps this line runs yellow-ish and I need to try one of their warm toned shades. - The staying power was not what I hoped, even after using a primer, setting powder, and setting spray. The corners of my nose lost coverage within a few hours. I can see why others like it, but I don't think its for me. I couldn't make it work even trying a few different primers and a few different application methods (fingers, beauty blender, foundation brush). I have VERY high standards for foundation and this didn't quite meet them.\n",
      "\n",
      "Like pretty much every other Fenty beauty product I have, this foundation is the truth. Because there are so many shades, both my winter pale and summer \"tanned\" skin have a good shade match. It provides pretty buildable medium-to-full coverage. It's a little more matte and full-coverage than my usual Smashbox 15-hour hydrating foundation, which I love for both day and night. I have to dock a star because it requires a little more moisturizer and hydrating primer to not look dry (I recommend a water-based one like Too Faced Hangover). Overall, though, it's a nice fresh everyday foundation.\n",
      "\n",
      "I LOVE THIS FOUNDATION! When I wear it it is a very nice matte. Not overly matte or too dewy. It makes my skin look like a better version of itself. I was kind of hesitant to try it, but I got a color match in Sephora and 160 blended really perfectly into my skin tone. Usually I have more yellow undertones when it comes to foundation, and in this description it says it has a peachy undertone but I don't think it's too peachy, only the slightest in my opinion. With one application total my face was medium coverage, and I builded it up for full coverage. I did not experience any creasing at all but I typically avoid putting a lot of foundation in my smile lines anyway. It is very lightweight and does not feel cakey at ALL! Since this foundation does dry fairly quickly, what I do is I pump a bit on my finger to place it on my skin and then use a beauty blender to blend it out. From what I've experienced with foundations in general this really helps when you have to move quickly. I used this in my normal face routine as well because I really wanted to see how it would hold up, primer, color corrector, foundation, powder, and it looked beautiful. The bottle itself feels very nice and heavy like more expensive foundations feel like, looks very chic, and I honestly have no complaints that I could give, I highly recommend that you at least get a sample of this or try it out in store- well worth it!!! :)\n",
      "\n",
      " + [(0.7984269339381967, 2590), (0.7986846433266517, 1322), (0.8027416496269175, 372), (0.8064374615906552, 494)]\n",
      "\n",
      "Very light weight. This is the first foundation I've ever used that actually felt like skin. I passed my fingers over my face several times and nothing can out. I wore it for 12hrs and at the end of the day it was still looking very good. Excellent job riri I see you have those other companies shook. This is a keeper especially for those with oily skin. LOVE LOVE LOVE LOVE LOVE LOVE.\n",
      "\n",
      "Love this foundation. It is very lightweight and very full coverage. I totally fell in love with it.\n",
      "\n",
      "LOVE LOVE LOVE this foundation.......it works really well with combination skin!!! I didn't expect to look flawless with a medium coverage foundation so I'm very pleased!!! The hype is REAL!!!\n",
      "\n",
      "I love this! So lightweight, great coverage! The shade selection is beautiful. Rihanna did something amazing with this. Love love love\n",
      "\n",
      " + [(0.7599887120203245, 692), (0.7705255782923478, 2232), (0.7951957011144195, 164), (0.7991801576590357, 1315)]\n",
      "\n",
      "With all the hoopla about this foundation, I was expecting it to be really impressive. The only thing that took my breath away was how dry it made my skin. It's the Sahara Desert of foundations! Add to that how it spotlighted any texture on my skin and the grey cast....just a huge NO. I'm sure this would be great for oily skin, but for dry or combo skin like mine, stay FAR, far away!\n",
      "\n",
      "This product is very full coverage, dries very quickly, and the shade range is amazing. I have combination/dry skin. This foundation is a mate finish so it clung to my dry patches and made my skin look awful. If you have oily skin, you’ll probably love this, if you have dry skin or dry patches, you might not like the finish.\n",
      "\n",
      "First of all, I recommend this only to people with normal to oily skin, not dry skin. I was happy to find a match since I’m very fair, but applying this foundation was really hard to do. It dries almost instantly, making it hard to buff and easy to cake on. I also noticed that the foundation would wear away on parts of my face and seem patchy. Even with the primer and more moisturizer, I couldn’t get this foundation to work on my dry skin. The positives of this product was that it almost completely hides redness, photographs really well, and feels lightweight on my skin. I plan to return it since I have tried it 4 times with the same results. Maybe Rihanna will release a hydrating formula for dry skin in the future - I would love to try that.\n",
      "\n",
      "So I really do think this is a beautiful foundation but would only recommend for oily skin types. I have normal to dry skin (more on dry side) and the foundation just made my face feel and look super dry. Even after mositurizing the heck out of my face before application. I like to have a bit of a glow so this was not for me!\n"
     ]
    }
   ],
   "source": [
    "clustering_algorithms.best_cluster(one, df, 'review')"
   ]
  },
  {
   "cell_type": "code",
   "execution_count": 13,
   "metadata": {},
   "outputs": [],
   "source": [
    "one.kmeans(n_clusters=9)"
   ]
  },
  {
   "cell_type": "code",
   "execution_count": 14,
   "metadata": {},
   "outputs": [
    {
     "name": "stdout",
     "output_type": "stream",
     "text": [
      "\n",
      " + [(0.74375699725105, 1308), (0.7473651329435277, 1637), (0.7560289325322621, 38), (0.7775233981146742, 171)]\n",
      "\n",
      "Love the shade, hate the formula. I have oily skin in summer and combo in winter. This stuff is SO drying! It made my nose look like cracked desert sand. That’s with my skin exfoliated, moisturized and primed. I usually have to set every foundation but this dries so matte that I didn’t need powder, it’s too matte. I tried to wait a couple hours for it to settle and mix with my face oils but it still just looks sooo dry. I think this would work best for oily skin with a moisturizing primer? If you’ve got any sort of dryness it’s gonna look horrible.\n",
      "\n",
      "Best foundation I've ever found for my oily skin! The only foundation I can wear for 9 hours at work and it still looks good at the end of the day. Its full coverage but doesn't look like cake on your face that I find most full coverage foundations look like for oily skin. 150 is the perfect match if you have fair skin with a little pink undertone but not a lot.\n",
      "\n",
      "I have really bad oily skin and I flush easily, so I have a lot of redness in my checks and this foundation is absolutely amazing! It is the best matte foundation for oily skin that I have tried and it covers my redness and lasts long. I chose this this foundation to wear on my wedding day because I loved it so much!\n",
      "\n",
      "I was in the market for a new foundation when Fenty came out, and convinced myself that it was all hype and this foundation wasn't really a miracle for oily skin. Boy was I wrong. If there's one mistake I made in my life, it's not letting my skin be blessed by Rihanna's miracle potion right here. Medium, buildable coverage? check. Conceals acne, redness and blemishes? check. Doesn't clog pores? check. Keeps skin matte ALL DAY LONG? check. Seriously. I can wear this foundation from 6am, and not have to worry about blotting powder until 4 or 5 in the afternoon, which is something I have never experienced, seeing as my genetic lottery gave me acne-prone, excessively oily skin which cannot be tamed with any array of moisturizers, masks or primers. If you want your skin to love you, and it happens to be combination to oily, this is the foundation you need in your life. It will bless you, your family and your home.\n",
      "\n",
      " + [(0.7943105511478576, 181), (0.7971274462072874, 1322), (0.7988018105901762, 494), (0.7992845015572767, 372)]\n",
      "\n",
      "I love love love this product. I tend to prefer light coverage to medium coverage foundations, and this fit the bill perfectly. It's very light and semi matte, which I absolutely love. No setting is necessary; as it dries quickly. I applied with the Sephora #47 foundation brush and thought that it went on perfectly. Beware of the dry down...I was lucky in that I swatched three shades in store and was able to match from there, but they do seem to darken a bit from what the color looks like in the bottle. Pretty happy with the wear time too. Applied at 7am and was still looking good at 5:30 pm. Overall, super happy with the product and will continue to throw my money at this company\n",
      "\n",
      "Love this foundation. It is very lightweight and very full coverage. I totally fell in love with it.\n",
      "\n",
      "I love this! So lightweight, great coverage! The shade selection is beautiful. Rihanna did something amazing with this. Love love love\n",
      "\n",
      "LOVE LOVE LOVE this foundation.......it works really well with combination skin!!! I didn't expect to look flawless with a medium coverage foundation so I'm very pleased!!! The hype is REAL!!!\n",
      "\n",
      " + [(0.7936561501298404, 871), (0.7985623972100745, 2385), (0.8058611936763026, 164), (0.8111506516974392, 1315)]\n",
      "\n",
      "I really didn’t like this product... it dried way to quickly and left my face super dry no matter how much I moisturized!! Also, my dry patches were 100% visible and I don’t even have that dry of skin... bad experience, will be returning!!! Hype was not worth it. Also, the colour match was way too light and with pictures, I looked like a ghost. My redness and acne was barely covered. Overall bad experience!!\n",
      "\n",
      "I had such high hopes for this product as many reviews mentioned how they felt it didn't even need to be set. I don't personally like a super powdery face so I was really interested in the Fenty Beauty foundation for that reason. Unfortunately this was not for me. I have dry skin, but not like mega dry, somewhere between dry and normal but this foundation caked on me so bad and stuck to every single dry part of my face like glue. I tried a variety of different primers, made sure to moisturize with the best products, tried a brush and a sponge, and nothing worked. With that being said, I really liked the quality of the product, just not how it worked for me. If Rihanna continues to create more foundation possibly in a more dry skin friendly formula id definitely purchase. Food for thought!\n",
      "\n",
      "First of all, I recommend this only to people with normal to oily skin, not dry skin. I was happy to find a match since I’m very fair, but applying this foundation was really hard to do. It dries almost instantly, making it hard to buff and easy to cake on. I also noticed that the foundation would wear away on parts of my face and seem patchy. Even with the primer and more moisturizer, I couldn’t get this foundation to work on my dry skin. The positives of this product was that it almost completely hides redness, photographs really well, and feels lightweight on my skin. I plan to return it since I have tried it 4 times with the same results. Maybe Rihanna will release a hydrating formula for dry skin in the future - I would love to try that.\n",
      "\n",
      "So I really do think this is a beautiful foundation but would only recommend for oily skin types. I have normal to dry skin (more on dry side) and the foundation just made my face feel and look super dry. Even after mositurizing the heck out of my face before application. I like to have a bit of a glow so this was not for me!\n",
      "\n",
      " + [(0.6592607597949354, 654), (0.673199527988733, 1810), (0.6884065983665488, 1344), (0.6884065983665488, 1990)]\n",
      "\n",
      "I can't get enough of this foundation. It looks and feels like skin. The amount of coverage and the finish I get from this product is perfect for my needs and it works well as an everyday foundation. This is my very first liquid foundation and I typically go for tinted moisturizer or powder foundation for everyday but this seems to dry to a powder like finish so it's right up my alley. I am not the full coverage type I love when my skin shines through and you cannot tell if I have anything on my face. My skin is normal with slightly oily T zone so the formula doesn't move around on me and it definitely is long lasting. The only thing difficult about this was finding my shade it took several sephora visits but I'm not complaining about it!\n",
      "\n",
      "I LOVE THIS FOUNDATION! When I wear it it is a very nice matte. Not overly matte or too dewy. It makes my skin look like a better version of itself. I was kind of hesitant to try it, but I got a color match in Sephora and 160 blended really perfectly into my skin tone. Usually I have more yellow undertones when it comes to foundation, and in this description it says it has a peachy undertone but I don't think it's too peachy, only the slightest in my opinion. With one application total my face was medium coverage, and I builded it up for full coverage. I did not experience any creasing at all but I typically avoid putting a lot of foundation in my smile lines anyway. It is very lightweight and does not feel cakey at ALL! Since this foundation does dry fairly quickly, what I do is I pump a bit on my finger to place it on my skin and then use a beauty blender to blend it out. From what I've experienced with foundations in general this really helps when you have to move quickly. I used this in my normal face routine as well because I really wanted to see how it would hold up, primer, color corrector, foundation, powder, and it looked beautiful. The bottle itself feels very nice and heavy like more expensive foundations feel like, looks very chic, and I honestly have no complaints that I could give, I highly recommend that you at least get a sample of this or try it out in store- well worth it!!! :)\n",
      "\n",
      "I'm not a foundation fan because it always looks like it's sitting on my face instead of skin. I tried this foundation out of curiosity and walked away a true fan. The undertone in this color perfectly matched me so I didn't feel too yellow or too grey. The coverage is perfect for me: not to heavy or cakey and not too sheer to blend out my hyperpigmentation. The finish is matte but not dusty and lasts on me all day. This product just disappears into my skin and makes me look like a great version of me and my own skin. I'm really impressed by this product!\n",
      "\n",
      "I'm not a foundation fan because it always looks like it's sitting on my face instead of skin. I tried this foundation out of curiosity and walked away a true fan. The undertone in this color perfectly matched me so I didn't feel too yellow or too grey. The coverage is perfect for me: not to heavy or cakey and not too sheer to blend out my hyperpigmentation. The finish is matte but not dusty and lasts on me all day. This product just disappears into my skin and makes me look like a great version of me and my own skin. I'm really impressed by this product!\n",
      "\n",
      " + [(0.7148439410589404, 995), (0.7361221950013822, 74), (0.7362575926037864, 1810), (0.7423549996961698, 1821)]\n",
      "\n",
      "I'm still on the fence about this foundation..I really wanted to like this foundation but I don't know something about it is off. I want to say I think it's because I got the wrong shade (250) as it oxidized way too orange. But besides the the wrong color match, I felt like this didn't look as flawless as all the youtubers were saying, it looked cakey after I applied my usual face products. I feel like this foundation is really only good if you have perfect skin. I don't want to label this a dud yet until I get my exact shade but as of right now, I think it's too overhyped..\n",
      "\n",
      "I was nervous at first to try because I have a tendency to break out pretty badly with a lot of foundations, but I was very impressed with this foundation. It was very lightweight, and didn't feel like I had anything on when I tried it. It dries down matte, but it still looks and feels very much like skin, which I like. It does dry down fast so you have to blend quickly, but if you work in sections you should be fine. I also really appreciate the wide shade range, both for me (I have kinda weird undertones and I have a hard time finding foundations that match my skin tone), and for all the girls I saw who were at the darker and lighter ends of the spectrum and were able to find a match. I love this product and everything it represents.\n",
      "\n",
      "I LOVE THIS FOUNDATION! When I wear it it is a very nice matte. Not overly matte or too dewy. It makes my skin look like a better version of itself. I was kind of hesitant to try it, but I got a color match in Sephora and 160 blended really perfectly into my skin tone. Usually I have more yellow undertones when it comes to foundation, and in this description it says it has a peachy undertone but I don't think it's too peachy, only the slightest in my opinion. With one application total my face was medium coverage, and I builded it up for full coverage. I did not experience any creasing at all but I typically avoid putting a lot of foundation in my smile lines anyway. It is very lightweight and does not feel cakey at ALL! Since this foundation does dry fairly quickly, what I do is I pump a bit on my finger to place it on my skin and then use a beauty blender to blend it out. From what I've experienced with foundations in general this really helps when you have to move quickly. I used this in my normal face routine as well because I really wanted to see how it would hold up, primer, color corrector, foundation, powder, and it looked beautiful. The bottle itself feels very nice and heavy like more expensive foundations feel like, looks very chic, and I honestly have no complaints that I could give, I highly recommend that you at least get a sample of this or try it out in store- well worth it!!! :)\n",
      "\n",
      "190 is the perfect match for me which is nice because I feel like so often I have a hard time getting a really close/ perfect match. I figured this was one of those overly hyped celebrity products but I figured I'd give it a chance and I'm glad I did. I don't really have textured skin so I don't have issues with pores or dry patches which some people say they deal with. I like the finish, it's not dry or oily and it has good coverage. It looks like skin, not like cake...with that being said, it looks HORRIBLE if you try to layer it so work quickly once you place it down and build up the spots that need it really fast. There is a lot of talk about oxidation and it doesn't oxidize on me, it dries down so it starts off a little lighter than it ends up drying down to but it doesn't change throughout the day. I would recommend this product.\n",
      "\n",
      " + [(0.7357725353547082, 175), (0.7509445907450564, 312), (0.7530230869168614, 447), (0.78666800844631, 1361)]\n",
      "\n",
      "I'm a very pale ginger gal. I usually have to buy a white powder highlighter or Halloween makeup to get my shade. I was so surprised, shocked, and so so happy when I tried on fenty beauties shade 100 and found it was a perfect match! It was perfectly pale without being chalky, and it even got the undertones right. It also was very buildable and stayed on through babysitting two boys for a full day! Amazing!\n",
      "\n",
      "I purchased the soft matte long wear foundation in the shade 130. And i have looked for my perfect shade for YEARSSS, you have no idea. I've returned so many foundations, none were yellow enough for my skin tone till i purchased this. It looks great and it's long lasting. You do have to blend quickly though, other than that it's perfect. Rihanna just made the perfect shade for me! Don't ever get rid of this shade please!\n",
      "\n",
      "I bought this foundation when it first came out because of all the hype. I bought the shade that matched my perfect shade (MUF Y235) and it oxidized SO BADLY that it didn't match my neck at all. Also, I understand it is a matte foundation, but it felt so uncomfortable on my face - it felt like it dried down similar to mud. I stopped using this foundation after 2 uses and I just threw it away the other day because I never use it.\n",
      "\n",
      "I wasn’t sure if I wanted to try this at first because I find that usually a lot of products have too much hype and then end up not being worth it. However this one is worth the hype. My skin tone to me can be confusing because sometimes I fit good into a medium shade and sometimes better into a light shade due to my yellow undertones with some redness on my cheeks. (I’m Mexican American by the way.) I’ve even purchase the makeup forever chromatic mixes in brown and yellow to change my foundations to what I need because there is hardly a perfect shade for me. When I matched myself online I thought I would be a 190 but when I went in store and they used the color matching machine on me it said I would be a 240! It was a huge difference. So luckily I had a friend with me who aided the girl in trying them on to find my best shade. I ended up with the 180. It was perfect and flawless. I don’t think my skin ever looked like my skin but better. I was so sad to leave the store after finding my shade because no one in San Antonio had it in stock. I waited impatiently for it to be in stock at Sephora and I’m glad i waited. Thank you Rihanna for making the perfect foundation for me! ***one thing I learned from this foundation is to always shake it before using it. Yes I know it says so on the box but I didn’t read it till after I attempted the application of he foundation till after two uses and was confused about how it covered weirdly. It also dries fast when you fab it on so it must be blended immediately.\n",
      "\n",
      " + [(0.8205373607122679, 1355), (0.8271613265771586, 372), (0.8284305810331375, 2216), (0.8329378513346658, 1705)]\n",
      "\n",
      "Love this worth your money\n",
      "\n",
      "LOVE LOVE LOVE this foundation.......it works really well with combination skin!!! I didn't expect to look flawless with a medium coverage foundation so I'm very pleased!!! The hype is REAL!!!\n",
      "\n",
      "i love it but i realized ive been getting a few breakouts\n",
      "\n",
      "idk what to say, i love it haha\n",
      "\n",
      " + [(0.5146447710821921, 709), (0.5344025549408621, 708), (0.9999999999999999, 478), (0.9999999999999999, 480)]\n",
      "\n",
      "Wanted to like this so much but just couldn’t make it work. No foundation has ever matched me before and 100 did BUT it looked so dry and bad on my very oily skin. I don’t know how it made my skin look so bad but I looked so much older. And it had really light coverage for me. Barely coved up my rosacea or acne. Such a disappointment.\n",
      "\n",
      "She put so much thought and effort in this collection!!bravo!!\n",
      "\n",
      "I REALLY wanted to like this product. I had seen some good reviews and when I color matched it in a store, it was PERFECT. However, the spot where I matched it on my face was the one spot on my forehead that is the smoothest, oiliest, and is also scar free. When I got home it had oxidized in the one spot, and became a bit to yellow, but that didn't bother me (I am very fair skinned and have patches that are more pinky and some that are definitely more yellow, so sometimes one undertone works better than the other). It was also a little warm in my car so I did sweat a bit on my forehead, so it seemed fairly moist looking at that time. When I got home, as I wanted to try how it wore thought the day, I cleaned, primed, and started to put the foundation on. It was a nightmare (probably felt worse because I really wanted to like this product). It dries too quickly, and becomes hard to blend after a few seconds (damp sponge, brush, and finger, all the same). As I tried to fix that, I noticed it accentuated all of my acne and chicken pox scars (I have some big pox scars on my cheek that don't cover easily). I finished the whole face, and I looked like a piece of white chalk that was next to a piece of yellow chalk, my skin looked and felt DRY. It was very hard to look at my face and feel good about it. I had a friend (going through cosmetology courses) come over, who also thought it looked bad, and she tried some things to see if she could get it to work, and if it didn't accentuate my pores, I looked to dry. Nothing worked, and I after it oxidized, it was to yellow or dark and no longer matched. My friend tried it, and it did work well for her, as she has normal/oily skin, but my color was too light (after oxidizing). For me, it was to dry for my skin, and the oxidizing was strange (maybe a miss batch bottle?). But my friend did get some and she loves it. But for really dry, and scarred skin, it was a sad miss. (loved the color choices though, really wish it worked).\n",
      "\n",
      "I REALLY wanted to like this product. I had seen some good reviews and when I color matched it in a store, it was PERFECT. However, the spot where I matched it on my face was the one spot on my forehead that is the smoothest, oiliest, and is also scar free. When I got home it had oxidized in the one spot, and became a bit to yellow, but that didn't bother me (I am very fair skinned and have patches that are more pinky and some that are definitely more yellow, so sometimes one undertone works better than the other). It was also a little warm in my car so I did sweat a bit on my forehead, so it seemed fairly moist looking at that time. When I got home, as I wanted to try how it wore thought the day, I cleaned, primed, and started to put the foundation on. It was a nightmare (probably felt worse because I really wanted to like this product). It dries too quickly, and becomes hard to blend after a few seconds (damp sponge, brush, and finger, all the same). As I tried to fix that, I noticed it accentuated all of my acne and chicken pox scars (I have some big pox scars on my cheek that don't cover easily). I finished the whole face, and I looked like a piece of white chalk that was next to a piece of yellow chalk, my skin looked and felt DRY. It was very hard to look at my face and feel good about it. I had a friend (going through cosmetology courses) come over, who also thought it looked bad, and she tried some things to see if she could get it to work, and if it didn't accentuate my pores, I looked to dry. Nothing worked, and I after it oxidized, it was to yellow or dark and no longer matched. My friend tried it, and it did work well for her, as she has normal/oily skin, but my color was too light (after oxidizing). For me, it was to dry for my skin, and the oxidizing was strange (maybe a miss batch bottle?). But my friend did get some and she loves it. But for really dry, and scarred skin, it was a sad miss. (loved the color choices though, really wish it worked).\n",
      "\n",
      " + [(0.6601881127348082, 685), (0.6854634386600725, 211), (0.6868187378137591, 1810), (0.723406812547112, 2202)]\n",
      "\n",
      "Alright, please don't hurt me because I'm going to have to say that this foundation is just ok. The formula is very blah to me. There is some great pro's but also some strong cons too. Here we go... Pro's -the dry down is great! Zero tackiness; you almost don't need a powder -the Color selection.... obviously! This is the first time I've ever had a Color match that has been dead on. I'm quite fair with really strong yellow undertones, and the undertone has never seemed to be quite right in the past. -the bottle is nice to look at. -the coverage (both a pro/con for me) Con's - this dries hella fast!!! Work in small sections and pretend your Speedy Gonzolas! -I expected more coverage. I use the matching primer, and also bought the sponge and the brush. Now, I do enjoy the coverage, but for something that people claim to be full coverage, I don't find that to be the case. My freckles still show through. -this is not long wearing! Again, I use the matching primer, and tools from Fenty, but I really can't get this to last throughout the day. And my dry dry skin, tends to look a little shiny at the end of the day. In summary, is this my holy grail? Definitely not. There are just not enough things to enjoy to retire my vast foundation collection. But, that being said, I've never had this accurate of a color match, so that is something that I just can't shy away from. I will continue to use it, but will still experiment with other formulas.\n",
      "\n",
      "I love this foundation, but it isn't the most intuitive product to apply. So I wanted to drop some tips! 1. Use a *moisturizing* primer! Because the foundation is so matte, a super dry primer will cause the makeup to not sit right on your face. 2. Apply in sections. This formula dries FAST, so apply one section at a time and blend quickly! 3. A little goes a long way! 2-3 pumps should cover your entire face. Don't get too much, or you might look cakey! Try these tips if you want to really enjoy Fenty foundation.\n",
      "\n",
      "I LOVE THIS FOUNDATION! When I wear it it is a very nice matte. Not overly matte or too dewy. It makes my skin look like a better version of itself. I was kind of hesitant to try it, but I got a color match in Sephora and 160 blended really perfectly into my skin tone. Usually I have more yellow undertones when it comes to foundation, and in this description it says it has a peachy undertone but I don't think it's too peachy, only the slightest in my opinion. With one application total my face was medium coverage, and I builded it up for full coverage. I did not experience any creasing at all but I typically avoid putting a lot of foundation in my smile lines anyway. It is very lightweight and does not feel cakey at ALL! Since this foundation does dry fairly quickly, what I do is I pump a bit on my finger to place it on my skin and then use a beauty blender to blend it out. From what I've experienced with foundations in general this really helps when you have to move quickly. I used this in my normal face routine as well because I really wanted to see how it would hold up, primer, color corrector, foundation, powder, and it looked beautiful. The bottle itself feels very nice and heavy like more expensive foundations feel like, looks very chic, and I honestly have no complaints that I could give, I highly recommend that you at least get a sample of this or try it out in store- well worth it!!! :)\n",
      "\n",
      "I absolutely adore this foundation, best I have tried yet. It is a matte finish which I didn't think i would like since I prefer dewy but oh this is beautiful. I wear it with Becca filter primer (purple one) as I found the Fenty beauty primer was way to drying with this, however if you are very oily you will like to use both. I dot small areas of my face then use my beauty blender- it dries very fast so do not dot your whole face then try and blend!! Looks beautiful, Im sure you dont need to powder this but i do anyways (chin, nose) since i can get both oily and dry. Also no breakouts!! Yay! So worth the purchase :,)\n"
     ]
    }
   ],
   "source": [
    "clustering_algorithms.best_cluster(one, df, 'review')"
   ]
  },
  {
   "cell_type": "code",
   "execution_count": null,
   "metadata": {},
   "outputs": [],
   "source": []
  }
 ],
 "metadata": {
  "kernelspec": {
   "display_name": "Python 3",
   "language": "python",
   "name": "python3"
  },
  "language_info": {
   "codemirror_mode": {
    "name": "ipython",
    "version": 3
   },
   "file_extension": ".py",
   "mimetype": "text/x-python",
   "name": "python",
   "nbconvert_exporter": "python",
   "pygments_lexer": "ipython3",
   "version": "3.6.5"
  }
 },
 "nbformat": 4,
 "nbformat_minor": 2
}
