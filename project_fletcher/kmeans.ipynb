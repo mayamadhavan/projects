{
 "cells": [
  {
   "cell_type": "code",
   "execution_count": 1,
   "metadata": {},
   "outputs": [],
   "source": [
    "import pickle\n",
    "import pandas as pd\n",
    "import clustering_algorithms"
   ]
  },
  {
   "cell_type": "code",
   "execution_count": 2,
   "metadata": {},
   "outputs": [],
   "source": [
    "with open('final.pkl', 'rb') as f:\n",
    "    df = pickle.load(f)"
   ]
  },
  {
   "cell_type": "code",
   "execution_count": 3,
   "metadata": {},
   "outputs": [],
   "source": [
    "(one, two)= clustering_algorithms.making_vectorizers(df.review, 20)"
   ]
  },
  {
   "cell_type": "code",
   "execution_count": 4,
   "metadata": {},
   "outputs": [],
   "source": [
    "one.fit(df['review'])"
   ]
  },
  {
   "cell_type": "code",
   "execution_count": 8,
   "metadata": {},
   "outputs": [],
   "source": [
    "one.kmeans(n_clusters=5)"
   ]
  },
  {
   "cell_type": "code",
   "execution_count": 10,
   "metadata": {
    "scrolled": false
   },
   "outputs": [
    {
     "name": "stdout",
     "output_type": "stream",
     "text": [
      "\n",
      " + [(0.8682846146625284, 696), (0.8827141795157618, 2232), (0.883414561687666, 132), (0.8861278568192499, 164)]\n",
      "\n",
      "Good Lord do these oxidize. like 2 shades. dry matte down tried 8 colors in store they all went a little orange , texture is dry!!! will need a luminous base for my dry skin but great coverage if you can find a match!\n",
      "\n",
      "This product is very full coverage, dries very quickly, and the shade range is amazing. I have combination/dry skin. This foundation is a mate finish so it clung to my dry patches and made my skin look awful. If you have oily skin, you’ll probably love this, if you have dry skin or dry patches, you might not like the finish.\n",
      "\n",
      "I gave this foundation 2 stars because it does indeed feel very lightweight on the skin and it cost less than $40 a bottle, a decent priced foundation on the grand scheme of foundations. If you have dry skin this will not work well for you. Although it has a very nice finish once it is applied, it feels sort of dry and will cling to dry patches. I hear the argument that you have to moisturize a lot, and use primer to make this foundation work. Well, I always moisturize and use primers, and still this foundation felt dry. For reference I am 49 and have combination skin. This foundation accentuated my wrinkles (made them look dry) and gave me a couple of zits on my forehead (some foundations do that to me). There you go ladies, just my two cents. I'm not a beauty guru, I'm just a girl who knows what she likes in makeup regardless of whatever hype going on. Try it before you buy into the hype :)\n",
      "\n",
      "First of all, I recommend this only to people with normal to oily skin, not dry skin. I was happy to find a match since I’m very fair, but applying this foundation was really hard to do. It dries almost instantly, making it hard to buff and easy to cake on. I also noticed that the foundation would wear away on parts of my face and seem patchy. Even with the primer and more moisturizer, I couldn’t get this foundation to work on my dry skin. The positives of this product was that it almost completely hides redness, photographs really well, and feels lightweight on my skin. I plan to return it since I have tried it 4 times with the same results. Maybe Rihanna will release a hydrating formula for dry skin in the future - I would love to try that.\n",
      "\n",
      " + [(0.7991607987731055, 408), (0.8007301800164897, 1308), (0.8020044622304108, 2274), (0.8288067361925556, 395)]\n",
      "\n",
      "I love the color range of this product, and I did find it to be quite long wearing. But I found that no matter what primer I use under it, this foundation emphasizes any texture/pores on my skin, and clings to any dry patches. I tried applying it with a brush and with a sponge, and it just makes me look scaly. Setting it with powder makes it look worse on me, but not setting it has my oil breaking through and making me shiny after about an hour of wear, which at least helps skin look less reptilian. I have combination/oily skin, and tend to like matte foundations, but this one just doesn't work for me, and is not flattering on my skin at all. I want to like it, and am willing to try it as a mixer with other foundations to see if that works better.\n",
      "\n",
      "Love the shade, hate the formula. I have oily skin in summer and combo in winter. This stuff is SO drying! It made my nose look like cracked desert sand. That’s with my skin exfoliated, moisturized and primed. I usually have to set every foundation but this dries so matte that I didn’t need powder, it’s too matte. I tried to wait a couple hours for it to settle and mix with my face oils but it still just looks sooo dry. I think this would work best for oily skin with a moisturizing primer? If you’ve got any sort of dryness it’s gonna look horrible.\n",
      "\n",
      "I LOVE this foundation! I've played with it now for 2 days and it's been amazing. Lasted ALL day and I only had to blot 2 times (first time after 5 hours, total of about 16hr wear.. I work/am out for long hours lol) My skin type is dry/oily. I also wear glasses, with that being said if your glasses rest on your face, it doesn't cut through as bad!! Lol. It's a soft matte but it is not uncomfortable on my skin. I apply a hydrating primer first (Marc Jacobs) then apply. Keep in mind this foundation does oxidize 0.5-1 shades darker! Works well with a brush.. I like it the best with a dense buffing brush or the Sephora Collection #47. I've tried this on many clients and it builds sososo well. Honestly, I'm glad that this foundation was worth the hype :) My fave foundation has been UD All Nighter (#7.75 is my shade) and I've tried these two mixed together.. IT. IS. A. DREAM. If you're looking for full coverage, flawless finish with good longevity, try it out :)\n",
      "\n",
      "I am loving Rihanna's foundation! It glides on smooth, and doesn't accentuate my pores. I'm a diehard Clinique Beyond Perfecting Concealer Foundation, but this is my new go-to. Well worth the price. I hope she expands her line!\n",
      "\n",
      " + [(0.8856248228124537, 2347), (0.8959647892890357, 1279), (0.8959647892890357, 1923), (0.896362047270402, 310)]\n",
      "\n",
      "I love this foundation, i do not wear a lot of make up usually and wanted something natural looking for my upcoming wedding. After using it and seeing how light weight it is and how it blends so well with my skin i might use it on a more regular basis!\n",
      "\n",
      "I love this foundation. I got it as a sample with a previous order and fell in love with it and wanted to try it. It is veryyyyy long wearing, in my experience. It lasted me about 10 hours without any touch ups or anything and looked great. works well with my Tarte Shape Tape concealer and my Laura Mercier powder. It is very full coverage but does not feel heavy or look cakey. This has become my go-to foundation and definitely a new favorite.\n",
      "\n",
      "I love this foundation. I got it as a sample with a previous order and fell in love with it and wanted to try it. It is veryyyyy long wearing, in my experience. It lasted me about 10 hours without any touch ups or anything and looked great. works well with my Tarte Shape Tape concealer and my Laura Mercier powder. It is very full coverage but does not feel heavy or look cakey. This has become my go-to foundation and definitely a new favorite.\n",
      "\n",
      "I swore by the Make Up For Ever Ultra HD foundation, but was in search of a foundation that had medium to full coverage upon first application. After trying this, I am in love! It leaves my skin glowing and super smooth. I was super surprised to see that the foundation was good enough that I don't even need to wear a primer! Finally, when it says long wear, they mean it! I wore the foundation for around 10 hours and it did not budge. Love, love, love this product!\n",
      "\n",
      " + [(0.80368865269247, 39), (0.803749579802738, 1270), (0.8066363825223288, 260), (0.8298856491561579, 2351)]\n",
      "\n",
      "(The photo is freshly swiped on top of dried foundation) I bought this foundation, with primer, after receiving a sample. This foundation is a nice “medium” in multiple ways: a middle ground between sheer and full coverage, and a price point less than many upscale foundations (without being cheap). The coverage is matte with a bit of glow. It seems to enhance my pores, which may just be a quality of heavier coverage foundation — I’m admittedly more experienced in lighter ones like UD’s Naked. After application, my skin is smooth, like powdery smooth... a bit dry feeling, which is fine for me as an adult plagued with teenage (i.e. oily) skin. It does a great job of covering my dark and red spots without having to pile on concealer. My biggest complaints seems to echo other reports: the undertone is surprisingly yellow for a “neutral.” I usually buy “warm” foundation, so that this neutral is a bit too warm is unexpected. Secondly, the shade deepens noticably after it dries. What seemed like a perfect match on application is now a shade too dark and a hint too yellow. For context, I’m a pale white woman who is thirty-something (ok, 39.5). I have a warm yellow undertone but also a lot of pink in my cheeks. I love that Rihanna has made this foundation inclusive for all people, which makes me really want this foundation to work for me. I would recommend anyone purchasing this foundation go to a Sephora in person (if lucky to be near one) and try the samples in and around your shade, regardless of your previous labels. Give it ten minutes and then come back to the mirror. If you find the right match, you’ve found yourself a good foundation at a good price. Congratulations.\n",
      "\n",
      "I'll admit, I was weary to try this foundation because usually celebrity products aren't all that. But this foundation is everything I have ever wanted in a foundation. My skin is ridiculously oily and this foundation does not move ONE INCH. This lasted me all day through work, a nap, and a night out. I did not have to reapply at all. I tend to go for lighter coverage because I don't like to feel like my makeup is caked on. The coverage is great and easily buildable without feeling thick or cakey. Stays matte all day, but I still have a glow. The range of shades is magic, I have never had a foundation match me so well. A lot of people say that this foundation oxidizes, but it doesn't really. It gets a tad darker about a minute after application, once it's set on the skin, but other than that the color stayed the same. TL;DR - highly recommend, it's perfect, buy it.\n",
      "\n",
      "I have this foundation in 410. I originally bought 420, but it was too orange. I have dark skin with golden undertones. You really must go in store to match. It is going to be extremely difficult to pick a color from online swatches. I really like this foundation. I'm amazed at how matte it is and remains throughout the day. I am oily and after 4 hours of wear, I still don't need to blot. It's the first foundation that makes me think I can get away without setting it with powder (I do, of course!). The very thin formula makes it very lightweight and capable of building up to fuller coverage and still look like skin. It will cling to dry patches so you may want to avoid if you have dry skin, or be sure to moisturize and prime with hydrating primer before application. And finally, I can't not mention the fact that Rihanna released 40 shades! Incredible and unheard of. Brava, Rihanna! I've worn this foundation for two days straight since purchasing it and both days I received compliments from people who have seen me many times previously. I will definitely be adding to my stable of foundations.\n",
      "\n",
      "This foundation is a 15/10...... Ive been having a hard time finding (an affordable) foundation that checks all the boxes and this one is it. I have combination skin and this stuff stays matte allll day, no oily or dry spots to be found. And, it goes on very light so even if you build up to full coverage it doesn't feel like you have anything more than moisturizer on. AND i have super sensitive skin and this brand hasn't caused any breakouts for me. AAANNNDDD this foundation is exactly my color, not too orange or too pink or too light/dark, its perfect and i didn't think that existed. Thank you Rihanna!\n",
      "\n",
      " + [(0.8175906480915123, 705), (0.8190451006057201, 2537), (0.8336714681717172, 1810), (0.8384624477752901, 202)]\n",
      "\n",
      "Rihanna honestly came THROUGH with this foundation, because this has to be the closest match to my skin I’ve ever found. I’m a pretty pale person, and by pale, I mean vitamin-D-deficient-because-I-don’t-usually-go-outside pale. So when I shop for foundations (even though on a day-to-day basis I don’t wear much more than eyeliner, mascara, and a little Benefit Gimme Brow), it’s crucial that it matches my skintone so I don’t look like a moron. I’ve never been able to find a single foundation I liked that actually matched my skintone until now! Shade 120 is surprisingly not the palest shade, but it is plenty pale. This foundation does have a tendency to oxidize a shade darker though, so be careful. The formula is pretty great on my skin as well. I have combination skin, and I tend to get oily around my nose and chin, but this formula really didn’t make it that noticeable at all. I did wear pressed powder, though, so I’m not sure how it performs by itself. My only gripe about this formula is that it dries down pretty fast, so you have to blend it in really quickly. It can feel like a race against time, especially when I’m trying to not make my face look patchy without building up too much coverage. But other than that, it’s pretty perfect. I can’t complain. Props, Riri.\n",
      "\n",
      "Got this foundation a few days after it came out, red a few reviews and decided to go get matched in a Sephora store so I can pick up the right shade. Rihanna or not, I was just looking for a lightweight/matte formula that lasts long enough without ending up looking weird... It does oxidize a little bit but to me, not that much for the light shades. After blending up a little bit of product with a brush or sponge, I find it pretty easy to build up coverage -even though it dries fast- and blend up contour and highlight (or blush) without the foundation to move underneath. I have a normal to combination skin and, I am not sure if this foundation would work on every skin type like oily or dry skin. If you want to get the most of it maybe, like most foundations, you may want to bring your skin proper care first. Not to forget about using a primer, finishing powder and/or a setting spray that suits your skin type :)\n",
      "\n",
      "I LOVE THIS FOUNDATION! When I wear it it is a very nice matte. Not overly matte or too dewy. It makes my skin look like a better version of itself. I was kind of hesitant to try it, but I got a color match in Sephora and 160 blended really perfectly into my skin tone. Usually I have more yellow undertones when it comes to foundation, and in this description it says it has a peachy undertone but I don't think it's too peachy, only the slightest in my opinion. With one application total my face was medium coverage, and I builded it up for full coverage. I did not experience any creasing at all but I typically avoid putting a lot of foundation in my smile lines anyway. It is very lightweight and does not feel cakey at ALL! Since this foundation does dry fairly quickly, what I do is I pump a bit on my finger to place it on my skin and then use a beauty blender to blend it out. From what I've experienced with foundations in general this really helps when you have to move quickly. I used this in my normal face routine as well because I really wanted to see how it would hold up, primer, color corrector, foundation, powder, and it looked beautiful. The bottle itself feels very nice and heavy like more expensive foundations feel like, looks very chic, and I honestly have no complaints that I could give, I highly recommend that you at least get a sample of this or try it out in store- well worth it!!! :)\n",
      "\n",
      "So, the first time I got matched by a sephora rep, she swatched my cheek, let it dry down and i bought it. I should've known better because I have hyperpigmentation around my mouth and also neat mt jawline. The center of my face is lighter than my neck and chest. The foundation came out ashy all over when I put a full face on (420). I went back and tried 450 all over. It's not PERFECT match but it covers everything. If there was a warm shade between 440 and 450, that would be me but I can definitely get away with it by doing a little highlighting. Overall, it literally covers everything , didnt need to prime or set OR conceal. Mind you, I have combination oily skin and my forehead gets especially shiny. I have some hyperpigmentation like I said but I don't have many blemishes and my skin doesn't have a lot of texture so I don't know how it pans out on other types aside from reviews. It applies well with both beauty blender and the fenty foundation brush which I use for highlighting as well. It dries down fast so work in small sections and build to the coverage you want. Most of the darker shades (My shade and beyond) are pretty red which is the only real issue since not every dark skin black girl has red undertones. I definitely recommend going into the store and testing out shades for yourself before purchase OR find a YouTube beauty blogger with your shade/tone skin and watch them review. You'd get a decent idea from that as well. So just a takeaway, YES worth the money, DON'T need primer, YES it is buildable YES feels skin like, and YES it literally looks like you used a filter for your face!\n"
     ]
    }
   ],
   "source": [
    "clustering_algorithms.best_cluster(one, df, 'review')"
   ]
  },
  {
   "cell_type": "code",
   "execution_count": null,
   "metadata": {},
   "outputs": [],
   "source": []
  }
 ],
 "metadata": {
  "kernelspec": {
   "display_name": "Python 3",
   "language": "python",
   "name": "python3"
  },
  "language_info": {
   "codemirror_mode": {
    "name": "ipython",
    "version": 3
   },
   "file_extension": ".py",
   "mimetype": "text/x-python",
   "name": "python",
   "nbconvert_exporter": "python",
   "pygments_lexer": "ipython3",
   "version": "3.6.5"
  }
 },
 "nbformat": 4,
 "nbformat_minor": 2
}
