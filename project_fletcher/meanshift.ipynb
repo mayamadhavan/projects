{
 "cells": [
  {
   "cell_type": "code",
   "execution_count": 7,
   "metadata": {},
   "outputs": [],
   "source": [
    "import pickle\n",
    "import pandas as pd\n",
    "import clustering_algorithms"
   ]
  },
  {
   "cell_type": "code",
   "execution_count": 8,
   "metadata": {},
   "outputs": [],
   "source": [
    "with open('final.pkl', 'rb') as f:\n",
    "    df = pickle.load(f)"
   ]
  },
  {
   "cell_type": "code",
   "execution_count": 32,
   "metadata": {},
   "outputs": [],
   "source": [
    "(one, two)= clustering_algorithms.making_vectorizers(df.review, 50)"
   ]
  },
  {
   "cell_type": "code",
   "execution_count": 33,
   "metadata": {},
   "outputs": [],
   "source": [
    "one.fit(df['review'])"
   ]
  },
  {
   "cell_type": "code",
   "execution_count": 34,
   "metadata": {},
   "outputs": [
    {
     "name": "stdout",
     "output_type": "stream",
     "text": [
      "number of estimated clusters : 1\n"
     ]
    }
   ],
   "source": [
    "one.meanshift(0.6, 1000)"
   ]
  },
  {
   "cell_type": "code",
   "execution_count": 28,
   "metadata": {},
   "outputs": [
    {
     "name": "stdout",
     "output_type": "stream",
     "text": [
      "\n",
      " + [(0.6780387872623039, 1157), (0.6782179270462507, 679), (0.6803468491253223, 1744), (0.7034780099793853, 654)]\n",
      "\n",
      "I love love love this foundation. First of all, I would recommend you get color matched in store as they have a variety of colors and undertones. Second, shake foundation bottle very well for long lasting effect. I've worn it for the past two weeks and have received many compliments on how natural my makeup looks. This foundation is superior to others I've tried for combination oily skin like mine because it dries up matte and powdery which for one allows me to totally skip on translucent powder and keeps oiliness at bay for at least 8 hours. I've even worn it on sweltering humid weather in which I tend to blot my face more than usual to dry my sweaty face and the foundation stays intact. I wear two layers for medium to full coverage which is enough to cover my blemishes and even out my skin tone but still look like I'm not wearing makeup. Can't say enough good things about this product and I would absolutely recommend it.\n",
      "\n",
      "I am in love with this foundation. Literally feels like I don’t even have makeup on but makes my face look flawless. The finish looks soft and velvety and just perfect. I would say this foundation is medium coverage, but buildable. Also great for my oily skin. My new favorite! Rihanna slayed with this foundation.\n",
      "\n",
      "Absolutely LOVE!!!! This foundation matched my skin perfectly and literally just looks like skin. It wasn't heavy, oily, nor cakey. I have combination skin (oily t-zone, kinda dry outside of that). Gave me a nice coverage and held-up pretty well throughout the day. I love the fact that you DO NOT get a lot of transfer...that's almost the best part :) #thanksRiRi\n",
      "\n",
      "I can't get enough of this foundation. It looks and feels like skin. The amount of coverage and the finish I get from this product is perfect for my needs and it works well as an everyday foundation. This is my very first liquid foundation and I typically go for tinted moisturizer or powder foundation for everyday but this seems to dry to a powder like finish so it's right up my alley. I am not the full coverage type I love when my skin shines through and you cannot tell if I have anything on my face. My skin is normal with slightly oily T zone so the formula doesn't move around on me and it definitely is long lasting. The only thing difficult about this was finding my shade it took several sephora visits but I'm not complaining about it!\n"
     ]
    }
   ],
   "source": [
    "clustering_algorithms.best_cluster_ms(one, df, 'review')"
   ]
  },
  {
   "cell_type": "code",
   "execution_count": null,
   "metadata": {},
   "outputs": [],
   "source": []
  }
 ],
 "metadata": {
  "kernelspec": {
   "display_name": "Python 3",
   "language": "python",
   "name": "python3"
  },
  "language_info": {
   "codemirror_mode": {
    "name": "ipython",
    "version": 3
   },
   "file_extension": ".py",
   "mimetype": "text/x-python",
   "name": "python",
   "nbconvert_exporter": "python",
   "pygments_lexer": "ipython3",
   "version": "3.6.5"
  }
 },
 "nbformat": 4,
 "nbformat_minor": 2
}
