{
 "cells": [
  {
   "cell_type": "code",
   "execution_count": 1,
   "metadata": {},
   "outputs": [],
   "source": [
    "import pickle\n",
    "import pandas as pd\n",
    "import clustering_algorithms"
   ]
  },
  {
   "cell_type": "code",
   "execution_count": 2,
   "metadata": {},
   "outputs": [],
   "source": [
    "with open('final.pkl', 'rb') as f:\n",
    "    df = pickle.load(f)"
   ]
  },
  {
   "cell_type": "code",
   "execution_count": 3,
   "metadata": {},
   "outputs": [],
   "source": [
    "(one, two)= clustering_algorithms.making_vectorizers(df.review, 50)"
   ]
  },
  {
   "cell_type": "code",
   "execution_count": 4,
   "metadata": {},
   "outputs": [],
   "source": [
    "one.fit(df['review'])"
   ]
  },
  {
   "cell_type": "code",
   "execution_count": 5,
   "metadata": {},
   "outputs": [
    {
     "name": "stdout",
     "output_type": "stream",
     "text": [
      "number of estimated clusters : 1\n"
     ]
    }
   ],
   "source": [
    "one.meanshift(0.6, 1000)"
   ]
  },
  {
   "cell_type": "code",
   "execution_count": 6,
   "metadata": {},
   "outputs": [
    {
     "name": "stdout",
     "output_type": "stream",
     "text": [
      "\n",
      " + [(0.6752679684500938, 376), (0.6768904646466776, 1744), (0.6877956684806027, 679), (0.7255128007100371, 654)]\n",
      "\n",
      "I wanted to love this foundation. My skin is normal but the foundation aged me 15 years. Despite several attempts and extensive prepping/setting, it kept separating from my skin in weird areas and emphasized all the lines on my face. Conversely, I've used it on an oily skinned friend and it remained beautiful all day. So I definitely think it's not a bad foundation, just bad for skin types outside of the oily range. I give it 2 starts for the amazing shade range and the buildable coverage. I love Fenty and really hope they come out with an alternative for us normal/dry skinned customers!\n",
      "\n",
      "Absolutely LOVE!!!! This foundation matched my skin perfectly and literally just looks like skin. It wasn't heavy, oily, nor cakey. I have combination skin (oily t-zone, kinda dry outside of that). Gave me a nice coverage and held-up pretty well throughout the day. I love the fact that you DO NOT get a lot of transfer...that's almost the best part :) #thanksRiRi\n",
      "\n",
      "I am in love with this foundation. Literally feels like I don’t even have makeup on but makes my face look flawless. The finish looks soft and velvety and just perfect. I would say this foundation is medium coverage, but buildable. Also great for my oily skin. My new favorite! Rihanna slayed with this foundation.\n",
      "\n",
      "I can't get enough of this foundation. It looks and feels like skin. The amount of coverage and the finish I get from this product is perfect for my needs and it works well as an everyday foundation. This is my very first liquid foundation and I typically go for tinted moisturizer or powder foundation for everyday but this seems to dry to a powder like finish so it's right up my alley. I am not the full coverage type I love when my skin shines through and you cannot tell if I have anything on my face. My skin is normal with slightly oily T zone so the formula doesn't move around on me and it definitely is long lasting. The only thing difficult about this was finding my shade it took several sephora visits but I'm not complaining about it!\n"
     ]
    }
   ],
   "source": [
    "clustering_algorithms.best_cluster_ms(one, df, 'review')"
   ]
  },
  {
   "cell_type": "code",
   "execution_count": null,
   "metadata": {},
   "outputs": [],
   "source": []
  }
 ],
 "metadata": {
  "kernelspec": {
   "display_name": "Python 3",
   "language": "python",
   "name": "python3"
  },
  "language_info": {
   "codemirror_mode": {
    "name": "ipython",
    "version": 3
   },
   "file_extension": ".py",
   "mimetype": "text/x-python",
   "name": "python",
   "nbconvert_exporter": "python",
   "pygments_lexer": "ipython3",
   "version": "3.6.5"
  }
 },
 "nbformat": 4,
 "nbformat_minor": 2
}
