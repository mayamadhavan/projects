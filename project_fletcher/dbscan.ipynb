{
 "cells": [
  {
   "cell_type": "code",
   "execution_count": 1,
   "metadata": {},
   "outputs": [],
   "source": [
    "import pickle\n",
    "import pandas as pd\n",
    "import clustering_algorithms"
   ]
  },
  {
   "cell_type": "code",
   "execution_count": 2,
   "metadata": {},
   "outputs": [],
   "source": [
    "with open('final.pkl', 'rb') as f:\n",
    "    df = pickle.load(f)"
   ]
  },
  {
   "cell_type": "code",
   "execution_count": 5,
   "metadata": {},
   "outputs": [],
   "source": [
    "(one, two)= clustering_algorithms.making_vectorizers(df.review, 50)"
   ]
  },
  {
   "cell_type": "code",
   "execution_count": 6,
   "metadata": {},
   "outputs": [],
   "source": [
    "clustering_algorithms.many_db(one, eps=0.15, min_samples=3)"
   ]
  },
  {
   "cell_type": "code",
   "execution_count": 7,
   "metadata": {},
   "outputs": [
    {
     "data": {
      "text/plain": [
       "14"
      ]
     },
     "execution_count": 7,
     "metadata": {},
     "output_type": "execute_result"
    }
   ],
   "source": [
    "one.n_clusters"
   ]
  },
  {
   "cell_type": "code",
   "execution_count": 8,
   "metadata": {},
   "outputs": [],
   "source": [
    "clustering_algorithms.many_db(two, eps=0.15, min_samples=3)"
   ]
  },
  {
   "cell_type": "code",
   "execution_count": 9,
   "metadata": {},
   "outputs": [
    {
     "data": {
      "text/plain": [
       "18"
      ]
     },
     "execution_count": 9,
     "metadata": {},
     "output_type": "execute_result"
    }
   ],
   "source": [
    "two.n_clusters"
   ]
  },
  {
   "cell_type": "code",
   "execution_count": 17,
   "metadata": {},
   "outputs": [
    {
     "data": {
      "text/plain": [
       "array([ 144,  933,  951,  962, 1022, 1083, 1084, 1130, 1147, 1234, 1254,\n",
       "       1286, 1293, 1298, 1300, 1309, 1433, 1456, 1501, 1509, 1537, 1571,\n",
       "       1572, 1578, 1585, 1586, 1616, 1730, 1771, 1785, 1818, 1886, 1902,\n",
       "       1929, 1932, 1939, 1946, 1947, 1982, 2034, 2035, 2146, 2156, 2164,\n",
       "       2239, 2296, 2306, 2330, 2529, 2644, 2656])"
      ]
     },
     "execution_count": 17,
     "metadata": {},
     "output_type": "execute_result"
    }
   ],
   "source": [
    "one.db.core_sample_indices_"
   ]
  },
  {
   "cell_type": "code",
   "execution_count": 18,
   "metadata": {},
   "outputs": [
    {
     "data": {
      "text/plain": [
       "51"
      ]
     },
     "execution_count": 18,
     "metadata": {},
     "output_type": "execute_result"
    }
   ],
   "source": [
    "len(one.db.core_sample_indices_)"
   ]
  },
  {
   "cell_type": "code",
   "execution_count": 22,
   "metadata": {
    "scrolled": true
   },
   "outputs": [
    {
     "name": "stdout",
     "output_type": "stream",
     "text": [
      "Skin concerns Dark circles\n",
      "follow my dogs insta @biggiebrawler #plug\n",
      "Skin concerns Stretch marks\n",
      "Skin concerns Stretch marks\n",
      "yuh i k su fo whns kan wk f he\n",
      "Love this foundation. It smells good, it goes on with little work and it is very light; feels like you don't have any makeup on your face. It has a beautiful\n",
      "I love it, it oxidizes in to your skin shade it’s full coverage, I have hormonal acne and oily skin, I don’t have any problems with it giving me blemishes, I highly recommend this product for women with acne.\n",
      "LOVEEEEE IT ! Best foundation ever\n",
      "LOVEEEEE IT ! Best foundation ever\n",
      "Great quality foundation !\n",
      "Recommends this product\n",
      "Loveeeeeeee the coverage! It blends beautifully and it really does leave you looking airbrushed\n",
      "Okay so this is a little story! I was at Sephora getting color matched and I saw the product out of the corner of my eye and I kinda asked the employee helping me about it because we had been talking and she goes man it’s a shame that thing oxidizes horribly! And I was like really and she goes yep every single color goes dark! I tried some on the back of my hand and minutes later it was a whole other color! Sad because I was hoping this would help people who couldn’t find there shades aka me but no it’s bad hunny\n",
      "This is hands down the best foundation I have ever used. For me personally, it doesn't oxidizes that much when using the Fenty primer. It looks so natural it practically blends with my skin. I have oily skin in the summer so other foundations make me look shiny. However, this foundation keep my face matte with a glow. Best stuff I've ever used.\n",
      "I had heard great things about this but boy was I still amazed how awesome it was! Will definitely be my foundation going forward. I was only an occasional foundation person now I use it almost daily!\n",
      "This foundation is amazing. It light and covers very well. All I have to say is watch out MAC!\n",
      "Obsessed with this product!\n",
      "This is my favorite foundation right now. It's moderately priced, very lightweight, blendable, buildable, and high coverage! It does oxidize a bit, but doesn't turn orange. Opt for a shade slightly lighter than your skin tone so it oxidizes more naturally.\n",
      "I love this foundation!!!\n",
      "ABSOLUTLY LOVE THIS FOUNDATION!!!!!\n",
      "Recommends this product\n",
      "This foundation is amazing. It light and covers very well. All I have to say is watch out MAC!\n",
      "Loveeeeeeee the coverage! It blends beautifully and it really does leave you looking airbrushed\n",
      "This is hands down the best foundation I have ever used. For me personally, it doesn't oxidizes that much when using the Fenty primer. It looks so natural it practically blends with my skin. I have oily skin in the summer so other foundations make me look shiny. However, this foundation keep my face matte with a glow. Best stuff I've ever used.\n",
      "I had heard great things about this but boy was I still amazed how awesome it was! Will definitely be my foundation going forward. I was only an occasional foundation person now I use it almost daily!\n",
      "Okay so this is a little story! I was at Sephora getting color matched and I saw the product out of the corner of my eye and I kinda asked the employee helping me about it because we had been talking and she goes man it’s a shame that thing oxidizes horribly! And I was like really and she goes yep every single color goes dark! I tried some on the back of my hand and minutes later it was a whole other color! Sad because I was hoping this would help people who couldn’t find there shades aka me but no it’s bad hunny\n",
      "This foundation is great!!!\n",
      "Recommends this product\n",
      "Skin concerns Dark circles\n",
      "This foundation is great!!!\n",
      "Love this foundation blends in\n",
      "This is my favorite foundation right now. It's moderately priced, very lightweight, blendable, buildable, and high coverage! It does oxidize a bit, but doesn't turn orange. Opt for a shade slightly lighter than your skin tone so it oxidizes more naturally.\n",
      "it's an okay foundation, but if i had to choose between this and the #fauxfilter i would choose the latter\n",
      "This foundation is amazing. It light and covers very well. All I have to say is watch out MAC!\n",
      "Loveeeeeeee the coverage! It blends beautifully and it really does leave you looking airbrushed\n",
      "This is hands down the best foundation I have ever used. For me personally, it doesn't oxidizes that much when using the Fenty primer. It looks so natural it practically blends with my skin. I have oily skin in the summer so other foundations make me look shiny. However, this foundation keep my face matte with a glow. Best stuff I've ever used.\n",
      "I had heard great things about this but boy was I still amazed how awesome it was! Will definitely be my foundation going forward. I was only an occasional foundation person now I use it almost daily!\n",
      "Okay so this is a little story! I was at Sephora getting color matched and I saw the product out of the corner of my eye and I kinda asked the employee helping me about it because we had been talking and she goes man it’s a shame that thing oxidizes horribly! And I was like really and she goes yep every single color goes dark! I tried some on the back of my hand and minutes later it was a whole other color! Sad because I was hoping this would help people who couldn’t find there shades aka me but no it’s bad hunny\n",
      "Recommends this product\n",
      "Love this foundation. It smells good, it goes on with little work and it is very light; feels like you don't have any makeup on your face. It has a beautiful\n",
      "I love it, it oxidizes in to your skin shade it’s full coverage, I have hormonal acne and oily skin, I don’t have any problems with it giving me blemishes, I highly recommend this product for women with acne.\n",
      "Skin concerns Uneven skin tones\n",
      "Skin concerns Dark circles\n",
      "This is my favorite foundation right now. It's moderately priced, very lightweight, blendable, buildable, and high coverage! It does oxidize a bit, but doesn't turn orange. Opt for a shade slightly lighter than your skin tone so it oxidizes more naturally.\n",
      "Recommends this product\n",
      "Skin concerns Uneven skin tones\n",
      "Skin concerns Dark circles\n",
      "I’m in love with this foundation!!\n",
      "LOVEEEEE IT ! Best foundation ever\n",
      "I love it, it oxidizes in to your skin shade it’s full coverage, I have hormonal acne and oily skin, I don’t have any problems with it giving me blemishes, I highly recommend this product for women with acne.\n",
      "Love this foundation. It smells good, it goes on with little work and it is very light; feels like you don't have any makeup on your face. It has a beautiful\n"
     ]
    }
   ],
   "source": [
    "for value in one.db.core_sample_indices_:\n",
    "    print(df['review'].iloc[value])"
   ]
  },
  {
   "cell_type": "code",
   "execution_count": 26,
   "metadata": {},
   "outputs": [
    {
     "name": "stdout",
     "output_type": "stream",
     "text": [
      "Coverage is smooth and seemless but it's not true to expected undertone. It's a lot more red (once oxidized) than it is yellow.\n",
      "\n",
      "120 - Normal Skin You def need to moisturize, prime, and set for this foundation. Unfortunately by the end of the evening I am still left with inconsistent coverage that's mostly nesting in my pores and fine lines. It is shocking how bad it looks after 8 hours of wear :(\n",
      "\n",
      "It literally turned orange after application. If I ever tried to buy this again (which I most likely won't) I would probably go a lot lighter and start from there. Buyer beware.\n",
      "\n",
      "I thought I loved this. It wore SO nicely and I was ALL IN. And then after about a week; my skin has broken out terribly. Several of my friends who also have the foundation had similar reactions So disappointed\n",
      "\n",
      "Definitely buy this product now. Lol don't even think twice just buy it GIRRLL or the blessed boy looking out for his girl (get it too!!!!). Lol I'm super hyped and I haven't even gotten mine but I'll def recommend and come back to give you feedback here.\n",
      "\n",
      "Talc, Sulfates, and glycerin are listed in ingredients and are all harmful to skin. I wish these brands of make-up celebrities put out would be for more natural-enhancing beauty. Set a good example for your fans. Don’t give them products that could damage their skin.\n",
      "\n",
      "This was the perfect remedy to help me glow. I really love it and I've been recommending it to my friends and family\n",
      "\n",
      "Recommends this product\n",
      "\n",
      "Love. My fav foundation\n",
      "\n",
      "At first wasn't too sure about it. I was used to my Kat Von D. The coverage is buildable, which was annoying at first because I thought I'd use twice the product. Y'ALL I have had this bottle for atleast 6 months. i was buying Lock It by Kat every 2 1/2 to 3 months and that was using sparingly! This spreads a lot easier. My go to foundation.\n",
      "\n",
      "Skin concerns Dark circles\n",
      "\n",
      "I was so excited to try this foundation. I was very disappointed, it dried out my skin so much and accentuated every imperfection. My skin might not have been oily enough for the foundation to really work its magic. That being said, it photographs very well. I would not repurchase this and the only way I'm getting through the bottle is by mixing it with another foundation.\n",
      "\n"
     ]
    }
   ],
   "source": [
    "for value in two.db.core_sample_indices_[::15]:\n",
    "    print(df['review'].iloc[value])\n",
    "    print(\"\")"
   ]
  },
  {
   "cell_type": "code",
   "execution_count": null,
   "metadata": {},
   "outputs": [],
   "source": []
  }
 ],
 "metadata": {
  "kernelspec": {
   "display_name": "Python 3",
   "language": "python",
   "name": "python3"
  },
  "language_info": {
   "codemirror_mode": {
    "name": "ipython",
    "version": 3
   },
   "file_extension": ".py",
   "mimetype": "text/x-python",
   "name": "python",
   "nbconvert_exporter": "python",
   "pygments_lexer": "ipython3",
   "version": "3.6.5"
  }
 },
 "nbformat": 4,
 "nbformat_minor": 2
}
