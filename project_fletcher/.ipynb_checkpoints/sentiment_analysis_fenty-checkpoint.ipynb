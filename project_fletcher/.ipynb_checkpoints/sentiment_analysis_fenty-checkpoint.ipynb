{
 "cells": [
  {
   "cell_type": "code",
   "execution_count": 37,
   "metadata": {},
   "outputs": [
    {
     "name": "stdout",
     "output_type": "stream",
     "text": [
      "The autotime extension is already loaded. To reload it, use:\n",
      "  %reload_ext autotime\n",
      "time: 21.2 ms\n"
     ]
    }
   ],
   "source": [
    "import pickle\n",
    "import pandas as pd\n",
    "import time\n",
    "import numpy as np\n",
    "import matplotlib as plt\n",
    "import seaborn as sns\n",
    "\n",
    "plt.style.use('seaborn')\n",
    "%load_ext autotime"
   ]
  },
  {
   "cell_type": "code",
   "execution_count": 38,
   "metadata": {},
   "outputs": [
    {
     "name": "stdout",
     "output_type": "stream",
     "text": [
      "time: 24.5 ms\n"
     ]
    }
   ],
   "source": [
    "with open('final.pkl', 'rb') as f:\n",
    "    df = pickle.load(f)"
   ]
  },
  {
   "cell_type": "code",
   "execution_count": 39,
   "metadata": {},
   "outputs": [
    {
     "data": {
      "text/html": [
       "<div>\n",
       "<style scoped>\n",
       "    .dataframe tbody tr th:only-of-type {\n",
       "        vertical-align: middle;\n",
       "    }\n",
       "\n",
       "    .dataframe tbody tr th {\n",
       "        vertical-align: top;\n",
       "    }\n",
       "\n",
       "    .dataframe thead th {\n",
       "        text-align: right;\n",
       "    }\n",
       "</style>\n",
       "<table border=\"1\" class=\"dataframe\">\n",
       "  <thead>\n",
       "    <tr style=\"text-align: right;\">\n",
       "      <th></th>\n",
       "      <th>username</th>\n",
       "      <th>eye_color</th>\n",
       "      <th>hair</th>\n",
       "      <th>skin_tone</th>\n",
       "      <th>skin_type</th>\n",
       "      <th>skin_concerns</th>\n",
       "      <th>foundation_color</th>\n",
       "      <th>review</th>\n",
       "      <th>recommend</th>\n",
       "      <th>unhelpful</th>\n",
       "      <th>helpful</th>\n",
       "      <th>star</th>\n",
       "    </tr>\n",
       "  </thead>\n",
       "  <tbody>\n",
       "    <tr>\n",
       "      <th>0</th>\n",
       "      <td>creecreex</td>\n",
       "      <td>Brown</td>\n",
       "      <td>Brunette</td>\n",
       "      <td>Deep</td>\n",
       "      <td>Normal</td>\n",
       "      <td>Cellulite</td>\n",
       "      <td>370</td>\n",
       "      <td>I have 370 and I got matched at Sephora. I lik...</td>\n",
       "      <td>1</td>\n",
       "      <td>0</td>\n",
       "      <td>14</td>\n",
       "      <td>100</td>\n",
       "    </tr>\n",
       "    <tr>\n",
       "      <th>1</th>\n",
       "      <td>Jijine</td>\n",
       "      <td>Brown</td>\n",
       "      <td>Black</td>\n",
       "      <td>Dark</td>\n",
       "      <td>Combination</td>\n",
       "      <td>Unknown</td>\n",
       "      <td>470</td>\n",
       "      <td>It is like my skin but better. very lightweigh...</td>\n",
       "      <td>1</td>\n",
       "      <td>0</td>\n",
       "      <td>5</td>\n",
       "      <td>100</td>\n",
       "    </tr>\n",
       "    <tr>\n",
       "      <th>2</th>\n",
       "      <td>bloodyblondie</td>\n",
       "      <td>Blue</td>\n",
       "      <td>Black</td>\n",
       "      <td>Porcelain</td>\n",
       "      <td>Dry</td>\n",
       "      <td>Blackheads</td>\n",
       "      <td>100</td>\n",
       "      <td>I was so nervous about trying this product bec...</td>\n",
       "      <td>1</td>\n",
       "      <td>0</td>\n",
       "      <td>5</td>\n",
       "      <td>100</td>\n",
       "    </tr>\n",
       "    <tr>\n",
       "      <th>3</th>\n",
       "      <td>miralanani</td>\n",
       "      <td>Brown</td>\n",
       "      <td>Brunette</td>\n",
       "      <td>Medium</td>\n",
       "      <td>Combination</td>\n",
       "      <td>Acne</td>\n",
       "      <td>270</td>\n",
       "      <td>This product was amazing! Just fell in love! T...</td>\n",
       "      <td>1</td>\n",
       "      <td>0</td>\n",
       "      <td>5</td>\n",
       "      <td>100</td>\n",
       "    </tr>\n",
       "    <tr>\n",
       "      <th>4</th>\n",
       "      <td>shaaliyah</td>\n",
       "      <td>Brown</td>\n",
       "      <td>Black</td>\n",
       "      <td>Deep</td>\n",
       "      <td>Combination</td>\n",
       "      <td>Acne</td>\n",
       "      <td>370</td>\n",
       "      <td>Since purchasing this foundation it's been my ...</td>\n",
       "      <td>1</td>\n",
       "      <td>0</td>\n",
       "      <td>38</td>\n",
       "      <td>100</td>\n",
       "    </tr>\n",
       "  </tbody>\n",
       "</table>\n",
       "</div>"
      ],
      "text/plain": [
       "        username eye_color      hair  skin_tone    skin_type skin_concerns  \\\n",
       "0      creecreex     Brown  Brunette       Deep       Normal     Cellulite   \n",
       "1         Jijine     Brown     Black       Dark  Combination       Unknown   \n",
       "2  bloodyblondie      Blue     Black  Porcelain          Dry    Blackheads   \n",
       "3     miralanani     Brown  Brunette     Medium  Combination          Acne   \n",
       "4      shaaliyah     Brown     Black       Deep  Combination          Acne   \n",
       "\n",
       "  foundation_color                                             review  \\\n",
       "0              370  I have 370 and I got matched at Sephora. I lik...   \n",
       "1              470  It is like my skin but better. very lightweigh...   \n",
       "2              100  I was so nervous about trying this product bec...   \n",
       "3              270  This product was amazing! Just fell in love! T...   \n",
       "4              370  Since purchasing this foundation it's been my ...   \n",
       "\n",
       "  recommend unhelpful helpful star  \n",
       "0         1         0      14  100  \n",
       "1         1         0       5  100  \n",
       "2         1         0       5  100  \n",
       "3         1         0       5  100  \n",
       "4         1         0      38  100  "
      ]
     },
     "execution_count": 39,
     "metadata": {},
     "output_type": "execute_result"
    },
    {
     "name": "stdout",
     "output_type": "stream",
     "text": [
      "time: 20.4 ms\n"
     ]
    }
   ],
   "source": [
    "df.head()"
   ]
  },
  {
   "cell_type": "code",
   "execution_count": 40,
   "metadata": {},
   "outputs": [
    {
     "name": "stdout",
     "output_type": "stream",
     "text": [
      "time: 16.6 ms\n"
     ]
    }
   ],
   "source": [
    "df=df.drop_duplicates(['review'])"
   ]
  },
  {
   "cell_type": "code",
   "execution_count": 41,
   "metadata": {},
   "outputs": [
    {
     "name": "stdout",
     "output_type": "stream",
     "text": [
      "time: 71.8 ms\n"
     ]
    }
   ],
   "source": [
    "df.to_csv('sephora.csv')"
   ]
  },
  {
   "cell_type": "markdown",
   "metadata": {},
   "source": [
    "# Case 1: Y=Star Rating"
   ]
  },
  {
   "cell_type": "markdown",
   "metadata": {},
   "source": [
    "## Vectorize and Set Up Data"
   ]
  },
  {
   "cell_type": "code",
   "execution_count": 5,
   "metadata": {},
   "outputs": [
    {
     "name": "stdout",
     "output_type": "stream",
     "text": [
      "time: 112 ms\n"
     ]
    }
   ],
   "source": [
    "from sklearn.feature_extraction.text import CountVectorizer\n",
    "from sklearn.model_selection import train_test_split"
   ]
  },
  {
   "cell_type": "code",
   "execution_count": 6,
   "metadata": {},
   "outputs": [
    {
     "name": "stdout",
     "output_type": "stream",
     "text": [
      "time: 1.23 ms\n"
     ]
    }
   ],
   "source": [
    "count_vectorizer = CountVectorizer(ngram_range=(1, 2),  \n",
    "                                   stop_words='english', max_df=0.6, token_pattern=\"\\\\b[a-z][a-z]+\\\\b\")"
   ]
  },
  {
   "cell_type": "code",
   "execution_count": 7,
   "metadata": {},
   "outputs": [
    {
     "name": "stdout",
     "output_type": "stream",
     "text": [
      "time: 327 ms\n"
     ]
    }
   ],
   "source": [
    "cv_data=count_vectorizer.fit_transform(df['review'])"
   ]
  },
  {
   "cell_type": "code",
   "execution_count": 8,
   "metadata": {},
   "outputs": [
    {
     "name": "stdout",
     "output_type": "stream",
     "text": [
      "time: 789 µs\n"
     ]
    }
   ],
   "source": [
    "X=cv_data\n",
    "y=df['star']"
   ]
  },
  {
   "cell_type": "code",
   "execution_count": 9,
   "metadata": {},
   "outputs": [
    {
     "name": "stdout",
     "output_type": "stream",
     "text": [
      "time: 7.27 ms\n"
     ]
    }
   ],
   "source": [
    "X_train, X_test, y_train, y_test = train_test_split(X, y, test_size=0.4, random_state=42)"
   ]
  },
  {
   "cell_type": "markdown",
   "metadata": {},
   "source": [
    "## Imbalances"
   ]
  },
  {
   "cell_type": "markdown",
   "metadata": {},
   "source": [
    "### Visualize"
   ]
  },
  {
   "cell_type": "code",
   "execution_count": 10,
   "metadata": {},
   "outputs": [
    {
     "name": "stdout",
     "output_type": "stream",
     "text": [
      "time: 965 µs\n"
     ]
    }
   ],
   "source": [
    "import matplotlib.pyplot as plt "
   ]
  },
  {
   "cell_type": "code",
   "execution_count": 11,
   "metadata": {},
   "outputs": [
    {
     "name": "stdout",
     "output_type": "stream",
     "text": [
      "time: 8.2 ms\n"
     ]
    }
   ],
   "source": [
    "%matplotlib inline "
   ]
  },
  {
   "cell_type": "code",
   "execution_count": 12,
   "metadata": {},
   "outputs": [
    {
     "name": "stdout",
     "output_type": "stream",
     "text": [
      "time: 4.59 ms\n"
     ]
    }
   ],
   "source": [
    "number_data=df.star.value_counts()"
   ]
  },
  {
   "cell_type": "code",
   "execution_count": 13,
   "metadata": {},
   "outputs": [
    {
     "data": {
      "image/png": "[encoded data removed]",
      "text/plain": [
       "<Figure size 432x288 with 1 Axes>"
      ]
     },
     "metadata": {},
     "output_type": "display_data"
    },
    {
     "name": "stdout",
     "output_type": "stream",
     "text": [
      "time: 393 ms\n"
     ]
    }
   ],
   "source": [
    "number_data.plot(kind='bar', title='Class Count', rot=0);"
   ]
  },
  {
   "cell_type": "markdown",
   "metadata": {},
   "source": [
    "### Oversample"
   ]
  },
  {
   "cell_type": "code",
   "execution_count": 14,
   "metadata": {},
   "outputs": [
    {
     "name": "stdout",
     "output_type": "stream",
     "text": [
      "time: 77.1 ms\n"
     ]
    }
   ],
   "source": [
    "from imblearn.over_sampling import RandomOverSampler\n",
    "from collections import Counter"
   ]
  },
  {
   "cell_type": "code",
   "execution_count": 15,
   "metadata": {},
   "outputs": [
    {
     "name": "stdout",
     "output_type": "stream",
     "text": [
      "time: 18.8 ms\n"
     ]
    }
   ],
   "source": [
    "ros = RandomOverSampler(random_state=0)\n",
    "X_resampled, y_resampled = ros.fit_sample(X_train,y_train)"
   ]
  },
  {
   "cell_type": "code",
   "execution_count": 16,
   "metadata": {},
   "outputs": [
    {
     "data": {
      "text/plain": [
       "Counter({'80': 773, '100': 773, '20': 773, '40': 773, '60': 773})"
      ]
     },
     "execution_count": 16,
     "metadata": {},
     "output_type": "execute_result"
    },
    {
     "name": "stdout",
     "output_type": "stream",
     "text": [
      "time: 3.36 ms\n"
     ]
    }
   ],
   "source": [
    "Counter(y_resampled)"
   ]
  },
  {
   "cell_type": "markdown",
   "metadata": {},
   "source": [
    "## Model"
   ]
  },
  {
   "cell_type": "code",
   "execution_count": 17,
   "metadata": {},
   "outputs": [
    {
     "name": "stdout",
     "output_type": "stream",
     "text": [
      "time: 37.4 ms\n"
     ]
    }
   ],
   "source": [
    "from sklearn.linear_model import LogisticRegression\n",
    "from sklearn.ensemble import RandomForestClassifier\n",
    "from sklearn.tree import DecisionTreeClassifier\n",
    "from sklearn import naive_bayes\n",
    "from sklearn.metrics import accuracy_score, mean_squared_error"
   ]
  },
  {
   "cell_type": "code",
   "execution_count": 18,
   "metadata": {},
   "outputs": [
    {
     "name": "stdout",
     "output_type": "stream",
     "text": [
      "time: 2.66 ms\n"
     ]
    }
   ],
   "source": [
    "models = [RandomForestClassifier(n_estimators=100, n_jobs=-1, max_depth=10), DecisionTreeClassifier(max_depth=None),\n",
    "          LogisticRegression(C=0.1), naive_bayes.GaussianNB(),\n",
    "         naive_bayes.BernoulliNB(), naive_bayes.MultinomialNB()]\n",
    "model_names = [\"Random Forest\", \"Decision Tree\",'Logistic', 'Naive-Bayes Gaussian',\n",
    "              'Naive-Bayes Bernoulli', 'Naive-Bayes Multinomial']"
   ]
  },
  {
   "cell_type": "code",
   "execution_count": 19,
   "metadata": {},
   "outputs": [
    {
     "name": "stdout",
     "output_type": "stream",
     "text": [
      "Random Forest\n",
      "0.6006528835690969\n",
      "Decision Tree\n",
      "0.47116430903155604\n",
      "Logistic\n",
      "0.6322089227421109\n",
      "Naive-Bayes Gaussian\n",
      "0.5527747551686616\n",
      "Naive-Bayes Bernoulli\n",
      "0.6583242655059848\n",
      "Naive-Bayes Multinomial\n",
      "0.6071817192600653\n",
      "time: 1min 4s\n"
     ]
    }
   ],
   "source": [
    "acc_comparisons=[]\n",
    "for clf, name in zip(models, model_names):\n",
    "    print(name)\n",
    "    clf.fit(X_resampled.toarray(), y_resampled)\n",
    "    preds = clf.predict_proba(X_test.toarray())\n",
    "    predictions = clf.predict(X_test.toarray())\n",
    "    acc=accuracy_score(y_test,predictions)\n",
    "    acc_comparisons.append((acc,name))\n",
    "    print(acc)"
   ]
  },
  {
   "cell_type": "code",
   "execution_count": 20,
   "metadata": {},
   "outputs": [
    {
     "name": "stderr",
     "output_type": "stream",
     "text": [
      "No handles with labels found to put in legend.\n"
     ]
    },
    {
     "name": "stdout",
     "output_type": "stream",
     "text": [
      "[(0.47116430903155604, 'Decision Tree'), (0.5527747551686616, 'Naive-Bayes Gaussian'), (0.6006528835690969, 'Random Forest'), (0.6071817192600653, 'Naive-Bayes Multinomial'), (0.6322089227421109, 'Logistic'), (0.6583242655059848, 'Naive-Bayes Bernoulli')]\n"
     ]
    },
    {
     "data": {
      "text/plain": [
       "<matplotlib.legend.Legend at 0x1a131b7ac8>"
      ]
     },
     "execution_count": 20,
     "metadata": {},
     "output_type": "execute_result"
    },
    {
     "data": {
      "image/png": "[encoded data removed]",
      "text/plain": [
       "<Figure size 432x288 with 1 Axes>"
      ]
     },
     "metadata": {},
     "output_type": "display_data"
    },
    {
     "name": "stdout",
     "output_type": "stream",
     "text": [
      "time: 251 ms\n"
     ]
    }
   ],
   "source": [
    "acc_comparisons.sort()\n",
    "print(acc_comparisons)\n",
    "acc_score=[score[0] for score in acc_comparisons]\n",
    "acc_model_names=[score[1] for score in acc_comparisons]\n",
    "plt.barh(acc_model_names,acc_score)\n",
    "plt.ylabel('Model')\n",
    "plt.xlabel('Score')\n",
    "plt.title('Accuracy Scores')\n",
    "plt.legend(loc='best')"
   ]
  },
  {
   "cell_type": "markdown",
   "metadata": {},
   "source": [
    "# Case 2: Y=Helpfulness"
   ]
  },
  {
   "cell_type": "markdown",
   "metadata": {},
   "source": [
    "## Set Up Data"
   ]
  },
  {
   "cell_type": "code",
   "execution_count": 21,
   "metadata": {},
   "outputs": [
    {
     "name": "stdout",
     "output_type": "stream",
     "text": [
      "time: 4.05 ms\n"
     ]
    }
   ],
   "source": [
    "y2=df['helpful']"
   ]
  },
  {
   "cell_type": "code",
   "execution_count": 22,
   "metadata": {},
   "outputs": [
    {
     "name": "stdout",
     "output_type": "stream",
     "text": [
      "time: 11.7 ms\n"
     ]
    }
   ],
   "source": [
    "X_train2, X_test2, y_train2, y_test2 = train_test_split(X, y2, test_size=0.4, random_state=42)"
   ]
  },
  {
   "cell_type": "markdown",
   "metadata": {},
   "source": [
    "## Model"
   ]
  },
  {
   "cell_type": "code",
   "execution_count": 23,
   "metadata": {},
   "outputs": [
    {
     "name": "stdout",
     "output_type": "stream",
     "text": [
      "time: 57 ms\n"
     ]
    },
    {
     "name": "stderr",
     "output_type": "stream",
     "text": [
      "/Users/mayamadhavan/anaconda3/lib/python3.6/site-packages/sklearn/cross_validation.py:41: DeprecationWarning: This module was deprecated in version 0.18 in favor of the model_selection module into which all the refactored classes and functions are moved. Also note that the interface of the new CV iterators are different from that of this module. This module will be removed in 0.20.\n",
      "  \"This module will be removed in 0.20.\", DeprecationWarning)\n"
     ]
    }
   ],
   "source": [
    "from sklearn.linear_model import LinearRegression, Lasso, Ridge, LassoCV\n",
    "from sklearn.cross_validation import KFold\n",
    "from sklearn.metrics import mean_squared_error"
   ]
  },
  {
   "cell_type": "code",
   "execution_count": 24,
   "metadata": {},
   "outputs": [
    {
     "name": "stdout",
     "output_type": "stream",
     "text": [
      "time: 1.69 ms\n"
     ]
    }
   ],
   "source": [
    "regress_models = [LinearRegression(), Ridge(), Lasso(alpha=0.5), LassoCV()]\n",
    "regress_model_names = [\"LinearRegression\", \"Ridge\",'Lasso', 'LassoCV']"
   ]
  },
  {
   "cell_type": "code",
   "execution_count": 25,
   "metadata": {},
   "outputs": [
    {
     "name": "stdout",
     "output_type": "stream",
     "text": [
      "LinearRegression\n",
      "589.2463228452818\n",
      "Ridge\n",
      "539.6034335397524\n",
      "Lasso\n",
      "747.4051280144814\n",
      "LassoCV\n",
      "568.1184143251498\n",
      "time: 16min 31s\n"
     ]
    }
   ],
   "source": [
    "mse_comparisons=[]\n",
    "for clf, name in zip(regress_models, regress_model_names):\n",
    "    print(name)\n",
    "    clf.fit(X_resampled.toarray(), y_resampled)\n",
    "    predictions = clf.predict(X_test.toarray())\n",
    "    mse=mean_squared_error(y_test,predictions)\n",
    "    mse_comparisons.append((mse,name))\n",
    "    print(mse)"
   ]
  },
  {
   "cell_type": "code",
   "execution_count": 26,
   "metadata": {},
   "outputs": [
    {
     "name": "stderr",
     "output_type": "stream",
     "text": [
      "No handles with labels found to put in legend.\n"
     ]
    },
    {
     "name": "stdout",
     "output_type": "stream",
     "text": [
      "[(539.6034335397524, 'Ridge'), (568.1184143251498, 'LassoCV'), (589.2463228452818, 'LinearRegression'), (747.4051280144814, 'Lasso')]\n"
     ]
    },
    {
     "data": {
      "text/plain": [
       "<matplotlib.legend.Legend at 0x1a12dbbf98>"
      ]
     },
     "execution_count": 26,
     "metadata": {},
     "output_type": "execute_result"
    },
    {
     "data": {
      "image/png": "[encoded data removed]",
      "text/plain": [
       "<Figure size 432x288 with 1 Axes>"
      ]
     },
     "metadata": {},
     "output_type": "display_data"
    },
    {
     "name": "stdout",
     "output_type": "stream",
     "text": [
      "time: 212 ms\n"
     ]
    }
   ],
   "source": [
    "mse_comparisons.sort()\n",
    "print(mse_comparisons)\n",
    "mse_score=[score[0] for score in mse_comparisons]\n",
    "mse_model_names=[score[1] for score in mse_comparisons]\n",
    "plt.barh(mse_model_names,mse_score)\n",
    "plt.ylabel('Model')\n",
    "plt.xlabel('Score')\n",
    "plt.title('MSE Scores')\n",
    "plt.legend(loc='best')"
   ]
  },
  {
   "cell_type": "code",
   "execution_count": 27,
   "metadata": {},
   "outputs": [
    {
     "data": {
      "text/plain": [
       "Ridge(alpha=1.0, copy_X=True, fit_intercept=True, max_iter=None,\n",
       "   normalize=False, random_state=None, solver='auto', tol=0.001)"
      ]
     },
     "execution_count": 27,
     "metadata": {},
     "output_type": "execute_result"
    },
    {
     "name": "stdout",
     "output_type": "stream",
     "text": [
      "time: 238 ms\n"
     ]
    }
   ],
   "source": [
    "ridge = Ridge()\n",
    "ridge.fit(X_train2, y_train2)"
   ]
  },
  {
   "cell_type": "code",
   "execution_count": 28,
   "metadata": {},
   "outputs": [
    {
     "data": {
      "text/plain": [
       "0.9970531743070548"
      ]
     },
     "execution_count": 28,
     "metadata": {},
     "output_type": "execute_result"
    },
    {
     "name": "stdout",
     "output_type": "stream",
     "text": [
      "time: 8.04 ms\n"
     ]
    }
   ],
   "source": [
    "y_predict = ridge.predict(X_train2)\n",
    "ridge.score(X_train2, y_train2)"
   ]
  },
  {
   "cell_type": "code",
   "execution_count": 29,
   "metadata": {},
   "outputs": [
    {
     "data": {
      "text/plain": [
       "-8.89204734999538e-06"
      ]
     },
     "execution_count": 29,
     "metadata": {},
     "output_type": "execute_result"
    },
    {
     "name": "stdout",
     "output_type": "stream",
     "text": [
      "time: 5.17 ms\n"
     ]
    }
   ],
   "source": [
    "y_predict_test = ridge.predict(X_test2)\n",
    "ridge.score(X_test2, y_test2)"
   ]
  },
  {
   "cell_type": "markdown",
   "metadata": {},
   "source": [
    "## Predict Helpfulness"
   ]
  },
  {
   "cell_type": "code",
   "execution_count": 30,
   "metadata": {},
   "outputs": [
    {
     "name": "stdout",
     "output_type": "stream",
     "text": [
      "time: 5.91 ms\n"
     ]
    }
   ],
   "source": [
    "def prediction(review):\n",
    "    '''\n",
    "    1. count vectorize inputed review\n",
    "    2. run through model\n",
    "    '''\n",
    "    vectorized_input=count_vectorizer.transform([review])\n",
    "    helpfulness=ridge.predict(vectorized_input)\n",
    "    return helpfulness"
   ]
  },
  {
   "cell_type": "code",
   "execution_count": 31,
   "metadata": {
    "scrolled": true
   },
   "outputs": [
    {
     "data": {
      "text/plain": [
       "array([37.8386238])"
      ]
     },
     "execution_count": 31,
     "metadata": {},
     "output_type": "execute_result"
    },
    {
     "name": "stdout",
     "output_type": "stream",
     "text": [
      "time: 37 ms\n"
     ]
    }
   ],
   "source": [
    "prediction('''First of all, what I absolutely adore about this foundation line is that I could actually find a perfect shade match. I actually use this foundation as a benchmark to gauge the colour match of other foundations that I want to try. Its medium coverage looks nice on my skin. I personally dont really like heavy foundations because they tend to make me look like I'm wearing a mask, so I do appreciate its natural looking finish. The pump packaging is brilliant. It makes application very easy and hygienic. I havent noticed any breakouts from using this product. However, I don't think it suits my oily, textured skin. Find that it doesn't give me that \"pro-filter\" it advertises. I've found that it doesn't look good when I apply it to my forehead because of my texture. It also does break down throughout the day and transfers a bit when I blot. The pigment separates around my nose and smile line area over time. Also, layering the product to become more full coverage tends to make my skin look cakey, so I just stick to applying a thin layer. Nonetheless, I have enjoyed my time with Fenty, but I think I'll be looking for other foundations after I'm done with this bottle.''')"
   ]
  },
  {
   "cell_type": "code",
   "execution_count": 32,
   "metadata": {},
   "outputs": [
    {
     "data": {
      "text/plain": [
       "array([8.76908048])"
      ]
     },
     "execution_count": 32,
     "metadata": {},
     "output_type": "execute_result"
    },
    {
     "name": "stdout",
     "output_type": "stream",
     "text": [
      "time: 2.99 ms\n"
     ]
    }
   ],
   "source": [
    "prediction('Hated it.')"
   ]
  },
  {
   "cell_type": "code",
   "execution_count": 33,
   "metadata": {},
   "outputs": [
    {
     "data": {
      "text/plain": [
       "array([-5.38390468])"
      ]
     },
     "execution_count": 33,
     "metadata": {},
     "output_type": "execute_result"
    },
    {
     "name": "stdout",
     "output_type": "stream",
     "text": [
      "time: 5.39 ms\n"
     ]
    }
   ],
   "source": [
    "prediction(\"This foundation didn't work for me at all. Poor coverage and very cakey. Didn't last even 4 hours. The finish is horrible. Will not recommend this product.\")"
   ]
  },
  {
   "cell_type": "code",
   "execution_count": 34,
   "metadata": {},
   "outputs": [
    {
     "data": {
      "text/plain": [
       "array([-7.41422764])"
      ]
     },
     "execution_count": 34,
     "metadata": {},
     "output_type": "execute_result"
    },
    {
     "name": "stdout",
     "output_type": "stream",
     "text": [
      "time: 3.72 ms\n"
     ]
    }
   ],
   "source": [
    "prediction(\"i didn't buy this product but id like to say my reason as to why.. its not animal cruelty free, and it doesn't have the symbol. It doesn't say it doesn't test on animals which disappoints me...such evil\")"
   ]
  },
  {
   "cell_type": "code",
   "execution_count": null,
   "metadata": {},
   "outputs": [],
   "source": []
  }
 ],
 "metadata": {
  "kernelspec": {
   "display_name": "Python 3",
   "language": "python",
   "name": "python3"
  },
  "language_info": {
   "codemirror_mode": {
    "name": "ipython",
    "version": 3
   },
   "file_extension": ".py",
   "mimetype": "text/x-python",
   "name": "python",
   "nbconvert_exporter": "python",
   "pygments_lexer": "ipython3",
   "version": "3.6.5"
  }
 },
 "nbformat": 4,
 "nbformat_minor": 2
}
