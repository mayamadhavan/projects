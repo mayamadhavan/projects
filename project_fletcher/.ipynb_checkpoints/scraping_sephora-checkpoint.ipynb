{
 "cells": [
  {
   "cell_type": "code",
   "execution_count": 1,
   "metadata": {},
   "outputs": [],
   "source": [
    "from IPython.core.interactiveshell import InteractiveShell\n",
    "InteractiveShell.ast_node_interactivity = \"all\""
   ]
  },
  {
   "cell_type": "code",
   "execution_count": 2,
   "metadata": {},
   "outputs": [
    {
     "data": {
      "text/html": [
       "<style>.container { width:100% !important; }</style>"
      ],
      "text/plain": [
       "<IPython.core.display.HTML object>"
      ]
     },
     "metadata": {},
     "output_type": "display_data"
    }
   ],
   "source": [
    "from IPython.core.display import display, HTML\n",
    "display(HTML(\"<style>.container { width:100% !important; }</style>\"))"
   ]
  },
  {
   "cell_type": "code",
   "execution_count": 3,
   "metadata": {},
   "outputs": [],
   "source": [
    "import pandas as pd\n",
    "import numpy as np\n",
    "import dateutil.parser\n",
    "from datetime import date\n",
    "import re\n",
    "\n",
    "from selenium import webdriver\n",
    "from selenium.webdriver.common.keys import Keys\n",
    "import time\n",
    "import os\n",
    "\n",
    "import seaborn as sns\n",
    "import matplotlib.pyplot as plt\n",
    "\n",
    "import pickle\n",
    "import time\n",
    "\n",
    "plt.style.use(\"seaborn\")\n",
    "%matplotlib inline\n",
    "\n",
    "%load_ext autotime"
   ]
  },
  {
   "cell_type": "code",
   "execution_count": 4,
   "metadata": {},
   "outputs": [
    {
     "name": "stdout",
     "output_type": "stream",
     "text": [
      "time: 822 µs\n"
     ]
    }
   ],
   "source": [
    "link='https://www.sephora.com/product/pro-filtr-soft-matte-longwear-foundation-P87985432?skuId=1925486&icid2=products%20grid:p87985432'"
   ]
  },
  {
   "cell_type": "code",
   "execution_count": 5,
   "metadata": {},
   "outputs": [
    {
     "name": "stdout",
     "output_type": "stream",
     "text": [
      "time: 886 µs\n"
     ]
    }
   ],
   "source": [
    "chromedriver = \"/Applications/chromedriver\"\n",
    "os.environ[\"webdriver.chrome.driver\"] = chromedriver"
   ]
  },
  {
   "cell_type": "code",
   "execution_count": 6,
   "metadata": {},
   "outputs": [
    {
     "name": "stdout",
     "output_type": "stream",
     "text": [
      "time: 9.76 s\n"
     ]
    }
   ],
   "source": [
    "driver = webdriver.Chrome(chromedriver)\n",
    "driver.get(link)\n",
    "time.sleep(1);"
   ]
  },
  {
   "cell_type": "code",
   "execution_count": 7,
   "metadata": {},
   "outputs": [
    {
     "name": "stdout",
     "output_type": "stream",
     "text": [
      "time: 1.78 s\n"
     ]
    }
   ],
   "source": [
    "no_account_button = driver.find_element_by_class_name('css-1xibwal')\n",
    "no_account_button.click()"
   ]
  },
  {
   "cell_type": "code",
   "execution_count": 8,
   "metadata": {},
   "outputs": [
    {
     "name": "stdout",
     "output_type": "stream",
     "text": [
      "time: 10 s\n"
     ]
    }
   ],
   "source": [
    "driver.execute_script(\"window.scrollTo(0, 1000)\")\n",
    "time.sleep(10);"
   ]
  },
  {
   "cell_type": "code",
   "execution_count": 9,
   "metadata": {},
   "outputs": [
    {
     "name": "stdout",
     "output_type": "stream",
     "text": [
      "time: 93.4 ms\n"
     ]
    }
   ],
   "source": [
    "temp_cols = ['star', 'other']\n",
    "temp_df=pd.DataFrame(columns=temp_cols, index=[])"
   ]
  },
  {
   "cell_type": "code",
   "execution_count": null,
   "metadata": {},
   "outputs": [],
   "source": [
    "i=1\n",
    "j=7\n",
    "for reviews in range(1750):\n",
    "    for number in range(i,j):\n",
    "        row={}\n",
    "        path= f\".//*[@id='ratings-reviews']/div[2]/div[3]/div[{number}]\"\n",
    "        load_reviews=driver.find_element_by_xpath(path)\n",
    "        row['other']=load_reviews.text\n",
    "        star=load_reviews.find_element_by_class_name(\"css-17ol29l\").get_attribute('style')\n",
    "        row['star']=star\n",
    "        temp_df=temp_df.append(row, ignore_index=True)\n",
    "    i=j\n",
    "    j=j+5\n",
    "    next_six = driver.find_element_by_class_name('css-end8gr')\n",
    "    next_six.click()\n",
    "    time.sleep(1);\n",
    "    with open('temp.pkl', 'wb') as picklefile:\n",
    "        pickle.dump(temp_df, picklefile)"
   ]
  },
  {
   "cell_type": "code",
   "execution_count": null,
   "metadata": {},
   "outputs": [],
   "source": [
    "# temp_df"
   ]
  },
  {
   "cell_type": "code",
   "execution_count": null,
   "metadata": {},
   "outputs": [],
   "source": [
    "cols = ['username','eye_color', 'hair', 'skin_tone', 'skin_type',\n",
    "                 'skin_concerns', 'foundation_color', 'review', 'recommend',\n",
    "                'unhelpful', 'helpful']\n",
    "df=pd.DataFrame(columns=cols, index=[])"
   ]
  },
  {
   "cell_type": "code",
   "execution_count": null,
   "metadata": {},
   "outputs": [],
   "source": [
    "for info in temp_df.other:\n",
    "    seperations={}\n",
    "    seperations={'username':'Unknown','eye_color':'Unknown', 'hair':'Unknown', 'skin_tone':'Unknown', 'skin_type':'Unknown',\n",
    "                 'skin_concerns':'Unknown', 'foundation_color':0, 'review':'', 'recommend':0,\n",
    "                'unhelpful':0, 'helpful':0}\n",
    "    details=info.split('\\n')\n",
    "    seperations['username']=details[0]\n",
    "    seperations['helpful']=details[-1][-4:-1].strip('(').strip(' (')\n",
    "    seperations['unhelpful']=details[-2][-4:-1].strip(' (')\n",
    "    if details[-3]=='Recommends this product':\n",
    "        seperations['recommend']=1\n",
    "    else:\n",
    "        seperations['recommend']=0\n",
    "    seperations['review']=max(details, key=len)\n",
    "    for value in details:\n",
    "        if value[0:3]=='Eye':\n",
    "            seperations['eye_color']=value[10:]\n",
    "        elif value[0:4]=='Hair':\n",
    "            seperations['hair']=value[11:]\n",
    "        elif value[0:9]=='Skin Tone':\n",
    "            seperations['skin_tone']=value[10:]\n",
    "        elif value[0:9]=='Skin Type':\n",
    "            seperations['skin_type']=value[10:]\n",
    "        elif value[0:13]=='Skin concerns':\n",
    "            seperations['skin_concerns']=value[14:]\n",
    "        elif value[0:5]=='Color':\n",
    "            seperations['foundation_color']=value[7:]\n",
    "    df=df.append(seperations, ignore_index=True)\n",
    "#     seperations['recommend']=f\"{1 if details[-3]=='Recommends this product' else 0}\""
   ]
  },
  {
   "cell_type": "code",
   "execution_count": null,
   "metadata": {},
   "outputs": [],
   "source": [
    "df"
   ]
  },
  {
   "cell_type": "code",
   "execution_count": null,
   "metadata": {},
   "outputs": [],
   "source": []
  }
 ],
 "metadata": {
  "kernelspec": {
   "display_name": "Python 3",
   "language": "python",
   "name": "python3"
  },
  "language_info": {
   "codemirror_mode": {
    "name": "ipython",
    "version": 3
   },
   "file_extension": ".py",
   "mimetype": "text/x-python",
   "name": "python",
   "nbconvert_exporter": "python",
   "pygments_lexer": "ipython3",
   "version": "3.6.5"
  }
 },
 "nbformat": 4,
 "nbformat_minor": 2
}
