{
 "cells": [
  {
   "cell_type": "markdown",
   "metadata": {},
   "source": [
    "# Mass Importation"
   ]
  },
  {
   "cell_type": "code",
   "execution_count": null,
   "metadata": {},
   "outputs": [],
   "source": [
    "import pandas as pd\n",
    "import numpy as np\n",
    "import dateutil.parser\n",
    "from datetime import date\n",
    "\n",
    "from pprint import pprint\n",
    "import re\n",
    "\n",
    "from bs4 import BeautifulSoup\n",
    "import requests\n",
    "from selenium import webdriver\n",
    "from selenium.webdriver.common.keys import Keys\n",
    "import time\n",
    "import os\n",
    "\n",
    "import statsmodels.api as sm\n",
    "import statsmodels.formula.api as smf\n",
    "import patsy\n",
    "\n",
    "\n",
    "import seaborn as sns\n",
    "import matplotlib.pyplot as plt\n",
    "from sklearn.linear_model import LinearRegression\n",
    "from sklearn.linear_model import RidgeCV\n",
    "\n",
    "import pickle\n",
    "import time"
   ]
  },
  {
   "cell_type": "markdown",
   "metadata": {},
   "source": [
    "# Scraping From Main Steam Search Page\n",
    "Able to Scrape:\n",
    "   1. Game Title (*DataFrame Index*)\n",
    "   2. Systems that the game runs on\n",
    "   3. Release date of game in days\n",
    "   4. Discount by numerical percent\n",
    "   5. Price of Game\n",
    "   6. Number of Reviews (**Dependent Variable**)"
   ]
  },
  {
   "cell_type": "markdown",
   "metadata": {},
   "source": [
    "## Helper Functions\n",
    "Function for parsing date elements in dataset"
   ]
  },
  {
   "cell_type": "code",
   "execution_count": null,
   "metadata": {},
   "outputs": [],
   "source": [
    "def to_date(datestring):\n",
    "    date = dateutil.parser.parse(datestring)\n",
    "    return date"
   ]
  },
  {
   "cell_type": "markdown",
   "metadata": {},
   "source": [
    "Function for creating list of links to parse"
   ]
  },
  {
   "cell_type": "code",
   "execution_count": null,
   "metadata": {},
   "outputs": [],
   "source": [
    "links=['https://store.steampowered.com/search/']\n",
    "for i in range(1,1954):\n",
    "    links.append('https://store.steampowered.com/search/?page='+str(i))"
   ]
  },
  {
   "cell_type": "markdown",
   "metadata": {},
   "source": [
    "## The Scrape"
   ]
  },
  {
   "cell_type": "code",
   "execution_count": null,
   "metadata": {},
   "outputs": [],
   "source": [
    "'''\n",
    "cols = ['title', 'link', 'system', 'systems', 'reviews', 'release_date', 'discount', 'price']\n",
    "df=pd.DataFrame(columns=cols, index=[])\n",
    "\n",
    "age=date.today()\n",
    "for link in links:\n",
    "    response=requests.get(link)\n",
    "    soup = BeautifulSoup(response.text, 'html5lib')\n",
    "    try: \n",
    "        main_search_table=soup.find('div', id='search_result_container').find_all('div')[1]\n",
    "    except:\n",
    "        time.sleep(20)\n",
    "        main_search_table=soup.find('div', id='search_result_container').find_all('div')[1]\n",
    "    print(link)\n",
    "    for game in main_search_table.find_all('a'):\n",
    "        row={}\n",
    "        row['title']=game.find('span', class_=\"title\").text #title\n",
    "        row['link']=game['href'] #link\n",
    "        systems=[system[\"class\"][1] for system in game.find('p').find_all('span')] #system\n",
    "        row['system']=len(systems)\n",
    "        row['systems']=systems\n",
    "        try:\n",
    "            row['release_date']=(age-(to_date(game.find('div', class_=\"col search_released responsive_secondrow\").text).date())).days #release date  \n",
    "        except:\n",
    "            row['release_date']=0\n",
    "        for price in game.find_all('div', class_=\"col search_price_discount_combined responsive_secondrow\"): #price and discount\n",
    "            for discount in price.find_all('div', class_=\"col search_discount responsive_secondrow\"):\n",
    "                if discount.find('span'):\n",
    "                    row['discount']=abs(int(discount.find('span').text.strip('%')))\n",
    "                    try:\n",
    "                        row['price']=float(price.find('span', style=\"color: #888888;\").text.strip(\"$\"))\n",
    "                    except:\n",
    "                        price = re.sub('[^0-9,.]','', game.find('div', class_=\"col search_price responsive_secondrow\").text).replace(\"\\n\",\"\").strip(\"\\t\")\n",
    "                        row['price']=price\n",
    "                else:\n",
    "                    row['discount']=0\n",
    "                    if not game.find('div', class_=\"col search_price responsive_secondrow\").text.replace(\"\\n\",\"\").strip(\"\\t\"):\n",
    "                        row['price']=0\n",
    "                    elif game.find('div', class_=\"col search_price responsive_secondrow\").text.replace(\"\\n\",\"\").strip(\"\\t\").lower()[0]!='$': #'free to play' or game.find('div', class_=\"col search_price responsive_secondrow\").text.replace(\"\\n\",\"\").strip(\"\\t\").lower()=='free':\n",
    "                        row['price']=0\n",
    "                    else:\n",
    "                        row['price']=float(game.find('div', class_=\"col search_price responsive_secondrow\").text.replace(\"\\n\",\"\").strip(\"\\t\").strip(\"$\"))  \n",
    "        for y in game.find_all('div',class_=\"col search_reviewscore responsive_secondrow\"):\n",
    "            x=[review['data-tooltip-html'] for review in y.find_all('span')]\n",
    "            if not x:\n",
    "                row['reviews']=int(0)\n",
    "            else:\n",
    "                z=x[0].split('<br>')\n",
    "                d=z[1].split(\" \")\n",
    "                row['reviews']=int(d[3].replace(',', '')) #reviews\n",
    "        df=df.append(row, ignore_index=True)\n",
    "        with open('steam_search.pkl', 'wb') as picklefile:\n",
    "            pickle.dump(df, picklefile)\n",
    "#     time.sleep(3)\n",
    "    \n",
    "df.set_index('title', inplace=True)\n",
    "df.rename(columns=lambda x: x.strip())\n",
    "pd.options.display.max_rows = 4000\n",
    "'''"
   ]
  },
  {
   "cell_type": "markdown",
   "metadata": {},
   "source": [
    "#Nofaith: Make copy of df from pickle and read into csv"
   ]
  },
  {
   "cell_type": "code",
   "execution_count": 5,
   "metadata": {},
   "outputs": [
    {
     "name": "stdout",
     "output_type": "stream",
     "text": [
      "Untitled.ipynb         \u001b[34mproject_benson\u001b[m\u001b[m\r\n",
      "all steam no sel.ipynb \u001b[34mproject_luther\u001b[m\u001b[m\r\n"
     ]
    }
   ],
   "source": [
    "!ls "
   ]
  },
  {
   "cell_type": "code",
   "execution_count": 1,
   "metadata": {},
   "outputs": [
    {
     "ename": "FileNotFoundError",
     "evalue": "[Errno 2] No such file or directory: 'steam_search.pkl'",
     "output_type": "error",
     "traceback": [
      "\u001b[0;31m---------------------------------------------------------------------------\u001b[0m",
      "\u001b[0;31mFileNotFoundError\u001b[0m                         Traceback (most recent call last)",
      "\u001b[0;32m<ipython-input-1-9e1e32bced56>\u001b[0m in \u001b[0;36m<module>\u001b[0;34m()\u001b[0m\n\u001b[0;32m----> 1\u001b[0;31m \u001b[0;32mwith\u001b[0m \u001b[0mopen\u001b[0m\u001b[0;34m(\u001b[0m\u001b[0;34m\"steam_search.pkl\"\u001b[0m\u001b[0;34m,\u001b[0m \u001b[0;34m'rb'\u001b[0m\u001b[0;34m)\u001b[0m \u001b[0;32mas\u001b[0m \u001b[0mpicklefile\u001b[0m\u001b[0;34m:\u001b[0m\u001b[0;34m\u001b[0m\u001b[0m\n\u001b[0m\u001b[1;32m      2\u001b[0m       \u001b[0mdf2\u001b[0m \u001b[0;34m=\u001b[0m \u001b[0mpickle\u001b[0m\u001b[0;34m.\u001b[0m\u001b[0mload\u001b[0m\u001b[0;34m(\u001b[0m\u001b[0mpicklefile\u001b[0m\u001b[0;34m)\u001b[0m\u001b[0;34m\u001b[0m\u001b[0m\n\u001b[1;32m      3\u001b[0m \u001b[0;31m# df2.to_csv('steam3.csv')\u001b[0m\u001b[0;34m\u001b[0m\u001b[0;34m\u001b[0m\u001b[0m\n\u001b[1;32m      4\u001b[0m \u001b[0mdf2\u001b[0m\u001b[0;34m\u001b[0m\u001b[0m\n",
      "\u001b[0;31mFileNotFoundError\u001b[0m: [Errno 2] No such file or directory: 'steam_search.pkl'"
     ]
    }
   ],
   "source": [
    "# with open(\"steam_search.pkl\", 'rb') as picklefile: \n",
    "#       df2 = pickle.load(picklefile)\n",
    "# df2.to_csv('steam3.csv')\n",
    "# df2"
   ]
  },
  {
   "cell_type": "markdown",
   "metadata": {},
   "source": [
    "Read in csv from previous scrape"
   ]
  },
  {
   "cell_type": "code",
   "execution_count": null,
   "metadata": {},
   "outputs": [],
   "source": [
    "# df=pd.read_csv('steam3.csv')"
   ]
  },
  {
   "cell_type": "markdown",
   "metadata": {},
   "source": [
    "### Remove Duplicates (if any)"
   ]
  },
  {
   "cell_type": "code",
   "execution_count": null,
   "metadata": {},
   "outputs": [],
   "source": [
    "no_dup_df = df[~df.index.duplicated(keep='first')]"
   ]
  },
  {
   "cell_type": "markdown",
   "metadata": {},
   "source": [
    "## Modifying DataFrame Element Types to Support Regression"
   ]
  },
  {
   "cell_type": "code",
   "execution_count": null,
   "metadata": {},
   "outputs": [],
   "source": [
    "no_dup_df['system'] = no_dup_df.system.astype(int)\n",
    "no_dup_df['reviews'] = no_dup_df.reviews.astype(int)\n",
    "no_dup_df['release_date'] = no_dup_df.release_date.astype(int)\n",
    "no_dup_df['discount'] = no_dup_df.discount.astype(int)\n",
    "no_dup_df['price'] = no_dup_df.price.astype(float)\n",
    "no_dup_df['systems'] = no_dup_df.systems.astype(list)\n",
    "no_dup_df.info()"
   ]
  },
  {
   "cell_type": "markdown",
   "metadata": {},
   "source": [
    "## Initial Analysis (IA): DataFrame Resulting From Main Page Scrape \n",
    "### 1. Split into Train/Test"
   ]
  },
  {
   "cell_type": "code",
   "execution_count": null,
   "metadata": {},
   "outputs": [],
   "source": []
  },
  {
   "cell_type": "markdown",
   "metadata": {},
   "source": [
    "### 2. Initial Look at Relationships with Pairplots and Correlations"
   ]
  },
  {
   "cell_type": "code",
   "execution_count": null,
   "metadata": {},
   "outputs": [],
   "source": [
    "sns.pairplot(no_dup_df, size = 1.2, aspect=1.5)"
   ]
  },
  {
   "cell_type": "code",
   "execution_count": null,
   "metadata": {},
   "outputs": [],
   "source": [
    "no_dup_df.corr()"
   ]
  },
  {
   "cell_type": "markdown",
   "metadata": {},
   "source": [
    "### 3. Run Patsy Regression"
   ]
  },
  {
   "cell_type": "code",
   "execution_count": 97,
   "metadata": {
    "scrolled": true
   },
   "outputs": [
    {
     "data": {
      "text/html": [
       "<table class=\"simpletable\">\n",
       "<caption>OLS Regression Results</caption>\n",
       "<tr>\n",
       "  <th>Dep. Variable:</th>         <td>reviews</td>     <th>  R-squared:         </th>  <td>   0.004</td>  \n",
       "</tr>\n",
       "<tr>\n",
       "  <th>Model:</th>                   <td>OLS</td>       <th>  Adj. R-squared:    </th>  <td>   0.004</td>  \n",
       "</tr>\n",
       "<tr>\n",
       "  <th>Method:</th>             <td>Least Squares</td>  <th>  F-statistic:       </th>  <td>   13.27</td>  \n",
       "</tr>\n",
       "<tr>\n",
       "  <th>Date:</th>             <td>Tue, 17 Jul 2018</td> <th>  Prob (F-statistic):</th>  <td>8.72e-11</td>  \n",
       "</tr>\n",
       "<tr>\n",
       "  <th>Time:</th>                 <td>12:36:44</td>     <th>  Log-Likelihood:    </th> <td>-1.4910e+05</td>\n",
       "</tr>\n",
       "<tr>\n",
       "  <th>No. Observations:</th>      <td> 12475</td>      <th>  AIC:               </th>  <td>2.982e+05</td> \n",
       "</tr>\n",
       "<tr>\n",
       "  <th>Df Residuals:</th>          <td> 12470</td>      <th>  BIC:               </th>  <td>2.983e+05</td> \n",
       "</tr>\n",
       "<tr>\n",
       "  <th>Df Model:</th>              <td>     4</td>      <th>                     </th>      <td> </td>     \n",
       "</tr>\n",
       "<tr>\n",
       "  <th>Covariance Type:</th>      <td>nonrobust</td>    <th>                     </th>      <td> </td>     \n",
       "</tr>\n",
       "</table>\n",
       "<table class=\"simpletable\">\n",
       "<tr>\n",
       "        <td></td>          <th>coef</th>     <th>std err</th>      <th>t</th>      <th>P>|t|</th>  <th>[0.025</th>    <th>0.975]</th>  \n",
       "</tr>\n",
       "<tr>\n",
       "  <th>Intercept</th>    <td>-2530.0276</td> <td>  806.220</td> <td>   -3.138</td> <td> 0.002</td> <td>-4110.343</td> <td> -949.712</td>\n",
       "</tr>\n",
       "<tr>\n",
       "  <th>system</th>       <td>  990.4309</td> <td>  306.706</td> <td>    3.229</td> <td> 0.001</td> <td>  389.240</td> <td> 1591.622</td>\n",
       "</tr>\n",
       "<tr>\n",
       "  <th>price</th>        <td>  106.9218</td> <td>   31.649</td> <td>    3.378</td> <td> 0.001</td> <td>   44.885</td> <td>  168.958</td>\n",
       "</tr>\n",
       "<tr>\n",
       "  <th>release_date</th> <td>    2.2252</td> <td>    0.405</td> <td>    5.488</td> <td> 0.000</td> <td>    1.430</td> <td>    3.020</td>\n",
       "</tr>\n",
       "<tr>\n",
       "  <th>discount</th>     <td>   -2.6775</td> <td>   25.360</td> <td>   -0.106</td> <td> 0.916</td> <td>  -52.388</td> <td>   47.033</td>\n",
       "</tr>\n",
       "</table>\n",
       "<table class=\"simpletable\">\n",
       "<tr>\n",
       "  <th>Omnibus:</th>       <td>41433.934</td> <th>  Durbin-Watson:     </th>    <td>   1.854</td>   \n",
       "</tr>\n",
       "<tr>\n",
       "  <th>Prob(Omnibus):</th>  <td> 0.000</td>   <th>  Jarque-Bera (JB):  </th> <td>7855123705.147</td>\n",
       "</tr>\n",
       "<tr>\n",
       "  <th>Skew:</th>           <td>58.229</td>   <th>  Prob(JB):          </th>    <td>    0.00</td>   \n",
       "</tr>\n",
       "<tr>\n",
       "  <th>Kurtosis:</th>      <td>3888.679</td>  <th>  Cond. No.          </th>    <td>2.89e+03</td>   \n",
       "</tr>\n",
       "</table><br/><br/>Warnings:<br/>[1] Standard Errors assume that the covariance matrix of the errors is correctly specified.<br/>[2] The condition number is large, 2.89e+03. This might indicate that there are<br/>strong multicollinearity or other numerical problems."
      ],
      "text/plain": [
       "<class 'statsmodels.iolib.summary.Summary'>\n",
       "\"\"\"\n",
       "                            OLS Regression Results                            \n",
       "==============================================================================\n",
       "Dep. Variable:                reviews   R-squared:                       0.004\n",
       "Model:                            OLS   Adj. R-squared:                  0.004\n",
       "Method:                 Least Squares   F-statistic:                     13.27\n",
       "Date:                Tue, 17 Jul 2018   Prob (F-statistic):           8.72e-11\n",
       "Time:                        12:36:44   Log-Likelihood:            -1.4910e+05\n",
       "No. Observations:               12475   AIC:                         2.982e+05\n",
       "Df Residuals:                   12470   BIC:                         2.983e+05\n",
       "Df Model:                           4                                         \n",
       "Covariance Type:            nonrobust                                         \n",
       "================================================================================\n",
       "                   coef    std err          t      P>|t|      [0.025      0.975]\n",
       "--------------------------------------------------------------------------------\n",
       "Intercept    -2530.0276    806.220     -3.138      0.002   -4110.343    -949.712\n",
       "system         990.4309    306.706      3.229      0.001     389.240    1591.622\n",
       "price          106.9218     31.649      3.378      0.001      44.885     168.958\n",
       "release_date     2.2252      0.405      5.488      0.000       1.430       3.020\n",
       "discount        -2.6775     25.360     -0.106      0.916     -52.388      47.033\n",
       "==============================================================================\n",
       "Omnibus:                    41433.934   Durbin-Watson:                   1.854\n",
       "Prob(Omnibus):                  0.000   Jarque-Bera (JB):       7855123705.147\n",
       "Skew:                          58.229   Prob(JB):                         0.00\n",
       "Kurtosis:                    3888.679   Cond. No.                     2.89e+03\n",
       "==============================================================================\n",
       "\n",
       "Warnings:\n",
       "[1] Standard Errors assume that the covariance matrix of the errors is correctly specified.\n",
       "[2] The condition number is large, 2.89e+03. This might indicate that there are\n",
       "strong multicollinearity or other numerical problems.\n",
       "\"\"\""
      ]
     },
     "execution_count": 97,
     "metadata": {},
     "output_type": "execute_result"
    }
   ],
   "source": [
    "#Create feature matrix and target vector\n",
    "y, X = patsy.dmatrices('reviews ~ system + price + release_date + discount', data=no_dup_df)\n",
    "# Create model\n",
    "model = sm.OLS(y, X)\n",
    "\n",
    "# Fit model\n",
    "fit = model.fit()\n",
    "\n",
    "# Print summary statistics of model's performance\n",
    "fit.summary()"
   ]
  },
  {
   "cell_type": "markdown",
   "metadata": {},
   "source": [
    "### Additional Step: Run LassoCV on Initial Dataframe"
   ]
  },
  {
   "cell_type": "code",
   "execution_count": null,
   "metadata": {},
   "outputs": [],
   "source": []
  },
  {
   "cell_type": "markdown",
   "metadata": {},
   "source": [
    "## Feature Engineering and General DataFrame Mods\n",
    "\n",
    "### 1. Modify DF to Account for Skew by Logging Reviews; Repeat IA"
   ]
  },
  {
   "cell_type": "code",
   "execution_count": null,
   "metadata": {},
   "outputs": [],
   "source": [
    "no_dup_df['log_reviews'] = np.log(no_dup_df.reviews + 1)"
   ]
  },
  {
   "cell_type": "code",
   "execution_count": 98,
   "metadata": {},
   "outputs": [
    {
     "data": {
      "text/plain": [
       "(array([3552., 1592., 2636., 2047., 1388.,  787.,  374.,   75.,   18.,\n",
       "           6.]),\n",
       " array([ 0.        ,  1.4781903 ,  2.95638059,  4.43457089,  5.91276119,\n",
       "         7.39095149,  8.86914178, 10.34733208, 11.82552238, 13.30371268,\n",
       "        14.78190297]),\n",
       " <a list of 10 Patch objects>)"
      ]
     },
     "execution_count": 98,
     "metadata": {},
     "output_type": "execute_result"
    },
    {
     "data": {
      "image/png": "[encoded data removed]",
      "text/plain": [
       "<Figure size 432x288 with 1 Axes>"
      ]
     },
     "metadata": {},
     "output_type": "display_data"
    }
   ],
   "source": [
    "plt.hist(no_dup_df['log_reviews'])"
   ]
  },
  {
   "cell_type": "markdown",
   "metadata": {},
   "source": [
    "### 2. Drop Movies"
   ]
  },
  {
   "cell_type": "code",
   "execution_count": null,
   "metadata": {},
   "outputs": [],
   "source": [
    "for i in range(len(no_dup_df['systems'])):\n",
    "    element=(no_dup_df['systems'][i])\n",
    "    if 'win' not in element and 'mac' not in element and 'linux' not in element:  \n",
    "        print(element)"
   ]
  },
  {
   "cell_type": "markdown",
   "metadata": {},
   "source": [
    "### 3. Seperate Windows/Mac/Linux into Individual Bool 0/1 Columns; Repeat IA"
   ]
  },
  {
   "cell_type": "code",
   "execution_count": null,
   "metadata": {},
   "outputs": [],
   "source": [
    "windows=[1 if 'win' in item else 0 for item in no_dup_df.systems]\n",
    "mac=[1 if 'mac' in item else 0 for item in no_dup_df.systems]\n",
    "linux=[1 if 'linux' in item else 0 for item in no_dup_df.systems]"
   ]
  },
  {
   "cell_type": "code",
   "execution_count": null,
   "metadata": {},
   "outputs": [],
   "source": [
    "no_dup_df['windows']=pd.Series(windows)\n",
    "no_dup_df['mac']=pd.Series(mac)\n",
    "no_dup_df['linux']=pd.Series(linux)"
   ]
  },
  {
   "cell_type": "code",
   "execution_count": null,
   "metadata": {},
   "outputs": [],
   "source": [
    "no_dup_df['windows'] = no_dup_df.windows.astype(int)\n",
    "no_dup_df['mac'] = no_dup_df.mac.astype(int)\n",
    "no_dup_df['linux'] = no_dup_df.linux.astype(int)\n",
    "no_dup_df.info()"
   ]
  },
  {
   "cell_type": "markdown",
   "metadata": {},
   "source": [
    "# Scraping from Individual Game Pages\n",
    "Available data:\n",
    "    1. Genre\n",
    "    2. Single/Multiplayer\n",
    "    3. Number of Languages\n",
    "    4. Developer\n",
    "    5. Publisher\n",
    "    6. User-defined tages\n",
    "    7. Release date (repeat)\n",
    "    8. Recent Updates\n",
    "    9. System Requirements"
   ]
  },
  {
   "cell_type": "markdown",
   "metadata": {},
   "source": [
    "## The Scrape"
   ]
  },
  {
   "cell_type": "code",
   "execution_count": 95,
   "metadata": {},
   "outputs": [],
   "source": [
    "cols2 = ['title', 'genres', 'players', 'languages', 'developers', 'publisher', 'user_tags']\n",
    "df_gamepg=pd.DataFrame(columns=cols2, index=[])\n",
    "link_games=list(no_dup_df.link)\n",
    "\n",
    "\n",
    "age=date.today()\n",
    "for link in links_games:\n",
    "    response=requests.get(link)\n",
    "    soup = BeautifulSoup(response.text, 'html5lib')\n",
    "    \n",
    "\n",
    "\n",
    "\n",
    "\n",
    "\n",
    "df_gamepg.set_index('title', inplace=True)\n",
    "df_gamepg.rename(columns=lambda x: x.strip())\n",
    "pd.options.display.max_rows = 4000"
   ]
  },
  {
   "cell_type": "code",
   "execution_count": null,
   "metadata": {},
   "outputs": [],
   "source": []
  },
  {
   "cell_type": "code",
   "execution_count": null,
   "metadata": {},
   "outputs": [],
   "source": [
    "df"
   ]
  },
  {
   "cell_type": "code",
   "execution_count": null,
   "metadata": {},
   "outputs": [],
   "source": [
    "df_gamepg"
   ]
  },
  {
   "cell_type": "code",
   "execution_count": null,
   "metadata": {},
   "outputs": [],
   "source": [
    "no_dup_df"
   ]
  },
  {
   "cell_type": "code",
   "execution_count": null,
   "metadata": {},
   "outputs": [],
   "source": [
    "no_dup_gamepg_df"
   ]
  }
 ],
 "metadata": {
  "kernelspec": {
   "display_name": "Python 3",
   "language": "python",
   "name": "python3"
  },
  "language_info": {
   "codemirror_mode": {
    "name": "ipython",
    "version": 3
   },
   "file_extension": ".py",
   "mimetype": "text/x-python",
   "name": "python",
   "nbconvert_exporter": "python",
   "pygments_lexer": "ipython3",
   "version": "3.6.5"
  }
 },
 "nbformat": 4,
 "nbformat_minor": 2
}
