{
 "cells": [
  {
   "cell_type": "code",
   "execution_count": 5,
   "metadata": {},
   "outputs": [],
   "source": [
    "import pandas as pd\n",
    "import numpy as np\n",
    "import dateutil.parser\n",
    "from datetime import date\n",
    "import re\n",
    "\n",
    "from bs4 import BeautifulSoup\n",
    "import requests\n",
    "from selenium import webdriver\n",
    "from selenium.webdriver.common.keys import Keys\n",
    "import time\n",
    "import os\n",
    "\n",
    "import seaborn as sns\n",
    "import matplotlib.pyplot as plt\n",
    "\n",
    "import statsmodels.api as sm\n",
    "import statsmodels.formula.api as smf\n",
    "import patsy\n",
    "from sklearn.linear_model import LinearRegression\n",
    "from sklearn.linear_model import Lasso\n",
    "from sklearn.cross_validation import cross_val_score\n",
    "from sklearn.cross_validation import train_test_split, KFold\n",
    "from sklearn.metrics import mean_squared_error\n",
    "from sklearn import preprocessing\n",
    "\n",
    "\n",
    "import pickle\n",
    "import time"
   ]
  },
  {
   "cell_type": "code",
   "execution_count": 6,
   "metadata": {},
   "outputs": [
    {
     "data": {
      "text/html": [
       "<div>\n",
       "<style scoped>\n",
       "    .dataframe tbody tr th:only-of-type {\n",
       "        vertical-align: middle;\n",
       "    }\n",
       "\n",
       "    .dataframe tbody tr th {\n",
       "        vertical-align: top;\n",
       "    }\n",
       "\n",
       "    .dataframe thead th {\n",
       "        text-align: right;\n",
       "    }\n",
       "</style>\n",
       "<table border=\"1\" class=\"dataframe\">\n",
       "  <thead>\n",
       "    <tr style=\"text-align: right;\">\n",
       "      <th></th>\n",
       "      <th>title</th>\n",
       "      <th>link</th>\n",
       "      <th>system</th>\n",
       "      <th>systems</th>\n",
       "      <th>reviews</th>\n",
       "      <th>release_date</th>\n",
       "      <th>discount</th>\n",
       "      <th>price</th>\n",
       "    </tr>\n",
       "  </thead>\n",
       "  <tbody>\n",
       "    <tr>\n",
       "      <th>0</th>\n",
       "      <td>Warframe</td>\n",
       "      <td>https://store.steampowered.com/app/230410/Warf...</td>\n",
       "      <td>1</td>\n",
       "      <td>['win']</td>\n",
       "      <td>192592</td>\n",
       "      <td>1940</td>\n",
       "      <td>0</td>\n",
       "      <td>0.00</td>\n",
       "    </tr>\n",
       "    <tr>\n",
       "      <th>1</th>\n",
       "      <td>Clicker Heroes 2</td>\n",
       "      <td>https://store.steampowered.com/app/629910/Clic...</td>\n",
       "      <td>2</td>\n",
       "      <td>['win', 'mac']</td>\n",
       "      <td>183</td>\n",
       "      <td>1</td>\n",
       "      <td>0</td>\n",
       "      <td>29.99</td>\n",
       "    </tr>\n",
       "    <tr>\n",
       "      <th>2</th>\n",
       "      <td>Tom Clancy's Rainbow Six® Siege</td>\n",
       "      <td>https://store.steampowered.com/app/359550/Tom_...</td>\n",
       "      <td>1</td>\n",
       "      <td>['win']</td>\n",
       "      <td>170518</td>\n",
       "      <td>959</td>\n",
       "      <td>0</td>\n",
       "      <td>14.99</td>\n",
       "    </tr>\n",
       "    <tr>\n",
       "      <th>3</th>\n",
       "      <td>Counter-Strike: Global Offensive</td>\n",
       "      <td>https://store.steampowered.com/app/730/Counter...</td>\n",
       "      <td>3</td>\n",
       "      <td>['win', 'mac', 'linux']</td>\n",
       "      <td>2628652</td>\n",
       "      <td>2156</td>\n",
       "      <td>0</td>\n",
       "      <td>14.99</td>\n",
       "    </tr>\n",
       "    <tr>\n",
       "      <th>4</th>\n",
       "      <td>Grand Theft Auto V</td>\n",
       "      <td>https://store.steampowered.com/app/271590/Gran...</td>\n",
       "      <td>1</td>\n",
       "      <td>['win']</td>\n",
       "      <td>343780</td>\n",
       "      <td>1191</td>\n",
       "      <td>34</td>\n",
       "      <td>29.99</td>\n",
       "    </tr>\n",
       "  </tbody>\n",
       "</table>\n",
       "</div>"
      ],
      "text/plain": [
       "                              title  \\\n",
       "0                          Warframe   \n",
       "1                  Clicker Heroes 2   \n",
       "2   Tom Clancy's Rainbow Six® Siege   \n",
       "3  Counter-Strike: Global Offensive   \n",
       "4                Grand Theft Auto V   \n",
       "\n",
       "                                                link  system  \\\n",
       "0  https://store.steampowered.com/app/230410/Warf...       1   \n",
       "1  https://store.steampowered.com/app/629910/Clic...       2   \n",
       "2  https://store.steampowered.com/app/359550/Tom_...       1   \n",
       "3  https://store.steampowered.com/app/730/Counter...       3   \n",
       "4  https://store.steampowered.com/app/271590/Gran...       1   \n",
       "\n",
       "                   systems  reviews  release_date  discount  price  \n",
       "0                  ['win']   192592          1940         0   0.00  \n",
       "1           ['win', 'mac']      183             1         0  29.99  \n",
       "2                  ['win']   170518           959         0  14.99  \n",
       "3  ['win', 'mac', 'linux']  2628652          2156         0  14.99  \n",
       "4                  ['win']   343780          1191        34  29.99  "
      ]
     },
     "execution_count": 6,
     "metadata": {},
     "output_type": "execute_result"
    }
   ],
   "source": [
    "df=pd.read_csv('steam3.csv')\n",
    "del(df['Unnamed: 0'])\n",
    "df.head()"
   ]
  },
  {
   "cell_type": "code",
   "execution_count": 7,
   "metadata": {},
   "outputs": [],
   "source": [
    "no_dup_df = df[~df.index.duplicated(keep='first')]"
   ]
  },
  {
   "cell_type": "code",
   "execution_count": 8,
   "metadata": {},
   "outputs": [],
   "source": [
    "no_dup_df['system'] = no_dup_df.system.astype(int)\n",
    "no_dup_df['reviews'] = no_dup_df.reviews.astype(int)\n",
    "no_dup_df['release_date'] = no_dup_df.release_date.astype(int)\n",
    "no_dup_df['discount'] = no_dup_df.discount.astype(int)\n",
    "no_dup_df['price'] = no_dup_df.price.astype(float)\n",
    "no_dup_df['systems'] = no_dup_df.systems.astype(list)"
   ]
  },
  {
   "cell_type": "markdown",
   "metadata": {},
   "source": [
    "# First train/test 10-fold split"
   ]
  },
  {
   "cell_type": "code",
   "execution_count": 18,
   "metadata": {},
   "outputs": [],
   "source": [
    "y = df['reviews']\n",
    "X = df.drop(['reviews','link','systems','title'], axis = 1)"
   ]
  },
  {
   "cell_type": "code",
   "execution_count": 19,
   "metadata": {},
   "outputs": [],
   "source": [
    "kf = KFold(n=len(X), n_folds=10, shuffle=True)"
   ]
  },
  {
   "cell_type": "markdown",
   "metadata": {},
   "source": [
    "# First K-fold"
   ]
  },
  {
   "cell_type": "code",
   "execution_count": 20,
   "metadata": {},
   "outputs": [],
   "source": [
    "alphas = [10**x for x in range(-12, 5)]\n",
    "scores = np.zeros((len(alphas),1))"
   ]
  },
  {
   "cell_type": "code",
   "execution_count": 21,
   "metadata": {},
   "outputs": [
    {
     "name": "stderr",
     "output_type": "stream",
     "text": [
      "/Users/mayamadhavan/anaconda3/lib/python3.6/site-packages/sklearn/linear_model/coordinate_descent.py:491: ConvergenceWarning: Objective did not converge. You might want to increase the number of iterations. Fitting data with very small alpha may cause precision problems.\n",
      "  ConvergenceWarning)\n",
      "/Users/mayamadhavan/anaconda3/lib/python3.6/site-packages/sklearn/linear_model/coordinate_descent.py:491: ConvergenceWarning: Objective did not converge. You might want to increase the number of iterations. Fitting data with very small alpha may cause precision problems.\n",
      "  ConvergenceWarning)\n",
      "/Users/mayamadhavan/anaconda3/lib/python3.6/site-packages/sklearn/linear_model/coordinate_descent.py:491: ConvergenceWarning: Objective did not converge. You might want to increase the number of iterations. Fitting data with very small alpha may cause precision problems.\n",
      "  ConvergenceWarning)\n",
      "/Users/mayamadhavan/anaconda3/lib/python3.6/site-packages/sklearn/linear_model/coordinate_descent.py:491: ConvergenceWarning: Objective did not converge. You might want to increase the number of iterations. Fitting data with very small alpha may cause precision problems.\n",
      "  ConvergenceWarning)\n"
     ]
    },
    {
     "name": "stdout",
     "output_type": "stream",
     "text": [
      "mse for all alpha values \n",
      "\n",
      "           alpha                   mse\n",
      "0   1.000000e-12  [1669091043.7629926]\n",
      "1   1.000000e-11  [1669091043.7629926]\n",
      "2   1.000000e-10  [1669091043.7629924]\n",
      "3   1.000000e-09   [1669091043.762992]\n",
      "4   1.000000e-08  [1669091043.7629774]\n",
      "5   1.000000e-07  [1669091043.7628953]\n",
      "6   1.000000e-06  [1669091043.7618766]\n",
      "7   1.000000e-05  [1669091043.7534535]\n",
      "8   1.000000e-04   [1669091043.660386]\n",
      "9   1.000000e-03  [1669091042.3780773]\n",
      "10  1.000000e-02  [1669091034.0285141]\n",
      "11  1.000000e-01  [1669090949.8373675]\n",
      "12  1.000000e+00  [1669090111.4988847]\n",
      "13  1.000000e+01  [1669082085.4124963]\n",
      "14  1.000000e+02  [1669047999.0449595]\n",
      "15  1.000000e+03  [1671688079.7280502]\n",
      "16  1.000000e+04   [1674688480.397724]\n"
     ]
    }
   ],
   "source": [
    "for j in range(len(alphas)):\n",
    "    kf_score = []\n",
    "    for train, test in kf:\n",
    "        X_train = X.iloc[train]\n",
    "        y_train = y.iloc[train]\n",
    "        X_test = X.iloc[test]\n",
    "        y_test = y.iloc[test]\n",
    "        std_scaler = preprocessing.StandardScaler()\n",
    "        X_train_norm = std_scaler.fit_transform(X_train)\n",
    "        X_test_norm = std_scaler.transform(X_test)\n",
    "    \n",
    "        model =  Lasso(alpha = alphas[j])\n",
    "        model.fit(X_train_norm, y_train)\n",
    "        y_test_predict = model.predict(X_test_norm)\n",
    "        score = mean_squared_error(y_test_predict, y_test)\n",
    "        kf_score.append(score)\n",
    "    scores[j] = np.mean(kf_score)\n",
    "print ('mse for all alpha values \\n')\n",
    "print (pd.DataFrame(list(zip(alphas, scores)), columns=['alpha', 'mse']))"
   ]
  },
  {
   "cell_type": "code",
   "execution_count": 26,
   "metadata": {},
   "outputs": [
    {
     "name": "stdout",
     "output_type": "stream",
     "text": [
      "alpha: 100\n"
     ]
    }
   ],
   "source": [
    "best_alpha = alphas[scores.argmin()]\n",
    "print ('alpha:', best_alpha)"
   ]
  },
  {
   "cell_type": "code",
   "execution_count": 27,
   "metadata": {},
   "outputs": [
    {
     "name": "stdout",
     "output_type": "stream",
     "text": [
      "MSE: 1665513457.6148596\n"
     ]
    }
   ],
   "source": [
    "std_scaler = preprocessing.StandardScaler()\n",
    "X_norm = std_scaler.fit_transform(X)\n",
    "\n",
    "final_model =  Lasso(alpha = best_alpha)\n",
    "final_model.fit(X_norm, y)\n",
    "y_predict = final_model.predict(X_norm)\n",
    "final_model_score = mean_squared_error(y_predict, y)\n",
    "print ('MSE:', final_model_score)"
   ]
  },
  {
   "cell_type": "code",
   "execution_count": 28,
   "metadata": {},
   "outputs": [
    {
     "name": "stdout",
     "output_type": "stream",
     "text": [
      "Keep\n",
      "       variable  coefficient\n",
      "0        system  1210.255576\n",
      "1  release_date  2079.367651\n",
      "3         price  1155.444291\n"
     ]
    }
   ],
   "source": [
    "df_coef = pd.DataFrame(list(zip(X.columns, final_model.coef_)), columns = ['variable', 'coefficient'])\n",
    "print ('Keep')\n",
    "print (df_coef[df_coef['coefficient']!=0])"
   ]
  },
  {
   "cell_type": "code",
   "execution_count": 29,
   "metadata": {},
   "outputs": [
    {
     "name": "stdout",
     "output_type": "stream",
     "text": [
      "Drop\n",
      "   variable  coefficient\n",
      "2  discount          0.0\n"
     ]
    }
   ],
   "source": [
    "print ('Drop')\n",
    "print (df_coef[df_coef['coefficient']==0])"
   ]
  },
  {
   "cell_type": "markdown",
   "metadata": {},
   "source": [
    "# Feature Eng/Refining Model"
   ]
  },
  {
   "cell_type": "markdown",
   "metadata": {},
   "source": [
    "Unsure of Order\n",
    "1. Run patsy on train/test\n",
    "2. Diagnostic Plots\n",
    "    + residuals etc...\n",
    "3. Correlations/pairplot/heatmap\n",
    "4. Compare predictions with other\n",
    "5. Change features\n",
    "6. (?????) Redo Lasso\n",
    "7. Drop features\n",
    "8. Box-cox?"
   ]
  },
  {
   "cell_type": "code",
   "execution_count": 30,
   "metadata": {},
   "outputs": [
    {
     "ename": "NameError",
     "evalue": "name 'stats' is not defined",
     "output_type": "error",
     "traceback": [
      "\u001b[0;31m---------------------------------------------------------------------------\u001b[0m",
      "\u001b[0;31mNameError\u001b[0m                                 Traceback (most recent call last)",
      "\u001b[0;32m<ipython-input-30-03c756e71f8c>\u001b[0m in \u001b[0;36m<module>\u001b[0;34m()\u001b[0m\n\u001b[0;32m----> 1\u001b[0;31m \u001b[0my_transformed\u001b[0m\u001b[0;34m,\u001b[0m \u001b[0m_\u001b[0m \u001b[0;34m=\u001b[0m \u001b[0mstats\u001b[0m\u001b[0;34m.\u001b[0m\u001b[0mboxcox\u001b[0m\u001b[0;34m(\u001b[0m\u001b[0mdara\u001b[0m\u001b[0;34m.\u001b[0m\u001b[0mcnt\u001b[0m\u001b[0;34m)\u001b[0m\u001b[0;34m\u001b[0m\u001b[0m\n\u001b[0m",
      "\u001b[0;31mNameError\u001b[0m: name 'stats' is not defined"
     ]
    }
   ],
   "source": [
    "y_transformed, _ = stats.boxcox()"
   ]
  },
  {
   "cell_type": "code",
   "execution_count": null,
   "metadata": {},
   "outputs": [],
   "source": []
  }
 ],
 "metadata": {
  "kernelspec": {
   "display_name": "Python 3",
   "language": "python",
   "name": "python3"
  },
  "language_info": {
   "codemirror_mode": {
    "name": "ipython",
    "version": 3
   },
   "file_extension": ".py",
   "mimetype": "text/x-python",
   "name": "python",
   "nbconvert_exporter": "python",
   "pygments_lexer": "ipython3",
   "version": "3.6.5"
  }
 },
 "nbformat": 4,
 "nbformat_minor": 2
}
