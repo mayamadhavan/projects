{
 "cells": [
  {
   "cell_type": "code",
   "execution_count": 76,
   "metadata": {},
   "outputs": [],
   "source": [
    "import pandas as pd\n",
    "import numpy as np\n",
    "import dateutil.parser\n",
    "from datetime import date\n",
    "\n",
    "from pprint import pprint\n",
    "import re\n",
    "\n",
    "from bs4 import BeautifulSoup\n",
    "import requests\n",
    "from selenium import webdriver\n",
    "from selenium.webdriver.common.keys import Keys\n",
    "import time\n",
    "import os\n",
    "\n",
    "import statsmodels.api as sm\n",
    "import statsmodels.formula.api as smf\n",
    "import patsy\n",
    "\n",
    "\n",
    "import seaborn as sns\n",
    "import matplotlib.pyplot as plt\n",
    "from sklearn.linear_model import LinearRegression\n",
    "from sklearn.linear_model import RidgeCV\n",
    "\n",
    "import pickle\n",
    "import time\n",
    "import bs4"
   ]
  },
  {
   "cell_type": "code",
   "execution_count": 115,
   "metadata": {},
   "outputs": [
    {
     "name": "stdout",
     "output_type": "stream",
     "text": [
      "[]\n",
      "None\n",
      "None\n",
      "None\n",
      "None\n",
      "None\n",
      "None\n",
      "None\n"
     ]
    },
    {
     "ename": "IndexError",
     "evalue": "list index out of range",
     "output_type": "error",
     "traceback": [
      "\u001b[0;31m---------------------------------------------------------------------------\u001b[0m",
      "\u001b[0;31mIndexError\u001b[0m                                Traceback (most recent call last)",
      "\u001b[0;32m<ipython-input-115-132185331296>\u001b[0m in \u001b[0;36m<module>\u001b[0;34m()\u001b[0m\n\u001b[1;32m     29\u001b[0m \u001b[0mrow1\u001b[0m\u001b[0;34m[\u001b[0m\u001b[0;34m'languages'\u001b[0m\u001b[0;34m]\u001b[0m\u001b[0;34m=\u001b[0m\u001b[0mall_lang\u001b[0m\u001b[0;34m\u001b[0m\u001b[0m\n\u001b[1;32m     30\u001b[0m \u001b[0;34m\u001b[0m\u001b[0m\n\u001b[0;32m---> 31\u001b[0;31m \u001b[0mx\u001b[0m\u001b[0;34m=\u001b[0m\u001b[0msoup\u001b[0m\u001b[0;34m.\u001b[0m\u001b[0mfind_all\u001b[0m\u001b[0;34m(\u001b[0m\u001b[0;34m'div'\u001b[0m\u001b[0;34m,\u001b[0m \u001b[0mclass_\u001b[0m\u001b[0;34m=\u001b[0m\u001b[0;34m\"details_block\"\u001b[0m\u001b[0;34m)\u001b[0m\u001b[0;34m[\u001b[0m\u001b[0;36m0\u001b[0m\u001b[0;34m]\u001b[0m\u001b[0;34m.\u001b[0m\u001b[0mtext\u001b[0m\u001b[0;34m.\u001b[0m\u001b[0mreplace\u001b[0m\u001b[0;34m(\u001b[0m\u001b[0;34m\"\\n\"\u001b[0m\u001b[0;34m,\u001b[0m\u001b[0;34m\"\"\u001b[0m\u001b[0;34m)\u001b[0m\u001b[0;34m.\u001b[0m\u001b[0msplit\u001b[0m\u001b[0;34m(\u001b[0m\u001b[0;34m\"\\t\"\u001b[0m\u001b[0;34m)\u001b[0m\u001b[0;34m\u001b[0m\u001b[0m\n\u001b[0m\u001b[1;32m     32\u001b[0m \u001b[0mfeature_list\u001b[0m \u001b[0;34m=\u001b[0m \u001b[0mlist\u001b[0m\u001b[0;34m(\u001b[0m\u001b[0mfilter\u001b[0m\u001b[0;34m(\u001b[0m\u001b[0;32mNone\u001b[0m\u001b[0;34m,\u001b[0m \u001b[0mx\u001b[0m\u001b[0;34m)\u001b[0m\u001b[0;34m)\u001b[0m\u001b[0;34m\u001b[0m\u001b[0m\n\u001b[1;32m     33\u001b[0m \u001b[0my\u001b[0m\u001b[0;34m=\u001b[0m\u001b[0mfeature_list\u001b[0m\u001b[0;34m[\u001b[0m\u001b[0;36m1\u001b[0m\u001b[0;34m]\u001b[0m\u001b[0;34m.\u001b[0m\u001b[0msplit\u001b[0m\u001b[0;34m(\u001b[0m\u001b[0;34m\":\"\u001b[0m\u001b[0;34m)\u001b[0m\u001b[0;34m\u001b[0m\u001b[0m\n",
      "\u001b[0;31mIndexError\u001b[0m: list index out of range"
     ]
    }
   ],
   "source": [
    "link='https://store.steampowered.com/app/230410/Warframe/'\n",
    "\n",
    "response=requests.get(link)\n",
    "soup = BeautifulSoup(response.text, 'html5lib')\n",
    "\n",
    "cols = ['title', 'developer', 'user_tags', 'languages', 'genres', 'specs', 'discount', 'price']\n",
    "df=pd.DataFrame(columns=cols, index=[])\n",
    "row1={}\n",
    "\n",
    "\n",
    "print(soup.find_all('a', class_=\"app_tag\"))\n",
    "\n",
    "for element in soup.find('div', class_=\"page_content_ctn\"):\n",
    "    print(soup.find('div', class_='apphub_AppName'))\n",
    "\n",
    "for developers in soup.find_all('div', class_=\"summary column\", id=\"developers_list\"):\n",
    "    developer=[one_developer.text for one_developer in developers.find_all('a')]\n",
    "row1['developer']=developer\n",
    "    \n",
    "user_tags=[tag.text.replace(\"\\n\",\"\").strip(\"\\t\") for tag in soup.find_all('a', class_=\"app_tag\")]\n",
    "row1['user_tags']=user_tags\n",
    "\n",
    "all_lang=[]\n",
    "for languages in soup.find_all('table', class_=\"game_language_options\"):\n",
    "    for element in languages.find_all('tr', style=True, class_=True):\n",
    "        language=(element.find('td', class_=\"ellipsis\").text.replace(\"\\n\",\"\").strip(\"\\t\"))\n",
    "        options=[language if bool(options.text.replace(\"\\n\",\"\").strip(\"\\t\")) else 0 for options in element.find_all('td', class_=\"checkcol\")]\n",
    "        all_lang.append(tuple(options))\n",
    "row1['languages']=all_lang\n",
    "\n",
    "x=soup.find_all('div', class_=\"details_block\")[0].text.replace(\"\\n\",\"\").split(\"\\t\")\n",
    "feature_list = list(filter(None, x))\n",
    "y=feature_list[1].split(\":\")\n",
    "genres=y[1]\n",
    "row1['genres']=genres\n",
    "\n",
    "specs=[]\n",
    "for element in soup.find_all('div', class_=\"game_area_details_specs\"):\n",
    "    l=[]\n",
    "    for e2 in element.find_all('a'):\n",
    "        l.append(e2.text.replace(\"\\n\",\"\").strip(\"\\t\"))\n",
    "    specs.extend(l)\n",
    "full_specs=list(filter(None, specs))\n",
    "row1['specs']=full_specs\n",
    "\n",
    "'''\n",
    "df_gamepg.set_index('title', inplace=True)\n",
    "df_gamepg.rename(columns=lambda x: x.strip())\n",
    "pd.options.display.max_rows = 4000\n",
    "'''"
   ]
  },
  {
   "cell_type": "code",
   "execution_count": 114,
   "metadata": {},
   "outputs": [
    {
     "data": {
      "text/plain": [
       "{'developer': ['11 bit studios'], 'user_tags': [], 'languages': []}"
      ]
     },
     "execution_count": 114,
     "metadata": {},
     "output_type": "execute_result"
    }
   ],
   "source": [
    "row1"
   ]
  },
  {
   "cell_type": "code",
   "execution_count": null,
   "metadata": {},
   "outputs": [],
   "source": [
    "# for developers in soup.find_all('div', class_=\"summary column\", id=\"developers_list\"):\n",
    "#     for one_developer in developers.find_all('a'):\n",
    "#         print(one_developer.text)\n",
    "# for tag in soup.find_all('a', class_=\"app_tag\"):\n",
    "#     print(tag.text.replace(\"\\n\",\"\").strip(\"\\t\"))\n",
    "\n",
    "# cols2 = ['title', 'genres', 'players', 'languages', 'developers', 'publisher', 'user_tags']\n",
    "# df_gamepg=pd.DataFrame(columns=cols2, index=[])\n",
    "# for element in soup.find_all('div', class_=\"details_block\")[0]:\n",
    "#     print(element)\n",
    "# count=0\n",
    "# for element in soup.find_all('div', class_=\"details_block\")[0]:\n",
    "#     if type(element) is bs4.element.Tag and element.text==\"Genre:\":\n",
    "#         count=1\n",
    "#     if  type(element) is bs4.element.Tag and count==1:\n",
    "#         print(element.text)\n",
    "#     if element.text==\"Developer\":\n",
    "#             count=0\n",
    "# #     for e2 in element.find_all('a'):\n",
    "# #         print(e2.text)\n",
    "# for element in feature_list:\n",
    "#     element."
   ]
  }
 ],
 "metadata": {
  "kernelspec": {
   "display_name": "Python 3",
   "language": "python",
   "name": "python3"
  },
  "language_info": {
   "codemirror_mode": {
    "name": "ipython",
    "version": 3
   },
   "file_extension": ".py",
   "mimetype": "text/x-python",
   "name": "python",
   "nbconvert_exporter": "python",
   "pygments_lexer": "ipython3",
   "version": "3.6.5"
  }
 },
 "nbformat": 4,
 "nbformat_minor": 2
}
