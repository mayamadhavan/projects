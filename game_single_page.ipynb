{
 "cells": [
  {
   "cell_type": "code",
   "execution_count": null,
   "metadata": {},
   "outputs": [],
   "source": [
    "import pandas as pd\n",
    "import numpy as np\n",
    "import dateutil.parser\n",
    "from datetime import date\n",
    "\n",
    "from pprint import pprint\n",
    "import re\n",
    "\n",
    "from bs4 import BeautifulSoup\n",
    "import requests\n",
    "from selenium import webdriver\n",
    "from selenium.webdriver.common.keys import Keys\n",
    "import time\n",
    "import os\n",
    "\n",
    "import statsmodels.api as sm\n",
    "import statsmodels.formula.api as smf\n",
    "import patsy\n",
    "\n",
    "\n",
    "import seaborn as sns\n",
    "import matplotlib.pyplot as plt\n",
    "from sklearn.linear_model import LinearRegression\n",
    "from sklearn.linear_model import RidgeCV\n",
    "\n",
    "import pickle\n",
    "import time"
   ]
  },
  {
   "cell_type": "code",
   "execution_count": null,
   "metadata": {},
   "outputs": [],
   "source": [
    "cols2 = ['title', 'genres', 'players', 'languages', 'developers', 'publisher', 'user_tags']\n",
    "df_gamepg=pd.DataFrame(columns=cols2, index=[])\n",
    "link_games=list(no_dup_df.link)\n",
    "\n",
    "\n",
    "age=date.today()\n",
    "response=requests.get(link)\n",
    "soup = BeautifulSoup(response.text, 'html5lib')\n",
    "    \n",
    "\n",
    "title: <div class=\"apphub_AppName\">Warframe</div>\n",
    "\n",
    "genres\n",
    "\n",
    "players\n",
    "\n",
    "languages\n",
    "\n",
    "developers: <div class=\"summary column\" id=\"developers_list\">\n",
    "<a href=\"https://store.steampowered.com/search/?developer=TT%20Games%20Ltd&amp;snr=1_5_9__400\">TT Games Ltd</a>, <a href=\"https://store.steampowered.com/search/?developer=Feral%20Interactive%20%28Mac%29&amp;snr=1_5_9__400\">Feral Interactive (Mac)</a>\n",
    "\n",
    "publisher: <div class=\"summary column\" style=\"overflow: visible; white-space: normal;\">\n",
    "<a href=\"https://store.steampowered.com/search/?publisher=Warner Bros. Interactive Entertainment&amp;snr=1_5_9__400\">Warner Bros. Interactive Entertainment</a>\n",
    "<a href=\"https://store.steampowered.com/search/?publisher=Feral Interactive (Mac)&amp;snr=1_5_9__400\">Feral Interactive (Mac)</a></div>\n",
    "\n",
    "user_tages: div class=\"app_tags popular_tags\"\n",
    "    a class=app_tag\n",
    "\n",
    "\n",
    "df_gamepg.set_index('title', inplace=True)\n",
    "df_gamepg.rename(columns=lambda x: x.strip())\n",
    "pd.options.display.max_rows = 4000"
   ]
  }
 ],
 "metadata": {
  "kernelspec": {
   "display_name": "Python 3",
   "language": "python",
   "name": "python3"
  },
  "language_info": {
   "codemirror_mode": {
    "name": "ipython",
    "version": 3
   },
   "file_extension": ".py",
   "mimetype": "text/x-python",
   "name": "python",
   "nbconvert_exporter": "python",
   "pygments_lexer": "ipython3",
   "version": "3.6.5"
  }
 },
 "nbformat": 4,
 "nbformat_minor": 2
}
